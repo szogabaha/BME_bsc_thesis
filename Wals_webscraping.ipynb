{
 "cells": [
  {
   "cell_type": "code",
   "execution_count": 16,
   "metadata": {},
   "outputs": [],
   "source": [
    "import selenium\n",
    "from selenium import webdriver\n",
    "from bs4 import BeautifulSoup\n",
    "import time\n",
    "from webdriver_manager.chrome import ChromeDriverManager\n",
    "import pandas as pd\n",
    "import os"
   ]
  },
  {
   "cell_type": "code",
   "execution_count": 4,
   "metadata": {},
   "outputs": [],
   "source": [
    "def scrape_main_page(i):\n",
    "    source = driver.page_source\n",
    "    soup=BeautifulSoup(source)\n",
    "    \n",
    "    table=soup.find('table', {'id':'Languages'})\n",
    "    rows=table.find_all('tr')\n",
    "    for row in rows:\n",
    "        col = row.find('td', {'class' : 'sorting_1'})\n",
    "        if col is not None:\n",
    "            a = col.find('a', {'class' : 'Language'})\n",
    "            languages.append(a.text.strip())\n",
    "            language_links.append(a['href'])\n",
    "    section = driver.find_elements_by_xpath(f'//*[@id=\"Languages_paginate\"]/ul/li[{i}]/a')\n",
    "    section[0].click()\n",
    "    time.sleep(2)"
   ]
  },
  {
   "cell_type": "code",
   "execution_count": 5,
   "metadata": {},
   "outputs": [
    {
     "name": "stderr",
     "output_type": "stream",
     "text": [
      "\n",
      "\n",
      "====== WebDriver manager ======\n",
      "Current google-chrome version is 96.0.4664\n",
      "Get LATEST chromedriver version for 96.0.4664 google-chrome\n",
      "Driver [/home/szogabaha/.wdm/drivers/chromedriver/linux64/96.0.4664.45/chromedriver] found in cache\n",
      "<ipython-input-5-b717eaaf21c0>:1: DeprecationWarning: executable_path has been deprecated, please pass in a Service object\n",
      "  driver = webdriver.Chrome(ChromeDriverManager().install())\n",
      "<ipython-input-4-f6ec55dae6f8>:13: DeprecationWarning: find_elements_by_* commands are deprecated. Please use find_elements() instead\n",
      "  section = driver.find_elements_by_xpath(f'//*[@id=\"Languages_paginate\"]/ul/li[{i}]/a')\n"
     ]
    },
    {
     "data": {
      "text/html": [
       "<div>\n",
       "<style scoped>\n",
       "    .dataframe tbody tr th:only-of-type {\n",
       "        vertical-align: middle;\n",
       "    }\n",
       "\n",
       "    .dataframe tbody tr th {\n",
       "        vertical-align: top;\n",
       "    }\n",
       "\n",
       "    .dataframe thead th {\n",
       "        text-align: right;\n",
       "    }\n",
       "</style>\n",
       "<table border=\"1\" class=\"dataframe\">\n",
       "  <thead>\n",
       "    <tr style=\"text-align: right;\">\n",
       "      <th></th>\n",
       "      <th>language</th>\n",
       "      <th>link</th>\n",
       "    </tr>\n",
       "  </thead>\n",
       "  <tbody>\n",
       "    <tr>\n",
       "      <th>0</th>\n",
       "      <td>Aari</td>\n",
       "      <td>https://wals.info/languoid/lect/wals_code_aar</td>\n",
       "    </tr>\n",
       "    <tr>\n",
       "      <th>1</th>\n",
       "      <td>Abau</td>\n",
       "      <td>https://wals.info/languoid/lect/wals_code_aba</td>\n",
       "    </tr>\n",
       "    <tr>\n",
       "      <th>2</th>\n",
       "      <td>Abaza</td>\n",
       "      <td>https://wals.info/languoid/lect/wals_code_abz</td>\n",
       "    </tr>\n",
       "    <tr>\n",
       "      <th>3</th>\n",
       "      <td>Abenaki (Western)</td>\n",
       "      <td>https://wals.info/languoid/lect/wals_code_abw</td>\n",
       "    </tr>\n",
       "    <tr>\n",
       "      <th>4</th>\n",
       "      <td>Abidji</td>\n",
       "      <td>https://wals.info/languoid/lect/wals_code_abd</td>\n",
       "    </tr>\n",
       "    <tr>\n",
       "      <th>...</th>\n",
       "      <td>...</td>\n",
       "      <td>...</td>\n",
       "    </tr>\n",
       "    <tr>\n",
       "      <th>2757</th>\n",
       "      <td>Zoque (Rayon)</td>\n",
       "      <td>https://wals.info/languoid/lect/wals_code_zqr</td>\n",
       "    </tr>\n",
       "    <tr>\n",
       "      <th>2758</th>\n",
       "      <td>Zulu</td>\n",
       "      <td>https://wals.info/languoid/lect/wals_code_zul</td>\n",
       "    </tr>\n",
       "    <tr>\n",
       "      <th>2759</th>\n",
       "      <td>Zulu (Northern)</td>\n",
       "      <td>https://wals.info/languoid/lect/wals_code_zno</td>\n",
       "    </tr>\n",
       "    <tr>\n",
       "      <th>2760</th>\n",
       "      <td>Zulu (Southern)</td>\n",
       "      <td>https://wals.info/languoid/lect/wals_code_zso</td>\n",
       "    </tr>\n",
       "    <tr>\n",
       "      <th>2761</th>\n",
       "      <td>Zuni</td>\n",
       "      <td>https://wals.info/languoid/lect/wals_code_zun</td>\n",
       "    </tr>\n",
       "  </tbody>\n",
       "</table>\n",
       "<p>2662 rows × 2 columns</p>\n",
       "</div>"
      ],
      "text/plain": [
       "               language                                           link\n",
       "0                  Aari  https://wals.info/languoid/lect/wals_code_aar\n",
       "1                  Abau  https://wals.info/languoid/lect/wals_code_aba\n",
       "2                 Abaza  https://wals.info/languoid/lect/wals_code_abz\n",
       "3     Abenaki (Western)  https://wals.info/languoid/lect/wals_code_abw\n",
       "4                Abidji  https://wals.info/languoid/lect/wals_code_abd\n",
       "...                 ...                                            ...\n",
       "2757      Zoque (Rayon)  https://wals.info/languoid/lect/wals_code_zqr\n",
       "2758               Zulu  https://wals.info/languoid/lect/wals_code_zul\n",
       "2759    Zulu (Northern)  https://wals.info/languoid/lect/wals_code_zno\n",
       "2760    Zulu (Southern)  https://wals.info/languoid/lect/wals_code_zso\n",
       "2761               Zuni  https://wals.info/languoid/lect/wals_code_zun\n",
       "\n",
       "[2662 rows x 2 columns]"
      ]
     },
     "execution_count": 5,
     "metadata": {},
     "output_type": "execute_result"
    }
   ],
   "source": [
    "\n",
    "driver = webdriver.Chrome(ChromeDriverManager().install())\n",
    "driver.get('https://wals.info/languoid')\n",
    "time.sleep(2)\n",
    "source = driver.page_source\n",
    "\n",
    "soup=BeautifulSoup(source)\n",
    "languages = []\n",
    "language_links = []\n",
    "for i in range(1,3):\n",
    "    scrape_main_page(i+2)\n",
    "    \n",
    "for i in range(4,28):\n",
    "    scrape_main_page(5)\n",
    "\n",
    "scrape_main_page(6)\n",
    "scrape_main_page(7)\n",
    "\n",
    "scrapable_pages=pd.DataFrame({'language':languages, 'link':language_links})\n",
    "scrapable_pages = scrapable_pages.drop_duplicates()\n",
    "scrapable_pages.to_csv('wals2/language_links.csv')\n",
    "scrapable_pages"
   ]
  },
  {
   "cell_type": "code",
   "execution_count": 6,
   "metadata": {},
   "outputs": [
    {
     "name": "stdout",
     "output_type": "stream",
     "text": [
      "https://wals.info/languoid/lect/wals_code_aar\n",
      "https://wals.info/languoid/lect/wals_code_aba\n",
      "https://wals.info/languoid/lect/wals_code_abz\n",
      "https://wals.info/languoid/lect/wals_code_abw\n",
      "https://wals.info/languoid/lect/wals_code_abd\n",
      "https://wals.info/languoid/lect/wals_code_abi\n",
      "https://wals.info/languoid/lect/wals_code_abk\n",
      "https://wals.info/languoid/lect/wals_code_abv\n",
      "https://wals.info/languoid/lect/wals_code_abu\n",
      "https://wals.info/languoid/lect/wals_code_ace\n",
      "https://wals.info/languoid/lect/wals_code_acg\n",
      "https://wals.info/languoid/lect/wals_code_acn\n",
      "https://wals.info/languoid/lect/wals_code_ach\n",
      "https://wals.info/languoid/lect/wals_code_aci\n",
      "https://wals.info/languoid/lect/wals_code_acl\n",
      "https://wals.info/languoid/lect/wals_code_acu\n",
      "https://wals.info/languoid/lect/wals_code_acm\n",
      "https://wals.info/languoid/lect/wals_code_aco\n",
      "https://wals.info/languoid/lect/wals_code_ada\n",
      "https://wals.info/languoid/lect/wals_code_adg\n",
      "https://wals.info/languoid/lect/wals_code_adi\n",
      "https://wals.info/languoid/lect/wals_code_ady\n",
      "https://wals.info/languoid/lect/wals_code_ash\n",
      "https://wals.info/languoid/lect/wals_code_adt\n",
      "https://wals.info/languoid/lect/wals_code_adn\n",
      "https://wals.info/languoid/lect/wals_code_adz\n",
      "https://wals.info/languoid/lect/wals_code_awi\n",
      "https://wals.info/languoid/lect/wals_code_afr\n",
      "https://wals.info/languoid/lect/wals_code_aga\n",
      "https://wals.info/languoid/lect/wals_code_agh\n",
      "https://wals.info/languoid/lect/wals_code_ahu\n",
      "https://wals.info/languoid/lect/wals_code_agl\n",
      "https://wals.info/languoid/lect/wals_code_agc\n",
      "https://wals.info/languoid/lect/wals_code_agd\n",
      "https://wals.info/languoid/lect/wals_code_agu\n",
      "https://wals.info/languoid/lect/wals_code_agr\n",
      "https://wals.info/languoid/lect/wals_code_aht\n",
      "https://wals.info/languoid/lect/wals_code_aik\n",
      "https://wals.info/languoid/lect/wals_code_ain\n",
      "https://wals.info/languoid/lect/wals_code_aiz\n",
      "https://wals.info/languoid/lect/wals_code_aja\n",
      "https://wals.info/languoid/lect/wals_code_ajg\n",
      "https://wals.info/languoid/lect/wals_code_aji\n",
      "https://wals.info/languoid/lect/wals_code_aka\n",
      "https://wals.info/languoid/lect/wals_code_akb\n",
      "https://wals.info/languoid/lect/wals_code_akc\n",
      "https://wals.info/languoid/lect/wals_code_akk\n",
      "https://wals.info/languoid/lect/wals_code_akn\n",
      "https://wals.info/languoid/lect/wals_code_akw\n",
      "https://wals.info/languoid/lect/wals_code_akh\n",
      "https://wals.info/languoid/lect/wals_code_axv\n",
      "https://wals.info/languoid/lect/wals_code_akl\n",
      "https://wals.info/languoid/lect/wals_code_awk\n",
      "https://wals.info/languoid/lect/wals_code_all\n",
      "https://wals.info/languoid/lect/wals_code_abm\n",
      "https://wals.info/languoid/lect/wals_code_agw\n",
      "https://wals.info/languoid/lect/wals_code_ala\n",
      "https://wals.info/languoid/lect/wals_code_alx\n",
      "https://wals.info/languoid/lect/wals_code_alw\n",
      "https://wals.info/languoid/lect/wals_code_alb\n",
      "https://wals.info/languoid/lect/wals_code_ale\n",
      "https://wals.info/languoid/lect/wals_code_aea\n",
      "https://wals.info/languoid/lect/wals_code_alg\n",
      "https://wals.info/languoid/lect/wals_code_ald\n",
      "https://wals.info/languoid/lect/wals_code_alc\n",
      "https://wals.info/languoid/lect/wals_code_alt\n",
      "https://wals.info/languoid/lect/wals_code_als\n",
      "https://wals.info/languoid/lect/wals_code_aso\n",
      "https://wals.info/languoid/lect/wals_code_aln\n",
      "https://wals.info/languoid/lect/wals_code_atq\n",
      "https://wals.info/languoid/lect/wals_code_alu\n",
      "https://wals.info/languoid/lect/wals_code_aly\n",
      "https://wals.info/languoid/lect/wals_code_amm\n",
      "https://wals.info/languoid/lect/wals_code_amc\n",
      "https://wals.info/languoid/lect/wals_code_amn\n",
      "https://wals.info/languoid/lect/wals_code_ama\n",
      "https://wals.info/languoid/lect/wals_code_amk\n",
      "https://wals.info/languoid/lect/wals_code_aml\n",
      "https://wals.info/languoid/lect/wals_code_amq\n",
      "https://wals.info/languoid/lect/wals_code_amb\n",
      "https://wals.info/languoid/lect/wals_code_amd\n",
      "https://wals.info/languoid/lect/wals_code_amt\n",
      "https://wals.info/languoid/lect/wals_code_ame\n",
      "https://wals.info/languoid/lect/wals_code_asl\n",
      "https://wals.info/languoid/lect/wals_code_amh\n",
      "https://wals.info/languoid/lect/wals_code_ami\n",
      "https://wals.info/languoid/lect/wals_code_amo\n",
      "https://wals.info/languoid/lect/wals_code_ape\n",
      "https://wals.info/languoid/lect/wals_code_amu\n",
      "https://wals.info/languoid/lect/wals_code_amz\n",
      "https://wals.info/languoid/lect/wals_code_amx\n",
      "https://wals.info/languoid/lect/wals_code_anx\n",
      "https://wals.info/languoid/lect/wals_code_adk\n",
      "https://wals.info/languoid/lect/wals_code_anj\n",
      "https://wals.info/languoid/lect/wals_code_ane\n",
      "https://wals.info/languoid/lect/wals_code_ant\n",
      "https://wals.info/languoid/lect/wals_code_agm\n",
      "https://wals.info/languoid/lect/wals_code_anc\n",
      "https://wals.info/languoid/lect/wals_code_ang\n",
      "https://wals.info/languoid/lect/wals_code_ago\n",
      "https://wals.info/languoid/lect/wals_code_agt\n",
      "https://wals.info/languoid/lect/wals_code_ani\n",
      "https://wals.info/languoid/lect/wals_code_ann\n",
      "https://wals.info/languoid/lect/wals_code_ano\n",
      "https://wals.info/languoid/lect/wals_code_anu\n",
      "https://wals.info/languoid/lect/wals_code_ayi\n",
      "https://wals.info/languoid/lect/wals_code_any\n",
      "https://wals.info/languoid/lect/wals_code_ao\n",
      "https://wals.info/languoid/lect/wals_code_apc\n",
      "https://wals.info/languoid/lect/wals_code_apj\n",
      "https://wals.info/languoid/lect/wals_code_apw\n",
      "https://wals.info/languoid/lect/wals_code_apl\n",
      "https://wals.info/languoid/lect/wals_code_apt\n",
      "https://wals.info/languoid/lect/wals_code_api\n",
      "https://wals.info/languoid/lect/wals_code_apk\n",
      "https://wals.info/languoid/lect/wals_code_apu\n",
      "https://wals.info/languoid/lect/wals_code_abn\n",
      "https://wals.info/languoid/lect/wals_code_arb\n",
      "https://wals.info/languoid/lect/wals_code_abh\n",
      "https://wals.info/languoid/lect/wals_code_ahs\n",
      "https://wals.info/languoid/lect/wals_code_abe\n",
      "https://wals.info/languoid/lect/wals_code_arn\n",
      "https://wals.info/languoid/lect/wals_code_abb\n",
      "https://wals.info/languoid/lect/wals_code_ael\n",
      "https://wals.info/languoid/lect/wals_code_aeg\n",
      "https://wals.info/languoid/lect/wals_code_arg\n",
      "https://wals.info/languoid/lect/wals_code_arh\n",
      "https://wals.info/languoid/lect/wals_code_arq\n",
      "https://wals.info/languoid/lect/wals_code_ako\n",
      "https://wals.info/languoid/lect/wals_code_arj\n",
      "https://wals.info/languoid/lect/wals_code_arl\n",
      "https://wals.info/languoid/lect/wals_code_ams\n",
      "https://wals.info/languoid/lect/wals_code_amr\n",
      "https://wals.info/languoid/lect/wals_code_arv\n",
      "https://wals.info/languoid/lect/wals_code_anl\n",
      "https://wals.info/languoid/lect/wals_code_apa\n",
      "https://wals.info/languoid/lect/wals_code_ars\n",
      "https://wals.info/languoid/lect/wals_code_asy\n",
      "https://wals.info/languoid/lect/wals_code_atu\n",
      "https://wals.info/languoid/lect/wals_code_akm\n",
      "https://wals.info/languoid/lect/wals_code_ark\n",
      "https://wals.info/languoid/lect/wals_code_atb\n",
      "https://wals.info/languoid/lect/wals_code_ard\n",
      "https://wals.info/languoid/lect/wals_code_ana\n",
      "https://wals.info/languoid/lect/wals_code_aho\n",
      "https://wals.info/languoid/lect/wals_code_aab\n",
      "https://wals.info/languoid/lect/wals_code_arp\n",
      "https://wals.info/languoid/lect/wals_code_ara\n",
      "https://wals.info/languoid/lect/wals_code_abo\n",
      "https://wals.info/languoid/lect/wals_code_arc\n",
      "https://wals.info/languoid/lect/wals_code_arx\n",
      "https://wals.info/languoid/lect/wals_code_ari\n",
      "https://wals.info/languoid/lect/wals_code_akr\n",
      "https://wals.info/languoid/lect/wals_code_arm\n",
      "https://wals.info/languoid/lect/wals_code_arz\n",
      "https://wals.info/languoid/lect/wals_code_arw\n",
      "https://wals.info/languoid/lect/wals_code_alk\n",
      "https://wals.info/languoid/lect/wals_code_aro\n",
      "https://wals.info/languoid/lect/wals_code_arr\n",
      "https://wals.info/languoid/lect/wals_code_amp\n",
      "https://wals.info/languoid/lect/wals_code_awe\n",
      "https://wals.info/languoid/lect/wals_code_asm\n",
      "https://wals.info/languoid/lect/wals_code_ass\n",
      "https://wals.info/languoid/lect/wals_code_ast\n",
      "https://wals.info/languoid/lect/wals_code_asu\n",
      "https://wals.info/languoid/lect/wals_code_atm\n",
      "https://wals.info/languoid/lect/wals_code_atk\n",
      "https://wals.info/languoid/lect/wals_code_ata\n",
      "https://wals.info/languoid/lect/wals_code_atc\n",
      "https://wals.info/languoid/lect/wals_code_ath\n",
      "https://wals.info/languoid/lect/wals_code_ati\n",
      "https://wals.info/languoid/lect/wals_code_ats\n",
      "https://wals.info/languoid/lect/wals_code_au\n",
      "https://wals.info/languoid/lect/wals_code_aul\n",
      "https://wals.info/languoid/lect/wals_code_aus\n",
      "https://wals.info/languoid/lect/wals_code_auy\n",
      "https://wals.info/languoid/lect/wals_code_ava\n",
      "https://wals.info/languoid/lect/wals_code_avt\n",
      "https://wals.info/languoid/lect/wals_code_avk\n",
      "https://wals.info/languoid/lect/wals_code_avo\n",
      "https://wals.info/languoid/lect/wals_code_awa\n",
      "https://wals.info/languoid/lect/wals_code_awd\n",
      "https://wals.info/languoid/lect/wals_code_awp\n",
      "https://wals.info/languoid/lect/wals_code_awn\n",
      "https://wals.info/languoid/lect/wals_code_awt\n",
      "https://wals.info/languoid/lect/wals_code_awy\n",
      "https://wals.info/languoid/lect/wals_code_ayw\n",
      "https://wals.info/languoid/lect/wals_code_aym\n",
      "https://wals.info/languoid/lect/wals_code_ayn\n",
      "https://wals.info/languoid/lect/wals_code_ayo\n",
      "https://wals.info/languoid/lect/wals_code_ayr\n",
      "https://wals.info/languoid/lect/wals_code_azi\n",
      "https://wals.info/languoid/lect/wals_code_aze\n",
      "https://wals.info/languoid/lect/wals_code_blj\n",
      "https://wals.info/languoid/lect/wals_code_bbl\n",
      "https://wals.info/languoid/lect/wals_code_bab\n",
      "https://wals.info/languoid/lect/wals_code_bac\n",
      "https://wals.info/languoid/lect/wals_code_bdg\n",
      "https://wals.info/languoid/lect/wals_code_bad\n",
      "https://wals.info/languoid/lect/wals_code_bdm\n",
      "https://wals.info/languoid/lect/wals_code_bfi\n",
      "https://wals.info/languoid/lect/wals_code_baf\n",
      "https://wals.info/languoid/lect/wals_code_bgs\n",
      "https://wals.info/languoid/lect/wals_code_bag\n",
      "https://wals.info/languoid/lect/wals_code_bgr\n",
      "https://wals.info/languoid/lect/wals_code_bgi\n",
      "https://wals.info/languoid/lect/wals_code_bgv\n",
      "https://wals.info/languoid/lect/wals_code_bdw\n",
      "https://wals.info/languoid/lect/wals_code_bhn\n",
      "https://wals.info/languoid/lect/wals_code_bpb\n",
      "https://wals.info/languoid/lect/wals_code_bai\n",
      "https://wals.info/languoid/lect/wals_code_baj\n",
      "https://wals.info/languoid/lect/wals_code_bwc\n",
      "https://wals.info/languoid/lect/wals_code_bak\n",
      "https://wals.info/languoid/lect/wals_code_bka\n",
      "https://wals.info/languoid/lect/wals_code_bki\n",
      "https://wals.info/languoid/lect/wals_code_bku\n",
      "https://wals.info/languoid/lect/wals_code_bkn\n",
      "https://wals.info/languoid/lect/wals_code_blg\n",
      "https://wals.info/languoid/lect/wals_code_blz\n",
      "https://wals.info/languoid/lect/wals_code_blk\n",
      "https://wals.info/languoid/lect/wals_code_bal\n",
      "https://wals.info/languoid/lect/wals_code_bvi\n",
      "https://wals.info/languoid/lect/wals_code_blt\n",
      "https://wals.info/languoid/lect/wals_code_blc\n",
      "https://wals.info/languoid/lect/wals_code_bly\n",
      "https://wals.info/languoid/lect/wals_code_bbm\n",
      "https://wals.info/languoid/lect/wals_code_bam\n",
      "https://wals.info/languoid/lect/wals_code_bmn\n",
      "https://wals.info/languoid/lect/wals_code_ban\n",
      "https://wals.info/languoid/lect/wals_code_bna\n",
      "https://wals.info/languoid/lect/wals_code_bnd\n",
      "https://wals.info/languoid/lect/wals_code_bnj\n",
      "https://wals.info/languoid/lect/wals_code_bca\n",
      "https://wals.info/languoid/lect/wals_code_bwa\n",
      "https://wals.info/languoid/lect/wals_code_byu\n",
      "https://wals.info/languoid/lect/wals_code_bgg\n",
      "https://wals.info/languoid/lect/wals_code_bnl\n",
      "https://wals.info/languoid/lect/wals_code_bgz\n",
      "https://wals.info/languoid/lect/wals_code_bgm\n",
      "https://wals.info/languoid/lect/wals_code_bnv\n",
      "https://wals.info/languoid/lect/wals_code_bnw\n",
      "https://wals.info/languoid/lect/wals_code_bnk\n",
      "https://wals.info/languoid/lect/wals_code_bnn\n",
      "https://wals.info/languoid/lect/wals_code_bnt\n",
      "https://wals.info/languoid/lect/wals_code_bao\n",
      "https://wals.info/languoid/lect/wals_code_brl\n",
      "https://wals.info/languoid/lect/wals_code_baa\n",
      "https://wals.info/languoid/lect/wals_code_bbu\n",
      "https://wals.info/languoid/lect/wals_code_brs\n",
      "https://wals.info/languoid/lect/wals_code_brd\n",
      "https://wals.info/languoid/lect/wals_code_bae\n",
      "https://wals.info/languoid/lect/wals_code_mug\n",
      "https://wals.info/languoid/lect/wals_code_bar\n",
      "https://wals.info/languoid/lect/wals_code_mti\n",
      "https://wals.info/languoid/lect/wals_code_brb\n",
      "https://wals.info/languoid/lect/wals_code_brp\n",
      "https://wals.info/languoid/lect/wals_code_bry\n",
      "https://wals.info/languoid/lect/wals_code_bas\n",
      "https://wals.info/languoid/lect/wals_code_bsr\n",
      "https://wals.info/languoid/lect/wals_code_bsk\n",
      "https://wals.info/languoid/lect/wals_code_bsq\n",
      "https://wals.info/languoid/lect/wals_code_bqi\n",
      "https://wals.info/languoid/lect/wals_code_bqb\n",
      "https://wals.info/languoid/lect/wals_code_bqg\n",
      "https://wals.info/languoid/lect/wals_code_bqh\n",
      "https://wals.info/languoid/lect/wals_code_bql\n",
      "https://wals.info/languoid/lect/wals_code_bqn\n",
      "https://wals.info/languoid/lect/wals_code_bqo\n",
      "https://wals.info/languoid/lect/wals_code_bqr\n",
      "https://wals.info/languoid/lect/wals_code_bqs\n",
      "https://wals.info/languoid/lect/wals_code_bso\n",
      "https://wals.info/languoid/lect/wals_code_bqz\n",
      "https://wals.info/languoid/lect/wals_code_bat\n",
      "https://wals.info/languoid/lect/wals_code_bkr\n",
      "https://wals.info/languoid/lect/wals_code_bto\n",
      "https://wals.info/languoid/lect/wals_code_bth\n",
      "https://wals.info/languoid/lect/wals_code_bau\n",
      "https://wals.info/languoid/lect/wals_code_ble\n",
      "https://wals.info/languoid/lect/wals_code_baq\n",
      "https://wals.info/languoid/lect/wals_code_bzi\n",
      "https://wals.info/languoid/lect/wals_code_baw\n",
      "https://wals.info/languoid/lect/wals_code_bys\n",
      "https://wals.info/languoid/lect/wals_code_bxj\n",
      "https://wals.info/languoid/lect/wals_code_bee\n",
      "https://wals.info/languoid/lect/wals_code_beg\n",
      "https://wals.info/languoid/lect/wals_code_bej\n",
      "https://wals.info/languoid/lect/wals_code_bel\n",
      "https://wals.info/languoid/lect/wals_code_bco\n",
      "https://wals.info/languoid/lect/wals_code_blr\n",
      "https://wals.info/languoid/lect/wals_code_bem\n",
      "https://wals.info/languoid/lect/wals_code_beb\n",
      "https://wals.info/languoid/lect/wals_code_blu\n",
      "https://wals.info/languoid/lect/wals_code_bnq\n",
      "https://wals.info/languoid/lect/wals_code_bga\n",
      "https://wals.info/languoid/lect/wals_code_ben\n",
      "https://wals.info/languoid/lect/wals_code_bec\n",
      "https://wals.info/languoid/lect/wals_code_beo\n",
      "https://wals.info/languoid/lect/wals_code_brq\n",
      "https://wals.info/languoid/lect/wals_code_bse\n",
      "https://wals.info/languoid/lect/wals_code_bch\n",
      "https://wals.info/languoid/lect/wals_code_bfg\n",
      "https://wals.info/languoid/lect/wals_code_bma\n",
      "https://wals.info/languoid/lect/wals_code_bmz\n",
      "https://wals.info/languoid/lect/wals_code_brf\n",
      "https://wals.info/languoid/lect/wals_code_bsi\n",
      "https://wals.info/languoid/lect/wals_code_bou\n",
      "https://wals.info/languoid/lect/wals_code_bdc\n",
      "https://wals.info/languoid/lect/wals_code_zag\n",
      "https://wals.info/languoid/lect/wals_code_brk\n",
      "https://wals.info/languoid/lect/wals_code_ber\n",
      "https://wals.info/languoid/lect/wals_code_bet\n",
      "https://wals.info/languoid/lect/wals_code_bti\n",
      "https://wals.info/languoid/lect/wals_code_bkb\n",
      "https://wals.info/languoid/lect/wals_code_bez\n",
      "https://wals.info/languoid/lect/wals_code_bhi\n",
      "https://wals.info/languoid/lect/wals_code_bho\n",
      "https://wals.info/languoid/lect/wals_code_bhu\n",
      "https://wals.info/languoid/lect/wals_code_bfd\n",
      "https://wals.info/languoid/lect/wals_code_bik\n",
      "https://wals.info/languoid/lect/wals_code_bit\n",
      "https://wals.info/languoid/lect/wals_code_bid\n",
      "https://wals.info/languoid/lect/wals_code_bkl\n",
      "https://wals.info/languoid/lect/wals_code_bia\n",
      "https://wals.info/languoid/lect/wals_code_biq\n",
      "https://wals.info/languoid/lect/wals_code_bln\n",
      "https://wals.info/languoid/lect/wals_code_bnr\n",
      "https://wals.info/languoid/lect/wals_code_blx\n",
      "https://wals.info/languoid/lect/wals_code_bil\n",
      "https://wals.info/languoid/lect/wals_code_bim\n",
      "https://wals.info/languoid/lect/wals_code_bmb\n",
      "https://wals.info/languoid/lect/wals_code_bin\n",
      "https://wals.info/languoid/lect/wals_code_big\n",
      "https://wals.info/languoid/lect/wals_code_bni\n",
      "https://wals.info/languoid/lect/wals_code_bbw\n",
      "https://wals.info/languoid/lect/wals_code_bkd\n",
      "https://wals.info/languoid/lect/wals_code_bnm\n",
      "https://wals.info/languoid/lect/wals_code_bii\n",
      "https://wals.info/languoid/lect/wals_code_bir\n",
      "https://wals.info/languoid/lect/wals_code_brz\n",
      "https://wals.info/languoid/lect/wals_code_bis\n",
      "https://wals.info/languoid/lect/wals_code_bsm\n",
      "https://wals.info/languoid/lect/wals_code_biu\n",
      "https://wals.info/languoid/lect/wals_code_bla\n",
      "https://wals.info/languoid/lect/wals_code_boa\n",
      "https://wals.info/languoid/lect/wals_code_bob\n",
      "https://wals.info/languoid/lect/wals_code_bbf\n",
      "https://wals.info/languoid/lect/wals_code_bod\n",
      "https://wals.info/languoid/lect/wals_code_boi\n",
      "https://wals.info/languoid/lect/wals_code_boq\n",
      "https://wals.info/languoid/lect/wals_code_bok\n",
      "https://wals.info/languoid/lect/wals_code_blq\n",
      "https://wals.info/languoid/lect/wals_code_bol\n",
      "https://wals.info/languoid/lect/wals_code_bgo\n",
      "https://wals.info/languoid/lect/wals_code_bon\n",
      "https://wals.info/languoid/lect/wals_code_btk\n",
      "https://wals.info/languoid/lect/wals_code_bor\n",
      "https://wals.info/languoid/lect/wals_code_boj\n",
      "https://wals.info/languoid/lect/wals_code_brr\n",
      "https://wals.info/languoid/lect/wals_code_brc\n",
      "https://wals.info/languoid/lect/wals_code_bos\n",
      "https://wals.info/languoid/lect/wals_code_boz\n",
      "https://wals.info/languoid/lect/wals_code_brh\n",
      "https://wals.info/languoid/lect/wals_code_bra\n",
      "https://wals.info/languoid/lect/wals_code_bre\n",
      "https://wals.info/languoid/lect/wals_code_bri\n",
      "https://wals.info/languoid/lect/wals_code_bsl\n",
      "https://wals.info/languoid/lect/wals_code_bro\n",
      "https://wals.info/languoid/lect/wals_code_bkt\n",
      "https://wals.info/languoid/lect/wals_code_bru\n",
      "https://wals.info/languoid/lect/wals_code_brw\n",
      "https://wals.info/languoid/lect/wals_code_bub\n",
      "https://wals.info/languoid/lect/wals_code_bdu\n",
      "https://wals.info/languoid/lect/wals_code_bdk\n",
      "https://wals.info/languoid/lect/wals_code_bud\n",
      "https://wals.info/languoid/lect/wals_code_bug\n",
      "https://wals.info/languoid/lect/wals_code_bgl\n",
      "https://wals.info/languoid/lect/wals_code_bgn\n",
      "https://wals.info/languoid/lect/wals_code_bun\n",
      "https://wals.info/languoid/lect/wals_code_buj\n",
      "https://wals.info/languoid/lect/wals_code_buk\n",
      "https://wals.info/languoid/lect/wals_code_bnu\n",
      "https://wals.info/languoid/lect/wals_code_bul\n",
      "https://wals.info/languoid/lect/wals_code_buy\n",
      "https://wals.info/languoid/lect/wals_code_bui\n",
      "https://wals.info/languoid/lect/wals_code_buw\n",
      "https://wals.info/languoid/lect/wals_code_bum\n",
      "https://wals.info/languoid/lect/wals_code_ghr\n",
      "https://wals.info/languoid/lect/wals_code_bnb\n",
      "https://wals.info/languoid/lect/wals_code_pnu\n",
      "https://wals.info/languoid/lect/wals_code_bpa\n",
      "https://wals.info/languoid/lect/wals_code_bua\n",
      "https://wals.info/languoid/lect/wals_code_but\n",
      "https://wals.info/languoid/lect/wals_code_brj\n",
      "https://wals.info/languoid/lect/wals_code_brm\n",
      "https://wals.info/languoid/lect/wals_code_buu\n",
      "https://wals.info/languoid/lect/wals_code_bmr\n",
      "https://wals.info/languoid/lect/wals_code_brn\n",
      "https://wals.info/languoid/lect/wals_code_bur\n",
      "https://wals.info/languoid/lect/wals_code_bus\n",
      "https://wals.info/languoid/lect/wals_code_bsh\n",
      "https://wals.info/languoid/lect/wals_code_bya\n",
      "https://wals.info/languoid/lect/wals_code_cab\n",
      "https://wals.info/languoid/lect/wals_code_cac\n",
      "https://wals.info/languoid/lect/wals_code_cad\n",
      "https://wals.info/languoid/lect/wals_code_cah\n",
      "https://wals.info/languoid/lect/wals_code_cak\n",
      "https://wals.info/languoid/lect/wals_code_cml\n",
      "https://wals.info/languoid/lect/wals_code_cax\n",
      "https://wals.info/languoid/lect/wals_code_cpa\n",
      "https://wals.info/languoid/lect/wals_code_cam\n",
      "https://wals.info/languoid/lect/wals_code_cnm\n",
      "https://wals.info/languoid/lect/wals_code_can\n",
      "https://wals.info/languoid/lect/wals_code_cnl\n",
      "https://wals.info/languoid/lect/wals_code_cnt\n",
      "https://wals.info/languoid/lect/wals_code_cap\n",
      "https://wals.info/languoid/lect/wals_code_crp\n",
      "https://wals.info/languoid/lect/wals_code_car\n",
      "https://wals.info/languoid/lect/wals_code_cde\n",
      "https://wals.info/languoid/lect/wals_code_crj\n",
      "https://wals.info/languoid/lect/wals_code_crl\n",
      "https://wals.info/languoid/lect/wals_code_crq\n",
      "https://wals.info/languoid/lect/wals_code_cas\n",
      "https://wals.info/languoid/lect/wals_code_csh\n",
      "https://wals.info/languoid/lect/wals_code_ctl\n",
      "https://wals.info/languoid/lect/wals_code_ctw\n",
      "https://wals.info/languoid/lect/wals_code_cat\n",
      "https://wals.info/languoid/lect/wals_code_cav\n",
      "https://wals.info/languoid/lect/wals_code_cay\n",
      "https://wals.info/languoid/lect/wals_code_cyg\n",
      "https://wals.info/languoid/lect/wals_code_cyv\n",
      "https://wals.info/languoid/lect/wals_code_ceb\n",
      "https://wals.info/languoid/lect/wals_code_cem\n",
      "https://wals.info/languoid/lect/wals_code_cbo\n",
      "https://wals.info/languoid/lect/wals_code_cga\n",
      "https://wals.info/languoid/lect/wals_code_chh\n",
      "https://wals.info/languoid/lect/wals_code_cai\n",
      "https://wals.info/languoid/lect/wals_code_cld\n",
      "https://wals.info/languoid/lect/wals_code_chm\n",
      "https://wals.info/languoid/lect/wals_code_chb\n",
      "https://wals.info/languoid/lect/wals_code_cme\n",
      "https://wals.info/languoid/lect/wals_code_cha\n",
      "https://wals.info/languoid/lect/wals_code_chw\n",
      "https://wals.info/languoid/lect/wals_code_chg\n",
      "https://wals.info/languoid/lect/wals_code_chn\n",
      "https://wals.info/languoid/lect/wals_code_cco\n",
      "https://wals.info/languoid/lect/wals_code_cht\n",
      "https://wals.info/languoid/lect/wals_code_cso\n",
      "https://wals.info/languoid/lect/wals_code_ctt\n",
      "https://wals.info/languoid/lect/wals_code_cya\n",
      "https://wals.info/languoid/lect/wals_code_chd\n",
      "https://wals.info/languoid/lect/wals_code_cvc\n",
      "https://wals.info/languoid/lect/wals_code_chy\n",
      "https://wals.info/languoid/lect/wals_code_chc\n",
      "https://wals.info/languoid/lect/wals_code_chl\n",
      "https://wals.info/languoid/lect/wals_code_ckh\n",
      "https://wals.info/languoid/lect/wals_code_cmk\n",
      "https://wals.info/languoid/lect/wals_code_cmh\n",
      "https://wals.info/languoid/lect/wals_code_cpn\n",
      "https://wals.info/languoid/lect/wals_code_che\n",
      "https://wals.info/languoid/lect/wals_code_cyn\n",
      "https://wals.info/languoid/lect/wals_code_cic\n",
      "https://wals.info/languoid/lect/wals_code_cjo\n",
      "https://wals.info/languoid/lect/wals_code_cck\n",
      "https://wals.info/languoid/lect/wals_code_cec\n",
      "https://wals.info/languoid/lect/wals_code_chi\n",
      "https://wals.info/languoid/lect/wals_code_cma\n",
      "https://wals.info/languoid/lect/wals_code_ccm\n",
      "https://wals.info/languoid/lect/wals_code_cle\n",
      "https://wals.info/languoid/lect/wals_code_cpl\n",
      "https://wals.info/languoid/lect/wals_code_chq\n",
      "https://wals.info/languoid/lect/wals_code_csf\n",
      "https://wals.info/languoid/lect/wals_code_csc\n",
      "https://wals.info/languoid/lect/wals_code_cte\n",
      "https://wals.info/languoid/lect/wals_code_csl\n",
      "https://wals.info/languoid/lect/wals_code_cmr\n",
      "https://wals.info/languoid/lect/wals_code_ckl\n",
      "https://wals.info/languoid/lect/wals_code_cku\n",
      "https://wals.info/languoid/lect/wals_code_chs\n",
      "https://wals.info/languoid/lect/wals_code_cti\n",
      "https://wals.info/languoid/lect/wals_code_cpy\n",
      "https://wals.info/languoid/lect/wals_code_chp\n",
      "https://wals.info/languoid/lect/wals_code_cpw\n",
      "https://wals.info/languoid/lect/wals_code_cqt\n",
      "https://wals.info/languoid/lect/wals_code_crg\n",
      "https://wals.info/languoid/lect/wals_code_ctm\n",
      "https://wals.info/languoid/lect/wals_code_cch\n",
      "https://wals.info/languoid/lect/wals_code_cct\n",
      "https://wals.info/languoid/lect/wals_code_col\n",
      "https://wals.info/languoid/lect/wals_code_cln\n",
      "https://wals.info/languoid/lect/wals_code_cho\n",
      "https://wals.info/languoid/lect/wals_code_chx\n",
      "https://wals.info/languoid/lect/wals_code_cmy\n",
      "https://wals.info/languoid/lect/wals_code_crt\n",
      "https://wals.info/languoid/lect/wals_code_coi\n",
      "https://wals.info/languoid/lect/wals_code_chr\n",
      "https://wals.info/languoid/lect/wals_code_crh\n",
      "https://wals.info/languoid/lect/wals_code_cve\n",
      "https://wals.info/languoid/lect/wals_code_chj\n",
      "https://wals.info/languoid/lect/wals_code_chk\n",
      "https://wals.info/languoid/lect/wals_code_cly\n",
      "https://wals.info/languoid/lect/wals_code_cba\n",
      "https://wals.info/languoid/lect/wals_code_cin\n",
      "https://wals.info/languoid/lect/wals_code_cum\n",
      "https://wals.info/languoid/lect/wals_code_cuu\n",
      "https://wals.info/languoid/lect/wals_code_chv\n",
      "https://wals.info/languoid/lect/wals_code_cil\n",
      "https://wals.info/languoid/lect/wals_code_cla\n",
      "https://wals.info/languoid/lect/wals_code_coa\n",
      "https://wals.info/languoid/lect/wals_code_coc\n",
      "https://wals.info/languoid/lect/wals_code_ccp\n",
      "https://wals.info/languoid/lect/wals_code_coe\n",
      "https://wals.info/languoid/lect/wals_code_cof\n",
      "https://wals.info/languoid/lect/wals_code_cog\n",
      "https://wals.info/languoid/lect/wals_code_clc\n",
      "https://wals.info/languoid/lect/wals_code_cwe\n",
      "https://wals.info/languoid/lect/wals_code_cmn\n",
      "https://wals.info/languoid/lect/wals_code_cmc\n",
      "https://wals.info/languoid/lect/wals_code_com\n",
      "https://wals.info/languoid/lect/wals_code_cmx\n",
      "https://wals.info/languoid/lect/wals_code_coo\n",
      "https://wals.info/languoid/lect/wals_code_cop\n",
      "https://wals.info/languoid/lect/wals_code_cor\n",
      "https://wals.info/languoid/lect/wals_code_crn\n",
      "https://wals.info/languoid/lect/wals_code_crk\n",
      "https://wals.info/languoid/lect/wals_code_cre\n",
      "https://wals.info/languoid/lect/wals_code_cea\n",
      "https://wals.info/languoid/lect/wals_code_cri\n",
      "https://wals.info/languoid/lect/wals_code_cro\n",
      "https://wals.info/languoid/lect/wals_code_cua\n",
      "https://wals.info/languoid/lect/wals_code_cub\n",
      "https://wals.info/languoid/lect/wals_code_cui\n",
      "https://wals.info/languoid/lect/wals_code_cuc\n",
      "https://wals.info/languoid/lect/wals_code_ctc\n",
      "https://wals.info/languoid/lect/wals_code_cut\n",
      "https://wals.info/languoid/lect/wals_code_cul\n",
      "https://wals.info/languoid/lect/wals_code_cup\n",
      "https://wals.info/languoid/lect/wals_code_cur\n",
      "https://wals.info/languoid/lect/wals_code_cze\n",
      "https://wals.info/languoid/lect/wals_code_daa\n",
      "https://wals.info/languoid/lect/wals_code_dab\n",
      "https://wals.info/languoid/lect/wals_code_dbd\n",
      "https://wals.info/languoid/lect/wals_code_dad\n",
      "https://wals.info/languoid/lect/wals_code_ddj\n",
      "https://wals.info/languoid/lect/wals_code_dag\n",
      "https://wals.info/languoid/lect/wals_code_dga\n",
      "https://wals.info/languoid/lect/wals_code_dgb\n",
      "https://wals.info/languoid/lect/wals_code_dgr\n",
      "https://wals.info/languoid/lect/wals_code_dah\n",
      "https://wals.info/languoid/lect/wals_code_ddf\n",
      "https://wals.info/languoid/lect/wals_code_dak\n",
      "https://wals.info/languoid/lect/wals_code_dam\n",
      "https://wals.info/languoid/lect/wals_code_dan\n",
      "https://wals.info/languoid/lect/wals_code_dnw\n",
      "https://wals.info/languoid/lect/wals_code_dni\n",
      "https://wals.info/languoid/lect/wals_code_dsh\n",
      "https://wals.info/languoid/lect/wals_code_dar\n",
      "https://wals.info/languoid/lect/wals_code_drg\n",
      "https://wals.info/languoid/lect/wals_code_dri\n",
      "https://wals.info/languoid/lect/wals_code_drm\n",
      "https://wals.info/languoid/lect/wals_code_dat\n",
      "https://wals.info/languoid/lect/wals_code_daw\n",
      "https://wals.info/languoid/lect/wals_code_day\n",
      "https://wals.info/languoid/lect/wals_code_def\n",
      "https://wals.info/languoid/lect/wals_code_deg\n",
      "https://wals.info/languoid/lect/wals_code_dgx\n",
      "https://wals.info/languoid/lect/wals_code_den\n",
      "https://wals.info/languoid/lect/wals_code_des\n",
      "https://wals.info/languoid/lect/wals_code_det\n",
      "https://wals.info/languoid/lect/wals_code_deu\n",
      "https://wals.info/languoid/lect/wals_code_dge\n",
      "https://wals.info/languoid/lect/wals_code_dha\n",
      "https://wals.info/languoid/lect/wals_code_dhl\n",
      "https://wals.info/languoid/lect/wals_code_dhw\n",
      "https://wals.info/languoid/lect/wals_code_dhr\n",
      "https://wals.info/languoid/lect/wals_code_dhb\n",
      "https://wals.info/languoid/lect/wals_code_dhm\n",
      "https://wals.info/languoid/lect/wals_code_dhi\n",
      "https://wals.info/languoid/lect/wals_code_dhu\n",
      "https://wals.info/languoid/lect/wals_code_dda\n",
      "https://wals.info/languoid/lect/wals_code_did\n",
      "https://wals.info/languoid/lect/wals_code_die\n",
      "https://wals.info/languoid/lect/wals_code_dig\n",
      "https://wals.info/languoid/lect/wals_code_ygd\n",
      "https://wals.info/languoid/lect/wals_code_dms\n",
      "https://wals.info/languoid/lect/wals_code_dim\n",
      "https://wals.info/languoid/lect/wals_code_dng\n",
      "https://wals.info/languoid/lect/wals_code_din\n",
      "https://wals.info/languoid/lect/wals_code_dio\n",
      "https://wals.info/languoid/lect/wals_code_csk\n",
      "https://wals.info/languoid/lect/wals_code_diy\n",
      "https://wals.info/languoid/lect/wals_code_diz\n",
      "https://wals.info/languoid/lect/wals_code_dja\n",
      "https://wals.info/languoid/lect/wals_code_djm\n",
      "https://wals.info/languoid/lect/wals_code_djp\n",
      "https://wals.info/languoid/lect/wals_code_djr\n",
      "https://wals.info/languoid/lect/wals_code_djn\n",
      "https://wals.info/languoid/lect/wals_code_dji\n",
      "https://wals.info/languoid/lect/wals_code_dlm\n",
      "https://wals.info/languoid/lect/wals_code_der\n",
      "https://wals.info/languoid/lect/wals_code_dob\n",
      "https://wals.info/languoid/lect/wals_code_dgi\n",
      "https://wals.info/languoid/lect/wals_code_dok\n",
      "https://wals.info/languoid/lect/wals_code_dol\n",
      "https://wals.info/languoid/lect/wals_code_dmk\n",
      "https://wals.info/languoid/lect/wals_code_dom\n",
      "https://wals.info/languoid/lect/wals_code_dgo\n",
      "https://wals.info/languoid/lect/wals_code_don\n",
      "https://wals.info/languoid/lect/wals_code_dds\n",
      "https://wals.info/languoid/lect/wals_code_dou\n",
      "https://wals.info/languoid/lect/wals_code_doy\n",
      "https://wals.info/languoid/lect/wals_code_dre\n",
      "https://wals.info/languoid/lect/wals_code_dua\n",
      "https://wals.info/languoid/lect/wals_code_duk\n",
      "https://wals.info/languoid/lect/wals_code_dug\n",
      "https://wals.info/languoid/lect/wals_code_dul\n",
      "https://wals.info/languoid/lect/wals_code_dma\n",
      "https://wals.info/languoid/lect/wals_code_dca\n",
      "https://wals.info/languoid/lect/wals_code_dmi\n",
      "https://wals.info/languoid/lect/wals_code_dum\n",
      "https://wals.info/languoid/lect/wals_code_dun\n",
      "https://wals.info/languoid/lect/wals_code_dut\n",
      "https://wals.info/languoid/lect/wals_code_dbr\n",
      "https://wals.info/languoid/lect/wals_code_dli\n",
      "https://wals.info/languoid/lect/wals_code_duz\n",
      "https://wals.info/languoid/lect/wals_code_dym\n",
      "https://wals.info/languoid/lect/wals_code_dyi\n",
      "https://wals.info/languoid/lect/wals_code_dyu\n",
      "https://wals.info/languoid/lect/wals_code_ebi\n",
      "https://wals.info/languoid/lect/wals_code_edo\n",
      "https://wals.info/languoid/lect/wals_code_erk\n",
      "https://wals.info/languoid/lect/wals_code_efi\n",
      "https://wals.info/languoid/lect/wals_code_ega\n",
      "https://wals.info/languoid/lect/wals_code_eip\n",
      "https://wals.info/languoid/lect/wals_code_eja\n",
      "https://wals.info/languoid/lect/wals_code_eka\n",
      "https://wals.info/languoid/lect/wals_code_eko\n",
      "https://wals.info/languoid/lect/wals_code_els\n",
      "https://wals.info/languoid/lect/wals_code_ora\n",
      "https://wals.info/languoid/lect/wals_code_eml\n",
      "https://wals.info/languoid/lect/wals_code_emc\n",
      "https://wals.info/languoid/lect/wals_code_emb\n",
      "https://wals.info/languoid/lect/wals_code_eme\n",
      "https://wals.info/languoid/lect/wals_code_emm\n",
      "https://wals.info/languoid/lect/wals_code_ene\n",
      "https://wals.info/languoid/lect/wals_code_ena\n",
      "https://wals.info/languoid/lect/wals_code_egn\n",
      "https://wals.info/languoid/lect/wals_code_eno\n",
      "https://wals.info/languoid/lect/wals_code_eng\n",
      "https://wals.info/languoid/lect/wals_code_eny\n",
      "https://wals.info/languoid/lect/wals_code_epe\n",
      "https://wals.info/languoid/lect/wals_code_err\n",
      "https://wals.info/languoid/lect/wals_code_ese\n",
      "https://wals.info/languoid/lect/wals_code_esm\n",
      "https://wals.info/languoid/lect/wals_code_ess\n",
      "https://wals.info/languoid/lect/wals_code_est\n",
      "https://wals.info/languoid/lect/wals_code_ets\n",
      "https://wals.info/languoid/lect/wals_code_eud\n",
      "https://wals.info/languoid/lect/wals_code_evn\n",
      "https://wals.info/languoid/lect/wals_code_eve\n",
      "https://wals.info/languoid/lect/wals_code_ewe\n",
      "https://wals.info/languoid/lect/wals_code_ewa\n",
      "https://wals.info/languoid/lect/wals_code_ewo\n",
      "https://wals.info/languoid/lect/wals_code_eya\n",
      "https://wals.info/languoid/lect/wals_code_far\n",
      "https://wals.info/languoid/lect/wals_code_fas\n",
      "https://wals.info/languoid/lect/wals_code_fef\n",
      "https://wals.info/languoid/lect/wals_code_fij\n",
      "https://wals.info/languoid/lect/wals_code_fiw\n",
      "https://wals.info/languoid/lect/wals_code_fin\n",
      "https://wals.info/languoid/lect/wals_code_fsl\n",
      "https://wals.info/languoid/lect/wals_code_fio\n",
      "https://wals.info/languoid/lect/wals_code_foe\n",
      "https://wals.info/languoid/lect/wals_code_pdp\n",
      "https://wals.info/languoid/lect/wals_code_fon\n",
      "https://wals.info/languoid/lect/wals_code_frd\n",
      "https://wals.info/languoid/lect/wals_code_for\n",
      "https://wals.info/languoid/lect/wals_code_fox\n",
      "https://wals.info/languoid/lect/wals_code_fre\n",
      "https://wals.info/languoid/lect/wals_code_fri\n",
      "https://wals.info/languoid/lect/wals_code_fea\n",
      "https://wals.info/languoid/lect/wals_code_fno\n",
      "https://wals.info/languoid/lect/wals_code_frw\n",
      "https://wals.info/languoid/lect/wals_code_fbf\n",
      "https://wals.info/languoid/lect/wals_code_fgu\n",
      "https://wals.info/languoid/lect/wals_code_fma\n",
      "https://wals.info/languoid/lect/wals_code_fus\n",
      "https://wals.info/languoid/lect/wals_code_fua\n",
      "https://wals.info/languoid/lect/wals_code_fum\n",
      "https://wals.info/languoid/lect/wals_code_fni\n",
      "https://wals.info/languoid/lect/wals_code_fli\n",
      "https://wals.info/languoid/lect/wals_code_ful\n",
      "https://wals.info/languoid/lect/wals_code_fur\n",
      "https://wals.info/languoid/lect/wals_code_fut\n",
      "https://wals.info/languoid/lect/wals_code_fue\n",
      "https://wals.info/languoid/lect/wals_code_fuz\n",
      "https://wals.info/languoid/lect/wals_code_fye\n",
      "https://wals.info/languoid/lect/wals_code_ga\n",
      "https://wals.info/languoid/lect/wals_code_gaa\n",
      "https://wals.info/languoid/lect/wals_code_glp\n",
      "https://wals.info/languoid/lect/wals_code_gnd\n",
      "https://wals.info/languoid/lect/wals_code_gdk\n",
      "https://wals.info/languoid/lect/wals_code_gad\n",
      "https://wals.info/languoid/lect/wals_code_gds\n",
      "https://wals.info/languoid/lect/wals_code_gae\n",
      "https://wals.info/languoid/lect/wals_code_gag\n",
      "https://wals.info/languoid/lect/wals_code_gah\n",
      "https://wals.info/languoid/lect/wals_code_gll\n",
      "https://wals.info/languoid/lect/wals_code_glc\n",
      "https://wals.info/languoid/lect/wals_code_gal\n",
      "https://wals.info/languoid/lect/wals_code_gml\n",
      "https://wals.info/languoid/lect/wals_code_gam\n",
      "https://wals.info/languoid/lect/wals_code_gap\n",
      "https://wals.info/languoid/lect/wals_code_grf\n",
      "https://wals.info/languoid/lect/wals_code_gar\n",
      "https://wals.info/languoid/lect/wals_code_grr\n",
      "https://wals.info/languoid/lect/wals_code_grs\n",
      "https://wals.info/languoid/lect/wals_code_gav\n",
      "https://wals.info/languoid/lect/wals_code_gay\n",
      "https://wals.info/languoid/lect/wals_code_gbk\n",
      "https://wals.info/languoid/lect/wals_code_gbs\n",
      "https://wals.info/languoid/lect/wals_code_gbb\n",
      "https://wals.info/languoid/lect/wals_code_gel\n",
      "https://wals.info/languoid/lect/wals_code_gla\n",
      "https://wals.info/languoid/lect/wals_code_geo\n",
      "https://wals.info/languoid/lect/wals_code_ger\n",
      "https://wals.info/languoid/lect/wals_code_gpz\n",
      "https://wals.info/languoid/lect/wals_code_gba\n",
      "https://wals.info/languoid/lect/wals_code_gbl\n",
      "https://wals.info/languoid/lect/wals_code_gbe\n",
      "https://wals.info/languoid/lect/wals_code_gha\n",
      "https://wals.info/languoid/lect/wals_code_gma\n",
      "https://wals.info/languoid/lect/wals_code_gos\n",
      "https://wals.info/languoid/lect/wals_code_grp\n",
      "https://wals.info/languoid/lect/wals_code_gtg\n",
      "https://wals.info/languoid/lect/wals_code_gth\n",
      "https://wals.info/languoid/lect/wals_code_gti\n",
      "https://wals.info/languoid/lect/wals_code_gau\n",
      "https://wals.info/languoid/lect/wals_code_gvi\n",
      "https://wals.info/languoid/lect/wals_code_gwe\n",
      "https://wals.info/languoid/lect/wals_code_gzu\n",
      "https://wals.info/languoid/lect/wals_code_gho\n",
      "https://wals.info/languoid/lect/wals_code_nbh\n",
      "https://wals.info/languoid/lect/wals_code_gid\n",
      "https://wals.info/languoid/lect/wals_code_gdr\n",
      "https://wals.info/languoid/lect/wals_code_gil\n",
      "https://wals.info/languoid/lect/wals_code_gim\n",
      "https://wals.info/languoid/lect/wals_code_git\n",
      "https://wals.info/languoid/lect/wals_code_giz\n",
      "https://wals.info/languoid/lect/wals_code_goa\n",
      "https://wals.info/languoid/lect/wals_code_gdi\n",
      "https://wals.info/languoid/lect/wals_code_god\n",
      "https://wals.info/languoid/lect/wals_code_goe\n",
      "https://wals.info/languoid/lect/wals_code_gog\n",
      "https://wals.info/languoid/lect/wals_code_goj\n",
      "https://wals.info/languoid/lect/wals_code_gok\n",
      "https://wals.info/languoid/lect/wals_code_gol\n",
      "https://wals.info/languoid/lect/wals_code_gln\n",
      "https://wals.info/languoid/lect/wals_code_gon\n",
      "https://wals.info/languoid/lect/wals_code_goo\n",
      "https://wals.info/languoid/lect/wals_code_grt\n",
      "https://wals.info/languoid/lect/wals_code_gor\n",
      "https://wals.info/languoid/lect/wals_code_gan\n",
      "https://wals.info/languoid/lect/wals_code_grb\n",
      "https://wals.info/languoid/lect/wals_code_gcy\n",
      "https://wals.info/languoid/lect/wals_code_grk\n",
      "https://wals.info/languoid/lect/wals_code_gsl\n",
      "https://wals.info/languoid/lect/wals_code_gre\n",
      "https://wals.info/languoid/lect/wals_code_gso\n",
      "https://wals.info/languoid/lect/wals_code_grw\n",
      "https://wals.info/languoid/lect/wals_code_gdl\n",
      "https://wals.info/languoid/lect/wals_code_ghb\n",
      "https://wals.info/languoid/lect/wals_code_gjj\n",
      "https://wals.info/languoid/lect/wals_code_gmb\n",
      "https://wals.info/languoid/lect/wals_code_gna\n",
      "https://wals.info/languoid/lect/wals_code_gno\n",
      "https://wals.info/languoid/lect/wals_code_guq\n",
      "https://wals.info/languoid/lect/wals_code_gua\n",
      "https://wals.info/languoid/lect/wals_code_grj\n",
      "https://wals.info/languoid/lect/wals_code_gto\n",
      "https://wals.info/languoid/lect/wals_code_gyb\n",
      "https://wals.info/languoid/lect/wals_code_gud\n",
      "https://wals.info/languoid/lect/wals_code_gdf\n",
      "https://wals.info/languoid/lect/wals_code_gue\n",
      "https://wals.info/languoid/lect/wals_code_gug\n",
      "https://wals.info/languoid/lect/wals_code_ggd\n",
      "https://wals.info/languoid/lect/wals_code_guh\n",
      "https://wals.info/languoid/lect/wals_code_gfr\n",
      "https://wals.info/languoid/lect/wals_code_gbc\n",
      "https://wals.info/languoid/lect/wals_code_guj\n",
      "https://wals.info/languoid/lect/wals_code_gul\n",
      "https://wals.info/languoid/lect/wals_code_gir\n",
      "https://wals.info/languoid/lect/wals_code_gmt\n",
      "https://wals.info/languoid/lect/wals_code_gmw\n",
      "https://wals.info/languoid/lect/wals_code_gum\n",
      "https://wals.info/languoid/lect/wals_code_gmz\n",
      "https://wals.info/languoid/lect/wals_code_gnb\n",
      "https://wals.info/languoid/lect/wals_code_guw\n",
      "https://wals.info/languoid/lect/wals_code_gnn\n",
      "https://wals.info/languoid/lect/wals_code_gun\n",
      "https://wals.info/languoid/lect/wals_code_gku\n",
      "https://wals.info/languoid/lect/wals_code_gny\n",
      "https://wals.info/languoid/lect/wals_code_guf\n",
      "https://wals.info/languoid/lect/wals_code_ggu\n",
      "https://wals.info/languoid/lect/wals_code_grn\n",
      "https://wals.info/languoid/lect/wals_code_gji\n",
      "https://wals.info/languoid/lect/wals_code_grm\n",
      "https://wals.info/languoid/lect/wals_code_gro\n",
      "https://wals.info/languoid/lect/wals_code_grg\n",
      "https://wals.info/languoid/lect/wals_code_gur\n",
      "https://wals.info/languoid/lect/wals_code_gus\n",
      "https://wals.info/languoid/lect/wals_code_gdb\n",
      "https://wals.info/languoid/lect/wals_code_guu\n",
      "https://wals.info/languoid/lect/wals_code_gwa\n",
      "https://wals.info/languoid/lect/wals_code_gwo\n",
      "https://wals.info/languoid/lect/wals_code_gyc\n",
      "https://wals.info/languoid/lect/wals_code_had\n",
      "https://wals.info/languoid/lect/wals_code_hai\n",
      "https://wals.info/languoid/lect/wals_code_hno\n",
      "https://wals.info/languoid/lect/wals_code_hsl\n",
      "https://wals.info/languoid/lect/wals_code_hcr\n",
      "https://wals.info/languoid/lect/wals_code_hak\n",
      "https://wals.info/languoid/lect/wals_code_hln\n",
      "https://wals.info/languoid/lect/wals_code_hlb\n",
      "https://wals.info/languoid/lect/wals_code_hal\n",
      "https://wals.info/languoid/lect/wals_code_hli\n",
      "https://wals.info/languoid/lect/wals_code_hlu\n",
      "https://wals.info/languoid/lect/wals_code_hmr\n",
      "https://wals.info/languoid/lect/wals_code_ham\n",
      "https://wals.info/languoid/lect/wals_code_hhu\n",
      "https://wals.info/languoid/lect/wals_code_han\n",
      "https://wals.info/languoid/lect/wals_code_hnn\n",
      "https://wals.info/languoid/lect/wals_code_hrr\n",
      "https://wals.info/languoid/lect/wals_code_hrs\n",
      "https://wals.info/languoid/lect/wals_code_har\n",
      "https://wals.info/languoid/lect/wals_code_hat\n",
      "https://wals.info/languoid/lect/wals_code_hau\n",
      "https://wals.info/languoid/lect/wals_code_hav\n",
      "https://wals.info/languoid/lect/wals_code_haw\n",
      "https://wals.info/languoid/lect/wals_code_hwc\n",
      "https://wals.info/languoid/lect/wals_code_hwr\n",
      "https://wals.info/languoid/lect/wals_code_hya\n",
      "https://wals.info/languoid/lect/wals_code_hay\n",
      "https://wals.info/languoid/lect/wals_code_hdi\n",
      "https://wals.info/languoid/lect/wals_code_heb\n",
      "https://wals.info/languoid/lect/wals_code_hba\n",
      "https://wals.info/languoid/lect/wals_code_heh\n",
      "https://wals.info/languoid/lect/wals_code_hei\n",
      "https://wals.info/languoid/lect/wals_code_hem\n",
      "https://wals.info/languoid/lect/wals_code_her\n",
      "https://wals.info/languoid/lect/wals_code_hia\n",
      "https://wals.info/languoid/lect/wals_code_hid\n",
      "https://wals.info/languoid/lect/wals_code_hil\n",
      "https://wals.info/languoid/lect/wals_code_hin\n",
      "https://wals.info/languoid/lect/wals_code_hnk\n",
      "https://wals.info/languoid/lect/wals_code_hix\n",
      "https://wals.info/languoid/lect/wals_code_lic\n",
      "https://wals.info/languoid/lect/wals_code_hma\n",
      "https://wals.info/languoid/lect/wals_code_hmd\n",
      "https://wals.info/languoid/lect/wals_code_hmo\n",
      "https://wals.info/languoid/lect/wals_code_ho\n",
      "https://wals.info/languoid/lect/wals_code_huc\n",
      "https://wals.info/languoid/lect/wals_code_hoa\n",
      "https://wals.info/languoid/lect/wals_code_hol\n",
      "https://wals.info/languoid/lect/wals_code_hks\n",
      "https://wals.info/languoid/lect/wals_code_hop\n",
      "https://wals.info/languoid/lect/wals_code_hre\n",
      "https://wals.info/languoid/lect/wals_code_hua\n",
      "https://wals.info/languoid/lect/wals_code_hlp\n",
      "https://wals.info/languoid/lect/wals_code_hmb\n",
      "https://wals.info/languoid/lect/wals_code_htc\n",
      "https://wals.info/languoid/lect/wals_code_hve\n",
      "https://wals.info/languoid/lect/wals_code_hui\n",
      "https://wals.info/languoid/lect/wals_code_hmi\n",
      "https://wals.info/languoid/lect/wals_code_hmu\n",
      "https://wals.info/languoid/lect/wals_code_hum\n",
      "https://wals.info/languoid/lect/wals_code_hnd\n",
      "https://wals.info/languoid/lect/wals_code_hun\n",
      "https://wals.info/languoid/lect/wals_code_hzb\n",
      "https://wals.info/languoid/lect/wals_code_hpd\n",
      "https://wals.info/languoid/lect/wals_code_hup\n",
      "https://wals.info/languoid/lect/wals_code_hyo\n",
      "https://wals.info/languoid/lect/wals_code_iaa\n",
      "https://wals.info/languoid/lect/wals_code_iat\n",
      "https://wals.info/languoid/lect/wals_code_iau\n",
      "https://wals.info/languoid/lect/wals_code_iba\n",
      "https://wals.info/languoid/lect/wals_code_ibn\n",
      "https://wals.info/languoid/lect/wals_code_ibi\n",
      "https://wals.info/languoid/lect/wals_code_ice\n",
      "https://wals.info/languoid/lect/wals_code_ics\n",
      "https://wals.info/languoid/lect/wals_code_ido\n",
      "https://wals.info/languoid/lect/wals_code_idu\n",
      "https://wals.info/languoid/lect/wals_code_idn\n",
      "https://wals.info/languoid/lect/wals_code_mxe\n",
      "https://wals.info/languoid/lect/wals_code_ifu\n",
      "https://wals.info/languoid/lect/wals_code_ifm\n",
      "https://wals.info/languoid/lect/wals_code_igb\n",
      "https://wals.info/languoid/lect/wals_code_ige\n",
      "https://wals.info/languoid/lect/wals_code_ign\n",
      "https://wals.info/languoid/lect/wals_code_iha\n",
      "https://wals.info/languoid/lect/wals_code_ijo\n",
      "https://wals.info/languoid/lect/wals_code_ik\n",
      "https://wals.info/languoid/lect/wals_code_ika\n",
      "https://wals.info/languoid/lect/wals_code_ila\n",
      "https://wals.info/languoid/lect/wals_code_ill\n",
      "https://wals.info/languoid/lect/wals_code_ilo\n",
      "https://wals.info/languoid/lect/wals_code_imo\n",
      "https://wals.info/languoid/lect/wals_code_ina\n",
      "https://wals.info/languoid/lect/wals_code_ind\n",
      "https://wals.info/languoid/lect/wals_code_inj\n",
      "https://wals.info/languoid/lect/wals_code_iir\n",
      "https://wals.info/languoid/lect/wals_code_ipi\n",
      "https://wals.info/languoid/lect/wals_code_ipk\n",
      "https://wals.info/languoid/lect/wals_code_iga\n",
      "https://wals.info/languoid/lect/wals_code_igs\n",
      "https://wals.info/languoid/lect/wals_code_ing\n",
      "https://wals.info/languoid/lect/wals_code_inn\n",
      "https://wals.info/languoid/lect/wals_code_isl\n",
      "https://wals.info/languoid/lect/wals_code_iql\n",
      "https://wals.info/languoid/lect/wals_code_inr\n",
      "https://wals.info/languoid/lect/wals_code_ins\n",
      "https://wals.info/languoid/lect/wals_code_inu\n",
      "https://wals.info/languoid/lect/wals_code_iqu\n",
      "https://wals.info/languoid/lect/wals_code_irx\n",
      "https://wals.info/languoid/lect/wals_code_irq\n",
      "https://wals.info/languoid/lect/wals_code_irr\n",
      "https://wals.info/languoid/lect/wals_code_iri\n",
      "https://wals.info/languoid/lect/wals_code_ird\n",
      "https://wals.info/languoid/lect/wals_code_irm\n",
      "https://wals.info/languoid/lect/wals_code_irs\n",
      "https://wals.info/languoid/lect/wals_code_isa\n",
      "https://wals.info/languoid/lect/wals_code_ise\n",
      "https://wals.info/languoid/lect/wals_code_ish\n",
      "https://wals.info/languoid/lect/wals_code_isi\n",
      "https://wals.info/languoid/lect/wals_code_isn\n",
      "https://wals.info/languoid/lect/wals_code_iso\n",
      "https://wals.info/languoid/lect/wals_code_iss\n",
      "https://wals.info/languoid/lect/wals_code_ita\n",
      "https://wals.info/languoid/lect/wals_code_itb\n",
      "https://wals.info/languoid/lect/wals_code_ifi\n",
      "https://wals.info/languoid/lect/wals_code_itg\n",
      "https://wals.info/languoid/lect/wals_code_itn\n",
      "https://wals.info/languoid/lect/wals_code_itu\n",
      "https://wals.info/languoid/lect/wals_code_itw\n",
      "https://wals.info/languoid/lect/wals_code_ite\n",
      "https://wals.info/languoid/lect/wals_code_ito\n",
      "https://wals.info/languoid/lect/wals_code_itz\n",
      "https://wals.info/languoid/lect/wals_code_iva\n",
      "https://wals.info/languoid/lect/wals_code_iwa\n",
      "https://wals.info/languoid/lect/wals_code_iwm\n",
      "https://wals.info/languoid/lect/wals_code_kwy\n",
      "https://wals.info/languoid/lect/wals_code_ixc\n",
      "https://wals.info/languoid/lect/wals_code_ixi\n",
      "https://wals.info/languoid/lect/wals_code_izh\n",
      "https://wals.info/languoid/lect/wals_code_izi\n",
      "https://wals.info/languoid/lect/wals_code_jab\n",
      "https://wals.info/languoid/lect/wals_code_jbt\n",
      "https://wals.info/languoid/lect/wals_code_jad\n",
      "https://wals.info/languoid/lect/wals_code_jah\n",
      "https://wals.info/languoid/lect/wals_code_jak\n",
      "https://wals.info/languoid/lect/wals_code_jcr\n",
      "https://wals.info/languoid/lect/wals_code_jmm\n",
      "https://wals.info/languoid/lect/wals_code_jam\n",
      "https://wals.info/languoid/lect/wals_code_jms\n",
      "https://wals.info/languoid/lect/wals_code_jpn\n",
      "https://wals.info/languoid/lect/wals_code_jpr\n",
      "https://wals.info/languoid/lect/wals_code_jaq\n",
      "https://wals.info/languoid/lect/wals_code_jrw\n",
      "https://wals.info/languoid/lect/wals_code_jar\n",
      "https://wals.info/languoid/lect/wals_code_jwr\n",
      "https://wals.info/languoid/lect/wals_code_jav\n",
      "https://wals.info/languoid/lect/wals_code_jeb\n",
      "https://wals.info/languoid/lect/wals_code_jeh\n",
      "https://wals.info/languoid/lect/wals_code_jel\n",
      "https://wals.info/languoid/lect/wals_code_jem\n",
      "https://wals.info/languoid/lect/wals_code_jia\n",
      "https://wals.info/languoid/lect/wals_code_jib\n",
      "https://wals.info/languoid/lect/wals_code_jng\n",
      "https://wals.info/languoid/lect/wals_code_jin\n",
      "https://wals.info/languoid/lect/wals_code_jiv\n",
      "https://wals.info/languoid/lect/wals_code_joh\n",
      "https://wals.info/languoid/lect/wals_code_jom\n",
      "https://wals.info/languoid/lect/wals_code_jun\n",
      "https://wals.info/languoid/lect/wals_code_jug\n",
      "https://wals.info/languoid/lect/wals_code_juh\n",
      "https://wals.info/languoid/lect/wals_code_juk\n",
      "https://wals.info/languoid/lect/wals_code_jum\n",
      "https://wals.info/languoid/lect/wals_code_jur\n",
      "https://wals.info/languoid/lect/wals_code_jmo\n",
      "https://wals.info/languoid/lect/wals_code_jrn\n",
      "https://wals.info/languoid/lect/wals_code_kab\n",
      "https://wals.info/languoid/lect/wals_code_kbt\n",
      "https://wals.info/languoid/lect/wals_code_kby\n",
      "https://wals.info/languoid/lect/wals_code_kbi\n",
      "https://wals.info/languoid/lect/wals_code_kbl\n",
      "https://wals.info/languoid/lect/wals_code_kac\n",
      "https://wals.info/languoid/lect/wals_code_kdz\n",
      "https://wals.info/languoid/lect/wals_code_kdw\n",
      "https://wals.info/languoid/lect/wals_code_kad\n",
      "https://wals.info/languoid/lect/wals_code_kgm\n",
      "https://wals.info/languoid/lect/wals_code_kgr\n",
      "https://wals.info/languoid/lect/wals_code_kai\n",
      "https://wals.info/languoid/lect/wals_code_kli\n",
      "https://wals.info/languoid/lect/wals_code_kng\n",
      "https://wals.info/languoid/lect/wals_code_krr\n",
      "https://wals.info/languoid/lect/wals_code_kaw\n",
      "https://wals.info/languoid/lect/wals_code_kae\n",
      "https://wals.info/languoid/lect/wals_code_kly\n",
      "https://wals.info/languoid/lect/wals_code_klq\n",
      "https://wals.info/languoid/lect/wals_code_kal\n",
      "https://wals.info/languoid/lect/wals_code_klz\n",
      "https://wals.info/languoid/lect/wals_code_klp\n",
      "https://wals.info/languoid/lect/wals_code_klh\n",
      "https://wals.info/languoid/lect/wals_code_kls\n",
      "https://wals.info/languoid/lect/wals_code_kgu\n",
      "https://wals.info/languoid/lect/wals_code_kmk\n",
      "https://wals.info/languoid/lect/wals_code_kiq\n",
      "https://wals.info/languoid/lect/wals_code_kll\n",
      "https://wals.info/languoid/lect/wals_code_kma\n",
      "https://wals.info/languoid/lect/wals_code_kak\n",
      "https://wals.info/languoid/lect/wals_code_kmz\n",
      "https://wals.info/languoid/lect/wals_code_kms\n",
      "https://wals.info/languoid/lect/wals_code_kba\n",
      "https://wals.info/languoid/lect/wals_code_kam\n",
      "https://wals.info/languoid/lect/wals_code_kbo\n",
      "https://wals.info/languoid/lect/wals_code_kmi\n",
      "https://wals.info/languoid/lect/wals_code_kmr\n",
      "https://wals.info/languoid/lect/wals_code_kmw\n",
      "https://wals.info/languoid/lect/wals_code_kan\n",
      "https://wals.info/languoid/lect/wals_code_knk\n",
      "https://wals.info/languoid/lect/wals_code_xns\n",
      "https://wals.info/languoid/lect/wals_code_kbu\n",
      "https://wals.info/languoid/lect/wals_code_kgt\n",
      "https://wals.info/languoid/lect/wals_code_kea\n",
      "https://wals.info/languoid/lect/wals_code_kwe\n",
      "https://wals.info/languoid/lect/wals_code_kky\n",
      "https://wals.info/languoid/lect/wals_code_knd\n",
      "https://wals.info/languoid/lect/wals_code_kno\n",
      "https://wals.info/languoid/lect/wals_code_knb\n",
      "https://wals.info/languoid/lect/wals_code_knp\n",
      "https://wals.info/languoid/lect/wals_code_knr\n",
      "https://wals.info/languoid/lect/wals_code_kyo\n",
      "https://wals.info/languoid/lect/wals_code_kpm\n",
      "https://wals.info/languoid/lect/wals_code_kpn\n",
      "https://wals.info/languoid/lect/wals_code_krc\n",
      "https://wals.info/languoid/lect/wals_code_krj\n",
      "https://wals.info/languoid/lect/wals_code_krm\n",
      "https://wals.info/languoid/lect/wals_code_kar\n",
      "https://wals.info/languoid/lect/wals_code_kra\n",
      "https://wals.info/languoid/lect/wals_code_jva\n",
      "https://wals.info/languoid/lect/wals_code_kkp\n",
      "https://wals.info/languoid/lect/wals_code_krg\n",
      "https://wals.info/languoid/lect/wals_code_kkw\n",
      "https://wals.info/languoid/lect/wals_code_kao\n",
      "https://wals.info/languoid/lect/wals_code_krt\n",
      "https://wals.info/languoid/lect/wals_code_krl\n",
      "https://wals.info/languoid/lect/wals_code_kbw\n",
      "https://wals.info/languoid/lect/wals_code_kpw\n",
      "https://wals.info/languoid/lect/wals_code_ksg\n",
      "https://wals.info/languoid/lect/wals_code_vka\n",
      "https://wals.info/languoid/lect/wals_code_kmj\n",
      "https://wals.info/languoid/lect/wals_code_kdg\n",
      "https://wals.info/languoid/lect/wals_code_kna\n",
      "https://wals.info/languoid/lect/wals_code_kyr\n",
      "https://wals.info/languoid/lect/wals_code_kaa\n",
      "https://wals.info/languoid/lect/wals_code_krk\n",
      "https://wals.info/languoid/lect/wals_code_ksm\n",
      "https://wals.info/languoid/lect/wals_code_ksh\n",
      "https://wals.info/languoid/lect/wals_code_kas\n",
      "https://wals.info/languoid/lect/wals_code_ksu\n",
      "https://wals.info/languoid/lect/wals_code_ksn\n",
      "https://wals.info/languoid/lect/wals_code_kkl\n",
      "https://wals.info/languoid/lect/wals_code_ktc\n",
      "https://wals.info/languoid/lect/wals_code_kat\n",
      "https://wals.info/languoid/lect/wals_code_ktm\n",
      "https://wals.info/languoid/lect/wals_code_ktz\n",
      "https://wals.info/languoid/lect/wals_code_kti\n",
      "https://wals.info/languoid/lect/wals_code_ktl\n",
      "https://wals.info/languoid/lect/wals_code_kto\n",
      "https://wals.info/languoid/lect/wals_code_ktu\n",
      "https://wals.info/languoid/lect/wals_code_kau\n",
      "https://wals.info/languoid/lect/wals_code_kaj\n",
      "https://wals.info/languoid/lect/wals_code_kaq\n",
      "https://wals.info/languoid/lect/wals_code_kws\n",
      "https://wals.info/languoid/lect/wals_code_kyz\n",
      "https://wals.info/languoid/lect/wals_code_kyl\n",
      "https://wals.info/languoid/lect/wals_code_kbr\n",
      "https://wals.info/languoid/lect/wals_code_kyp\n",
      "https://wals.info/languoid/lect/wals_code_kay\n",
      "https://wals.info/languoid/lect/wals_code_kyt\n",
      "https://wals.info/languoid/lect/wals_code_kaz\n",
      "https://wals.info/languoid/lect/wals_code_ked\n",
      "https://wals.info/languoid/lect/wals_code_kef\n",
      "https://wals.info/languoid/lect/wals_code_kei\n",
      "https://wals.info/languoid/lect/wals_code_kek\n",
      "https://wals.info/languoid/lect/wals_code_kap\n",
      "https://wals.info/languoid/lect/wals_code_klt\n",
      "https://wals.info/languoid/lect/wals_code_kel\n",
      "https://wals.info/languoid/lect/wals_code_kem\n",
      "https://wals.info/languoid/lect/wals_code_kmt\n",
      "https://wals.info/languoid/lect/wals_code_ken\n",
      "https://wals.info/languoid/lect/wals_code_keu\n",
      "https://wals.info/languoid/lect/wals_code_kyg\n",
      "https://wals.info/languoid/lect/wals_code_ksl\n",
      "https://wals.info/languoid/lect/wals_code_keo\n",
      "https://wals.info/languoid/lect/wals_code_ker\n",
      "https://wals.info/languoid/lect/wals_code_krq\n",
      "https://wals.info/languoid/lect/wals_code_ksa\n",
      "https://wals.info/languoid/lect/wals_code_ket\n",
      "https://wals.info/languoid/lect/wals_code_ktp\n",
      "https://wals.info/languoid/lect/wals_code_kte\n",
      "https://wals.info/languoid/lect/wals_code_ktn\n",
      "https://wals.info/languoid/lect/wals_code_kew\n",
      "https://wals.info/languoid/lect/wals_code_khk\n",
      "https://wals.info/languoid/lect/wals_code_khl\n",
      "https://wals.info/languoid/lect/wals_code_khg\n",
      "https://wals.info/languoid/lect/wals_code_kha\n",
      "https://wals.info/languoid/lect/wals_code_kmh\n",
      "https://wals.info/languoid/lect/wals_code_khd\n",
      "https://wals.info/languoid/lect/wals_code_knz\n",
      "https://wals.info/languoid/lect/wals_code_kty\n",
      "https://wals.info/languoid/lect/wals_code_khr\n",
      "https://wals.info/languoid/lect/wals_code_khs\n",
      "https://wals.info/languoid/lect/wals_code_khi\n",
      "https://wals.info/languoid/lect/wals_code_khm\n",
      "https://wals.info/languoid/lect/wals_code_kmu\n",
      "https://wals.info/languoid/lect/wals_code_khw\n",
      "https://wals.info/languoid/lect/wals_code_khu\n",
      "https://wals.info/languoid/lect/wals_code_khn\n",
      "https://wals.info/languoid/lect/wals_code_khv\n",
      "https://wals.info/languoid/lect/wals_code_kic\n",
      "https://wals.info/languoid/lect/wals_code_kik\n",
      "https://wals.info/languoid/lect/wals_code_klb\n",
      "https://wals.info/languoid/lect/wals_code_klv\n",
      "https://wals.info/languoid/lect/wals_code_klw\n",
      "https://wals.info/languoid/lect/wals_code_kil\n",
      "https://wals.info/languoid/lect/wals_code_kim\n",
      "https://wals.info/languoid/lect/wals_code_kga\n",
      "https://wals.info/languoid/lect/wals_code_knn\n",
      "https://wals.info/languoid/lect/wals_code_kin\n",
      "https://wals.info/languoid/lect/wals_code_kio\n",
      "https://wals.info/languoid/lect/wals_code_kri\n",
      "https://wals.info/languoid/lect/wals_code_kie\n",
      "https://wals.info/languoid/lect/wals_code_kgz\n",
      "https://wals.info/languoid/lect/wals_code_kfy\n",
      "https://wals.info/languoid/lect/wals_code_krb\n",
      "https://wals.info/languoid/lect/wals_code_kkr\n",
      "https://wals.info/languoid/lect/wals_code_kir\n",
      "https://wals.info/languoid/lect/wals_code_ksr\n",
      "https://wals.info/languoid/lect/wals_code_kis\n",
      "https://wals.info/languoid/lect/wals_code_kss\n",
      "https://wals.info/languoid/lect/wals_code_kij\n",
      "https://wals.info/languoid/lect/wals_code_kit\n",
      "https://wals.info/languoid/lect/wals_code_ktb\n",
      "https://wals.info/languoid/lect/wals_code_kiw\n",
      "https://wals.info/languoid/lect/wals_code_klm\n",
      "https://wals.info/languoid/lect/wals_code_kla\n",
      "https://wals.info/languoid/lect/wals_code_koa\n",
      "https://wals.info/languoid/lect/wals_code_kob\n",
      "https://wals.info/languoid/lect/wals_code_kod\n",
      "https://wals.info/languoid/lect/wals_code_koe\n",
      "https://wals.info/languoid/lect/wals_code_klk\n",
      "https://wals.info/languoid/lect/wals_code_koh\n",
      "https://wals.info/languoid/lect/wals_code_kmo\n",
      "https://wals.info/languoid/lect/wals_code_koi\n",
      "https://wals.info/languoid/lect/wals_code_kta\n",
      "https://wals.info/languoid/lect/wals_code_kok\n",
      "https://wals.info/languoid/lect/wals_code_kkz\n",
      "https://wals.info/languoid/lect/wals_code_kkt\n",
      "https://wals.info/languoid/lect/wals_code_koo\n",
      "https://wals.info/languoid/lect/wals_code_kol\n",
      "https://wals.info/languoid/lect/wals_code_kln\n",
      "https://wals.info/languoid/lect/wals_code_klr\n",
      "https://wals.info/languoid/lect/wals_code_kou\n",
      "https://wals.info/languoid/lect/wals_code_kmb\n",
      "https://wals.info/languoid/lect/wals_code_xbi\n",
      "https://wals.info/languoid/lect/wals_code_kag\n",
      "https://wals.info/languoid/lect/wals_code_kop\n",
      "https://wals.info/languoid/lect/wals_code_kzy\n",
      "https://wals.info/languoid/lect/wals_code_kom\n",
      "https://wals.info/languoid/lect/wals_code_kda\n",
      "https://wals.info/languoid/lect/wals_code_kon\n",
      "https://wals.info/languoid/lect/wals_code_kjo\n",
      "https://wals.info/languoid/lect/wals_code_kkn\n",
      "https://wals.info/languoid/lect/wals_code_kkb\n",
      "https://wals.info/languoid/lect/wals_code_knw\n",
      "https://wals.info/languoid/lect/wals_code_kni\n",
      "https://wals.info/languoid/lect/wals_code_knu\n",
      "https://wals.info/languoid/lect/wals_code_kgi\n",
      "https://wals.info/languoid/lect/wals_code_kjr\n",
      "https://wals.info/languoid/lect/wals_code_krf\n",
      "https://wals.info/languoid/lect/wals_code_krn\n",
      "https://wals.info/languoid/lect/wals_code_kko\n",
      "https://wals.info/languoid/lect/wals_code_kor\n",
      "https://wals.info/languoid/lect/wals_code_kje\n",
      "https://wals.info/languoid/lect/wals_code_kku\n",
      "https://wals.info/languoid/lect/wals_code_kfe\n",
      "https://wals.info/languoid/lect/wals_code_krw\n",
      "https://wals.info/languoid/lect/wals_code_kry\n",
      "https://wals.info/languoid/lect/wals_code_ksp\n",
      "https://wals.info/languoid/lect/wals_code_kos\n",
      "https://wals.info/languoid/lect/wals_code_kot\n",
      "https://wals.info/languoid/lect/wals_code_ktk\n",
      "https://wals.info/languoid/lect/wals_code_ktt\n",
      "https://wals.info/languoid/lect/wals_code_kow\n",
      "https://wals.info/languoid/lect/wals_code_koy\n",
      "https://wals.info/languoid/lect/wals_code_kse\n",
      "https://wals.info/languoid/lect/wals_code_kch\n",
      "https://wals.info/languoid/lect/wals_code_kyn\n",
      "https://wals.info/languoid/lect/wals_code_kpa\n",
      "https://wals.info/languoid/lect/wals_code_kpe\n",
      "https://wals.info/languoid/lect/wals_code_kpo\n",
      "https://wals.info/languoid/lect/wals_code_krh\n",
      "https://wals.info/languoid/lect/wals_code_kqq\n",
      "https://wals.info/languoid/lect/wals_code_kre\n",
      "https://wals.info/languoid/lect/wals_code_kfc\n",
      "https://wals.info/languoid/lect/wals_code_knq\n",
      "https://wals.info/languoid/lect/wals_code_kro\n",
      "https://wals.info/languoid/lect/wals_code_kym\n",
      "https://wals.info/languoid/lect/wals_code_krz\n",
      "https://wals.info/languoid/lect/wals_code_ksi\n",
      "https://wals.info/languoid/lect/wals_code_kua\n",
      "https://wals.info/languoid/lect/wals_code_knc\n",
      "https://wals.info/languoid/lect/wals_code_kui\n",
      "https://wals.info/languoid/lect/wals_code_kiu\n",
      "https://wals.info/languoid/lect/wals_code_kkq\n",
      "https://wals.info/languoid/lect/wals_code_kuk\n",
      "https://wals.info/languoid/lect/wals_code_kya\n",
      "https://wals.info/languoid/lect/wals_code_kuz\n",
      "https://wals.info/languoid/lect/wals_code_kul\n",
      "https://wals.info/languoid/lect/wals_code_klg\n",
      "https://wals.info/languoid/lect/wals_code_kmn\n",
      "https://wals.info/languoid/lect/wals_code_kum\n",
      "https://wals.info/languoid/lect/wals_code_kuq\n",
      "https://wals.info/languoid/lect/wals_code_kun\n",
      "https://wals.info/languoid/lect/wals_code_knm\n",
      "https://wals.info/languoid/lect/wals_code_kmp\n",
      "https://wals.info/languoid/lect/wals_code_kjn\n",
      "https://wals.info/languoid/lect/wals_code_kug\n",
      "https://wals.info/languoid/lect/wals_code_kuo\n",
      "https://wals.info/languoid/lect/wals_code_krd\n",
      "https://wals.info/languoid/lect/wals_code_kji\n",
      "https://wals.info/languoid/lect/wals_code_kur\n",
      "https://wals.info/languoid/lect/wals_code_kus\n",
      "https://wals.info/languoid/lect/wals_code_kuy\n",
      "https://wals.info/languoid/lect/wals_code_kth\n",
      "https://wals.info/languoid/lect/wals_code_kut\n",
      "https://wals.info/languoid/lect/wals_code_thy\n",
      "https://wals.info/languoid/lect/wals_code_kuu\n",
      "https://wals.info/languoid/lect/wals_code_kuv\n",
      "https://wals.info/languoid/lect/wals_code_kwa\n",
      "https://wals.info/languoid/lect/wals_code_kwk\n",
      "https://wals.info/languoid/lect/wals_code_kwr\n",
      "https://wals.info/languoid/lect/wals_code_kwm\n",
      "https://wals.info/languoid/lect/wals_code_kwn\n",
      "https://wals.info/languoid/lect/wals_code_kwz\n",
      "https://wals.info/languoid/lect/wals_code_kwb\n",
      "https://wals.info/languoid/lect/wals_code_kwo\n",
      "https://wals.info/languoid/lect/wals_code_kwt\n",
      "https://wals.info/languoid/lect/wals_code_kxo\n",
      "https://wals.info/languoid/lect/wals_code_kyk\n",
      "https://wals.info/languoid/lect/wals_code_kgy\n",
      "https://wals.info/languoid/lect/wals_code_kyq\n",
      "https://wals.info/languoid/lect/wals_code_laa\n",
      "https://wals.info/languoid/lect/wals_code_lab\n",
      "https://wals.info/languoid/lect/wals_code_lac\n",
      "https://wals.info/languoid/lect/wals_code_lch\n",
      "https://wals.info/languoid/lect/wals_code_lad\n",
      "https://wals.info/languoid/lect/wals_code_ldn\n",
      "https://wals.info/languoid/lect/wals_code_lno\n",
      "https://wals.info/languoid/lect/wals_code_laf\n",
      "https://wals.info/languoid/lect/wals_code_lag\n",
      "https://wals.info/languoid/lect/wals_code_lha\n",
      "https://wals.info/languoid/lect/wals_code_lah\n",
      "https://wals.info/languoid/lect/wals_code_lai\n",
      "https://wals.info/languoid/lect/wals_code_lak\n",
      "https://wals.info/languoid/lect/wals_code_lkt\n",
      "https://wals.info/languoid/lect/wals_code_lkk\n",
      "https://wals.info/languoid/lect/wals_code_lal\n",
      "https://wals.info/languoid/lect/wals_code_lmh\n",
      "https://wals.info/languoid/lect/wals_code_lmg\n",
      "https://wals.info/languoid/lect/wals_code_lmn\n",
      "https://wals.info/languoid/lect/wals_code_lmb\n",
      "https://wals.info/languoid/lect/wals_code_lam\n",
      "https://wals.info/languoid/lect/wals_code_lmu\n",
      "https://wals.info/languoid/lect/wals_code_lns\n",
      "https://wals.info/languoid/lect/wals_code_lmp\n",
      "https://wals.info/languoid/lect/wals_code_lla\n",
      "https://wals.info/languoid/lect/wals_code_lgi\n",
      "https://wals.info/languoid/lect/wals_code_lan\n",
      "https://wals.info/languoid/lect/wals_code_lsf\n",
      "https://wals.info/languoid/lect/wals_code_lsq\n",
      "https://wals.info/languoid/lect/wals_code_lao\n",
      "https://wals.info/languoid/lect/wals_code_lar\n",
      "https://wals.info/languoid/lect/wals_code_lrd\n",
      "https://wals.info/languoid/lect/wals_code_lrk\n",
      "https://wals.info/languoid/lect/wals_code_lat\n",
      "https://wals.info/languoid/lect/wals_code_lau\n",
      "https://wals.info/languoid/lect/wals_code_lje\n",
      "https://wals.info/languoid/lect/wals_code_lav\n",
      "https://wals.info/languoid/lect/wals_code_laz\n",
      "https://wals.info/languoid/lect/wals_code_leb\n",
      "https://wals.info/languoid/lect/wals_code_leg\n",
      "https://wals.info/languoid/lect/wals_code_agb\n",
      "https://wals.info/languoid/lect/wals_code_lec\n",
      "https://wals.info/languoid/lect/wals_code_lel\n",
      "https://wals.info/languoid/lect/wals_code_llm\n",
      "https://wals.info/languoid/lect/wals_code_len\n",
      "https://wals.info/languoid/lect/wals_code_ldu\n",
      "https://wals.info/languoid/lect/wals_code_lng\n",
      "https://wals.info/languoid/lect/wals_code_lsa\n",
      "https://wals.info/languoid/lect/wals_code_lse\n",
      "https://wals.info/languoid/lect/wals_code_lep\n",
      "https://wals.info/languoid/lect/wals_code_les\n",
      "https://wals.info/languoid/lect/wals_code_lcr\n",
      "https://wals.info/languoid/lect/wals_code_let\n",
      "https://wals.info/languoid/lect/wals_code_lew\n",
      "https://wals.info/languoid/lect/wals_code_lez\n",
      "https://wals.info/languoid/lect/wals_code_lho\n",
      "https://wals.info/languoid/lect/wals_code_lil\n",
      "https://wals.info/languoid/lect/wals_code_lim\n",
      "https://wals.info/languoid/lect/wals_code_lml\n",
      "https://wals.info/languoid/lect/wals_code_lnd\n",
      "https://wals.info/languoid/lect/wals_code_lin\n",
      "https://wals.info/languoid/lect/wals_code_lsb\n",
      "https://wals.info/languoid/lect/wals_code_lgp\n",
      "https://wals.info/languoid/lect/wals_code_lii\n",
      "https://wals.info/languoid/lect/wals_code_lnj\n",
      "https://wals.info/languoid/lect/wals_code_lis\n",
      "https://wals.info/languoid/lect/wals_code_lit\n",
      "https://wals.info/languoid/lect/wals_code_liv\n",
      "https://wals.info/languoid/lect/wals_code_lob\n",
      "https://wals.info/languoid/lect/wals_code_lgt\n",
      "https://wals.info/languoid/lect/wals_code_lok\n",
      "https://wals.info/languoid/lect/wals_code_lma\n",
      "https://wals.info/languoid/lect/wals_code_ldo\n",
      "https://wals.info/languoid/lect/wals_code_lgu\n",
      "https://wals.info/languoid/lect/wals_code_lon\n",
      "https://wals.info/languoid/lect/wals_code_lnw\n",
      "https://wals.info/languoid/lect/wals_code_lot\n",
      "https://wals.info/languoid/lect/wals_code_lou\n",
      "https://wals.info/languoid/lect/wals_code_lov\n",
      "https://wals.info/languoid/lect/wals_code_lge\n",
      "https://wals.info/languoid/lect/wals_code_loz\n",
      "https://wals.info/languoid/lect/wals_code_lu\n",
      "https://wals.info/languoid/lect/wals_code_lua\n",
      "https://wals.info/languoid/lect/wals_code_lga\n",
      "https://wals.info/languoid/lect/wals_code_luc\n",
      "https://wals.info/languoid/lect/wals_code_lda\n",
      "https://wals.info/languoid/lect/wals_code_lug\n",
      "https://wals.info/languoid/lect/wals_code_lgh\n",
      "https://wals.info/languoid/lect/wals_code_lui\n",
      "https://wals.info/languoid/lect/wals_code_lul\n",
      "https://wals.info/languoid/lect/wals_code_lum\n",
      "https://wals.info/languoid/lect/wals_code_lbu\n",
      "https://wals.info/languoid/lect/wals_code_lud\n",
      "https://wals.info/languoid/lect/wals_code_lun\n",
      "https://wals.info/languoid/lect/wals_code_luo\n",
      "https://wals.info/languoid/lect/wals_code_lur\n",
      "https://wals.info/languoid/lect/wals_code_lus\n",
      "https://wals.info/languoid/lect/wals_code_kkv\n",
      "https://wals.info/languoid/lect/wals_code_luv\n",
      "https://wals.info/languoid/lect/wals_code_jlu\n",
      "https://wals.info/languoid/lect/wals_code_lux\n",
      "https://wals.info/languoid/lect/wals_code_luy\n",
      "https://wals.info/languoid/lect/wals_code_lye\n",
      "https://wals.info/languoid/lect/wals_code_ma\n",
      "https://wals.info/languoid/lect/wals_code_mle\n",
      "https://wals.info/languoid/lect/wals_code_myn\n",
      "https://wals.info/languoid/lect/wals_code_maa\n",
      "https://wals.info/languoid/lect/wals_code_mab\n",
      "https://wals.info/languoid/lect/wals_code_mca\n",
      "https://wals.info/languoid/lect/wals_code_mcg\n",
      "https://wals.info/languoid/lect/wals_code_mcd\n",
      "https://wals.info/languoid/lect/wals_code_mch\n",
      "https://wals.info/languoid/lect/wals_code_mcn\n",
      "https://wals.info/languoid/lect/wals_code_mac\n",
      "https://wals.info/languoid/lect/wals_code_mda\n",
      "https://wals.info/languoid/lect/wals_code_mdz\n",
      "https://wals.info/languoid/lect/wals_code_mad\n",
      "https://wals.info/languoid/lect/wals_code_mdm\n",
      "https://wals.info/languoid/lect/wals_code_mdr\n",
      "https://wals.info/languoid/lect/wals_code_mae\n",
      "https://wals.info/languoid/lect/wals_code_mgh\n",
      "https://wals.info/languoid/lect/wals_code_mag\n",
      "https://wals.info/languoid/lect/wals_code_msy\n",
      "https://wals.info/languoid/lect/wals_code_mgi\n",
      "https://wals.info/languoid/lect/wals_code_mgn\n",
      "https://wals.info/languoid/lect/wals_code_mhc\n",
      "https://wals.info/languoid/lect/wals_code_mhm\n",
      "https://wals.info/languoid/lect/wals_code_mne\n",
      "https://wals.info/languoid/lect/wals_code_mpr\n",
      "https://wals.info/languoid/lect/wals_code_mrs\n",
      "https://wals.info/languoid/lect/wals_code_msn\n",
      "https://wals.info/languoid/lect/wals_code_mai\n",
      "https://wals.info/languoid/lect/wals_code_maj\n",
      "https://wals.info/languoid/lect/wals_code_mkz\n",
      "https://wals.info/languoid/lect/wals_code_mak\n",
      "https://wals.info/languoid/lect/wals_code_mkj\n",
      "https://wals.info/languoid/lect/wals_code_mks\n",
      "https://wals.info/languoid/lect/wals_code_mkl\n",
      "https://wals.info/languoid/lect/wals_code_mkd\n",
      "https://wals.info/languoid/lect/wals_code_mkw\n",
      "https://wals.info/languoid/lect/wals_code_mua\n",
      "https://wals.info/languoid/lect/wals_code_mlc\n",
      "https://wals.info/languoid/lect/wals_code_mal\n",
      "https://wals.info/languoid/lect/wals_code_mlk\n",
      "https://wals.info/languoid/lect/wals_code_mly\n",
      "https://wals.info/languoid/lect/wals_code_mym\n",
      "https://wals.info/languoid/lect/wals_code_myk\n",
      "https://wals.info/languoid/lect/wals_code_mmu\n",
      "https://wals.info/languoid/lect/wals_code_mlu\n",
      "https://wals.info/languoid/lect/wals_code_mlg\n",
      "https://wals.info/languoid/lect/wals_code_mli\n",
      "https://wals.info/languoid/lect/wals_code_mlt\n",
      "https://wals.info/languoid/lect/wals_code_mto\n",
      "https://wals.info/languoid/lect/wals_code_mam\n",
      "https://wals.info/languoid/lect/wals_code_mmn\n",
      "https://wals.info/languoid/lect/wals_code_mms\n",
      "https://wals.info/languoid/lect/wals_code_mmi\n",
      "https://wals.info/languoid/lect/wals_code_mla\n",
      "https://wals.info/languoid/lect/wals_code_mmw\n",
      "https://wals.info/languoid/lect/wals_code_mmp\n",
      "https://wals.info/languoid/lect/wals_code_mmv\n",
      "https://wals.info/languoid/lect/wals_code_mds\n",
      "https://wals.info/languoid/lect/wals_code_mnm\n",
      "https://wals.info/languoid/lect/wals_code_mbu\n",
      "https://wals.info/languoid/lect/wals_code_nmm\n",
      "https://wals.info/languoid/lect/wals_code_mnc\n",
      "https://wals.info/languoid/lect/wals_code_mma\n",
      "https://wals.info/languoid/lect/wals_code_mdn\n",
      "https://wals.info/languoid/lect/wals_code_mnr\n",
      "https://wals.info/languoid/lect/wals_code_mnd\n",
      "https://wals.info/languoid/lect/wals_code_mdk\n",
      "https://wals.info/languoid/lect/wals_code_mkg\n",
      "https://wals.info/languoid/lect/wals_code_mem\n",
      "https://wals.info/languoid/lect/wals_code_mmb\n",
      "https://wals.info/languoid/lect/wals_code_myi\n",
      "https://wals.info/languoid/lect/wals_code_mbt\n",
      "https://wals.info/languoid/lect/wals_code_mng\n",
      "https://wals.info/languoid/lect/wals_code_mgg\n",
      "https://wals.info/languoid/lect/wals_code_mgq\n",
      "https://wals.info/languoid/lect/wals_code_mnk\n",
      "https://wals.info/languoid/lect/wals_code_maw\n",
      "https://wals.info/languoid/lect/wals_code_mjk\n",
      "https://wals.info/languoid/lect/wals_code_mkn\n",
      "https://wals.info/languoid/lect/wals_code_mkq\n",
      "https://wals.info/languoid/lect/wals_code_man\n",
      "https://wals.info/languoid/lect/wals_code_mwb\n",
      "https://wals.info/languoid/lect/wals_code_mns\n",
      "https://wals.info/languoid/lect/wals_code_mnj\n",
      "https://wals.info/languoid/lect/wals_code_mnx\n",
      "https://wals.info/languoid/lect/wals_code_mao\n",
      "https://wals.info/languoid/lect/wals_code_mpy\n",
      "https://wals.info/languoid/lect/wals_code_map\n",
      "https://wals.info/languoid/lect/wals_code_mra\n",
      "https://wals.info/languoid/lect/wals_code_mrn\n",
      "https://wals.info/languoid/lect/wals_code_mku\n",
      "https://wals.info/languoid/lect/wals_code_mhi\n",
      "https://wals.info/languoid/lect/wals_code_mrc\n",
      "https://wals.info/languoid/lect/wals_code_mny\n",
      "https://wals.info/languoid/lect/wals_code_mrg\n",
      "https://wals.info/languoid/lect/wals_code_mar\n",
      "https://wals.info/languoid/lect/wals_code_mah\n",
      "https://wals.info/languoid/lect/wals_code_mme\n",
      "https://wals.info/languoid/lect/wals_code_mrd\n",
      "https://wals.info/languoid/lect/wals_code_mav\n",
      "https://wals.info/languoid/lect/wals_code_mrr\n",
      "https://wals.info/languoid/lect/wals_code_mrq\n",
      "https://wals.info/languoid/lect/wals_code_mrh\n",
      "https://wals.info/languoid/lect/wals_code_msh\n",
      "https://wals.info/languoid/lect/wals_code_mqc\n",
      "https://wals.info/languoid/lect/wals_code_mrt\n",
      "https://wals.info/languoid/lect/wals_code_mwa\n",
      "https://wals.info/languoid/lect/wals_code_mru\n",
      "https://wals.info/languoid/lect/wals_code_mas\n",
      "https://wals.info/languoid/lect/wals_code_msk\n",
      "https://wals.info/languoid/lect/wals_code_msl\n",
      "https://wals.info/languoid/lect/wals_code_mtt\n",
      "https://wals.info/languoid/lect/wals_code_mts\n",
      "https://wals.info/languoid/lect/wals_code_mdl\n",
      "https://wals.info/languoid/lect/wals_code_myr\n",
      "https://wals.info/languoid/lect/wals_code_mtl\n",
      "https://wals.info/languoid/lect/wals_code_mtk\n",
      "https://wals.info/languoid/lect/wals_code_mtb\n",
      "https://wals.info/languoid/lect/wals_code_mka\n",
      "https://wals.info/languoid/lect/wals_code_mau\n",
      "https://wals.info/languoid/lect/wals_code_mcr\n",
      "https://wals.info/languoid/lect/wals_code_mwc\n",
      "https://wals.info/languoid/lect/wals_code_max\n",
      "https://wals.info/languoid/lect/wals_code_mya\n",
      "https://wals.info/languoid/lect/wals_code_sum\n",
      "https://wals.info/languoid/lect/wals_code_may\n",
      "https://wals.info/languoid/lect/wals_code_myy\n",
      "https://wals.info/languoid/lect/wals_code_myo\n",
      "https://wals.info/languoid/lect/wals_code_myg\n",
      "https://wals.info/languoid/lect/wals_code_maz\n",
      "https://wals.info/languoid/lect/wals_code_mzn\n",
      "https://wals.info/languoid/lect/wals_code_mzc\n",
      "https://wals.info/languoid/lect/wals_code_mzh\n",
      "https://wals.info/languoid/lect/wals_code_mba\n",
      "https://wals.info/languoid/lect/wals_code_mbb\n",
      "https://wals.info/languoid/lect/wals_code_mhu\n",
      "https://wals.info/languoid/lect/wals_code_mbr\n",
      "https://wals.info/languoid/lect/wals_code_mby\n",
      "https://wals.info/languoid/lect/wals_code_mbz\n",
      "https://wals.info/languoid/lect/wals_code_mbe\n",
      "https://wals.info/languoid/lect/wals_code_mbi\n",
      "https://wals.info/languoid/lect/wals_code_mdo\n",
      "https://wals.info/languoid/lect/wals_code_mbl\n",
      "https://wals.info/languoid/lect/wals_code_mdw\n",
      "https://wals.info/languoid/lect/wals_code_mbg\n",
      "https://wals.info/languoid/lect/wals_code_mbm\n",
      "https://wals.info/languoid/lect/wals_code_mee\n",
      "https://wals.info/languoid/lect/wals_code_mhk\n",
      "https://wals.info/languoid/lect/wals_code_meh\n",
      "https://wals.info/languoid/lect/wals_code_mei\n",
      "https://wals.info/languoid/lect/wals_code_mek\n",
      "https://wals.info/languoid/lect/wals_code_mke\n",
      "https://wals.info/languoid/lect/wals_code_mel\n",
      "https://wals.info/languoid/lect/wals_code_meb\n",
      "https://wals.info/languoid/lect/wals_code_mde\n",
      "https://wals.info/languoid/lect/wals_code_men\n",
      "https://wals.info/languoid/lect/wals_code_mnt\n",
      "https://wals.info/languoid/lect/wals_code_mta\n",
      "https://wals.info/languoid/lect/wals_code_mey\n",
      "https://wals.info/languoid/lect/wals_code_mer\n",
      "https://wals.info/languoid/lect/wals_code_mea\n",
      "https://wals.info/languoid/lect/wals_code_mpt\n",
      "https://wals.info/languoid/lect/wals_code_mcf\n",
      "https://wals.info/languoid/lect/wals_code_mic\n",
      "https://wals.info/languoid/lect/wals_code_mid\n",
      "https://wals.info/languoid/lect/wals_code_mie\n",
      "https://wals.info/languoid/lect/wals_code_mig\n",
      "https://wals.info/languoid/lect/wals_code_mii\n",
      "https://wals.info/languoid/lect/wals_code_mij\n",
      "https://wals.info/languoid/lect/wals_code_mkr\n",
      "https://wals.info/languoid/lect/wals_code_mki\n",
      "https://wals.info/languoid/lect/wals_code_mik\n",
      "https://wals.info/languoid/lect/wals_code_mil\n",
      "https://wals.info/languoid/lect/wals_code_hna\n",
      "https://wals.info/languoid/lect/wals_code_min\n",
      "https://wals.info/languoid/lect/wals_code_mnv\n",
      "https://wals.info/languoid/lect/wals_code_mgl\n",
      "https://wals.info/languoid/lect/wals_code_hok\n",
      "https://wals.info/languoid/lect/wals_code_mhl\n",
      "https://wals.info/languoid/lect/wals_code_mir\n",
      "https://wals.info/languoid/lect/wals_code_mrj\n",
      "https://wals.info/languoid/lect/wals_code_msg\n",
      "https://wals.info/languoid/lect/wals_code_mis\n",
      "https://wals.info/languoid/lect/wals_code_mce\n",
      "https://wals.info/languoid/lect/wals_code_mit\n",
      "https://wals.info/languoid/lect/wals_code_mkb\n",
      "https://wals.info/languoid/lect/wals_code_mcs\n",
      "https://wals.info/languoid/lect/wals_code_mwl\n",
      "https://wals.info/languoid/lect/wals_code_mwn\n",
      "https://wals.info/languoid/lect/wals_code_mwp\n",
      "https://wals.info/languoid/lect/wals_code_mss\n",
      "https://wals.info/languoid/lect/wals_code_mxx\n",
      "https://wals.info/languoid/lect/wals_code_mco\n",
      "https://wals.info/languoid/lect/wals_code_mth\n",
      "https://wals.info/languoid/lect/wals_code_mtp\n",
      "https://wals.info/languoid/lect/wals_code_mxl\n",
      "https://wals.info/languoid/lect/wals_code_mxa\n",
      "https://wals.info/languoid/lect/wals_code_mxt\n",
      "https://wals.info/languoid/lect/wals_code_mxc\n",
      "https://wals.info/languoid/lect/wals_code_mxu\n",
      "https://wals.info/languoid/lect/wals_code_mxz\n",
      "https://wals.info/languoid/lect/wals_code_mja\n",
      "https://wals.info/languoid/lect/wals_code_mxj\n",
      "https://wals.info/languoid/lect/wals_code_mxm\n",
      "https://wals.info/languoid/lect/wals_code_mxo\n",
      "https://wals.info/languoid/lect/wals_code_mxp\n",
      "https://wals.info/languoid/lect/wals_code_mjc\n",
      "https://wals.info/languoid/lect/wals_code_mxg\n",
      "https://wals.info/languoid/lect/wals_code_mxs\n",
      "https://wals.info/languoid/lect/wals_code_mxy\n",
      "https://wals.info/languoid/lect/wals_code_miy\n",
      "https://wals.info/languoid/lect/wals_code_miz\n",
      "https://wals.info/languoid/lect/wals_code_mlm\n",
      "https://wals.info/languoid/lect/wals_code_moc\n",
      "https://wals.info/languoid/lect/wals_code_mcc\n",
      "https://wals.info/languoid/lect/wals_code_mcv\n",
      "https://wals.info/languoid/lect/wals_code_mof\n",
      "https://wals.info/languoid/lect/wals_code_mog\n",
      "https://wals.info/languoid/lect/wals_code_moh\n",
      "https://wals.info/languoid/lect/wals_code_moj\n",
      "https://wals.info/languoid/lect/wals_code_mok\n",
      "https://wals.info/languoid/lect/wals_code_mko\n",
      "https://wals.info/languoid/lect/wals_code_mll\n",
      "https://wals.info/languoid/lect/wals_code_mol\n",
      "https://wals.info/languoid/lect/wals_code_mom\n",
      "https://wals.info/languoid/lect/wals_code_fqs\n",
      "https://wals.info/languoid/lect/wals_code_mqf\n",
      "https://wals.info/languoid/lect/wals_code_mon\n",
      "https://wals.info/languoid/lect/wals_code_mga\n",
      "https://wals.info/languoid/lect/wals_code_mgo\n",
      "https://wals.info/languoid/lect/wals_code_mkh\n",
      "https://wals.info/languoid/lect/wals_code_mgd\n",
      "https://wals.info/languoid/lect/wals_code_mni\n",
      "https://wals.info/languoid/lect/wals_code_moa\n",
      "https://wals.info/languoid/lect/wals_code_mno\n",
      "https://wals.info/languoid/lect/wals_code_mtg\n",
      "https://wals.info/languoid/lect/wals_code_mbo\n",
      "https://wals.info/languoid/lect/wals_code_moo\n",
      "https://wals.info/languoid/lect/wals_code_mop\n",
      "https://wals.info/languoid/lect/wals_code_mor\n",
      "https://wals.info/languoid/lect/wals_code_mri\n",
      "https://wals.info/languoid/lect/wals_code_moe\n",
      "https://wals.info/languoid/lect/wals_code_mmo\n",
      "https://wals.info/languoid/lect/wals_code_mro\n",
      "https://wals.info/languoid/lect/wals_code_mou\n",
      "https://wals.info/languoid/lect/wals_code_mos\n",
      "https://wals.info/languoid/lect/wals_code_mtu\n",
      "https://wals.info/languoid/lect/wals_code_mot\n",
      "https://wals.info/languoid/lect/wals_code_mov\n",
      "https://wals.info/languoid/lect/wals_code_mpo\n",
      "https://wals.info/languoid/lect/wals_code_mpu\n",
      "https://wals.info/languoid/lect/wals_code_mdb\n",
      "https://wals.info/languoid/lect/wals_code_aoj\n",
      "https://wals.info/languoid/lect/wals_code_muh\n",
      "https://wals.info/languoid/lect/wals_code_mui\n",
      "https://wals.info/languoid/lect/wals_code_msc\n",
      "https://wals.info/languoid/lect/wals_code_mul\n",
      "https://wals.info/languoid/lect/wals_code_mum\n",
      "https://wals.info/languoid/lect/wals_code_mnu\n",
      "https://wals.info/languoid/lect/wals_code_mna\n",
      "https://wals.info/languoid/lect/wals_code_mdg\n",
      "https://wals.info/languoid/lect/wals_code_mud\n",
      "https://wals.info/languoid/lect/wals_code_mun\n",
      "https://wals.info/languoid/lect/wals_code_mdu\n",
      "https://wals.info/languoid/lect/wals_code_muu\n",
      "https://wals.info/languoid/lect/wals_code_mgk\n",
      "https://wals.info/languoid/lect/wals_code_mse\n",
      "https://wals.info/languoid/lect/wals_code_mnz\n",
      "https://wals.info/languoid/lect/wals_code_muo\n",
      "https://wals.info/languoid/lect/wals_code_mup\n",
      "https://wals.info/languoid/lect/wals_code_mrk\n",
      "https://wals.info/languoid/lect/wals_code_mrl\n",
      "https://wals.info/languoid/lect/wals_code_mpa\n",
      "https://wals.info/languoid/lect/wals_code_mur\n",
      "https://wals.info/languoid/lect/wals_code_mrw\n",
      "https://wals.info/languoid/lect/wals_code_mgu\n",
      "https://wals.info/languoid/lect/wals_code_msm\n",
      "https://wals.info/languoid/lect/wals_code_msq\n",
      "https://wals.info/languoid/lect/wals_code_mus\n",
      "https://wals.info/languoid/lect/wals_code_mut\n",
      "https://wals.info/languoid/lect/wals_code_muy\n",
      "https://wals.info/languoid/lect/wals_code_mwe\n",
      "https://wals.info/languoid/lect/wals_code_mwo\n",
      "https://wals.info/languoid/lect/wals_code_nab\n",
      "https://wals.info/languoid/lect/wals_code_nad\n",
      "https://wals.info/languoid/lect/wals_code_ndr\n",
      "https://wals.info/languoid/lect/wals_code_naf\n",
      "https://wals.info/languoid/lect/wals_code_nma\n",
      "https://wals.info/languoid/lect/wals_code_npn\n",
      "https://wals.info/languoid/lect/wals_code_ngt\n",
      "https://wals.info/languoid/lect/wals_code_nag\n",
      "https://wals.info/languoid/lect/wals_code_nze\n",
      "https://wals.info/languoid/lect/wals_code_nah\n",
      "https://wals.info/languoid/lect/wals_code_nhc\n",
      "https://wals.info/languoid/lect/wals_code_nhh\n",
      "https://wals.info/languoid/lect/wals_code_nhu\n",
      "https://wals.info/languoid/lect/wals_code_nmi\n",
      "https://wals.info/languoid/lect/wals_code_nhm\n",
      "https://wals.info/languoid/lect/wals_code_nmp\n",
      "https://wals.info/languoid/lect/wals_code_nhn\n",
      "https://wals.info/languoid/lect/wals_code_npa\n",
      "https://wals.info/languoid/lect/wals_code_nhp\n",
      "https://wals.info/languoid/lect/wals_code_nsz\n",
      "https://wals.info/languoid/lect/wals_code_nht\n",
      "https://wals.info/languoid/lect/wals_code_nhx\n",
      "https://wals.info/languoid/lect/wals_code_bio\n",
      "https://wals.info/languoid/lect/wals_code_nak\n",
      "https://wals.info/languoid/lect/wals_code_nkk\n",
      "https://wals.info/languoid/lect/wals_code_nal\n",
      "https://wals.info/languoid/lect/wals_code_kho\n",
      "https://wals.info/languoid/lect/wals_code_nbb\n",
      "https://wals.info/languoid/lect/wals_code_nmb\n",
      "https://wals.info/languoid/lect/wals_code_nam\n",
      "https://wals.info/languoid/lect/wals_code_nai\n",
      "https://wals.info/languoid/lect/wals_code_nnc\n",
      "https://wals.info/languoid/lect/wals_code_nde\n",
      "https://wals.info/languoid/lect/wals_code_nan\n",
      "https://wals.info/languoid/lect/wals_code_nrg\n",
      "https://wals.info/languoid/lect/wals_code_nnk\n",
      "https://wals.info/languoid/lect/wals_code_nnt\n",
      "https://wals.info/languoid/lect/wals_code_nnm\n",
      "https://wals.info/languoid/lect/wals_code_npu\n",
      "https://wals.info/languoid/lect/wals_code_nar\n",
      "https://wals.info/languoid/lect/wals_code_nrm\n",
      "https://wals.info/languoid/lect/wals_code_nph\n",
      "https://wals.info/languoid/lect/wals_code_nas\n",
      "https://wals.info/languoid/lect/wals_code_nsk\n",
      "https://wals.info/languoid/lect/wals_code_nat\n",
      "https://wals.info/languoid/lect/wals_code_ntn\n",
      "https://wals.info/languoid/lect/wals_code_nbk\n",
      "https://wals.info/languoid/lect/wals_code_nau\n",
      "https://wals.info/languoid/lect/wals_code_nav\n",
      "https://wals.info/languoid/lect/wals_code_nax\n",
      "https://wals.info/languoid/lect/wals_code_ncm\n",
      "https://wals.info/languoid/lect/wals_code_ndb\n",
      "https://wals.info/languoid/lect/wals_code_ndj\n",
      "https://wals.info/languoid/lect/wals_code_ndg\n",
      "https://wals.info/languoid/lect/wals_code_ndo\n",
      "https://wals.info/languoid/lect/wals_code_ndu\n",
      "https://wals.info/languoid/lect/wals_code_ndt\n",
      "https://wals.info/languoid/lect/wals_code_ndy\n",
      "https://wals.info/languoid/lect/wals_code_ned\n",
      "https://wals.info/languoid/lect/wals_code_neg\n",
      "https://wals.info/languoid/lect/wals_code_neh\n",
      "https://wals.info/languoid/lect/wals_code_nel\n",
      "https://wals.info/languoid/lect/wals_code_nnd\n",
      "https://wals.info/languoid/lect/wals_code_ntu\n",
      "https://wals.info/languoid/lect/wals_code_nen\n",
      "https://wals.info/languoid/lect/wals_code_nne\n",
      "https://wals.info/languoid/lect/wals_code_naa\n",
      "https://wals.info/languoid/lect/wals_code_naj\n",
      "https://wals.info/languoid/lect/wals_code_nsy\n",
      "https://wals.info/languoid/lect/wals_code_nap\n",
      "https://wals.info/languoid/lect/wals_code_nep\n",
      "https://wals.info/languoid/lect/wals_code_nev\n",
      "https://wals.info/languoid/lect/wals_code_nwd\n",
      "https://wals.info/languoid/lect/wals_code_new\n",
      "https://wals.info/languoid/lect/wals_code_nzs\n",
      "https://wals.info/languoid/lect/wals_code_ney\n",
      "https://wals.info/languoid/lect/wals_code_nez\n",
      "https://wals.info/languoid/lect/wals_code_ntj\n",
      "https://wals.info/languoid/lect/wals_code_nbr\n",
      "https://wals.info/languoid/lect/wals_code_ngd\n",
      "https://wals.info/languoid/lect/wals_code_ngj\n",
      "https://wals.info/languoid/lect/wals_code_ngl\n",
      "https://wals.info/languoid/lect/wals_code_nkb\n",
      "https://wals.info/languoid/lect/wals_code_ngm\n",
      "https://wals.info/languoid/lect/wals_code_nga\n",
      "https://wals.info/languoid/lect/wals_code_ngn\n",
      "https://wals.info/languoid/lect/wals_code_ngg\n",
      "https://wals.info/languoid/lect/wals_code_ngk\n",
      "https://wals.info/languoid/lect/wals_code_ngr\n",
      "https://wals.info/languoid/lect/wals_code_ngy\n",
      "https://wals.info/languoid/lect/wals_code_nlr\n",
      "https://wals.info/languoid/lect/wals_code_nlu\n",
      "https://wals.info/languoid/lect/wals_code_ngw\n",
      "https://wals.info/languoid/lect/wals_code_nbm\n",
      "https://wals.info/languoid/lect/wals_code_ngb\n",
      "https://wals.info/languoid/lect/wals_code_ndi\n",
      "https://wals.info/languoid/lect/wals_code_nge\n",
      "https://wals.info/languoid/lect/wals_code_nti\n",
      "https://wals.info/languoid/lect/wals_code_ngi\n",
      "https://wals.info/languoid/lect/wals_code_ngz\n",
      "https://wals.info/languoid/lect/wals_code_nbe\n",
      "https://wals.info/languoid/lect/wals_code_ngo\n",
      "https://wals.info/languoid/lect/wals_code_ngu\n",
      "https://wals.info/languoid/lect/wals_code_nha\n",
      "https://wals.info/languoid/lect/wals_code_nro\n",
      "https://wals.info/languoid/lect/wals_code_nia\n",
      "https://wals.info/languoid/lect/wals_code_nic\n",
      "https://wals.info/languoid/lect/wals_code_nca\n",
      "https://wals.info/languoid/lect/wals_code_npi\n",
      "https://wals.info/languoid/lect/wals_code_nih\n",
      "https://wals.info/languoid/lect/wals_code_nim\n",
      "https://wals.info/languoid/lect/wals_code_nin\n",
      "https://wals.info/languoid/lect/wals_code_nsn\n",
      "https://wals.info/languoid/lect/wals_code_nsg\n",
      "https://wals.info/languoid/lect/wals_code_nit\n",
      "https://wals.info/languoid/lect/wals_code_nif\n",
      "https://wals.info/languoid/lect/wals_code_niu\n",
      "https://wals.info/languoid/lect/wals_code_chu\n",
      "https://wals.info/languoid/lect/wals_code_niv\n",
      "https://wals.info/languoid/lect/wals_code_nvs\n",
      "https://wals.info/languoid/lect/wals_code_nke\n",
      "https://wals.info/languoid/lect/wals_code_nkn\n",
      "https://wals.info/languoid/lect/wals_code_nko\n",
      "https://wals.info/languoid/lect/wals_code_nob\n",
      "https://wals.info/languoid/lect/wals_code_noc\n",
      "https://wals.info/languoid/lect/wals_code_nog\n",
      "https://wals.info/languoid/lect/wals_code_nok\n",
      "https://wals.info/languoid/lect/wals_code_nom\n",
      "https://wals.info/languoid/lect/wals_code_non\n",
      "https://wals.info/languoid/lect/wals_code_noo\n",
      "https://wals.info/languoid/lect/wals_code_nte\n",
      "https://wals.info/languoid/lect/wals_code_nor\n",
      "https://wals.info/languoid/lect/wals_code_nse\n",
      "https://wals.info/languoid/lect/wals_code_nto\n",
      "https://wals.info/languoid/lect/wals_code_nua\n",
      "https://wals.info/languoid/lect/wals_code_nub\n",
      "https://wals.info/languoid/lect/wals_code_nbd\n",
      "https://wals.info/languoid/lect/wals_code_nku\n",
      "https://wals.info/languoid/lect/wals_code_nue\n",
      "https://wals.info/languoid/lect/wals_code_nuk\n",
      "https://wals.info/languoid/lect/wals_code_nkr\n",
      "https://wals.info/languoid/lect/wals_code_nug\n",
      "https://wals.info/languoid/lect/wals_code_nun\n",
      "https://wals.info/languoid/lect/wals_code_nnn\n",
      "https://wals.info/languoid/lect/wals_code_yi\n",
      "https://wals.info/languoid/lect/wals_code_nup\n",
      "https://wals.info/languoid/lect/wals_code_nus\n",
      "https://wals.info/languoid/lect/wals_code_nuu\n",
      "https://wals.info/languoid/lect/wals_code_nkt\n",
      "https://wals.info/languoid/lect/wals_code_nly\n",
      "https://wals.info/languoid/lect/wals_code_nbo\n",
      "https://wals.info/languoid/lect/wals_code_nyk\n",
      "https://wals.info/languoid/lect/wals_code_nym\n",
      "https://wals.info/languoid/lect/wals_code_nng\n",
      "https://wals.info/languoid/lect/wals_code_nyg\n",
      "https://wals.info/languoid/lect/wals_code_nyr\n",
      "https://wals.info/languoid/lect/wals_code_nya\n",
      "https://wals.info/languoid/lect/wals_code_nyl\n",
      "https://wals.info/languoid/lect/wals_code_nyn\n",
      "https://wals.info/languoid/lect/wals_code_nyh\n",
      "https://wals.info/languoid/lect/wals_code_nyi\n",
      "https://wals.info/languoid/lect/wals_code_nis\n",
      "https://wals.info/languoid/lect/wals_code_nyu\n",
      "https://wals.info/languoid/lect/wals_code_nju\n",
      "https://wals.info/languoid/lect/wals_code_nza\n",
      "https://wals.info/languoid/lect/wals_code_obk\n",
      "https://wals.info/languoid/lect/wals_code_obo\n",
      "https://wals.info/languoid/lect/wals_code_oca\n",
      "https://wals.info/languoid/lect/wals_code_occ\n",
      "https://wals.info/languoid/lect/wals_code_ocu\n",
      "https://wals.info/languoid/lect/wals_code_ogb\n",
      "https://wals.info/languoid/lect/wals_code_obg\n",
      "https://wals.info/languoid/lect/wals_code_oi\n",
      "https://wals.info/languoid/lect/wals_code_oir\n",
      "https://wals.info/languoid/lect/wals_code_oji\n",
      "https://wals.info/languoid/lect/wals_code_ojs\n",
      "https://wals.info/languoid/lect/wals_code_ojm\n",
      "https://wals.info/languoid/lect/wals_code_oka\n",
      "https://wals.info/languoid/lect/wals_code_oks\n",
      "https://wals.info/languoid/lect/wals_code_oku\n",
      "https://wals.info/languoid/lect/wals_code_olo\n",
      "https://wals.info/languoid/lect/wals_code_olm\n",
      "https://wals.info/languoid/lect/wals_code_olu\n",
      "https://wals.info/languoid/lect/wals_code_oma\n",
      "https://wals.info/languoid/lect/wals_code_omh\n",
      "https://wals.info/languoid/lect/wals_code_omi\n",
      "https://wals.info/languoid/lect/wals_code_one\n",
      "https://wals.info/languoid/lect/wals_code_ond\n",
      "https://wals.info/languoid/lect/wals_code_ong\n",
      "https://wals.info/languoid/lect/wals_code_ono\n",
      "https://wals.info/languoid/lect/wals_code_onn\n",
      "https://wals.info/languoid/lect/wals_code_ood\n",
      "https://wals.info/languoid/lect/wals_code_ord\n",
      "https://wals.info/languoid/lect/wals_code_ore\n",
      "https://wals.info/languoid/lect/wals_code_ori\n",
      "https://wals.info/languoid/lect/wals_code_oya\n",
      "https://wals.info/languoid/lect/wals_code_oko\n",
      "https://wals.info/languoid/lect/wals_code_orm\n",
      "https://wals.info/languoid/lect/wals_code_orc\n",
      "https://wals.info/languoid/lect/wals_code_ork\n",
      "https://wals.info/languoid/lect/wals_code_oro\n",
      "https://wals.info/languoid/lect/wals_code_orl\n",
      "https://wals.info/languoid/lect/wals_code_orb\n",
      "https://wals.info/languoid/lect/wals_code_orh\n",
      "https://wals.info/languoid/lect/wals_code_orw\n",
      "https://wals.info/languoid/lect/wals_code_owc\n",
      "https://wals.info/languoid/lect/wals_code_ory\n",
      "https://wals.info/languoid/lect/wals_code_osa\n",
      "https://wals.info/languoid/lect/wals_code_oss\n",
      "https://wals.info/languoid/lect/wals_code_oto\n",
      "https://wals.info/languoid/lect/wals_code_oix\n",
      "https://wals.info/languoid/lect/wals_code_otm\n",
      "https://wals.info/languoid/lect/wals_code_osm\n",
      "https://wals.info/languoid/lect/wals_code_ots\n",
      "https://wals.info/languoid/lect/wals_code_otr\n",
      "https://wals.info/languoid/lect/wals_code_owi\n",
      "https://wals.info/languoid/lect/wals_code_paa\n",
      "https://wals.info/languoid/lect/wals_code_pkn\n",
      "https://wals.info/languoid/lect/wals_code_pms\n",
      "https://wals.info/languoid/lect/wals_code_pac\n",
      "https://wals.info/languoid/lect/wals_code_pad\n",
      "https://wals.info/languoid/lect/wals_code_pae\n",
      "https://wals.info/languoid/lect/wals_code_pag\n",
      "https://wals.info/languoid/lect/wals_code_pta\n",
      "https://wals.info/languoid/lect/wals_code_pte\n",
      "https://wals.info/languoid/lect/wals_code_pno\n",
      "https://wals.info/languoid/lect/wals_code_put\n",
      "https://wals.info/languoid/lect/wals_code_pai\n",
      "https://wals.info/languoid/lect/wals_code_pak\n",
      "https://wals.info/languoid/lect/wals_code_pal\n",
      "https://wals.info/languoid/lect/wals_code_plg\n",
      "https://wals.info/languoid/lect/wals_code_plk\n",
      "https://wals.info/languoid/lect/wals_code_plr\n",
      "https://wals.info/languoid/lect/wals_code_pam\n",
      "https://wals.info/languoid/lect/wals_code_pna\n",
      "https://wals.info/languoid/lect/wals_code_pnx\n",
      "https://wals.info/languoid/lect/wals_code_pnr\n",
      "https://wals.info/languoid/lect/wals_code_pnn\n",
      "https://wals.info/languoid/lect/wals_code_png\n",
      "https://wals.info/languoid/lect/wals_code_pan\n",
      "https://wals.info/languoid/lect/wals_code_pny\n",
      "https://wals.info/languoid/lect/wals_code_pap\n",
      "https://wals.info/languoid/lect/wals_code_puk\n",
      "https://wals.info/languoid/lect/wals_code_pre\n",
      "https://wals.info/languoid/lect/wals_code_prc\n",
      "https://wals.info/languoid/lect/wals_code_par\n",
      "https://wals.info/languoid/lect/wals_code_prd\n",
      "https://wals.info/languoid/lect/wals_code_psh\n",
      "https://wals.info/languoid/lect/wals_code_psm\n",
      "https://wals.info/languoid/lect/wals_code_pat\n",
      "https://wals.info/languoid/lect/wals_code_ptp\n",
      "https://wals.info/languoid/lect/wals_code_ptt\n",
      "https://wals.info/languoid/lect/wals_code_ptw\n",
      "https://wals.info/languoid/lect/wals_code_plh\n",
      "https://wals.info/languoid/lect/wals_code_pau\n",
      "https://wals.info/languoid/lect/wals_code_paw\n",
      "https://wals.info/languoid/lect/wals_code_pwn\n",
      "https://wals.info/languoid/lect/wals_code_pec\n",
      "https://wals.info/languoid/lect/wals_code_pem\n",
      "https://wals.info/languoid/lect/wals_code_pen\n",
      "https://wals.info/languoid/lect/wals_code_per\n",
      "https://wals.info/languoid/lect/wals_code_prs\n",
      "https://wals.info/languoid/lect/wals_code_phl\n",
      "https://wals.info/languoid/lect/wals_code_ppc\n",
      "https://wals.info/languoid/lect/wals_code_pia\n",
      "https://wals.info/languoid/lect/wals_code_pga\n",
      "https://wals.info/languoid/lect/wals_code_pil\n",
      "https://wals.info/languoid/lect/wals_code_pba\n",
      "https://wals.info/languoid/lect/wals_code_pgl\n",
      "https://wals.info/languoid/lect/wals_code_pin\n",
      "https://wals.info/languoid/lect/wals_code_pip\n",
      "https://wals.info/languoid/lect/wals_code_prh\n",
      "https://wals.info/languoid/lect/wals_code_prt\n",
      "https://wals.info/languoid/lect/wals_code_pir\n",
      "https://wals.info/languoid/lect/wals_code_pis\n",
      "https://wals.info/languoid/lect/wals_code_pit\n",
      "https://wals.info/languoid/lect/wals_code_ppi\n",
      "https://wals.info/languoid/lect/wals_code_psl\n",
      "https://wals.info/languoid/lect/wals_code_pla\n",
      "https://wals.info/languoid/lect/wals_code_poa\n",
      "https://wals.info/languoid/lect/wals_code_pod\n",
      "https://wals.info/languoid/lect/wals_code_pog\n",
      "https://wals.info/languoid/lect/wals_code_poh\n",
      "https://wals.info/languoid/lect/wals_code_pkm\n",
      "https://wals.info/languoid/lect/wals_code_pok\n",
      "https://wals.info/languoid/lect/wals_code_pkt\n",
      "https://wals.info/languoid/lect/wals_code_plb\n",
      "https://wals.info/languoid/lect/wals_code_pol\n",
      "https://wals.info/languoid/lect/wals_code_pmc\n",
      "https://wals.info/languoid/lect/wals_code_pme\n",
      "https://wals.info/languoid/lect/wals_code_pmn\n",
      "https://wals.info/languoid/lect/wals_code_pso\n",
      "https://wals.info/languoid/lect/wals_code_pop\n",
      "https://wals.info/languoid/lect/wals_code_psj\n",
      "https://wals.info/languoid/lect/wals_code_psv\n",
      "https://wals.info/languoid/lect/wals_code_zqs\n",
      "https://wals.info/languoid/lect/wals_code_pcm\n",
      "https://wals.info/languoid/lect/wals_code_psw\n",
      "https://wals.info/languoid/lect/wals_code_por\n",
      "https://wals.info/languoid/lect/wals_code_pot\n",
      "https://wals.info/languoid/lect/wals_code_pow\n",
      "https://wals.info/languoid/lect/wals_code_pra\n",
      "https://wals.info/languoid/lect/wals_code_pri\n",
      "https://wals.info/languoid/lect/wals_code_pro\n",
      "https://wals.info/languoid/lect/wals_code_pui\n",
      "https://wals.info/languoid/lect/wals_code_plp\n",
      "https://wals.info/languoid/lect/wals_code_pul\n",
      "https://wals.info/languoid/lect/wals_code_pum\n",
      "https://wals.info/languoid/lect/wals_code_pun\n",
      "https://wals.info/languoid/lect/wals_code_puq\n",
      "https://wals.info/languoid/lect/wals_code_pur\n",
      "https://wals.info/languoid/lect/wals_code_prk\n",
      "https://wals.info/languoid/lect/wals_code_qaf\n",
      "https://wals.info/languoid/lect/wals_code_bng\n",
      "https://wals.info/languoid/lect/wals_code_qaw\n",
      "https://wals.info/languoid/lect/wals_code_qia\n",
      "https://wals.info/languoid/lect/wals_code_que\n",
      "https://wals.info/languoid/lect/wals_code_qan\n",
      "https://wals.info/languoid/lect/wals_code_qay\n",
      "https://wals.info/languoid/lect/wals_code_qbo\n",
      "https://wals.info/languoid/lect/wals_code_qca\n",
      "https://wals.info/languoid/lect/wals_code_qco\n",
      "https://wals.info/languoid/lect/wals_code_qcu\n",
      "https://wals.info/languoid/lect/wals_code_qec\n",
      "https://wals.info/languoid/lect/wals_code_qhu\n",
      "https://wals.info/languoid/lect/wals_code_qim\n",
      "https://wals.info/languoid/lect/wals_code_qta\n",
      "https://wals.info/languoid/lect/wals_code_qch\n",
      "https://wals.info/languoid/lect/wals_code_qui\n",
      "https://wals.info/languoid/lect/wals_code_rad\n",
      "https://wals.info/languoid/lect/wals_code_rag\n",
      "https://wals.info/languoid/lect/wals_code_rji\n",
      "https://wals.info/languoid/lect/wals_code_ral\n",
      "https://wals.info/languoid/lect/wals_code_ram\n",
      "https://wals.info/languoid/lect/wals_code_rpa\n",
      "https://wals.info/languoid/lect/wals_code_rao\n",
      "https://wals.info/languoid/lect/wals_code_rap\n",
      "https://wals.info/languoid/lect/wals_code_ras\n",
      "https://wals.info/languoid/lect/wals_code_rwa\n",
      "https://wals.info/languoid/lect/wals_code_raw\n",
      "https://wals.info/languoid/lect/wals_code_rej\n",
      "https://wals.info/languoid/lect/wals_code_rmb\n",
      "https://wals.info/languoid/lect/wals_code_rem\n",
      "https://wals.info/languoid/lect/wals_code_ren\n",
      "https://wals.info/languoid/lect/wals_code_rng\n",
      "https://wals.info/languoid/lect/wals_code_rnn\n",
      "https://wals.info/languoid/lect/wals_code_res\n",
      "https://wals.info/languoid/lect/wals_code_ret\n",
      "https://wals.info/languoid/lect/wals_code_rgc\n",
      "https://wals.info/languoid/lect/wals_code_ria\n",
      "https://wals.info/languoid/lect/wals_code_rik\n",
      "https://wals.info/languoid/lect/wals_code_rim\n",
      "https://wals.info/languoid/lect/wals_code_rit\n",
      "https://wals.info/languoid/lect/wals_code_rgn\n",
      "https://wals.info/languoid/lect/wals_code_rav\n",
      "https://wals.info/languoid/lect/wals_code_rom\n",
      "https://wals.info/languoid/lect/wals_code_rbu\n",
      "https://wals.info/languoid/lect/wals_code_rbg\n",
      "https://wals.info/languoid/lect/wals_code_rka\n",
      "https://wals.info/languoid/lect/wals_code_rlo\n",
      "https://wals.info/languoid/lect/wals_code_rnr\n",
      "https://wals.info/languoid/lect/wals_code_rse\n",
      "https://wals.info/languoid/lect/wals_code_rwe\n",
      "https://wals.info/languoid/lect/wals_code_rmc\n",
      "https://wals.info/languoid/lect/wals_code_rsc\n",
      "https://wals.info/languoid/lect/wals_code_rsm\n",
      "https://wals.info/languoid/lect/wals_code_rsu\n",
      "https://wals.info/languoid/lect/wals_code_ron\n",
      "https://wals.info/languoid/lect/wals_code_rga\n",
      "https://wals.info/languoid/lect/wals_code_ror\n",
      "https://wals.info/languoid/lect/wals_code_rti\n",
      "https://wals.info/languoid/lect/wals_code_rtk\n",
      "https://wals.info/languoid/lect/wals_code_rot\n",
      "https://wals.info/languoid/lect/wals_code_rov\n",
      "https://wals.info/languoid/lect/wals_code_ruk\n",
      "https://wals.info/languoid/lect/wals_code_cos\n",
      "https://wals.info/languoid/lect/wals_code_rum\n",
      "https://wals.info/languoid/lect/wals_code_rnd\n",
      "https://wals.info/languoid/lect/wals_code_run\n",
      "https://wals.info/languoid/lect/wals_code_rny\n",
      "https://wals.info/languoid/lect/wals_code_rru\n",
      "https://wals.info/languoid/lect/wals_code_rus\n",
      "https://wals.info/languoid/lect/wals_code_rcp\n",
      "https://wals.info/languoid/lect/wals_code_rsl\n",
      "https://wals.info/languoid/lect/wals_code_rut\n",
      "https://wals.info/languoid/lect/wals_code_saa\n",
      "https://wals.info/languoid/lect/wals_code_scs\n",
      "https://wals.info/languoid/lect/wals_code_ski\n",
      "https://wals.info/languoid/lect/wals_code_sno\n",
      "https://wals.info/languoid/lect/wals_code_sch\n",
      "https://wals.info/languoid/lect/wals_code_sab\n",
      "https://wals.info/languoid/lect/wals_code_sae\n",
      "https://wals.info/languoid/lect/wals_code_shp\n",
      "https://wals.info/languoid/lect/wals_code_smt\n",
      "https://wals.info/languoid/lect/wals_code_sao\n",
      "https://wals.info/languoid/lect/wals_code_sah\n",
      "https://wals.info/languoid/lect/wals_code_sak\n",
      "https://wals.info/languoid/lect/wals_code_slr\n",
      "https://wals.info/languoid/lect/wals_code_sba\n",
      "https://wals.info/languoid/lect/wals_code_slb\n",
      "https://wals.info/languoid/lect/wals_code_sal\n",
      "https://wals.info/languoid/lect/wals_code_sss\n",
      "https://wals.info/languoid/lect/wals_code_sps\n",
      "https://wals.info/languoid/lect/wals_code_sst\n",
      "https://wals.info/languoid/lect/wals_code_syu\n",
      "https://wals.info/languoid/lect/wals_code_sbg\n",
      "https://wals.info/languoid/lect/wals_code_bjs\n",
      "https://wals.info/languoid/lect/wals_code_sle\n",
      "https://wals.info/languoid/lect/wals_code_nmd\n",
      "https://wals.info/languoid/lect/wals_code_sam\n",
      "https://wals.info/languoid/lect/wals_code_sdw\n",
      "https://wals.info/languoid/lect/wals_code_sgr\n",
      "https://wals.info/languoid/lect/wals_code_san\n",
      "https://wals.info/languoid/lect/wals_code_sgu\n",
      "https://wals.info/languoid/lect/wals_code_sta\n",
      "https://wals.info/languoid/lect/wals_code_stl\n",
      "https://wals.info/languoid/lect/wals_code_snm\n",
      "https://wals.info/languoid/lect/wals_code_sap\n",
      "https://wals.info/languoid/lect/wals_code_srm\n",
      "https://wals.info/languoid/lect/wals_code_src\n",
      "https://wals.info/languoid/lect/wals_code_srd\n",
      "https://wals.info/languoid/lect/wals_code_sar\n",
      "https://wals.info/languoid/lect/wals_code_syg\n",
      "https://wals.info/languoid/lect/wals_code_sav\n",
      "https://wals.info/languoid/lect/wals_code_svs\n",
      "https://wals.info/languoid/lect/wals_code_swi\n",
      "https://wals.info/languoid/lect/wals_code_saw\n",
      "https://wals.info/languoid/lect/wals_code_say\n",
      "https://wals.info/languoid/lect/wals_code_seb\n",
      "https://wals.info/languoid/lect/wals_code_sec\n",
      "https://wals.info/languoid/lect/wals_code_sed\n",
      "https://wals.info/languoid/lect/wals_code_see\n",
      "https://wals.info/languoid/lect/wals_code_sru\n",
      "https://wals.info/languoid/lect/wals_code_sly\n",
      "https://wals.info/languoid/lect/wals_code_slp\n",
      "https://wals.info/languoid/lect/wals_code_sel\n",
      "https://wals.info/languoid/lect/wals_code_skp\n",
      "https://wals.info/languoid/lect/wals_code_sem\n",
      "https://wals.info/languoid/lect/wals_code_smj\n",
      "https://wals.info/languoid/lect/wals_code_smd\n",
      "https://wals.info/languoid/lect/wals_code_sme\n",
      "https://wals.info/languoid/lect/wals_code_sml\n",
      "https://wals.info/languoid/lect/wals_code_smn\n",
      "https://wals.info/languoid/lect/wals_code_sen\n",
      "https://wals.info/languoid/lect/wals_code_snd\n",
      "https://wals.info/languoid/lect/wals_code_snc\n",
      "https://wals.info/languoid/lect/wals_code_sgl\n",
      "https://wals.info/languoid/lect/wals_code_snt\n",
      "https://wals.info/languoid/lect/wals_code_scr\n",
      "https://wals.info/languoid/lect/wals_code_ser\n",
      "https://wals.info/languoid/lect/wals_code_srr\n",
      "https://wals.info/languoid/lect/wals_code_ses\n",
      "https://wals.info/languoid/lect/wals_code_sey\n",
      "https://wals.info/languoid/lect/wals_code_shb\n",
      "https://wals.info/languoid/lect/wals_code_shm\n",
      "https://wals.info/languoid/lect/wals_code_sha\n",
      "https://wals.info/languoid/lect/wals_code_shh\n",
      "https://wals.info/languoid/lect/wals_code_shs\n",
      "https://wals.info/languoid/lect/wals_code_sht\n",
      "https://wals.info/languoid/lect/wals_code_shw\n",
      "https://wals.info/languoid/lect/wals_code_skw\n",
      "https://wals.info/languoid/lect/wals_code_shd\n",
      "https://wals.info/languoid/lect/wals_code_she\n",
      "https://wals.info/languoid/lect/wals_code_shl\n",
      "https://wals.info/languoid/lect/wals_code_sna\n",
      "https://wals.info/languoid/lect/wals_code_ssh\n",
      "https://wals.info/languoid/lect/wals_code_shk\n",
      "https://wals.info/languoid/lect/wals_code_shy\n",
      "https://wals.info/languoid/lect/wals_code_shi\n",
      "https://wals.info/languoid/lect/wals_code_smp\n",
      "https://wals.info/languoid/lect/wals_code_shn\n",
      "https://wals.info/languoid/lect/wals_code_shr\n",
      "https://wals.info/languoid/lect/wals_code_sho\n",
      "https://wals.info/languoid/lect/wals_code_swr\n",
      "https://wals.info/languoid/lect/wals_code_rsh\n",
      "https://wals.info/languoid/lect/wals_code_ryu\n",
      "https://wals.info/languoid/lect/wals_code_shu\n",
      "https://wals.info/languoid/lect/wals_code_sia\n",
      "https://wals.info/languoid/lect/wals_code_sir\n",
      "https://wals.info/languoid/lect/wals_code_sid\n",
      "https://wals.info/languoid/lect/wals_code_sik\n",
      "https://wals.info/languoid/lect/wals_code_skr\n",
      "https://wals.info/languoid/lect/wals_code_skk\n",
      "https://wals.info/languoid/lect/wals_code_skl\n",
      "https://wals.info/languoid/lect/wals_code_sil\n",
      "https://wals.info/languoid/lect/wals_code_sim\n",
      "https://wals.info/languoid/lect/wals_code_sng\n",
      "https://wals.info/languoid/lect/wals_code_sdh\n",
      "https://wals.info/languoid/lect/wals_code_snh\n",
      "https://wals.info/languoid/lect/wals_code_sio\n",
      "https://wals.info/languoid/lect/wals_code_sin\n",
      "https://wals.info/languoid/lect/wals_code_qum\n",
      "https://wals.info/languoid/lect/wals_code_sry\n",
      "https://wals.info/languoid/lect/wals_code_sri\n",
      "https://wals.info/languoid/lect/wals_code_srn\n",
      "https://wals.info/languoid/lect/wals_code_sro\n",
      "https://wals.info/languoid/lect/wals_code_ssa\n",
      "https://wals.info/languoid/lect/wals_code_sis\n",
      "https://wals.info/languoid/lect/wals_code_siu\n",
      "https://wals.info/languoid/lect/wals_code_sko\n",
      "https://wals.info/languoid/lect/wals_code_sla\n",
      "https://wals.info/languoid/lect/wals_code_slv\n",
      "https://wals.info/languoid/lect/wals_code_svk\n",
      "https://wals.info/languoid/lect/wals_code_slo\n",
      "https://wals.info/languoid/lect/wals_code_svc\n",
      "https://wals.info/languoid/lect/wals_code_so\n",
      "https://wals.info/languoid/lect/wals_code_sob\n",
      "https://wals.info/languoid/lect/wals_code_sod\n",
      "https://wals.info/languoid/lect/wals_code_sol\n",
      "https://wals.info/languoid/lect/wals_code_som\n",
      "https://wals.info/languoid/lect/wals_code_sge\n",
      "https://wals.info/languoid/lect/wals_code_sgs\n",
      "https://wals.info/languoid/lect/wals_code_snn\n",
      "https://wals.info/languoid/lect/wals_code_son\n",
      "https://wals.info/languoid/lect/wals_code_soo\n",
      "https://wals.info/languoid/lect/wals_code_soq\n",
      "https://wals.info/languoid/lect/wals_code_sor\n",
      "https://wals.info/languoid/lect/wals_code_srb\n",
      "https://wals.info/languoid/lect/wals_code_srl\n",
      "https://wals.info/languoid/lect/wals_code_sou\n",
      "https://wals.info/languoid/lect/wals_code_stn\n",
      "https://wals.info/languoid/lect/wals_code_sgb\n",
      "https://wals.info/languoid/lect/wals_code_sea\n",
      "https://wals.info/languoid/lect/wals_code_tou\n",
      "https://wals.info/languoid/lect/wals_code_ssl\n",
      "https://wals.info/languoid/lect/wals_code_spa\n",
      "https://wals.info/languoid/lect/wals_code_spc\n",
      "https://wals.info/languoid/lect/wals_code_spi\n",
      "https://wals.info/languoid/lect/wals_code_spo\n",
      "https://wals.info/languoid/lect/wals_code_squ\n",
      "https://wals.info/languoid/lect/wals_code_sra\n",
      "https://wals.info/languoid/lect/wals_code_sre\n",
      "https://wals.info/languoid/lect/wals_code_sti\n",
      "https://wals.info/languoid/lect/wals_code_sto\n",
      "https://wals.info/languoid/lect/wals_code_sub\n",
      "https://wals.info/languoid/lect/wals_code_sud\n",
      "https://wals.info/languoid/lect/wals_code_sue\n",
      "https://wals.info/languoid/lect/wals_code_sui\n",
      "https://wals.info/languoid/lect/wals_code_suk\n",
      "https://wals.info/languoid/lect/wals_code_sku\n",
      "https://wals.info/languoid/lect/wals_code_skm\n",
      "https://wals.info/languoid/lect/wals_code_sul\n",
      "https://wals.info/languoid/lect/wals_code_slg\n",
      "https://wals.info/languoid/lect/wals_code_sun\n",
      "https://wals.info/languoid/lect/wals_code_sug\n",
      "https://wals.info/languoid/lect/wals_code_sup\n",
      "https://wals.info/languoid/lect/wals_code_sur\n",
      "https://wals.info/languoid/lect/wals_code_sus\n",
      "https://wals.info/languoid/lect/wals_code_sva\n",
      "https://wals.info/languoid/lect/wals_code_svt\n",
      "https://wals.info/languoid/lect/wals_code_swa\n",
      "https://wals.info/languoid/lect/wals_code_swt\n",
      "https://wals.info/languoid/lect/wals_code_swe\n",
      "https://wals.info/languoid/lect/wals_code_swv\n",
      "https://wals.info/languoid/lect/wals_code_tab\n",
      "https://wals.info/languoid/lect/wals_code_tba\n",
      "https://wals.info/languoid/lect/wals_code_tbr\n",
      "https://wals.info/languoid/lect/wals_code_tbs\n",
      "https://wals.info/languoid/lect/wals_code_tbl\n",
      "https://wals.info/languoid/lect/wals_code_tbw\n",
      "https://wals.info/languoid/lect/wals_code_tac\n",
      "https://wals.info/languoid/lect/wals_code_tag\n",
      "https://wals.info/languoid/lect/wals_code_tgb\n",
      "https://wals.info/languoid/lect/wals_code_tah\n",
      "https://wals.info/languoid/lect/wals_code_tap\n",
      "https://wals.info/languoid/lect/wals_code_taf\n",
      "https://wals.info/languoid/lect/wals_code_trr\n",
      "https://wals.info/languoid/lect/wals_code_tzi\n",
      "https://wals.info/languoid/lect/wals_code_taj\n",
      "https://wals.info/languoid/lect/wals_code_tkl\n",
      "https://wals.info/languoid/lect/wals_code_tak\n",
      "https://wals.info/languoid/lect/wals_code_tld\n",
      "https://wals.info/languoid/lect/wals_code_tal\n",
      "https://wals.info/languoid/lect/wals_code_taz\n",
      "https://wals.info/languoid/lect/wals_code_tls\n",
      "https://wals.info/languoid/lect/wals_code_tma\n",
      "https://wals.info/languoid/lect/wals_code_tmm\n",
      "https://wals.info/languoid/lect/wals_code_tmg\n",
      "https://wals.info/languoid/lect/wals_code_tam\n",
      "https://wals.info/languoid/lect/wals_code_tsk\n",
      "https://wals.info/languoid/lect/wals_code_tml\n",
      "https://wals.info/languoid/lect/wals_code_tsp\n",
      "https://wals.info/languoid/lect/wals_code_tmp\n",
      "https://wals.info/languoid/lect/wals_code_tnc\n",
      "https://wals.info/languoid/lect/wals_code_tnj\n",
      "https://wals.info/languoid/lect/wals_code_tnl\n",
      "https://wals.info/languoid/lect/wals_code_tan\n",
      "https://wals.info/languoid/lect/wals_code_tbx\n",
      "https://wals.info/languoid/lect/wals_code_tga\n",
      "https://wals.info/languoid/lect/wals_code_tgp\n",
      "https://wals.info/languoid/lect/wals_code_tns\n",
      "https://wals.info/languoid/lect/wals_code_tsl\n",
      "https://wals.info/languoid/lect/wals_code_tpt\n",
      "https://wals.info/languoid/lect/wals_code_tce\n",
      "https://wals.info/languoid/lect/wals_code_twe\n",
      "https://wals.info/languoid/lect/wals_code_tgw\n",
      "https://wals.info/languoid/lect/wals_code_tao\n",
      "https://wals.info/languoid/lect/wals_code_tar\n",
      "https://wals.info/languoid/lect/wals_code_tok\n",
      "https://wals.info/languoid/lect/wals_code_tas\n",
      "https://wals.info/languoid/lect/wals_code_tsm\n",
      "https://wals.info/languoid/lect/wals_code_toy\n",
      "https://wals.info/languoid/lect/wals_code_tat\n",
      "https://wals.info/languoid/lect/wals_code_tvo\n",
      "https://wals.info/languoid/lect/wals_code_ttb\n",
      "https://wals.info/languoid/lect/wals_code_tmi\n",
      "https://wals.info/languoid/lect/wals_code_tlb\n",
      "https://wals.info/languoid/lect/wals_code_tts\n",
      "https://wals.info/languoid/lect/wals_code_tmu\n",
      "https://wals.info/languoid/lect/wals_code_tty\n",
      "https://wals.info/languoid/lect/wals_code_tll\n",
      "https://wals.info/languoid/lect/wals_code_tsr\n",
      "https://wals.info/languoid/lect/wals_code_tsg\n",
      "https://wals.info/languoid/lect/wals_code_tau\n",
      "https://wals.info/languoid/lect/wals_code_taw\n",
      "https://wals.info/languoid/lect/wals_code_tay\n",
      "https://wals.info/languoid/lect/wals_code_tbo\n",
      "https://wals.info/languoid/lect/wals_code_tec\n",
      "https://wals.info/languoid/lect/wals_code_tht\n",
      "https://wals.info/languoid/lect/wals_code_teh\n",
      "https://wals.info/languoid/lect/wals_code_tks\n",
      "https://wals.info/languoid/lect/wals_code_tlf\n",
      "https://wals.info/languoid/lect/wals_code_tel\n",
      "https://wals.info/languoid/lect/wals_code_tem\n",
      "https://wals.info/languoid/lect/wals_code_tmn\n",
      "https://wals.info/languoid/lect/wals_code_tmr\n",
      "https://wals.info/languoid/lect/wals_code_tne\n",
      "https://wals.info/languoid/lect/wals_code_ten\n",
      "https://wals.info/languoid/lect/wals_code_tny\n",
      "https://wals.info/languoid/lect/wals_code_teo\n",
      "https://wals.info/languoid/lect/wals_code_tpc\n",
      "https://wals.info/languoid/lect/wals_code_tee\n",
      "https://wals.info/languoid/lect/wals_code_tpn\n",
      "https://wals.info/languoid/lect/wals_code_tps\n",
      "https://wals.info/languoid/lect/wals_code_tep\n",
      "https://wals.info/languoid/lect/wals_code_ter\n",
      "https://wals.info/languoid/lect/wals_code_trn\n",
      "https://wals.info/languoid/lect/wals_code_trb\n",
      "https://wals.info/languoid/lect/wals_code_trt\n",
      "https://wals.info/languoid/lect/wals_code_tes\n",
      "https://wals.info/languoid/lect/wals_code_tet\n",
      "https://wals.info/languoid/lect/wals_code_ttn\n",
      "https://wals.info/languoid/lect/wals_code_ttd\n",
      "https://wals.info/languoid/lect/wals_code_tew\n",
      "https://wals.info/languoid/lect/wals_code_trg\n",
      "https://wals.info/languoid/lect/wals_code_tsj\n",
      "https://wals.info/languoid/lect/wals_code_thd\n",
      "https://wals.info/languoid/lect/wals_code_tha\n",
      "https://wals.info/languoid/lect/wals_code_ths\n",
      "https://wals.info/languoid/lect/wals_code_thk\n",
      "https://wals.info/languoid/lect/wals_code_thn\n",
      "https://wals.info/languoid/lect/wals_code_thw\n",
      "https://wals.info/languoid/lect/wals_code_thp\n",
      "https://wals.info/languoid/lect/wals_code_tho\n",
      "https://wals.info/languoid/lect/wals_code_thu\n",
      "https://wals.info/languoid/lect/wals_code_tdi\n",
      "https://wals.info/languoid/lect/wals_code_tdr\n",
      "https://wals.info/languoid/lect/wals_code_tmo\n",
      "https://wals.info/languoid/lect/wals_code_tis\n",
      "https://wals.info/languoid/lect/wals_code_tib\n",
      "https://wals.info/languoid/lect/wals_code_tic\n",
      "https://wals.info/languoid/lect/wals_code_tid\n",
      "https://wals.info/languoid/lect/wals_code_tif\n",
      "https://wals.info/languoid/lect/wals_code_tgk\n",
      "https://wals.info/languoid/lect/wals_code_tgr\n",
      "https://wals.info/languoid/lect/wals_code_tbe\n",
      "https://wals.info/languoid/lect/wals_code_tig\n",
      "https://wals.info/languoid/lect/wals_code_tja\n",
      "https://wals.info/languoid/lect/wals_code_tik\n",
      "https://wals.info/languoid/lect/wals_code_til\n",
      "https://wals.info/languoid/lect/wals_code_tia\n",
      "https://wals.info/languoid/lect/wals_code_tse\n",
      "https://wals.info/languoid/lect/wals_code_tmc\n",
      "https://wals.info/languoid/lect/wals_code_tim\n",
      "https://wals.info/languoid/lect/wals_code_tni\n",
      "https://wals.info/languoid/lect/wals_code_tnd\n",
      "https://wals.info/languoid/lect/wals_code_tin\n",
      "https://wals.info/languoid/lect/wals_code_tir\n",
      "https://wals.info/languoid/lect/wals_code_trm\n",
      "https://wals.info/languoid/lect/wals_code_try\n",
      "https://wals.info/languoid/lect/wals_code_tiv\n",
      "https://wals.info/languoid/lect/wals_code_twn\n",
      "https://wals.info/languoid/lect/wals_code_tws\n",
      "https://wals.info/languoid/lect/wals_code_tiw\n",
      "https://wals.info/languoid/lect/wals_code_tlp\n",
      "https://wals.info/languoid/lect/wals_code_tli\n",
      "https://wals.info/languoid/lect/wals_code_toa\n",
      "https://wals.info/languoid/lect/wals_code_tob\n",
      "https://wals.info/languoid/lect/wals_code_tbt\n",
      "https://wals.info/languoid/lect/wals_code_tlo\n",
      "https://wals.info/languoid/lect/wals_code_tod\n",
      "https://wals.info/languoid/lect/wals_code_tda\n",
      "https://wals.info/languoid/lect/wals_code_tof\n",
      "https://wals.info/languoid/lect/wals_code_toj\n",
      "https://wals.info/languoid/lect/wals_code_tke\n",
      "https://wals.info/languoid/lect/wals_code_tpi\n",
      "https://wals.info/languoid/lect/wals_code_tol\n",
      "https://wals.info/languoid/lect/wals_code_tla\n",
      "https://wals.info/languoid/lect/wals_code_tms\n",
      "https://wals.info/languoid/lect/wals_code_tno\n",
      "https://wals.info/languoid/lect/wals_code_toz\n",
      "https://wals.info/languoid/lect/wals_code_tng\n",
      "https://wals.info/languoid/lect/wals_code_ton\n",
      "https://wals.info/languoid/lect/wals_code_tnt\n",
      "https://wals.info/languoid/lect/wals_code_toq\n",
      "https://wals.info/languoid/lect/wals_code_trd\n",
      "https://wals.info/languoid/lect/wals_code_tor\n",
      "https://wals.info/languoid/lect/wals_code_dts\n",
      "https://wals.info/languoid/lect/wals_code_trw\n",
      "https://wals.info/languoid/lect/wals_code_tot\n",
      "https://wals.info/languoid/lect/wals_code_tpa\n",
      "https://wals.info/languoid/lect/wals_code_tos\n",
      "https://wals.info/languoid/lect/wals_code_txj\n",
      "https://wals.info/languoid/lect/wals_code_trc\n",
      "https://wals.info/languoid/lect/wals_code_tri\n",
      "https://wals.info/languoid/lect/wals_code_tru\n",
      "https://wals.info/languoid/lect/wals_code_tsf\n",
      "https://wals.info/languoid/lect/wals_code_tsa\n",
      "https://wals.info/languoid/lect/wals_code_tst\n",
      "https://wals.info/languoid/lect/wals_code_tsz\n",
      "https://wals.info/languoid/lect/wals_code_tgl\n",
      "https://wals.info/languoid/lect/wals_code_tsi\n",
      "https://wals.info/languoid/lect/wals_code_tgo\n",
      "https://wals.info/languoid/lect/wals_code_tsn\n",
      "https://wals.info/languoid/lect/wals_code_tso\n",
      "https://wals.info/languoid/lect/wals_code_ttu\n",
      "https://wals.info/languoid/lect/wals_code_tsw\n",
      "https://wals.info/languoid/lect/wals_code_tua\n",
      "https://wals.info/languoid/lect/wals_code_tug\n",
      "https://wals.info/languoid/lect/wals_code_tai\n",
      "https://wals.info/languoid/lect/wals_code_tgh\n",
      "https://wals.info/languoid/lect/wals_code_tub\n",
      "https://wals.info/languoid/lect/wals_code_tbb\n",
      "https://wals.info/languoid/lect/wals_code_tbu\n",
      "https://wals.info/languoid/lect/wals_code_tuc\n",
      "https://wals.info/languoid/lect/wals_code_tgn\n",
      "https://wals.info/languoid/lect/wals_code_tuk\n",
      "https://wals.info/languoid/lect/wals_code_tki\n",
      "https://wals.info/languoid/lect/wals_code_tul\n",
      "https://wals.info/languoid/lect/wals_code_tmk\n",
      "https://wals.info/languoid/lect/wals_code_tum\n",
      "https://wals.info/languoid/lect/wals_code_tsh\n",
      "https://wals.info/languoid/lect/wals_code_tnb\n",
      "https://wals.info/languoid/lect/wals_code_tnn\n",
      "https://wals.info/languoid/lect/wals_code_tnk\n",
      "https://wals.info/languoid/lect/wals_code_tun\n",
      "https://wals.info/languoid/lect/wals_code_tup\n",
      "https://wals.info/languoid/lect/wals_code_tpr\n",
      "https://wals.info/languoid/lect/wals_code_tna\n",
      "https://wals.info/languoid/lect/wals_code_tex\n",
      "https://wals.info/languoid/lect/wals_code_twx\n",
      "https://wals.info/languoid/lect/wals_code_tui\n",
      "https://wals.info/languoid/lect/wals_code_tur\n",
      "https://wals.info/languoid/lect/wals_code_tkm\n",
      "https://wals.info/languoid/lect/wals_code_tus\n",
      "https://wals.info/languoid/lect/wals_code_tut\n",
      "https://wals.info/languoid/lect/wals_code_tte\n",
      "https://wals.info/languoid/lect/wals_code_tvt\n",
      "https://wals.info/languoid/lect/wals_code_tvl\n",
      "https://wals.info/languoid/lect/wals_code_tuv\n",
      "https://wals.info/languoid/lect/wals_code_tuy\n",
      "https://wals.info/languoid/lect/wals_code_twa\n",
      "https://wals.info/languoid/lect/wals_code_tye\n",
      "https://wals.info/languoid/lect/wals_code_tze\n",
      "https://wals.info/languoid/lect/wals_code_tza\n",
      "https://wals.info/languoid/lect/wals_code_tzt\n",
      "https://wals.info/languoid/lect/wals_code_tzo\n",
      "https://wals.info/languoid/lect/wals_code_tzu\n",
      "https://wals.info/languoid/lect/wals_code_uby\n",
      "https://wals.info/languoid/lect/wals_code_udi\n",
      "https://wals.info/languoid/lect/wals_code_udh\n",
      "https://wals.info/languoid/lect/wals_code_udm\n",
      "https://wals.info/languoid/lect/wals_code_ugs\n",
      "https://wals.info/languoid/lect/wals_code_ukr\n",
      "https://wals.info/languoid/lect/wals_code_ulc\n",
      "https://wals.info/languoid/lect/wals_code_uld\n",
      "https://wals.info/languoid/lect/wals_code_uli\n",
      "https://wals.info/languoid/lect/wals_code_uma\n",
      "https://wals.info/languoid/lect/wals_code_umu\n",
      "https://wals.info/languoid/lect/wals_code_umb\n",
      "https://wals.info/languoid/lect/wals_code_kgl\n",
      "https://wals.info/languoid/lect/wals_code_ump\n",
      "https://wals.info/languoid/lect/wals_code_una\n",
      "https://wals.info/languoid/lect/wals_code_unm\n",
      "https://wals.info/languoid/lect/wals_code_ung\n",
      "https://wals.info/languoid/lect/wals_code_uku\n",
      "https://wals.info/languoid/lect/wals_code_ura\n",
      "https://wals.info/languoid/lect/wals_code_uhi\n",
      "https://wals.info/languoid/lect/wals_code_url\n",
      "https://wals.info/languoid/lect/wals_code_urn\n",
      "https://wals.info/languoid/lect/wals_code_urt\n",
      "https://wals.info/languoid/lect/wals_code_urd\n",
      "https://wals.info/languoid/lect/wals_code_urh\n",
      "https://wals.info/languoid/lect/wals_code_uri\n",
      "https://wals.info/languoid/lect/wals_code_uru\n",
      "https://wals.info/languoid/lect/wals_code_urk\n",
      "https://wals.info/languoid/lect/wals_code_usl\n",
      "https://wals.info/languoid/lect/wals_code_urm\n",
      "https://wals.info/languoid/lect/wals_code_usa\n",
      "https://wals.info/languoid/lect/wals_code_usr\n",
      "https://wals.info/languoid/lect/wals_code_ute\n",
      "https://wals.info/languoid/lect/wals_code_uyg\n",
      "https://wals.info/languoid/lect/wals_code_uzb\n",
      "https://wals.info/languoid/lect/wals_code_uzn\n",
      "https://wals.info/languoid/lect/wals_code_vaf\n",
      "https://wals.info/languoid/lect/wals_code_vag\n",
      "https://wals.info/languoid/lect/wals_code_vai\n",
      "https://wals.info/languoid/lect/wals_code_vas\n",
      "https://wals.info/languoid/lect/wals_code_vat\n",
      "https://wals.info/languoid/lect/wals_code_ved\n",
      "https://wals.info/languoid/lect/wals_code_ven\n",
      "https://wals.info/languoid/lect/wals_code_vep\n",
      "https://wals.info/languoid/lect/wals_code_vie\n",
      "https://wals.info/languoid/lect/wals_code_vif\n",
      "https://wals.info/languoid/lect/wals_code_vnm\n",
      "https://wals.info/languoid/lect/wals_code_vla\n",
      "https://wals.info/languoid/lect/wals_code_vot\n",
      "https://wals.info/languoid/lect/wals_code_wwa\n",
      "https://wals.info/languoid/lect/wals_code_wkw\n",
      "https://wals.info/languoid/lect/wals_code_wag\n",
      "https://wals.info/languoid/lect/wals_code_wah\n",
      "https://wals.info/languoid/lect/wals_code_wgl\n",
      "https://wals.info/languoid/lect/wals_code_bno\n",
      "https://wals.info/languoid/lect/wals_code_wai\n",
      "https://wals.info/languoid/lect/wals_code_wak\n",
      "https://wals.info/languoid/lect/wals_code_wll\n",
      "https://wals.info/languoid/lect/wals_code_wal\n",
      "https://wals.info/languoid/lect/wals_code_wlm\n",
      "https://wals.info/languoid/lect/wals_code_wam\n",
      "https://wals.info/languoid/lect/wals_code_wbn\n",
      "https://wals.info/languoid/lect/wals_code_wme\n",
      "https://wals.info/languoid/lect/wals_code_wna\n",
      "https://wals.info/languoid/lect/wals_code_wgg\n",
      "https://wals.info/languoid/lect/wals_code_wan\n",
      "https://wals.info/languoid/lect/wals_code_wbt\n",
      "https://wals.info/languoid/lect/wals_code_wnt\n",
      "https://wals.info/languoid/lect/wals_code_wao\n",
      "https://wals.info/languoid/lect/wals_code_wps\n",
      "https://wals.info/languoid/lect/wals_code_wap\n",
      "https://wals.info/languoid/lect/wals_code_wra\n",
      "https://wals.info/languoid/lect/wals_code_wry\n",
      "https://wals.info/languoid/lect/wals_code_wwy\n",
      "https://wals.info/languoid/lect/wals_code_wrd\n",
      "https://wals.info/languoid/lect/wals_code_wrk\n",
      "https://wals.info/languoid/lect/wals_code_wrm\n",
      "https://wals.info/languoid/lect/wals_code_war\n",
      "https://wals.info/languoid/lect/wals_code_wrs\n",
      "https://wals.info/languoid/lect/wals_code_wrl\n",
      "https://wals.info/languoid/lect/wals_code_wlw\n",
      "https://wals.info/languoid/lect/wals_code_wrn\n",
      "https://wals.info/languoid/lect/wals_code_wrp\n",
      "https://wals.info/languoid/lect/wals_code_wrg\n",
      "https://wals.info/languoid/lect/wals_code_wrb\n",
      "https://wals.info/languoid/lect/wals_code_wgu\n",
      "https://wals.info/languoid/lect/wals_code_wrw\n",
      "https://wals.info/languoid/lect/wals_code_wru\n",
      "https://wals.info/languoid/lect/wals_code_was\n",
      "https://wals.info/languoid/lect/wals_code_wsk\n",
      "https://wals.info/languoid/lect/wals_code_wtm\n",
      "https://wals.info/languoid/lect/wals_code_wth\n",
      "https://wals.info/languoid/lect/wals_code_wat\n",
      "https://wals.info/languoid/lect/wals_code_wau\n",
      "https://wals.info/languoid/lect/wals_code_wur\n",
      "https://wals.info/languoid/lect/wals_code_way\n",
      "https://wals.info/languoid/lect/wals_code_wyn\n",
      "https://wals.info/languoid/lect/wals_code_wed\n",
      "https://wals.info/languoid/lect/wals_code_wel\n",
      "https://wals.info/languoid/lect/wals_code_wec\n",
      "https://wals.info/languoid/lect/wals_code_wem\n",
      "https://wals.info/languoid/lect/wals_code_wmn\n",
      "https://wals.info/languoid/lect/wals_code_wer\n",
      "https://wals.info/languoid/lect/wals_code_wdo\n",
      "https://wals.info/languoid/lect/wals_code_wma\n",
      "https://wals.info/languoid/lect/wals_code_wet\n",
      "https://wals.info/languoid/lect/wals_code_wch\n",
      "https://wals.info/languoid/lect/wals_code_wic\n",
      "https://wals.info/languoid/lect/wals_code_wik\n",
      "https://wals.info/languoid/lect/wals_code_wmu\n",
      "https://wals.info/languoid/lect/wals_code_wn\n",
      "https://wals.info/languoid/lect/wals_code_wnb\n",
      "https://wals.info/languoid/lect/wals_code_win\n",
      "https://wals.info/languoid/lect/wals_code_wir\n",
      "https://wals.info/languoid/lect/wals_code_wiy\n",
      "https://wals.info/languoid/lect/wals_code_wob\n",
      "https://wals.info/languoid/lect/wals_code_wog\n",
      "https://wals.info/languoid/lect/wals_code_woi\n",
      "https://wals.info/languoid/lect/wals_code_wwr\n",
      "https://wals.info/languoid/lect/wals_code_wly\n",
      "https://wals.info/languoid/lect/wals_code_wol\n",
      "https://wals.info/languoid/lect/wals_code_wlo\n",
      "https://wals.info/languoid/lect/wals_code_wlf\n",
      "https://wals.info/languoid/lect/wals_code_wom\n",
      "https://wals.info/languoid/lect/wals_code_wor\n",
      "https://wals.info/languoid/lect/wals_code_wuc\n",
      "https://wals.info/languoid/lect/wals_code_wya\n",
      "https://wals.info/languoid/lect/wals_code_xam\n",
      "https://wals.info/languoid/lect/wals_code_xar\n",
      "https://wals.info/languoid/lect/wals_code_xas\n",
      "https://wals.info/languoid/lect/wals_code_xav\n",
      "https://wals.info/languoid/lect/wals_code_xer\n",
      "https://wals.info/languoid/lect/wals_code_xho\n",
      "https://wals.info/languoid/lect/wals_code_bah\n",
      "https://wals.info/languoid/lect/wals_code_xok\n",
      "https://wals.info/languoid/lect/wals_code_xoo\n",
      "https://wals.info/languoid/lect/wals_code_xun\n",
      "https://wals.info/languoid/lect/wals_code_ygr\n",
      "https://wals.info/languoid/lect/wals_code_ygn\n",
      "https://wals.info/languoid/lect/wals_code_yag\n",
      "https://wals.info/languoid/lect/wals_code_yah\n",
      "https://wals.info/languoid/lect/wals_code_yak\n",
      "https://wals.info/languoid/lect/wals_code_ykn\n",
      "https://wals.info/languoid/lect/wals_code_ykm\n",
      "https://wals.info/languoid/lect/wals_code_ykt\n",
      "https://wals.info/languoid/lect/wals_code_ylr\n",
      "https://wals.info/languoid/lect/wals_code_yal\n",
      "https://wals.info/languoid/lect/wals_code_yli\n",
      "https://wals.info/languoid/lect/wals_code_yba\n",
      "https://wals.info/languoid/lect/wals_code_ymd\n",
      "https://wals.info/languoid/lect/wals_code_ymi\n",
      "https://wals.info/languoid/lect/wals_code_yam\n",
      "https://wals.info/languoid/lect/wals_code_ybi\n",
      "https://wals.info/languoid/lect/wals_code_yan\n",
      "https://wals.info/languoid/lect/wals_code_ynk\n",
      "https://wals.info/languoid/lect/wals_code_ynm\n",
      "https://wals.info/languoid/lect/wals_code_yns\n",
      "https://wals.info/languoid/lect/wals_code_yny\n",
      "https://wals.info/languoid/lect/wals_code_yao\n",
      "https://wals.info/languoid/lect/wals_code_yap\n",
      "https://wals.info/languoid/lect/wals_code_yqy\n",
      "https://wals.info/languoid/lect/wals_code_yaq\n",
      "https://wals.info/languoid/lect/wals_code_yar\n",
      "https://wals.info/languoid/lect/wals_code_yrr\n",
      "https://wals.info/languoid/lect/wals_code_yav\n",
      "https://wals.info/languoid/lect/wals_code_yaw\n",
      "https://wals.info/languoid/lect/wals_code_ywl\n",
      "https://wals.info/languoid/lect/wals_code_ywr\n",
      "https://wals.info/languoid/lect/wals_code_yay\n",
      "https://wals.info/languoid/lect/wals_code_yyg\n",
      "https://wals.info/languoid/lect/wals_code_yaz\n",
      "https://wals.info/languoid/lect/wals_code_yzv\n",
      "https://wals.info/languoid/lect/wals_code_yei\n",
      "https://wals.info/languoid/lect/wals_code_yel\n",
      "https://wals.info/languoid/lect/wals_code_ylm\n",
      "https://wals.info/languoid/lect/wals_code_yem\n",
      "https://wals.info/languoid/lect/wals_code_yms\n",
      "https://wals.info/languoid/lect/wals_code_yes\n",
      "https://wals.info/languoid/lect/wals_code_yey\n",
      "https://wals.info/languoid/lect/wals_code_ydd\n",
      "https://wals.info/languoid/lect/wals_code_ydb\n",
      "https://wals.info/languoid/lect/wals_code_ylt\n",
      "https://wals.info/languoid/lect/wals_code_ydl\n",
      "https://wals.info/languoid/lect/wals_code_yid\n",
      "https://wals.info/languoid/lect/wals_code_yil\n",
      "https://wals.info/languoid/lect/wals_code_yim\n",
      "https://wals.info/languoid/lect/wals_code_yin\n",
      "https://wals.info/languoid/lect/wals_code_yng\n",
      "https://wals.info/languoid/lect/wals_code_yir\n",
      "https://wals.info/languoid/lect/wals_code_yiw\n",
      "https://wals.info/languoid/lect/wals_code_yok\n",
      "https://wals.info/languoid/lect/wals_code_yyo\n",
      "https://wals.info/languoid/lect/wals_code_yor\n",
      "https://wals.info/languoid/lect/wals_code_yct\n",
      "https://wals.info/languoid/lect/wals_code_yuc\n",
      "https://wals.info/languoid/lect/wals_code_ycn\n",
      "https://wals.info/languoid/lect/wals_code_yug\n",
      "https://wals.info/languoid/lect/wals_code_yko\n",
      "https://wals.info/languoid/lect/wals_code_ytu\n",
      "https://wals.info/languoid/lect/wals_code_yki\n",
      "https://wals.info/languoid/lect/wals_code_ykp\n",
      "https://wals.info/languoid/lect/wals_code_yuk\n",
      "https://wals.info/languoid/lect/wals_code_ylb\n",
      "https://wals.info/languoid/lect/wals_code_yul\n",
      "https://wals.info/languoid/lect/wals_code_ypk\n",
      "https://wals.info/languoid/lect/wals_code_ych\n",
      "https://wals.info/languoid/lect/wals_code_yna\n",
      "https://wals.info/languoid/lect/wals_code_yun\n",
      "https://wals.info/languoid/lect/wals_code_yus\n",
      "https://wals.info/languoid/lect/wals_code_ysi\n",
      "https://wals.info/languoid/lect/wals_code_ysl\n",
      "https://wals.info/languoid/lect/wals_code_yrc\n",
      "https://wals.info/languoid/lect/wals_code_yrm\n",
      "https://wals.info/languoid/lect/wals_code_yur\n",
      "https://wals.info/languoid/lect/wals_code_yta\n",
      "https://wals.info/languoid/lect/wals_code_yrt\n",
      "https://wals.info/languoid/lect/wals_code_yuw\n",
      "https://wals.info/languoid/lect/wals_code_zan\n",
      "https://wals.info/languoid/lect/wals_code_zpr\n",
      "https://wals.info/languoid/lect/wals_code_zai\n",
      "https://wals.info/languoid/lect/wals_code_zpi\n",
      "https://wals.info/languoid/lect/wals_code_zaj\n",
      "https://wals.info/languoid/lect/wals_code_zap\n",
      "https://wals.info/languoid/lect/wals_code_zam\n",
      "https://wals.info/languoid/lect/wals_code_zaq\n",
      "https://wals.info/languoid/lect/wals_code_zsq\n",
      "https://wals.info/languoid/lect/wals_code_zte\n",
      "https://wals.info/languoid/lect/wals_code_zya\n",
      "https://wals.info/languoid/lect/wals_code_zzo\n",
      "https://wals.info/languoid/lect/wals_code_zar\n",
      "https://wals.info/languoid/lect/wals_code_zay\n",
      "https://wals.info/languoid/lect/wals_code_zaz\n",
      "https://wals.info/languoid/lect/wals_code_zen\n",
      "https://wals.info/languoid/lect/wals_code_zhn\n",
      "https://wals.info/languoid/lect/wals_code_zim\n",
      "https://wals.info/languoid/lect/wals_code_zch\n",
      "https://wals.info/languoid/lect/wals_code_zqc\n",
      "https://wals.info/languoid/lect/wals_code_zfl\n",
      "https://wals.info/languoid/lect/wals_code_zqo\n",
      "https://wals.info/languoid/lect/wals_code_zqr\n",
      "https://wals.info/languoid/lect/wals_code_zul\n",
      "https://wals.info/languoid/lect/wals_code_zno\n",
      "https://wals.info/languoid/lect/wals_code_zso\n",
      "https://wals.info/languoid/lect/wals_code_zun\n"
     ]
    }
   ],
   "source": [
    "for link in scrapable_pages['link']:\n",
    "\n",
    "scrapable_pages.loc[scrapable_pages['']]"
   ]
  },
  {
   "cell_type": "code",
   "execution_count": 14,
   "metadata": {},
   "outputs": [
    {
     "name": "stderr",
     "output_type": "stream",
     "text": [
      "\n",
      "\n",
      "====== WebDriver manager ======\n",
      "Current google-chrome version is 96.0.4664\n",
      "Get LATEST chromedriver version for 96.0.4664 google-chrome\n",
      "Driver [/home/szogabaha/.wdm/drivers/chromedriver/linux64/96.0.4664.45/chromedriver] found in cache\n",
      "<ipython-input-14-52778b62793b>:9: DeprecationWarning: executable_path has been deprecated, please pass in a Service object\n",
      "  driver = webdriver.Chrome(ChromeDriverManager().install())\n",
      "\n",
      "\n",
      "====== WebDriver manager ======\n",
      "Current google-chrome version is 96.0.4664\n",
      "Get LATEST chromedriver version for 96.0.4664 google-chrome\n",
      "Driver [/home/szogabaha/.wdm/drivers/chromedriver/linux64/96.0.4664.45/chromedriver] found in cache\n"
     ]
    },
    {
     "name": "stdout",
     "output_type": "stream",
     "text": [
      "Sangu done (28 features)\n"
     ]
    },
    {
     "name": "stderr",
     "output_type": "stream",
     "text": [
      "\n",
      "\n",
      "====== WebDriver manager ======\n",
      "Current google-chrome version is 96.0.4664\n",
      "Get LATEST chromedriver version for 96.0.4664 google-chrome\n",
      "Driver [/home/szogabaha/.wdm/drivers/chromedriver/linux64/96.0.4664.45/chromedriver] found in cache\n"
     ]
    },
    {
     "name": "stdout",
     "output_type": "stream",
     "text": [
      "Santa done (25 features)\n"
     ]
    },
    {
     "name": "stderr",
     "output_type": "stream",
     "text": [
      "\n",
      "\n",
      "====== WebDriver manager ======\n",
      "Current google-chrome version is 96.0.4664\n",
      "Get LATEST chromedriver version for 96.0.4664 google-chrome\n",
      "Driver [/home/szogabaha/.wdm/drivers/chromedriver/linux64/96.0.4664.45/chromedriver] found in cache\n"
     ]
    },
    {
     "name": "stdout",
     "output_type": "stream",
     "text": [
      "Santali done (44 features)\n"
     ]
    },
    {
     "name": "stderr",
     "output_type": "stream",
     "text": [
      "\n",
      "\n",
      "====== WebDriver manager ======\n",
      "Current google-chrome version is 96.0.4664\n",
      "Get LATEST chromedriver version for 96.0.4664 google-chrome\n",
      "Driver [/home/szogabaha/.wdm/drivers/chromedriver/linux64/96.0.4664.45/chromedriver] found in cache\n"
     ]
    },
    {
     "name": "stdout",
     "output_type": "stream",
     "text": [
      "Sanuma done (124 features)\n"
     ]
    },
    {
     "name": "stderr",
     "output_type": "stream",
     "text": [
      "\n",
      "\n",
      "====== WebDriver manager ======\n",
      "Current google-chrome version is 96.0.4664\n",
      "Get LATEST chromedriver version for 96.0.4664 google-chrome\n",
      "Driver [/home/szogabaha/.wdm/drivers/chromedriver/linux64/96.0.4664.45/chromedriver] found in cache\n"
     ]
    },
    {
     "name": "stdout",
     "output_type": "stream",
     "text": [
      "Sapuan done (29 features)\n"
     ]
    },
    {
     "name": "stderr",
     "output_type": "stream",
     "text": [
      "\n",
      "\n",
      "====== WebDriver manager ======\n",
      "Current google-chrome version is 96.0.4664\n",
      "Get LATEST chromedriver version for 96.0.4664 google-chrome\n",
      "Driver [/home/szogabaha/.wdm/drivers/chromedriver/linux64/96.0.4664.45/chromedriver] found in cache\n"
     ]
    },
    {
     "name": "stdout",
     "output_type": "stream",
     "text": [
      "Saramaccan done (12 features)\n"
     ]
    },
    {
     "name": "stderr",
     "output_type": "stream",
     "text": [
      "\n",
      "\n",
      "====== WebDriver manager ======\n",
      "Current google-chrome version is 96.0.4664\n",
      "Get LATEST chromedriver version for 96.0.4664 google-chrome\n",
      "Driver [/home/szogabaha/.wdm/drivers/chromedriver/linux64/96.0.4664.45/chromedriver] found in cache\n"
     ]
    },
    {
     "name": "stdout",
     "output_type": "stream",
     "text": [
      "Sarcee done (37 features)\n"
     ]
    },
    {
     "name": "stderr",
     "output_type": "stream",
     "text": [
      "\n",
      "\n",
      "====== WebDriver manager ======\n",
      "Current google-chrome version is 96.0.4664\n",
      "Get LATEST chromedriver version for 96.0.4664 google-chrome\n",
      "Driver [/home/szogabaha/.wdm/drivers/chromedriver/linux64/96.0.4664.45/chromedriver] found in cache\n"
     ]
    },
    {
     "name": "stdout",
     "output_type": "stream",
     "text": [
      "Sardinian done (34 features)\n"
     ]
    },
    {
     "name": "stderr",
     "output_type": "stream",
     "text": [
      "\n",
      "\n",
      "====== WebDriver manager ======\n",
      "Current google-chrome version is 96.0.4664\n",
      "Get LATEST chromedriver version for 96.0.4664 google-chrome\n",
      "Driver [/home/szogabaha/.wdm/drivers/chromedriver/linux64/96.0.4664.45/chromedriver] found in cache\n"
     ]
    },
    {
     "name": "stdout",
     "output_type": "stream",
     "text": [
      "Sare done (36 features)\n"
     ]
    },
    {
     "name": "stderr",
     "output_type": "stream",
     "text": [
      "\n",
      "\n",
      "====== WebDriver manager ======\n",
      "Current google-chrome version is 96.0.4664\n",
      "Get LATEST chromedriver version for 96.0.4664 google-chrome\n",
      "Driver [/home/szogabaha/.wdm/drivers/chromedriver/linux64/96.0.4664.45/chromedriver] found in cache\n"
     ]
    },
    {
     "name": "stdout",
     "output_type": "stream",
     "text": [
      "Saryg Yughur done (1 features)\n"
     ]
    },
    {
     "name": "stderr",
     "output_type": "stream",
     "text": [
      "\n",
      "\n",
      "====== WebDriver manager ======\n",
      "Current google-chrome version is 96.0.4664\n",
      "Get LATEST chromedriver version for 96.0.4664 google-chrome\n",
      "Driver [/home/szogabaha/.wdm/drivers/chromedriver/linux64/96.0.4664.45/chromedriver] found in cache\n"
     ]
    },
    {
     "name": "stdout",
     "output_type": "stream",
     "text": [
      "Savi done (16 features)\n"
     ]
    },
    {
     "name": "stderr",
     "output_type": "stream",
     "text": [
      "\n",
      "\n",
      "====== WebDriver manager ======\n",
      "Current google-chrome version is 96.0.4664\n",
      "Get LATEST chromedriver version for 96.0.4664 google-chrome\n",
      "Driver [/home/szogabaha/.wdm/drivers/chromedriver/linux64/96.0.4664.45/chromedriver] found in cache\n"
     ]
    },
    {
     "name": "stdout",
     "output_type": "stream",
     "text": [
      "Savosavo done (46 features)\n"
     ]
    },
    {
     "name": "stderr",
     "output_type": "stream",
     "text": [
      "\n",
      "\n",
      "====== WebDriver manager ======\n",
      "Current google-chrome version is 96.0.4664\n",
      "Get LATEST chromedriver version for 96.0.4664 google-chrome\n",
      "Driver [/home/szogabaha/.wdm/drivers/chromedriver/linux64/96.0.4664.45/chromedriver] found in cache\n"
     ]
    },
    {
     "name": "stdout",
     "output_type": "stream",
     "text": [
      "Sawai done (5 features)\n"
     ]
    },
    {
     "name": "stderr",
     "output_type": "stream",
     "text": [
      "\n",
      "\n",
      "====== WebDriver manager ======\n",
      "Current google-chrome version is 96.0.4664\n",
      "Get LATEST chromedriver version for 96.0.4664 google-chrome\n",
      "Driver [/home/szogabaha/.wdm/drivers/chromedriver/linux64/96.0.4664.45/chromedriver] found in cache\n"
     ]
    },
    {
     "name": "stdout",
     "output_type": "stream",
     "text": [
      "Sawu done (24 features)\n"
     ]
    },
    {
     "name": "stderr",
     "output_type": "stream",
     "text": [
      "\n",
      "\n",
      "====== WebDriver manager ======\n",
      "Current google-chrome version is 96.0.4664\n",
      "Get LATEST chromedriver version for 96.0.4664 google-chrome\n",
      "Driver [/home/szogabaha/.wdm/drivers/chromedriver/linux64/96.0.4664.45/chromedriver] found in cache\n"
     ]
    },
    {
     "name": "stdout",
     "output_type": "stream",
     "text": [
      "Sayula Popoluca done (4 features)\n"
     ]
    },
    {
     "name": "stderr",
     "output_type": "stream",
     "text": [
      "\n",
      "\n",
      "====== WebDriver manager ======\n",
      "Current google-chrome version is 96.0.4664\n",
      "Get LATEST chromedriver version for 96.0.4664 google-chrome\n",
      "Driver [/home/szogabaha/.wdm/drivers/chromedriver/linux64/96.0.4664.45/chromedriver] found in cache\n"
     ]
    },
    {
     "name": "stdout",
     "output_type": "stream",
     "text": [
      "Sebei done (25 features)\n"
     ]
    },
    {
     "name": "stderr",
     "output_type": "stream",
     "text": [
      "\n",
      "\n",
      "====== WebDriver manager ======\n",
      "Current google-chrome version is 96.0.4664\n",
      "Get LATEST chromedriver version for 96.0.4664 google-chrome\n",
      "Driver [/home/szogabaha/.wdm/drivers/chromedriver/linux64/96.0.4664.45/chromedriver] found in cache\n"
     ]
    },
    {
     "name": "stdout",
     "output_type": "stream",
     "text": [
      "Secoya done (7 features)\n"
     ]
    },
    {
     "name": "stderr",
     "output_type": "stream",
     "text": [
      "\n",
      "\n",
      "====== WebDriver manager ======\n",
      "Current google-chrome version is 96.0.4664\n",
      "Get LATEST chromedriver version for 96.0.4664 google-chrome\n",
      "Driver [/home/szogabaha/.wdm/drivers/chromedriver/linux64/96.0.4664.45/chromedriver] found in cache\n"
     ]
    },
    {
     "name": "stdout",
     "output_type": "stream",
     "text": [
      "Sedang done (62 features)\n"
     ]
    },
    {
     "name": "stderr",
     "output_type": "stream",
     "text": [
      "\n",
      "\n",
      "====== WebDriver manager ======\n",
      "Current google-chrome version is 96.0.4664\n",
      "Get LATEST chromedriver version for 96.0.4664 google-chrome\n",
      "Driver [/home/szogabaha/.wdm/drivers/chromedriver/linux64/96.0.4664.45/chromedriver] found in cache\n"
     ]
    },
    {
     "name": "stdout",
     "output_type": "stream",
     "text": [
      "Seediq done (34 features)\n"
     ]
    },
    {
     "name": "stderr",
     "output_type": "stream",
     "text": [
      "\n",
      "\n",
      "====== WebDriver manager ======\n",
      "Current google-chrome version is 96.0.4664\n",
      "Get LATEST chromedriver version for 96.0.4664 google-chrome\n",
      "Driver [/home/szogabaha/.wdm/drivers/chromedriver/linux64/96.0.4664.45/chromedriver] found in cache\n"
     ]
    },
    {
     "name": "stdout",
     "output_type": "stream",
     "text": [
      "Selaru done (4 features)\n"
     ]
    },
    {
     "name": "stderr",
     "output_type": "stream",
     "text": [
      "\n",
      "\n",
      "====== WebDriver manager ======\n",
      "Current google-chrome version is 96.0.4664\n",
      "Get LATEST chromedriver version for 96.0.4664 google-chrome\n",
      "Driver [/home/szogabaha/.wdm/drivers/chromedriver/linux64/96.0.4664.45/chromedriver] found in cache\n"
     ]
    },
    {
     "name": "stdout",
     "output_type": "stream",
     "text": [
      "Selayar done (4 features)\n"
     ]
    },
    {
     "name": "stderr",
     "output_type": "stream",
     "text": [
      "\n",
      "\n",
      "====== WebDriver manager ======\n",
      "Current google-chrome version is 96.0.4664\n",
      "Get LATEST chromedriver version for 96.0.4664 google-chrome\n",
      "Driver [/home/szogabaha/.wdm/drivers/chromedriver/linux64/96.0.4664.45/chromedriver] found in cache\n"
     ]
    },
    {
     "name": "stdout",
     "output_type": "stream",
     "text": [
      "Selepet done (36 features)\n"
     ]
    },
    {
     "name": "stderr",
     "output_type": "stream",
     "text": [
      "\n",
      "\n",
      "====== WebDriver manager ======\n",
      "Current google-chrome version is 96.0.4664\n",
      "Get LATEST chromedriver version for 96.0.4664 google-chrome\n",
      "Driver [/home/szogabaha/.wdm/drivers/chromedriver/linux64/96.0.4664.45/chromedriver] found in cache\n"
     ]
    },
    {
     "name": "stdout",
     "output_type": "stream",
     "text": [
      "Selknam done (64 features)\n"
     ]
    },
    {
     "name": "stderr",
     "output_type": "stream",
     "text": [
      "\n",
      "\n",
      "====== WebDriver manager ======\n",
      "Current google-chrome version is 96.0.4664\n",
      "Get LATEST chromedriver version for 96.0.4664 google-chrome\n",
      "Driver [/home/szogabaha/.wdm/drivers/chromedriver/linux64/96.0.4664.45/chromedriver] found in cache\n"
     ]
    },
    {
     "name": "stdout",
     "output_type": "stream",
     "text": [
      "Selkup done (42 features)\n"
     ]
    },
    {
     "name": "stderr",
     "output_type": "stream",
     "text": [
      "\n",
      "\n",
      "====== WebDriver manager ======\n",
      "Current google-chrome version is 96.0.4664\n",
      "Get LATEST chromedriver version for 96.0.4664 google-chrome\n",
      "Driver [/home/szogabaha/.wdm/drivers/chromedriver/linux64/96.0.4664.45/chromedriver] found in cache\n"
     ]
    },
    {
     "name": "stdout",
     "output_type": "stream",
     "text": [
      "Sema done (36 features)\n"
     ]
    },
    {
     "name": "stderr",
     "output_type": "stream",
     "text": [
      "\n",
      "\n",
      "====== WebDriver manager ======\n",
      "Current google-chrome version is 96.0.4664\n",
      "Get LATEST chromedriver version for 96.0.4664 google-chrome\n",
      "Driver [/home/szogabaha/.wdm/drivers/chromedriver/linux64/96.0.4664.45/chromedriver] found in cache\n"
     ]
    },
    {
     "name": "stdout",
     "output_type": "stream",
     "text": [
      "Semai done (2 features)\n"
     ]
    },
    {
     "name": "stderr",
     "output_type": "stream",
     "text": [
      "\n",
      "\n",
      "====== WebDriver manager ======\n",
      "Current google-chrome version is 96.0.4664\n",
      "Get LATEST chromedriver version for 96.0.4664 google-chrome\n",
      "Driver [/home/szogabaha/.wdm/drivers/chromedriver/linux64/96.0.4664.45/chromedriver] found in cache\n"
     ]
    },
    {
     "name": "stdout",
     "output_type": "stream",
     "text": [
      "Semandang done (1 features)\n"
     ]
    },
    {
     "name": "stderr",
     "output_type": "stream",
     "text": [
      "\n",
      "\n",
      "====== WebDriver manager ======\n",
      "Current google-chrome version is 96.0.4664\n",
      "Get LATEST chromedriver version for 96.0.4664 google-chrome\n",
      "Driver [/home/szogabaha/.wdm/drivers/chromedriver/linux64/96.0.4664.45/chromedriver] found in cache\n"
     ]
    },
    {
     "name": "stdout",
     "output_type": "stream",
     "text": [
      "Seme done (25 features)\n"
     ]
    },
    {
     "name": "stderr",
     "output_type": "stream",
     "text": [
      "\n",
      "\n",
      "====== WebDriver manager ======\n",
      "Current google-chrome version is 96.0.4664\n",
      "Get LATEST chromedriver version for 96.0.4664 google-chrome\n",
      "Driver [/home/szogabaha/.wdm/drivers/chromedriver/linux64/96.0.4664.45/chromedriver] found in cache\n"
     ]
    },
    {
     "name": "stdout",
     "output_type": "stream",
     "text": [
      "Semelai done (104 features)\n"
     ]
    },
    {
     "name": "stderr",
     "output_type": "stream",
     "text": [
      "\n",
      "\n",
      "====== WebDriver manager ======\n",
      "Current google-chrome version is 96.0.4664\n",
      "Get LATEST chromedriver version for 96.0.4664 google-chrome\n",
      "Driver [/home/szogabaha/.wdm/drivers/chromedriver/linux64/96.0.4664.45/chromedriver] found in cache\n"
     ]
    },
    {
     "name": "stdout",
     "output_type": "stream",
     "text": [
      "Seminole done (27 features)\n"
     ]
    },
    {
     "name": "stderr",
     "output_type": "stream",
     "text": [
      "\n",
      "\n",
      "====== WebDriver manager ======\n",
      "Current google-chrome version is 96.0.4664\n",
      "Get LATEST chromedriver version for 96.0.4664 google-chrome\n",
      "Driver [/home/szogabaha/.wdm/drivers/chromedriver/linux64/96.0.4664.45/chromedriver] found in cache\n"
     ]
    },
    {
     "name": "stdout",
     "output_type": "stream",
     "text": [
      "Sena done (3 features)\n"
     ]
    },
    {
     "name": "stderr",
     "output_type": "stream",
     "text": [
      "\n",
      "\n",
      "====== WebDriver manager ======\n",
      "Current google-chrome version is 96.0.4664\n",
      "Get LATEST chromedriver version for 96.0.4664 google-chrome\n",
      "Driver [/home/szogabaha/.wdm/drivers/chromedriver/linux64/96.0.4664.45/chromedriver] found in cache\n"
     ]
    },
    {
     "name": "stdout",
     "output_type": "stream",
     "text": [
      "Senadi done (15 features)\n"
     ]
    },
    {
     "name": "stderr",
     "output_type": "stream",
     "text": [
      "\n",
      "\n",
      "====== WebDriver manager ======\n",
      "Current google-chrome version is 96.0.4664\n",
      "Get LATEST chromedriver version for 96.0.4664 google-chrome\n",
      "Driver [/home/szogabaha/.wdm/drivers/chromedriver/linux64/96.0.4664.45/chromedriver] found in cache\n"
     ]
    },
    {
     "name": "stdout",
     "output_type": "stream",
     "text": [
      "Seneca done (51 features)\n"
     ]
    },
    {
     "name": "stderr",
     "output_type": "stream",
     "text": [
      "\n",
      "\n",
      "====== WebDriver manager ======\n",
      "Current google-chrome version is 96.0.4664\n",
      "Get LATEST chromedriver version for 96.0.4664 google-chrome\n",
      "Driver [/home/szogabaha/.wdm/drivers/chromedriver/linux64/96.0.4664.45/chromedriver] found in cache\n"
     ]
    },
    {
     "name": "stdout",
     "output_type": "stream",
     "text": [
      "Sengele done (22 features)\n"
     ]
    },
    {
     "name": "stderr",
     "output_type": "stream",
     "text": [
      "\n",
      "\n",
      "====== WebDriver manager ======\n",
      "Current google-chrome version is 96.0.4664\n",
      "Get LATEST chromedriver version for 96.0.4664 google-chrome\n",
      "Driver [/home/szogabaha/.wdm/drivers/chromedriver/linux64/96.0.4664.45/chromedriver] found in cache\n"
     ]
    },
    {
     "name": "stdout",
     "output_type": "stream",
     "text": [
      "Sentani done (87 features)\n"
     ]
    },
    {
     "name": "stderr",
     "output_type": "stream",
     "text": [
      "\n",
      "\n",
      "====== WebDriver manager ======\n",
      "Current google-chrome version is 96.0.4664\n",
      "Get LATEST chromedriver version for 96.0.4664 google-chrome\n",
      "Driver [/home/szogabaha/.wdm/drivers/chromedriver/linux64/96.0.4664.45/chromedriver] found in cache\n"
     ]
    },
    {
     "name": "stdout",
     "output_type": "stream",
     "text": [
      "Serbian-Croatian done (60 features)\n"
     ]
    },
    {
     "name": "stderr",
     "output_type": "stream",
     "text": [
      "\n",
      "\n",
      "====== WebDriver manager ======\n",
      "Current google-chrome version is 96.0.4664\n",
      "Get LATEST chromedriver version for 96.0.4664 google-chrome\n",
      "Driver [/home/szogabaha/.wdm/drivers/chromedriver/linux64/96.0.4664.45/chromedriver] found in cache\n"
     ]
    },
    {
     "name": "stdout",
     "output_type": "stream",
     "text": [
      "Seri done (49 features)\n"
     ]
    },
    {
     "name": "stderr",
     "output_type": "stream",
     "text": [
      "\n",
      "\n",
      "====== WebDriver manager ======\n",
      "Current google-chrome version is 96.0.4664\n",
      "Get LATEST chromedriver version for 96.0.4664 google-chrome\n",
      "Driver [/home/szogabaha/.wdm/drivers/chromedriver/linux64/96.0.4664.45/chromedriver] found in cache\n"
     ]
    },
    {
     "name": "stdout",
     "output_type": "stream",
     "text": [
      "Serrano done (5 features)\n"
     ]
    },
    {
     "name": "stderr",
     "output_type": "stream",
     "text": [
      "\n",
      "\n",
      "====== WebDriver manager ======\n",
      "Current google-chrome version is 96.0.4664\n",
      "Get LATEST chromedriver version for 96.0.4664 google-chrome\n",
      "Driver [/home/szogabaha/.wdm/drivers/chromedriver/linux64/96.0.4664.45/chromedriver] found in cache\n"
     ]
    },
    {
     "name": "stdout",
     "output_type": "stream",
     "text": [
      "Sesotho done (40 features)\n"
     ]
    },
    {
     "name": "stderr",
     "output_type": "stream",
     "text": [
      "\n",
      "\n",
      "====== WebDriver manager ======\n",
      "Current google-chrome version is 96.0.4664\n",
      "Get LATEST chromedriver version for 96.0.4664 google-chrome\n",
      "Driver [/home/szogabaha/.wdm/drivers/chromedriver/linux64/96.0.4664.45/chromedriver] found in cache\n"
     ]
    },
    {
     "name": "stdout",
     "output_type": "stream",
     "text": [
      "Seychelles Creole done (4 features)\n"
     ]
    },
    {
     "name": "stderr",
     "output_type": "stream",
     "text": [
      "\n",
      "\n",
      "====== WebDriver manager ======\n",
      "Current google-chrome version is 96.0.4664\n",
      "Get LATEST chromedriver version for 96.0.4664 google-chrome\n",
      "Driver [/home/szogabaha/.wdm/drivers/chromedriver/linux64/96.0.4664.45/chromedriver] found in cache\n"
     ]
    },
    {
     "name": "stdout",
     "output_type": "stream",
     "text": [
      "Shabo done (26 features)\n"
     ]
    },
    {
     "name": "stderr",
     "output_type": "stream",
     "text": [
      "\n",
      "\n",
      "====== WebDriver manager ======\n",
      "Current google-chrome version is 96.0.4664\n",
      "Get LATEST chromedriver version for 96.0.4664 google-chrome\n",
      "Driver [/home/szogabaha/.wdm/drivers/chromedriver/linux64/96.0.4664.45/chromedriver] found in cache\n"
     ]
    },
    {
     "name": "stdout",
     "output_type": "stream",
     "text": [
      "Shambala done (23 features)\n"
     ]
    },
    {
     "name": "stderr",
     "output_type": "stream",
     "text": [
      "\n",
      "\n",
      "====== WebDriver manager ======\n",
      "Current google-chrome version is 96.0.4664\n",
      "Get LATEST chromedriver version for 96.0.4664 google-chrome\n",
      "Driver [/home/szogabaha/.wdm/drivers/chromedriver/linux64/96.0.4664.45/chromedriver] found in cache\n"
     ]
    },
    {
     "name": "stdout",
     "output_type": "stream",
     "text": [
      "Shan done (17 features)\n"
     ]
    },
    {
     "name": "stderr",
     "output_type": "stream",
     "text": [
      "\n",
      "\n",
      "====== WebDriver manager ======\n",
      "Current google-chrome version is 96.0.4664\n",
      "Get LATEST chromedriver version for 96.0.4664 google-chrome\n",
      "Driver [/home/szogabaha/.wdm/drivers/chromedriver/linux64/96.0.4664.45/chromedriver] found in cache\n"
     ]
    },
    {
     "name": "stdout",
     "output_type": "stream",
     "text": [
      "Sharanahua done (22 features)\n"
     ]
    },
    {
     "name": "stderr",
     "output_type": "stream",
     "text": [
      "\n",
      "\n",
      "====== WebDriver manager ======\n",
      "Current google-chrome version is 96.0.4664\n",
      "Get LATEST chromedriver version for 96.0.4664 google-chrome\n",
      "Driver [/home/szogabaha/.wdm/drivers/chromedriver/linux64/96.0.4664.45/chromedriver] found in cache\n"
     ]
    },
    {
     "name": "stdout",
     "output_type": "stream",
     "text": [
      "Shasta done (26 features)\n"
     ]
    },
    {
     "name": "stderr",
     "output_type": "stream",
     "text": [
      "\n",
      "\n",
      "====== WebDriver manager ======\n",
      "Current google-chrome version is 96.0.4664\n",
      "Get LATEST chromedriver version for 96.0.4664 google-chrome\n",
      "Driver [/home/szogabaha/.wdm/drivers/chromedriver/linux64/96.0.4664.45/chromedriver] found in cache\n"
     ]
    },
    {
     "name": "stdout",
     "output_type": "stream",
     "text": [
      "Shatt done (29 features)\n"
     ]
    },
    {
     "name": "stderr",
     "output_type": "stream",
     "text": [
      "\n",
      "\n",
      "====== WebDriver manager ======\n",
      "Current google-chrome version is 96.0.4664\n",
      "Get LATEST chromedriver version for 96.0.4664 google-chrome\n",
      "Driver [/home/szogabaha/.wdm/drivers/chromedriver/linux64/96.0.4664.45/chromedriver] found in cache\n"
     ]
    },
    {
     "name": "stdout",
     "output_type": "stream",
     "text": [
      "Shawnee done (3 features)\n"
     ]
    },
    {
     "name": "stderr",
     "output_type": "stream",
     "text": [
      "\n",
      "\n",
      "====== WebDriver manager ======\n",
      "Current google-chrome version is 96.0.4664\n",
      "Get LATEST chromedriver version for 96.0.4664 google-chrome\n",
      "Driver [/home/szogabaha/.wdm/drivers/chromedriver/linux64/96.0.4664.45/chromedriver] found in cache\n"
     ]
    },
    {
     "name": "stdout",
     "output_type": "stream",
     "text": [
      "Shekhawati done (20 features)\n"
     ]
    },
    {
     "name": "stderr",
     "output_type": "stream",
     "text": [
      "\n",
      "\n",
      "====== WebDriver manager ======\n",
      "Current google-chrome version is 96.0.4664\n",
      "Get LATEST chromedriver version for 96.0.4664 google-chrome\n",
      "Driver [/home/szogabaha/.wdm/drivers/chromedriver/linux64/96.0.4664.45/chromedriver] found in cache\n"
     ]
    },
    {
     "name": "stdout",
     "output_type": "stream",
     "text": [
      "Sherdukpen done (2 features)\n"
     ]
    },
    {
     "name": "stderr",
     "output_type": "stream",
     "text": [
      "\n",
      "\n",
      "====== WebDriver manager ======\n",
      "Current google-chrome version is 96.0.4664\n",
      "Get LATEST chromedriver version for 96.0.4664 google-chrome\n",
      "Driver [/home/szogabaha/.wdm/drivers/chromedriver/linux64/96.0.4664.45/chromedriver] found in cache\n"
     ]
    },
    {
     "name": "stdout",
     "output_type": "stream",
     "text": [
      "Sherpa done (27 features)\n"
     ]
    },
    {
     "name": "stderr",
     "output_type": "stream",
     "text": [
      "\n",
      "\n",
      "====== WebDriver manager ======\n",
      "Current google-chrome version is 96.0.4664\n",
      "Get LATEST chromedriver version for 96.0.4664 google-chrome\n",
      "Driver [/home/szogabaha/.wdm/drivers/chromedriver/linux64/96.0.4664.45/chromedriver] found in cache\n"
     ]
    },
    {
     "name": "stdout",
     "output_type": "stream",
     "text": [
      "Shilluk done (39 features)\n"
     ]
    },
    {
     "name": "stderr",
     "output_type": "stream",
     "text": [
      "\n",
      "\n",
      "====== WebDriver manager ======\n",
      "Current google-chrome version is 96.0.4664\n",
      "Get LATEST chromedriver version for 96.0.4664 google-chrome\n",
      "Driver [/home/szogabaha/.wdm/drivers/chromedriver/linux64/96.0.4664.45/chromedriver] found in cache\n"
     ]
    },
    {
     "name": "stdout",
     "output_type": "stream",
     "text": [
      "Shina done (33 features)\n"
     ]
    },
    {
     "name": "stderr",
     "output_type": "stream",
     "text": [
      "\n",
      "\n",
      "====== WebDriver manager ======\n",
      "Current google-chrome version is 96.0.4664\n",
      "Get LATEST chromedriver version for 96.0.4664 google-chrome\n",
      "Driver [/home/szogabaha/.wdm/drivers/chromedriver/linux64/96.0.4664.45/chromedriver] found in cache\n"
     ]
    },
    {
     "name": "stdout",
     "output_type": "stream",
     "text": [
      "Shinassha done (4 features)\n"
     ]
    },
    {
     "name": "stderr",
     "output_type": "stream",
     "text": [
      "\n",
      "\n",
      "====== WebDriver manager ======\n",
      "Current google-chrome version is 96.0.4664\n",
      "Get LATEST chromedriver version for 96.0.4664 google-chrome\n",
      "Driver [/home/szogabaha/.wdm/drivers/chromedriver/linux64/96.0.4664.45/chromedriver] found in cache\n"
     ]
    },
    {
     "name": "stdout",
     "output_type": "stream",
     "text": [
      "Shipibo-Konibo done (118 features)\n"
     ]
    },
    {
     "name": "stderr",
     "output_type": "stream",
     "text": [
      "\n",
      "\n",
      "====== WebDriver manager ======\n",
      "Current google-chrome version is 96.0.4664\n",
      "Get LATEST chromedriver version for 96.0.4664 google-chrome\n",
      "Driver [/home/szogabaha/.wdm/drivers/chromedriver/linux64/96.0.4664.45/chromedriver] found in cache\n"
     ]
    },
    {
     "name": "stdout",
     "output_type": "stream",
     "text": [
      "Shira Yughur done (9 features)\n"
     ]
    },
    {
     "name": "stderr",
     "output_type": "stream",
     "text": [
      "\n",
      "\n",
      "====== WebDriver manager ======\n",
      "Current google-chrome version is 96.0.4664\n",
      "Get LATEST chromedriver version for 96.0.4664 google-chrome\n",
      "Driver [/home/szogabaha/.wdm/drivers/chromedriver/linux64/96.0.4664.45/chromedriver] found in cache\n"
     ]
    },
    {
     "name": "stdout",
     "output_type": "stream",
     "text": [
      "Shiriana done (47 features)\n"
     ]
    },
    {
     "name": "stderr",
     "output_type": "stream",
     "text": [
      "\n",
      "\n",
      "====== WebDriver manager ======\n",
      "Current google-chrome version is 96.0.4664\n",
      "Get LATEST chromedriver version for 96.0.4664 google-chrome\n",
      "Driver [/home/szogabaha/.wdm/drivers/chromedriver/linux64/96.0.4664.45/chromedriver] found in cache\n"
     ]
    },
    {
     "name": "stdout",
     "output_type": "stream",
     "text": [
      "Shompen done (8 features)\n"
     ]
    },
    {
     "name": "stderr",
     "output_type": "stream",
     "text": [
      "\n",
      "\n",
      "====== WebDriver manager ======\n",
      "Current google-chrome version is 96.0.4664\n",
      "Get LATEST chromedriver version for 96.0.4664 google-chrome\n",
      "Driver [/home/szogabaha/.wdm/drivers/chromedriver/linux64/96.0.4664.45/chromedriver] found in cache\n"
     ]
    },
    {
     "name": "stdout",
     "output_type": "stream",
     "text": [
      "Shona done (48 features)\n"
     ]
    },
    {
     "name": "stderr",
     "output_type": "stream",
     "text": [
      "\n",
      "\n",
      "====== WebDriver manager ======\n",
      "Current google-chrome version is 96.0.4664\n",
      "Get LATEST chromedriver version for 96.0.4664 google-chrome\n",
      "Driver [/home/szogabaha/.wdm/drivers/chromedriver/linux64/96.0.4664.45/chromedriver] found in cache\n"
     ]
    },
    {
     "name": "stdout",
     "output_type": "stream",
     "text": [
      "Shor done (3 features)\n"
     ]
    },
    {
     "name": "stderr",
     "output_type": "stream",
     "text": [
      "\n",
      "\n",
      "====== WebDriver manager ======\n",
      "Current google-chrome version is 96.0.4664\n",
      "Get LATEST chromedriver version for 96.0.4664 google-chrome\n",
      "Driver [/home/szogabaha/.wdm/drivers/chromedriver/linux64/96.0.4664.45/chromedriver] found in cache\n"
     ]
    },
    {
     "name": "stdout",
     "output_type": "stream",
     "text": [
      "Shoshone done (20 features)\n"
     ]
    },
    {
     "name": "stderr",
     "output_type": "stream",
     "text": [
      "\n",
      "\n",
      "====== WebDriver manager ======\n",
      "Current google-chrome version is 96.0.4664\n",
      "Get LATEST chromedriver version for 96.0.4664 google-chrome\n",
      "Driver [/home/szogabaha/.wdm/drivers/chromedriver/linux64/96.0.4664.45/chromedriver] found in cache\n"
     ]
    },
    {
     "name": "stdout",
     "output_type": "stream",
     "text": [
      "Shoshone (Wind River) done (1 features)\n"
     ]
    },
    {
     "name": "stderr",
     "output_type": "stream",
     "text": [
      "\n",
      "\n",
      "====== WebDriver manager ======\n",
      "Current google-chrome version is 96.0.4664\n",
      "Get LATEST chromedriver version for 96.0.4664 google-chrome\n",
      "Driver [/home/szogabaha/.wdm/drivers/chromedriver/linux64/96.0.4664.45/chromedriver] found in cache\n"
     ]
    },
    {
     "name": "stdout",
     "output_type": "stream",
     "text": [
      "Shughni done (1 features)\n"
     ]
    },
    {
     "name": "stderr",
     "output_type": "stream",
     "text": [
      "\n",
      "\n",
      "====== WebDriver manager ======\n",
      "Current google-chrome version is 96.0.4664\n",
      "Get LATEST chromedriver version for 96.0.4664 google-chrome\n",
      "Driver [/home/szogabaha/.wdm/drivers/chromedriver/linux64/96.0.4664.45/chromedriver] found in cache\n"
     ]
    },
    {
     "name": "stdout",
     "output_type": "stream",
     "text": [
      "Shuri done (7 features)\n"
     ]
    },
    {
     "name": "stderr",
     "output_type": "stream",
     "text": [
      "\n",
      "\n",
      "====== WebDriver manager ======\n",
      "Current google-chrome version is 96.0.4664\n",
      "Get LATEST chromedriver version for 96.0.4664 google-chrome\n",
      "Driver [/home/szogabaha/.wdm/drivers/chromedriver/linux64/96.0.4664.45/chromedriver] found in cache\n"
     ]
    },
    {
     "name": "stdout",
     "output_type": "stream",
     "text": [
      "Shuswap done (57 features)\n"
     ]
    },
    {
     "name": "stderr",
     "output_type": "stream",
     "text": [
      "\n",
      "\n",
      "====== WebDriver manager ======\n",
      "Current google-chrome version is 96.0.4664\n",
      "Get LATEST chromedriver version for 96.0.4664 google-chrome\n",
      "Driver [/home/szogabaha/.wdm/drivers/chromedriver/linux64/96.0.4664.45/chromedriver] found in cache\n"
     ]
    },
    {
     "name": "stdout",
     "output_type": "stream",
     "text": [
      "Siane done (28 features)\n"
     ]
    },
    {
     "name": "stderr",
     "output_type": "stream",
     "text": [
      "\n",
      "\n",
      "====== WebDriver manager ======\n",
      "Current google-chrome version is 96.0.4664\n",
      "Get LATEST chromedriver version for 96.0.4664 google-chrome\n",
      "Driver [/home/szogabaha/.wdm/drivers/chromedriver/linux64/96.0.4664.45/chromedriver] found in cache\n"
     ]
    },
    {
     "name": "stdout",
     "output_type": "stream",
     "text": [
      "Siar done (29 features)\n"
     ]
    },
    {
     "name": "stderr",
     "output_type": "stream",
     "text": [
      "\n",
      "\n",
      "====== WebDriver manager ======\n",
      "Current google-chrome version is 96.0.4664\n",
      "Get LATEST chromedriver version for 96.0.4664 google-chrome\n",
      "Driver [/home/szogabaha/.wdm/drivers/chromedriver/linux64/96.0.4664.45/chromedriver] found in cache\n"
     ]
    },
    {
     "name": "stdout",
     "output_type": "stream",
     "text": [
      "Sidaama done (35 features)\n"
     ]
    },
    {
     "name": "stderr",
     "output_type": "stream",
     "text": [
      "\n",
      "\n",
      "====== WebDriver manager ======\n",
      "Current google-chrome version is 96.0.4664\n",
      "Get LATEST chromedriver version for 96.0.4664 google-chrome\n",
      "Driver [/home/szogabaha/.wdm/drivers/chromedriver/linux64/96.0.4664.45/chromedriver] found in cache\n"
     ]
    },
    {
     "name": "stdout",
     "output_type": "stream",
     "text": [
      "Sika done (1 features)\n"
     ]
    },
    {
     "name": "stderr",
     "output_type": "stream",
     "text": [
      "\n",
      "\n",
      "====== WebDriver manager ======\n",
      "Current google-chrome version is 96.0.4664\n",
      "Get LATEST chromedriver version for 96.0.4664 google-chrome\n",
      "Driver [/home/szogabaha/.wdm/drivers/chromedriver/linux64/96.0.4664.45/chromedriver] found in cache\n"
     ]
    },
    {
     "name": "stdout",
     "output_type": "stream",
     "text": [
      "Sikaritai done (10 features)\n"
     ]
    },
    {
     "name": "stderr",
     "output_type": "stream",
     "text": [
      "\n",
      "\n",
      "====== WebDriver manager ======\n",
      "Current google-chrome version is 96.0.4664\n",
      "Get LATEST chromedriver version for 96.0.4664 google-chrome\n",
      "Driver [/home/szogabaha/.wdm/drivers/chromedriver/linux64/96.0.4664.45/chromedriver] found in cache\n"
     ]
    },
    {
     "name": "stdout",
     "output_type": "stream",
     "text": [
      "Sikkimese done (32 features)\n"
     ]
    },
    {
     "name": "stderr",
     "output_type": "stream",
     "text": [
      "\n",
      "\n",
      "====== WebDriver manager ======\n",
      "Current google-chrome version is 96.0.4664\n",
      "Get LATEST chromedriver version for 96.0.4664 google-chrome\n",
      "Driver [/home/szogabaha/.wdm/drivers/chromedriver/linux64/96.0.4664.45/chromedriver] found in cache\n"
     ]
    },
    {
     "name": "stdout",
     "output_type": "stream",
     "text": [
      "Sikule done (3 features)\n"
     ]
    },
    {
     "name": "stderr",
     "output_type": "stream",
     "text": [
      "\n",
      "\n",
      "====== WebDriver manager ======\n",
      "Current google-chrome version is 96.0.4664\n",
      "Get LATEST chromedriver version for 96.0.4664 google-chrome\n",
      "Driver [/home/szogabaha/.wdm/drivers/chromedriver/linux64/96.0.4664.45/chromedriver] found in cache\n"
     ]
    },
    {
     "name": "stdout",
     "output_type": "stream",
     "text": [
      "Sila done (20 features)\n"
     ]
    },
    {
     "name": "stderr",
     "output_type": "stream",
     "text": [
      "\n",
      "\n",
      "====== WebDriver manager ======\n",
      "Current google-chrome version is 96.0.4664\n",
      "Get LATEST chromedriver version for 96.0.4664 google-chrome\n",
      "Driver [/home/szogabaha/.wdm/drivers/chromedriver/linux64/96.0.4664.45/chromedriver] found in cache\n"
     ]
    },
    {
     "name": "stdout",
     "output_type": "stream",
     "text": [
      "Simeulue done (13 features)\n"
     ]
    },
    {
     "name": "stderr",
     "output_type": "stream",
     "text": [
      "\n",
      "\n",
      "====== WebDriver manager ======\n",
      "Current google-chrome version is 96.0.4664\n",
      "Get LATEST chromedriver version for 96.0.4664 google-chrome\n",
      "Driver [/home/szogabaha/.wdm/drivers/chromedriver/linux64/96.0.4664.45/chromedriver] found in cache\n"
     ]
    },
    {
     "name": "stdout",
     "output_type": "stream",
     "text": [
      "Sinaugoro done (43 features)\n"
     ]
    },
    {
     "name": "stderr",
     "output_type": "stream",
     "text": [
      "\n",
      "\n",
      "====== WebDriver manager ======\n",
      "Current google-chrome version is 96.0.4664\n",
      "Get LATEST chromedriver version for 96.0.4664 google-chrome\n",
      "Driver [/home/szogabaha/.wdm/drivers/chromedriver/linux64/96.0.4664.45/chromedriver] found in cache\n"
     ]
    },
    {
     "name": "stdout",
     "output_type": "stream",
     "text": [
      "Sindhi done (18 features)\n"
     ]
    },
    {
     "name": "stderr",
     "output_type": "stream",
     "text": [
      "\n",
      "\n",
      "====== WebDriver manager ======\n",
      "Current google-chrome version is 96.0.4664\n",
      "Get LATEST chromedriver version for 96.0.4664 google-chrome\n",
      "Driver [/home/szogabaha/.wdm/drivers/chromedriver/linux64/96.0.4664.45/chromedriver] found in cache\n"
     ]
    },
    {
     "name": "stdout",
     "output_type": "stream",
     "text": [
      "Sinhala done (45 features)\n"
     ]
    },
    {
     "name": "stderr",
     "output_type": "stream",
     "text": [
      "\n",
      "\n",
      "====== WebDriver manager ======\n",
      "Current google-chrome version is 96.0.4664\n",
      "Get LATEST chromedriver version for 96.0.4664 google-chrome\n",
      "Driver [/home/szogabaha/.wdm/drivers/chromedriver/linux64/96.0.4664.45/chromedriver] found in cache\n"
     ]
    },
    {
     "name": "stdout",
     "output_type": "stream",
     "text": [
      "Sio done (42 features)\n"
     ]
    },
    {
     "name": "stderr",
     "output_type": "stream",
     "text": [
      "\n",
      "\n",
      "====== WebDriver manager ======\n",
      "Current google-chrome version is 96.0.4664\n",
      "Get LATEST chromedriver version for 96.0.4664 google-chrome\n",
      "Driver [/home/szogabaha/.wdm/drivers/chromedriver/linux64/96.0.4664.45/chromedriver] found in cache\n"
     ]
    },
    {
     "name": "stdout",
     "output_type": "stream",
     "text": [
      "Siona done (35 features)\n"
     ]
    },
    {
     "name": "stderr",
     "output_type": "stream",
     "text": [
      "\n",
      "\n",
      "====== WebDriver manager ======\n",
      "Current google-chrome version is 96.0.4664\n",
      "Get LATEST chromedriver version for 96.0.4664 google-chrome\n",
      "Driver [/home/szogabaha/.wdm/drivers/chromedriver/linux64/96.0.4664.45/chromedriver] found in cache\n"
     ]
    },
    {
     "name": "stdout",
     "output_type": "stream",
     "text": [
      "Sipakapense done (36 features)\n"
     ]
    },
    {
     "name": "stderr",
     "output_type": "stream",
     "text": [
      "\n",
      "\n",
      "====== WebDriver manager ======\n",
      "Current google-chrome version is 96.0.4664\n",
      "Get LATEST chromedriver version for 96.0.4664 google-chrome\n",
      "Driver [/home/szogabaha/.wdm/drivers/chromedriver/linux64/96.0.4664.45/chromedriver] found in cache\n"
     ]
    },
    {
     "name": "stdout",
     "output_type": "stream",
     "text": [
      "Siraya done (1 features)\n"
     ]
    },
    {
     "name": "stderr",
     "output_type": "stream",
     "text": [
      "\n",
      "\n",
      "====== WebDriver manager ======\n",
      "Current google-chrome version is 96.0.4664\n",
      "Get LATEST chromedriver version for 96.0.4664 google-chrome\n",
      "Driver [/home/szogabaha/.wdm/drivers/chromedriver/linux64/96.0.4664.45/chromedriver] found in cache\n"
     ]
    },
    {
     "name": "stdout",
     "output_type": "stream",
     "text": [
      "Siriano done (2 features)\n"
     ]
    },
    {
     "name": "stderr",
     "output_type": "stream",
     "text": [
      "\n",
      "\n",
      "====== WebDriver manager ======\n",
      "Current google-chrome version is 96.0.4664\n",
      "Get LATEST chromedriver version for 96.0.4664 google-chrome\n"
     ]
    },
    {
     "name": "stdout",
     "output_type": "stream",
     "text": [
      "Sirionó done (44 features)\n"
     ]
    },
    {
     "name": "stderr",
     "output_type": "stream",
     "text": [
      "Driver [/home/szogabaha/.wdm/drivers/chromedriver/linux64/96.0.4664.45/chromedriver] found in cache\n",
      "\n",
      "\n",
      "====== WebDriver manager ======\n",
      "Current google-chrome version is 96.0.4664\n",
      "Get LATEST chromedriver version for 96.0.4664 google-chrome\n",
      "Driver [/home/szogabaha/.wdm/drivers/chromedriver/linux64/96.0.4664.45/chromedriver] found in cache\n"
     ]
    },
    {
     "name": "stdout",
     "output_type": "stream",
     "text": [
      "Siroi done (45 features)\n"
     ]
    },
    {
     "name": "stderr",
     "output_type": "stream",
     "text": [
      "\n",
      "\n",
      "====== WebDriver manager ======\n",
      "Current google-chrome version is 96.0.4664\n",
      "Get LATEST chromedriver version for 96.0.4664 google-chrome\n"
     ]
    },
    {
     "name": "stdout",
     "output_type": "stream",
     "text": [
      "Sisaala done (15 features)\n"
     ]
    },
    {
     "name": "stderr",
     "output_type": "stream",
     "text": [
      "Driver [/home/szogabaha/.wdm/drivers/chromedriver/linux64/96.0.4664.45/chromedriver] found in cache\n",
      "\n",
      "\n",
      "====== WebDriver manager ======\n",
      "Current google-chrome version is 96.0.4664\n",
      "Get LATEST chromedriver version for 96.0.4664 google-chrome\n",
      "Driver [/home/szogabaha/.wdm/drivers/chromedriver/linux64/96.0.4664.45/chromedriver] found in cache\n"
     ]
    },
    {
     "name": "stdout",
     "output_type": "stream",
     "text": [
      "Sisiqa done (35 features)\n"
     ]
    },
    {
     "name": "stderr",
     "output_type": "stream",
     "text": [
      "\n",
      "\n",
      "====== WebDriver manager ======\n",
      "Current google-chrome version is 96.0.4664\n",
      "Get LATEST chromedriver version for 96.0.4664 google-chrome\n",
      "Driver [/home/szogabaha/.wdm/drivers/chromedriver/linux64/96.0.4664.45/chromedriver] found in cache\n"
     ]
    },
    {
     "name": "stdout",
     "output_type": "stream",
     "text": [
      "Siuslaw done (54 features)\n"
     ]
    },
    {
     "name": "stderr",
     "output_type": "stream",
     "text": [
      "\n",
      "\n",
      "====== WebDriver manager ======\n",
      "Current google-chrome version is 96.0.4664\n",
      "Get LATEST chromedriver version for 96.0.4664 google-chrome\n",
      "Driver [/home/szogabaha/.wdm/drivers/chromedriver/linux64/96.0.4664.45/chromedriver] found in cache\n"
     ]
    },
    {
     "name": "stdout",
     "output_type": "stream",
     "text": [
      "Skou done (17 features)\n"
     ]
    },
    {
     "name": "stderr",
     "output_type": "stream",
     "text": [
      "\n",
      "\n",
      "====== WebDriver manager ======\n",
      "Current google-chrome version is 96.0.4664\n",
      "Get LATEST chromedriver version for 96.0.4664 google-chrome\n",
      "Driver [/home/szogabaha/.wdm/drivers/chromedriver/linux64/96.0.4664.45/chromedriver] found in cache\n"
     ]
    },
    {
     "name": "stdout",
     "output_type": "stream",
     "text": [
      "Slave done (143 features)\n"
     ]
    },
    {
     "name": "stderr",
     "output_type": "stream",
     "text": [
      "\n",
      "\n",
      "====== WebDriver manager ======\n",
      "Current google-chrome version is 96.0.4664\n",
      "Get LATEST chromedriver version for 96.0.4664 google-chrome\n",
      "Driver [/home/szogabaha/.wdm/drivers/chromedriver/linux64/96.0.4664.45/chromedriver] found in cache\n"
     ]
    },
    {
     "name": "stdout",
     "output_type": "stream",
     "text": [
      "Slavey done (2 features)\n"
     ]
    },
    {
     "name": "stderr",
     "output_type": "stream",
     "text": [
      "\n",
      "\n",
      "====== WebDriver manager ======\n",
      "Current google-chrome version is 96.0.4664\n",
      "Get LATEST chromedriver version for 96.0.4664 google-chrome\n",
      "Driver [/home/szogabaha/.wdm/drivers/chromedriver/linux64/96.0.4664.45/chromedriver] found in cache\n"
     ]
    },
    {
     "name": "stdout",
     "output_type": "stream",
     "text": [
      "Slovak done (13 features)\n"
     ]
    },
    {
     "name": "stderr",
     "output_type": "stream",
     "text": [
      "\n",
      "\n",
      "====== WebDriver manager ======\n",
      "Current google-chrome version is 96.0.4664\n",
      "Get LATEST chromedriver version for 96.0.4664 google-chrome\n",
      "Driver [/home/szogabaha/.wdm/drivers/chromedriver/linux64/96.0.4664.45/chromedriver] found in cache\n"
     ]
    },
    {
     "name": "stdout",
     "output_type": "stream",
     "text": [
      "Slovene done (43 features)\n"
     ]
    },
    {
     "name": "stderr",
     "output_type": "stream",
     "text": [
      "\n",
      "\n",
      "====== WebDriver manager ======\n",
      "Current google-chrome version is 96.0.4664\n",
      "Get LATEST chromedriver version for 96.0.4664 google-chrome\n",
      "Driver [/home/szogabaha/.wdm/drivers/chromedriver/linux64/96.0.4664.45/chromedriver] found in cache\n"
     ]
    },
    {
     "name": "stdout",
     "output_type": "stream",
     "text": [
      "Slovincian done (3 features)\n"
     ]
    },
    {
     "name": "stderr",
     "output_type": "stream",
     "text": [
      "\n",
      "\n",
      "====== WebDriver manager ======\n",
      "Current google-chrome version is 96.0.4664\n",
      "Get LATEST chromedriver version for 96.0.4664 google-chrome\n",
      "Driver [/home/szogabaha/.wdm/drivers/chromedriver/linux64/96.0.4664.45/chromedriver] found in cache\n"
     ]
    },
    {
     "name": "stdout",
     "output_type": "stream",
     "text": [
      "So done (57 features)\n"
     ]
    },
    {
     "name": "stderr",
     "output_type": "stream",
     "text": [
      "\n",
      "\n",
      "====== WebDriver manager ======\n",
      "Current google-chrome version is 96.0.4664\n",
      "Get LATEST chromedriver version for 96.0.4664 google-chrome\n",
      "Driver [/home/szogabaha/.wdm/drivers/chromedriver/linux64/96.0.4664.45/chromedriver] found in cache\n"
     ]
    },
    {
     "name": "stdout",
     "output_type": "stream",
     "text": [
      "Sobei done (34 features)\n"
     ]
    },
    {
     "name": "stderr",
     "output_type": "stream",
     "text": [
      "\n",
      "\n",
      "====== WebDriver manager ======\n",
      "Current google-chrome version is 96.0.4664\n",
      "Get LATEST chromedriver version for 96.0.4664 google-chrome\n",
      "Driver [/home/szogabaha/.wdm/drivers/chromedriver/linux64/96.0.4664.45/chromedriver] found in cache\n"
     ]
    },
    {
     "name": "stdout",
     "output_type": "stream",
     "text": [
      "Soddo done (23 features)\n"
     ]
    },
    {
     "name": "stderr",
     "output_type": "stream",
     "text": [
      "\n",
      "\n",
      "====== WebDriver manager ======\n",
      "Current google-chrome version is 96.0.4664\n",
      "Get LATEST chromedriver version for 96.0.4664 google-chrome\n",
      "Driver [/home/szogabaha/.wdm/drivers/chromedriver/linux64/96.0.4664.45/chromedriver] found in cache\n"
     ]
    },
    {
     "name": "stdout",
     "output_type": "stream",
     "text": [
      "Solon done (3 features)\n"
     ]
    },
    {
     "name": "stderr",
     "output_type": "stream",
     "text": [
      "\n",
      "\n",
      "====== WebDriver manager ======\n",
      "Current google-chrome version is 96.0.4664\n",
      "Get LATEST chromedriver version for 96.0.4664 google-chrome\n",
      "Driver [/home/szogabaha/.wdm/drivers/chromedriver/linux64/96.0.4664.45/chromedriver] found in cache\n"
     ]
    },
    {
     "name": "stdout",
     "output_type": "stream",
     "text": [
      "Somali done (87 features)\n"
     ]
    },
    {
     "name": "stderr",
     "output_type": "stream",
     "text": [
      "\n",
      "\n",
      "====== WebDriver manager ======\n",
      "Current google-chrome version is 96.0.4664\n",
      "Get LATEST chromedriver version for 96.0.4664 google-chrome\n",
      "Driver [/home/szogabaha/.wdm/drivers/chromedriver/linux64/96.0.4664.45/chromedriver] found in cache\n"
     ]
    },
    {
     "name": "stdout",
     "output_type": "stream",
     "text": [
      "Songe done (2 features)\n"
     ]
    },
    {
     "name": "stderr",
     "output_type": "stream",
     "text": [
      "\n",
      "\n",
      "====== WebDriver manager ======\n",
      "Current google-chrome version is 96.0.4664\n",
      "Get LATEST chromedriver version for 96.0.4664 google-chrome\n",
      "Driver [/home/szogabaha/.wdm/drivers/chromedriver/linux64/96.0.4664.45/chromedriver] found in cache\n"
     ]
    },
    {
     "name": "stdout",
     "output_type": "stream",
     "text": [
      "Songish done (1 features)\n"
     ]
    },
    {
     "name": "stderr",
     "output_type": "stream",
     "text": [
      "\n",
      "\n",
      "====== WebDriver manager ======\n",
      "Current google-chrome version is 96.0.4664\n",
      "Get LATEST chromedriver version for 96.0.4664 google-chrome\n",
      "Driver [/home/szogabaha/.wdm/drivers/chromedriver/linux64/96.0.4664.45/chromedriver] found in cache\n"
     ]
    },
    {
     "name": "stdout",
     "output_type": "stream",
     "text": [
      "Soninke done (25 features)\n"
     ]
    },
    {
     "name": "stderr",
     "output_type": "stream",
     "text": [
      "\n",
      "\n",
      "====== WebDriver manager ======\n",
      "Current google-chrome version is 96.0.4664\n",
      "Get LATEST chromedriver version for 96.0.4664 google-chrome\n",
      "Driver [/home/szogabaha/.wdm/drivers/chromedriver/linux64/96.0.4664.45/chromedriver] found in cache\n"
     ]
    },
    {
     "name": "stdout",
     "output_type": "stream",
     "text": [
      "Sonsorol-Tobi done (31 features)\n"
     ]
    },
    {
     "name": "stderr",
     "output_type": "stream",
     "text": [
      "\n",
      "\n",
      "====== WebDriver manager ======\n",
      "Current google-chrome version is 96.0.4664\n",
      "Get LATEST chromedriver version for 96.0.4664 google-chrome\n",
      "Driver [/home/szogabaha/.wdm/drivers/chromedriver/linux64/96.0.4664.45/chromedriver] found in cache\n"
     ]
    },
    {
     "name": "stdout",
     "output_type": "stream",
     "text": [
      "Sooke done (1 features)\n"
     ]
    },
    {
     "name": "stderr",
     "output_type": "stream",
     "text": [
      "\n",
      "\n",
      "====== WebDriver manager ======\n",
      "Current google-chrome version is 96.0.4664\n",
      "Get LATEST chromedriver version for 96.0.4664 google-chrome\n",
      "Driver [/home/szogabaha/.wdm/drivers/chromedriver/linux64/96.0.4664.45/chromedriver] found in cache\n"
     ]
    },
    {
     "name": "stdout",
     "output_type": "stream",
     "text": [
      "Soqotri done (16 features)\n"
     ]
    },
    {
     "name": "stderr",
     "output_type": "stream",
     "text": [
      "\n",
      "\n",
      "====== WebDriver manager ======\n",
      "Current google-chrome version is 96.0.4664\n",
      "Get LATEST chromedriver version for 96.0.4664 google-chrome\n",
      "Driver [/home/szogabaha/.wdm/drivers/chromedriver/linux64/96.0.4664.45/chromedriver] found in cache\n"
     ]
    },
    {
     "name": "stdout",
     "output_type": "stream",
     "text": [
      "Sora done (26 features)\n"
     ]
    },
    {
     "name": "stderr",
     "output_type": "stream",
     "text": [
      "\n",
      "\n",
      "====== WebDriver manager ======\n",
      "Current google-chrome version is 96.0.4664\n",
      "Get LATEST chromedriver version for 96.0.4664 google-chrome\n",
      "Driver [/home/szogabaha/.wdm/drivers/chromedriver/linux64/96.0.4664.45/chromedriver] found in cache\n"
     ]
    },
    {
     "name": "stdout",
     "output_type": "stream",
     "text": [
      "Sorbian done (25 features)\n"
     ]
    },
    {
     "name": "stderr",
     "output_type": "stream",
     "text": [
      "\n",
      "\n",
      "====== WebDriver manager ======\n",
      "Current google-chrome version is 96.0.4664\n",
      "Get LATEST chromedriver version for 96.0.4664 google-chrome\n",
      "Driver [/home/szogabaha/.wdm/drivers/chromedriver/linux64/96.0.4664.45/chromedriver] found in cache\n"
     ]
    },
    {
     "name": "stdout",
     "output_type": "stream",
     "text": [
      "Sorbian (Lower) done (2 features)\n"
     ]
    },
    {
     "name": "stderr",
     "output_type": "stream",
     "text": [
      "\n",
      "\n",
      "====== WebDriver manager ======\n",
      "Current google-chrome version is 96.0.4664\n",
      "Get LATEST chromedriver version for 96.0.4664 google-chrome\n",
      "Driver [/home/szogabaha/.wdm/drivers/chromedriver/linux64/96.0.4664.45/chromedriver] found in cache\n"
     ]
    },
    {
     "name": "stdout",
     "output_type": "stream",
     "text": [
      "Sorbian (Upper) done (7 features)\n"
     ]
    },
    {
     "name": "stderr",
     "output_type": "stream",
     "text": [
      "\n",
      "\n",
      "====== WebDriver manager ======\n",
      "Current google-chrome version is 96.0.4664\n",
      "Get LATEST chromedriver version for 96.0.4664 google-chrome\n",
      "Driver [/home/szogabaha/.wdm/drivers/chromedriver/linux64/96.0.4664.45/chromedriver] found in cache\n"
     ]
    },
    {
     "name": "stdout",
     "output_type": "stream",
     "text": [
      "Sotho (Northern) done (29 features)\n"
     ]
    },
    {
     "name": "stderr",
     "output_type": "stream",
     "text": [
      "\n",
      "\n",
      "====== WebDriver manager ======\n",
      "Current google-chrome version is 96.0.4664\n",
      "Get LATEST chromedriver version for 96.0.4664 google-chrome\n",
      "Driver [/home/szogabaha/.wdm/drivers/chromedriver/linux64/96.0.4664.45/chromedriver] found in cache\n"
     ]
    },
    {
     "name": "stdout",
     "output_type": "stream",
     "text": [
      "Sougb done (30 features)\n"
     ]
    },
    {
     "name": "stderr",
     "output_type": "stream",
     "text": [
      "\n",
      "\n",
      "====== WebDriver manager ======\n",
      "Current google-chrome version is 96.0.4664\n",
      "Get LATEST chromedriver version for 96.0.4664 google-chrome\n",
      "Driver [/home/szogabaha/.wdm/drivers/chromedriver/linux64/96.0.4664.45/chromedriver] found in cache\n"
     ]
    },
    {
     "name": "stdout",
     "output_type": "stream",
     "text": [
      "Southeast Ambrym done (20 features)\n"
     ]
    },
    {
     "name": "stderr",
     "output_type": "stream",
     "text": [
      "\n",
      "\n",
      "====== WebDriver manager ======\n",
      "Current google-chrome version is 96.0.4664\n",
      "Get LATEST chromedriver version for 96.0.4664 google-chrome\n",
      "Driver [/home/szogabaha/.wdm/drivers/chromedriver/linux64/96.0.4664.45/chromedriver] found in cache\n"
     ]
    },
    {
     "name": "stdout",
     "output_type": "stream",
     "text": [
      "Southern Toussian done (24 features)\n"
     ]
    },
    {
     "name": "stderr",
     "output_type": "stream",
     "text": [
      "\n",
      "\n",
      "====== WebDriver manager ======\n",
      "Current google-chrome version is 96.0.4664\n",
      "Get LATEST chromedriver version for 96.0.4664 google-chrome\n",
      "Driver [/home/szogabaha/.wdm/drivers/chromedriver/linux64/96.0.4664.45/chromedriver] found in cache\n"
     ]
    },
    {
     "name": "stdout",
     "output_type": "stream",
     "text": [
      "South Korean Sign Language done (2 features)\n"
     ]
    },
    {
     "name": "stderr",
     "output_type": "stream",
     "text": [
      "\n",
      "\n",
      "====== WebDriver manager ======\n",
      "Current google-chrome version is 96.0.4664\n",
      "Get LATEST chromedriver version for 96.0.4664 google-chrome\n",
      "Driver [/home/szogabaha/.wdm/drivers/chromedriver/linux64/96.0.4664.45/chromedriver] found in cache\n"
     ]
    },
    {
     "name": "stdout",
     "output_type": "stream",
     "text": [
      "Spanish done (155 features)\n"
     ]
    },
    {
     "name": "stderr",
     "output_type": "stream",
     "text": [
      "\n",
      "\n",
      "====== WebDriver manager ======\n",
      "Current google-chrome version is 96.0.4664\n",
      "Get LATEST chromedriver version for 96.0.4664 google-chrome\n",
      "Driver [/home/szogabaha/.wdm/drivers/chromedriver/linux64/96.0.4664.45/chromedriver] found in cache\n"
     ]
    },
    {
     "name": "stdout",
     "output_type": "stream",
     "text": [
      "Spanish (Canary Islands) done (1 features)\n"
     ]
    },
    {
     "name": "stderr",
     "output_type": "stream",
     "text": [
      "\n",
      "\n",
      "====== WebDriver manager ======\n",
      "Current google-chrome version is 96.0.4664\n",
      "Get LATEST chromedriver version for 96.0.4664 google-chrome\n",
      "Driver [/home/szogabaha/.wdm/drivers/chromedriver/linux64/96.0.4664.45/chromedriver] found in cache\n"
     ]
    },
    {
     "name": "stdout",
     "output_type": "stream",
     "text": [
      "Spitian done (11 features)\n"
     ]
    },
    {
     "name": "stderr",
     "output_type": "stream",
     "text": [
      "\n",
      "\n",
      "====== WebDriver manager ======\n",
      "Current google-chrome version is 96.0.4664\n",
      "Get LATEST chromedriver version for 96.0.4664 google-chrome\n",
      "Driver [/home/szogabaha/.wdm/drivers/chromedriver/linux64/96.0.4664.45/chromedriver] found in cache\n"
     ]
    },
    {
     "name": "stdout",
     "output_type": "stream",
     "text": [
      "Spokane done (6 features)\n"
     ]
    },
    {
     "name": "stderr",
     "output_type": "stream",
     "text": [
      "\n",
      "\n",
      "====== WebDriver manager ======\n",
      "Current google-chrome version is 96.0.4664\n",
      "Get LATEST chromedriver version for 96.0.4664 google-chrome\n",
      "Driver [/home/szogabaha/.wdm/drivers/chromedriver/linux64/96.0.4664.45/chromedriver] found in cache\n"
     ]
    },
    {
     "name": "stdout",
     "output_type": "stream",
     "text": [
      "Squamish done (112 features)\n"
     ]
    },
    {
     "name": "stderr",
     "output_type": "stream",
     "text": [
      "\n",
      "\n",
      "====== WebDriver manager ======\n",
      "Current google-chrome version is 96.0.4664\n",
      "Get LATEST chromedriver version for 96.0.4664 google-chrome\n",
      "Driver [/home/szogabaha/.wdm/drivers/chromedriver/linux64/96.0.4664.45/chromedriver] found in cache\n"
     ]
    },
    {
     "name": "stdout",
     "output_type": "stream",
     "text": [
      "Sranan done (8 features)\n"
     ]
    },
    {
     "name": "stderr",
     "output_type": "stream",
     "text": [
      "\n",
      "\n",
      "====== WebDriver manager ======\n",
      "Current google-chrome version is 96.0.4664\n",
      "Get LATEST chromedriver version for 96.0.4664 google-chrome\n",
      "Driver [/home/szogabaha/.wdm/drivers/chromedriver/linux64/96.0.4664.45/chromedriver] found in cache\n"
     ]
    },
    {
     "name": "stdout",
     "output_type": "stream",
     "text": [
      "Sre done (49 features)\n"
     ]
    },
    {
     "name": "stderr",
     "output_type": "stream",
     "text": [
      "\n",
      "\n",
      "====== WebDriver manager ======\n",
      "Current google-chrome version is 96.0.4664\n",
      "Get LATEST chromedriver version for 96.0.4664 google-chrome\n",
      "Driver [/home/szogabaha/.wdm/drivers/chromedriver/linux64/96.0.4664.45/chromedriver] found in cache\n"
     ]
    },
    {
     "name": "stdout",
     "output_type": "stream",
     "text": [
      "Stieng done (34 features)\n"
     ]
    },
    {
     "name": "stderr",
     "output_type": "stream",
     "text": [
      "\n",
      "\n",
      "====== WebDriver manager ======\n",
      "Current google-chrome version is 96.0.4664\n",
      "Get LATEST chromedriver version for 96.0.4664 google-chrome\n",
      "Driver [/home/szogabaha/.wdm/drivers/chromedriver/linux64/96.0.4664.45/chromedriver] found in cache\n"
     ]
    },
    {
     "name": "stdout",
     "output_type": "stream",
     "text": [
      "Stoney done (4 features)\n"
     ]
    },
    {
     "name": "stderr",
     "output_type": "stream",
     "text": [
      "\n",
      "\n",
      "====== WebDriver manager ======\n",
      "Current google-chrome version is 96.0.4664\n",
      "Get LATEST chromedriver version for 96.0.4664 google-chrome\n",
      "Driver [/home/szogabaha/.wdm/drivers/chromedriver/linux64/96.0.4664.45/chromedriver] found in cache\n"
     ]
    },
    {
     "name": "stdout",
     "output_type": "stream",
     "text": [
      "Subiya done (8 features)\n"
     ]
    },
    {
     "name": "stderr",
     "output_type": "stream",
     "text": [
      "\n",
      "\n",
      "====== WebDriver manager ======\n",
      "Current google-chrome version is 96.0.4664\n",
      "Get LATEST chromedriver version for 96.0.4664 google-chrome\n",
      "Driver [/home/szogabaha/.wdm/drivers/chromedriver/linux64/96.0.4664.45/chromedriver] found in cache\n"
     ]
    },
    {
     "name": "stdout",
     "output_type": "stream",
     "text": [
      "Sudest done (26 features)\n"
     ]
    },
    {
     "name": "stderr",
     "output_type": "stream",
     "text": [
      "\n",
      "\n",
      "====== WebDriver manager ======\n",
      "Current google-chrome version is 96.0.4664\n",
      "Get LATEST chromedriver version for 96.0.4664 google-chrome\n",
      "Driver [/home/szogabaha/.wdm/drivers/chromedriver/linux64/96.0.4664.45/chromedriver] found in cache\n"
     ]
    },
    {
     "name": "stdout",
     "output_type": "stream",
     "text": [
      "Suena done (93 features)\n"
     ]
    },
    {
     "name": "stderr",
     "output_type": "stream",
     "text": [
      "\n",
      "\n",
      "====== WebDriver manager ======\n",
      "Current google-chrome version is 96.0.4664\n",
      "Get LATEST chromedriver version for 96.0.4664 google-chrome\n",
      "Driver [/home/szogabaha/.wdm/drivers/chromedriver/linux64/96.0.4664.45/chromedriver] found in cache\n"
     ]
    },
    {
     "name": "stdout",
     "output_type": "stream",
     "text": [
      "Sui done (13 features)\n"
     ]
    },
    {
     "name": "stderr",
     "output_type": "stream",
     "text": [
      "\n",
      "\n",
      "====== WebDriver manager ======\n",
      "Current google-chrome version is 96.0.4664\n",
      "Get LATEST chromedriver version for 96.0.4664 google-chrome\n",
      "Driver [/home/szogabaha/.wdm/drivers/chromedriver/linux64/96.0.4664.45/chromedriver] found in cache\n"
     ]
    },
    {
     "name": "stdout",
     "output_type": "stream",
     "text": [
      "Suki done (13 features)\n"
     ]
    },
    {
     "name": "stderr",
     "output_type": "stream",
     "text": [
      "\n",
      "\n",
      "====== WebDriver manager ======\n",
      "Current google-chrome version is 96.0.4664\n",
      "Get LATEST chromedriver version for 96.0.4664 google-chrome\n",
      "Driver [/home/szogabaha/.wdm/drivers/chromedriver/linux64/96.0.4664.45/chromedriver] found in cache\n"
     ]
    },
    {
     "name": "stdout",
     "output_type": "stream",
     "text": [
      "Suku done (7 features)\n"
     ]
    },
    {
     "name": "stderr",
     "output_type": "stream",
     "text": [
      "\n",
      "\n",
      "====== WebDriver manager ======\n",
      "Current google-chrome version is 96.0.4664\n",
      "Get LATEST chromedriver version for 96.0.4664 google-chrome\n",
      "Driver [/home/szogabaha/.wdm/drivers/chromedriver/linux64/96.0.4664.45/chromedriver] found in cache\n"
     ]
    },
    {
     "name": "stdout",
     "output_type": "stream",
     "text": [
      "Sukuma done (17 features)\n"
     ]
    },
    {
     "name": "stderr",
     "output_type": "stream",
     "text": [
      "\n",
      "\n",
      "====== WebDriver manager ======\n",
      "Current google-chrome version is 96.0.4664\n",
      "Get LATEST chromedriver version for 96.0.4664 google-chrome\n",
      "Driver [/home/szogabaha/.wdm/drivers/chromedriver/linux64/96.0.4664.45/chromedriver] found in cache\n"
     ]
    },
    {
     "name": "stdout",
     "output_type": "stream",
     "text": [
      "Sulka done (47 features)\n"
     ]
    },
    {
     "name": "stderr",
     "output_type": "stream",
     "text": [
      "\n",
      "\n",
      "====== WebDriver manager ======\n",
      "Current google-chrome version is 96.0.4664\n",
      "Get LATEST chromedriver version for 96.0.4664 google-chrome\n",
      "Driver [/home/szogabaha/.wdm/drivers/chromedriver/linux64/96.0.4664.45/chromedriver] found in cache\n"
     ]
    },
    {
     "name": "stdout",
     "output_type": "stream",
     "text": [
      "Sulung done (5 features)\n"
     ]
    },
    {
     "name": "stderr",
     "output_type": "stream",
     "text": [
      "\n",
      "\n",
      "====== WebDriver manager ======\n",
      "Current google-chrome version is 96.0.4664\n",
      "Get LATEST chromedriver version for 96.0.4664 google-chrome\n",
      "Driver [/home/szogabaha/.wdm/drivers/chromedriver/linux64/96.0.4664.45/chromedriver] found in cache\n"
     ]
    },
    {
     "name": "stdout",
     "output_type": "stream",
     "text": [
      "Sundanese done (59 features)\n"
     ]
    },
    {
     "name": "stderr",
     "output_type": "stream",
     "text": [
      "\n",
      "\n",
      "====== WebDriver manager ======\n",
      "Current google-chrome version is 96.0.4664\n",
      "Get LATEST chromedriver version for 96.0.4664 google-chrome\n",
      "Driver [/home/szogabaha/.wdm/drivers/chromedriver/linux64/96.0.4664.45/chromedriver] found in cache\n"
     ]
    },
    {
     "name": "stdout",
     "output_type": "stream",
     "text": [
      "Sungor done (12 features)\n"
     ]
    },
    {
     "name": "stderr",
     "output_type": "stream",
     "text": [
      "\n",
      "\n",
      "====== WebDriver manager ======\n",
      "Current google-chrome version is 96.0.4664\n",
      "Get LATEST chromedriver version for 96.0.4664 google-chrome\n",
      "Driver [/home/szogabaha/.wdm/drivers/chromedriver/linux64/96.0.4664.45/chromedriver] found in cache\n"
     ]
    },
    {
     "name": "stdout",
     "output_type": "stream",
     "text": [
      "Supyire done (148 features)\n"
     ]
    },
    {
     "name": "stderr",
     "output_type": "stream",
     "text": [
      "\n",
      "\n",
      "====== WebDriver manager ======\n",
      "Current google-chrome version is 96.0.4664\n",
      "Get LATEST chromedriver version for 96.0.4664 google-chrome\n",
      "Driver [/home/szogabaha/.wdm/drivers/chromedriver/linux64/96.0.4664.45/chromedriver] found in cache\n"
     ]
    },
    {
     "name": "stdout",
     "output_type": "stream",
     "text": [
      "Sursurunga done (5 features)\n"
     ]
    },
    {
     "name": "stderr",
     "output_type": "stream",
     "text": [
      "\n",
      "\n",
      "====== WebDriver manager ======\n",
      "Current google-chrome version is 96.0.4664\n",
      "Get LATEST chromedriver version for 96.0.4664 google-chrome\n",
      "Driver [/home/szogabaha/.wdm/drivers/chromedriver/linux64/96.0.4664.45/chromedriver] found in cache\n"
     ]
    },
    {
     "name": "stdout",
     "output_type": "stream",
     "text": [
      "Susu done (18 features)\n"
     ]
    },
    {
     "name": "stderr",
     "output_type": "stream",
     "text": [
      "\n",
      "\n",
      "====== WebDriver manager ======\n",
      "Current google-chrome version is 96.0.4664\n",
      "Get LATEST chromedriver version for 96.0.4664 google-chrome\n",
      "Driver [/home/szogabaha/.wdm/drivers/chromedriver/linux64/96.0.4664.45/chromedriver] found in cache\n"
     ]
    },
    {
     "name": "stdout",
     "output_type": "stream",
     "text": [
      "Svan done (4 features)\n"
     ]
    },
    {
     "name": "stderr",
     "output_type": "stream",
     "text": [
      "\n",
      "\n",
      "====== WebDriver manager ======\n",
      "Current google-chrome version is 96.0.4664\n",
      "Get LATEST chromedriver version for 96.0.4664 google-chrome\n",
      "Driver [/home/szogabaha/.wdm/drivers/chromedriver/linux64/96.0.4664.45/chromedriver] found in cache\n"
     ]
    },
    {
     "name": "stdout",
     "output_type": "stream",
     "text": [
      "Svenska Teckenspråket done (2 features)\n"
     ]
    },
    {
     "name": "stderr",
     "output_type": "stream",
     "text": [
      "\n",
      "\n",
      "====== WebDriver manager ======\n",
      "Current google-chrome version is 96.0.4664\n",
      "Get LATEST chromedriver version for 96.0.4664 google-chrome\n",
      "Driver [/home/szogabaha/.wdm/drivers/chromedriver/linux64/96.0.4664.45/chromedriver] found in cache\n"
     ]
    },
    {
     "name": "stdout",
     "output_type": "stream",
     "text": [
      "Swahili done (142 features)\n"
     ]
    },
    {
     "name": "stderr",
     "output_type": "stream",
     "text": [
      "\n",
      "\n",
      "====== WebDriver manager ======\n",
      "Current google-chrome version is 96.0.4664\n",
      "Get LATEST chromedriver version for 96.0.4664 google-chrome\n",
      "Driver [/home/szogabaha/.wdm/drivers/chromedriver/linux64/96.0.4664.45/chromedriver] found in cache\n"
     ]
    },
    {
     "name": "stdout",
     "output_type": "stream",
     "text": [
      "Swati done (24 features)\n"
     ]
    },
    {
     "name": "stderr",
     "output_type": "stream",
     "text": [
      "\n",
      "\n",
      "====== WebDriver manager ======\n",
      "Current google-chrome version is 96.0.4664\n",
      "Get LATEST chromedriver version for 96.0.4664 google-chrome\n",
      "Driver [/home/szogabaha/.wdm/drivers/chromedriver/linux64/96.0.4664.45/chromedriver] found in cache\n"
     ]
    },
    {
     "name": "stdout",
     "output_type": "stream",
     "text": [
      "Swedish done (78 features)\n"
     ]
    },
    {
     "name": "stderr",
     "output_type": "stream",
     "text": [
      "\n",
      "\n",
      "====== WebDriver manager ======\n",
      "Current google-chrome version is 96.0.4664\n",
      "Get LATEST chromedriver version for 96.0.4664 google-chrome\n",
      "Driver [/home/szogabaha/.wdm/drivers/chromedriver/linux64/96.0.4664.45/chromedriver] found in cache\n"
     ]
    },
    {
     "name": "stdout",
     "output_type": "stream",
     "text": [
      "Swedish (Västerbotten) done (1 features)\n"
     ]
    },
    {
     "name": "stderr",
     "output_type": "stream",
     "text": [
      "\n",
      "\n",
      "====== WebDriver manager ======\n",
      "Current google-chrome version is 96.0.4664\n",
      "Get LATEST chromedriver version for 96.0.4664 google-chrome\n",
      "Driver [/home/szogabaha/.wdm/drivers/chromedriver/linux64/96.0.4664.45/chromedriver] found in cache\n"
     ]
    },
    {
     "name": "stdout",
     "output_type": "stream",
     "text": [
      "Taba done (114 features)\n"
     ]
    },
    {
     "name": "stderr",
     "output_type": "stream",
     "text": [
      "\n",
      "\n",
      "====== WebDriver manager ======\n",
      "Current google-chrome version is 96.0.4664\n",
      "Get LATEST chromedriver version for 96.0.4664 google-chrome\n",
      "Driver [/home/szogabaha/.wdm/drivers/chromedriver/linux64/96.0.4664.45/chromedriver] found in cache\n"
     ]
    },
    {
     "name": "stdout",
     "output_type": "stream",
     "text": [
      "Tabare done (22 features)\n",
      "Tabaru done (4 features)\n"
     ]
    },
    {
     "name": "stderr",
     "output_type": "stream",
     "text": [
      "\n",
      "\n",
      "====== WebDriver manager ======\n",
      "Current google-chrome version is 96.0.4664\n",
      "Get LATEST chromedriver version for 96.0.4664 google-chrome\n",
      "Driver [/home/szogabaha/.wdm/drivers/chromedriver/linux64/96.0.4664.45/chromedriver] found in cache\n",
      "\n",
      "\n",
      "====== WebDriver manager ======\n",
      "Current google-chrome version is 96.0.4664\n",
      "Get LATEST chromedriver version for 96.0.4664 google-chrome\n",
      "Driver [/home/szogabaha/.wdm/drivers/chromedriver/linux64/96.0.4664.45/chromedriver] found in cache\n"
     ]
    },
    {
     "name": "stdout",
     "output_type": "stream",
     "text": [
      "Tabassaran done (2 features)\n"
     ]
    },
    {
     "name": "stderr",
     "output_type": "stream",
     "text": [
      "\n",
      "\n",
      "====== WebDriver manager ======\n",
      "Current google-chrome version is 96.0.4664\n",
      "Get LATEST chromedriver version for 96.0.4664 google-chrome\n",
      "Driver [/home/szogabaha/.wdm/drivers/chromedriver/linux64/96.0.4664.45/chromedriver] found in cache\n"
     ]
    },
    {
     "name": "stdout",
     "output_type": "stream",
     "text": [
      "Tabla done (35 features)\n"
     ]
    },
    {
     "name": "stderr",
     "output_type": "stream",
     "text": [
      "\n",
      "\n",
      "====== WebDriver manager ======\n",
      "Current google-chrome version is 96.0.4664\n",
      "Get LATEST chromedriver version for 96.0.4664 google-chrome\n",
      "Driver [/home/szogabaha/.wdm/drivers/chromedriver/linux64/96.0.4664.45/chromedriver] found in cache\n"
     ]
    },
    {
     "name": "stdout",
     "output_type": "stream",
     "text": [
      "Tabwa done (26 features)\n"
     ]
    },
    {
     "name": "stderr",
     "output_type": "stream",
     "text": [
      "\n",
      "\n",
      "====== WebDriver manager ======\n",
      "Current google-chrome version is 96.0.4664\n",
      "Get LATEST chromedriver version for 96.0.4664 google-chrome\n",
      "Driver [/home/szogabaha/.wdm/drivers/chromedriver/linux64/96.0.4664.45/chromedriver] found in cache\n"
     ]
    },
    {
     "name": "stdout",
     "output_type": "stream",
     "text": [
      "Tacana done (56 features)\n"
     ]
    },
    {
     "name": "stderr",
     "output_type": "stream",
     "text": [
      "\n",
      "\n",
      "====== WebDriver manager ======\n",
      "Current google-chrome version is 96.0.4664\n",
      "Get LATEST chromedriver version for 96.0.4664 google-chrome\n",
      "Driver [/home/szogabaha/.wdm/drivers/chromedriver/linux64/96.0.4664.45/chromedriver] found in cache\n"
     ]
    },
    {
     "name": "stdout",
     "output_type": "stream",
     "text": [
      "Tagalog done (145 features)\n"
     ]
    },
    {
     "name": "stderr",
     "output_type": "stream",
     "text": [
      "\n",
      "\n",
      "====== WebDriver manager ======\n",
      "Current google-chrome version is 96.0.4664\n",
      "Get LATEST chromedriver version for 96.0.4664 google-chrome\n",
      "Driver [/home/szogabaha/.wdm/drivers/chromedriver/linux64/96.0.4664.45/chromedriver] found in cache\n"
     ]
    },
    {
     "name": "stdout",
     "output_type": "stream",
     "text": [
      "Tagbanwa (Aborlan) done (1 features)\n"
     ]
    },
    {
     "name": "stderr",
     "output_type": "stream",
     "text": [
      "\n",
      "\n",
      "====== WebDriver manager ======\n",
      "Current google-chrome version is 96.0.4664\n",
      "Get LATEST chromedriver version for 96.0.4664 google-chrome\n",
      "Driver [/home/szogabaha/.wdm/drivers/chromedriver/linux64/96.0.4664.45/chromedriver] found in cache\n"
     ]
    },
    {
     "name": "stdout",
     "output_type": "stream",
     "text": [
      "Tahitian done (57 features)\n"
     ]
    },
    {
     "name": "stderr",
     "output_type": "stream",
     "text": [
      "\n",
      "\n",
      "====== WebDriver manager ======\n",
      "Current google-chrome version is 96.0.4664\n",
      "Get LATEST chromedriver version for 96.0.4664 google-chrome\n",
      "Driver [/home/szogabaha/.wdm/drivers/chromedriver/linux64/96.0.4664.45/chromedriver] found in cache\n"
     ]
    },
    {
     "name": "stdout",
     "output_type": "stream",
     "text": [
      "Taiap done (14 features)\n"
     ]
    },
    {
     "name": "stderr",
     "output_type": "stream",
     "text": [
      "\n",
      "\n",
      "====== WebDriver manager ======\n",
      "Current google-chrome version is 96.0.4664\n",
      "Get LATEST chromedriver version for 96.0.4664 google-chrome\n",
      "Driver [/home/szogabaha/.wdm/drivers/chromedriver/linux64/96.0.4664.45/chromedriver] found in cache\n"
     ]
    },
    {
     "name": "stdout",
     "output_type": "stream",
     "text": [
      "Taiof done (29 features)\n"
     ]
    },
    {
     "name": "stderr",
     "output_type": "stream",
     "text": [
      "\n",
      "\n",
      "====== WebDriver manager ======\n",
      "Current google-chrome version is 96.0.4664\n",
      "Get LATEST chromedriver version for 96.0.4664 google-chrome\n",
      "Driver [/home/szogabaha/.wdm/drivers/chromedriver/linux64/96.0.4664.45/chromedriver] found in cache\n"
     ]
    },
    {
     "name": "stdout",
     "output_type": "stream",
     "text": [
      "Tairora done (28 features)\n"
     ]
    },
    {
     "name": "stderr",
     "output_type": "stream",
     "text": [
      "\n",
      "\n",
      "====== WebDriver manager ======\n",
      "Current google-chrome version is 96.0.4664\n",
      "Get LATEST chromedriver version for 96.0.4664 google-chrome\n",
      "Driver [/home/szogabaha/.wdm/drivers/chromedriver/linux64/96.0.4664.45/chromedriver] found in cache\n"
     ]
    },
    {
     "name": "stdout",
     "output_type": "stream",
     "text": [
      "Taiwanese Sign Language (Ziran Shouyu) done (2 features)\n"
     ]
    },
    {
     "name": "stderr",
     "output_type": "stream",
     "text": [
      "\n",
      "\n",
      "====== WebDriver manager ======\n",
      "Current google-chrome version is 96.0.4664\n",
      "Get LATEST chromedriver version for 96.0.4664 google-chrome\n",
      "Driver [/home/szogabaha/.wdm/drivers/chromedriver/linux64/96.0.4664.45/chromedriver] found in cache\n"
     ]
    },
    {
     "name": "stdout",
     "output_type": "stream",
     "text": [
      "Tajik done (42 features)\n"
     ]
    },
    {
     "name": "stderr",
     "output_type": "stream",
     "text": [
      "\n",
      "\n",
      "====== WebDriver manager ======\n",
      "Current google-chrome version is 96.0.4664\n",
      "Get LATEST chromedriver version for 96.0.4664 google-chrome\n",
      "Driver [/home/szogabaha/.wdm/drivers/chromedriver/linux64/96.0.4664.45/chromedriver] found in cache\n"
     ]
    },
    {
     "name": "stdout",
     "output_type": "stream",
     "text": [
      "Takelma done (56 features)\n"
     ]
    },
    {
     "name": "stderr",
     "output_type": "stream",
     "text": [
      "\n",
      "\n",
      "====== WebDriver manager ======\n",
      "Current google-chrome version is 96.0.4664\n",
      "Get LATEST chromedriver version for 96.0.4664 google-chrome\n",
      "Driver [/home/szogabaha/.wdm/drivers/chromedriver/linux64/96.0.4664.45/chromedriver] found in cache\n"
     ]
    },
    {
     "name": "stdout",
     "output_type": "stream",
     "text": [
      "Takia done (32 features)\n"
     ]
    },
    {
     "name": "stderr",
     "output_type": "stream",
     "text": [
      "\n",
      "\n",
      "====== WebDriver manager ======\n",
      "Current google-chrome version is 96.0.4664\n",
      "Get LATEST chromedriver version for 96.0.4664 google-chrome\n",
      "Driver [/home/szogabaha/.wdm/drivers/chromedriver/linux64/96.0.4664.45/chromedriver] found in cache\n"
     ]
    },
    {
     "name": "stdout",
     "output_type": "stream",
     "text": [
      "Talaud done (3 features)\n"
     ]
    },
    {
     "name": "stderr",
     "output_type": "stream",
     "text": [
      "\n",
      "\n",
      "====== WebDriver manager ======\n",
      "Current google-chrome version is 96.0.4664\n",
      "Get LATEST chromedriver version for 96.0.4664 google-chrome\n",
      "Driver [/home/szogabaha/.wdm/drivers/chromedriver/linux64/96.0.4664.45/chromedriver] found in cache\n"
     ]
    },
    {
     "name": "stdout",
     "output_type": "stream",
     "text": [
      "Talinga done (19 features)\n"
     ]
    },
    {
     "name": "stderr",
     "output_type": "stream",
     "text": [
      "\n",
      "\n",
      "====== WebDriver manager ======\n",
      "Current google-chrome version is 96.0.4664\n",
      "Get LATEST chromedriver version for 96.0.4664 google-chrome\n",
      "Driver [/home/szogabaha/.wdm/drivers/chromedriver/linux64/96.0.4664.45/chromedriver] found in cache\n"
     ]
    },
    {
     "name": "stdout",
     "output_type": "stream",
     "text": [
      "Talysh (Azerbaijan) done (2 features)\n"
     ]
    },
    {
     "name": "stderr",
     "output_type": "stream",
     "text": [
      "\n",
      "\n",
      "====== WebDriver manager ======\n",
      "Current google-chrome version is 96.0.4664\n",
      "Get LATEST chromedriver version for 96.0.4664 google-chrome\n",
      "Driver [/home/szogabaha/.wdm/drivers/chromedriver/linux64/96.0.4664.45/chromedriver] found in cache\n"
     ]
    },
    {
     "name": "stdout",
     "output_type": "stream",
     "text": [
      "Talysh (Southern) done (12 features)\n"
     ]
    },
    {
     "name": "stderr",
     "output_type": "stream",
     "text": [
      "\n",
      "\n",
      "====== WebDriver manager ======\n",
      "Current google-chrome version is 96.0.4664\n",
      "Get LATEST chromedriver version for 96.0.4664 google-chrome\n",
      "Driver [/home/szogabaha/.wdm/drivers/chromedriver/linux64/96.0.4664.45/chromedriver] found in cache\n"
     ]
    },
    {
     "name": "stdout",
     "output_type": "stream",
     "text": [
      "Tama done (36 features)\n"
     ]
    },
    {
     "name": "stderr",
     "output_type": "stream",
     "text": [
      "\n",
      "\n",
      "====== WebDriver manager ======\n",
      "Current google-chrome version is 96.0.4664\n",
      "Get LATEST chromedriver version for 96.0.4664 google-chrome\n",
      "Driver [/home/szogabaha/.wdm/drivers/chromedriver/linux64/96.0.4664.45/chromedriver] found in cache\n"
     ]
    },
    {
     "name": "stdout",
     "output_type": "stream",
     "text": [
      "Tamabo done (25 features)\n"
     ]
    },
    {
     "name": "stderr",
     "output_type": "stream",
     "text": [
      "\n",
      "\n",
      "====== WebDriver manager ======\n",
      "Current google-chrome version is 96.0.4664\n",
      "Get LATEST chromedriver version for 96.0.4664 google-chrome\n",
      "Driver [/home/szogabaha/.wdm/drivers/chromedriver/linux64/96.0.4664.45/chromedriver] found in cache\n"
     ]
    },
    {
     "name": "stdout",
     "output_type": "stream",
     "text": [
      "Tamagario done (7 features)\n"
     ]
    },
    {
     "name": "stderr",
     "output_type": "stream",
     "text": [
      "\n",
      "\n",
      "====== WebDriver manager ======\n",
      "Current google-chrome version is 96.0.4664\n",
      "Get LATEST chromedriver version for 96.0.4664 google-chrome\n",
      "Driver [/home/szogabaha/.wdm/drivers/chromedriver/linux64/96.0.4664.45/chromedriver] found in cache\n"
     ]
    },
    {
     "name": "stdout",
     "output_type": "stream",
     "text": [
      "Tamang (Eastern) done (55 features)\n"
     ]
    },
    {
     "name": "stderr",
     "output_type": "stream",
     "text": [
      "\n",
      "\n",
      "====== WebDriver manager ======\n",
      "Current google-chrome version is 96.0.4664\n",
      "Get LATEST chromedriver version for 96.0.4664 google-chrome\n",
      "Driver [/home/szogabaha/.wdm/drivers/chromedriver/linux64/96.0.4664.45/chromedriver] found in cache\n"
     ]
    },
    {
     "name": "stdout",
     "output_type": "stream",
     "text": [
      "Tamashek done (36 features)\n"
     ]
    },
    {
     "name": "stderr",
     "output_type": "stream",
     "text": [
      "\n",
      "\n",
      "====== WebDriver manager ======\n",
      "Current google-chrome version is 96.0.4664\n",
      "Get LATEST chromedriver version for 96.0.4664 google-chrome\n",
      "Driver [/home/szogabaha/.wdm/drivers/chromedriver/linux64/96.0.4664.45/chromedriver] found in cache\n"
     ]
    },
    {
     "name": "stdout",
     "output_type": "stream",
     "text": [
      "Tamil done (83 features)\n"
     ]
    },
    {
     "name": "stderr",
     "output_type": "stream",
     "text": [
      "\n",
      "\n",
      "====== WebDriver manager ======\n",
      "Current google-chrome version is 96.0.4664\n",
      "Get LATEST chromedriver version for 96.0.4664 google-chrome\n",
      "Driver [/home/szogabaha/.wdm/drivers/chromedriver/linux64/96.0.4664.45/chromedriver] found in cache\n"
     ]
    },
    {
     "name": "stdout",
     "output_type": "stream",
     "text": [
      "Tamil (Spoken) done (1 features)\n"
     ]
    },
    {
     "name": "stderr",
     "output_type": "stream",
     "text": [
      "\n",
      "\n",
      "====== WebDriver manager ======\n",
      "Current google-chrome version is 96.0.4664\n",
      "Get LATEST chromedriver version for 96.0.4664 google-chrome\n",
      "Driver [/home/szogabaha/.wdm/drivers/chromedriver/linux64/96.0.4664.45/chromedriver] found in cache\n"
     ]
    },
    {
     "name": "stdout",
     "output_type": "stream",
     "text": [
      "Tampulma done (13 features)\n"
     ]
    },
    {
     "name": "stderr",
     "output_type": "stream",
     "text": [
      "\n",
      "\n",
      "====== WebDriver manager ======\n",
      "Current google-chrome version is 96.0.4664\n",
      "Get LATEST chromedriver version for 96.0.4664 google-chrome\n",
      "Driver [/home/szogabaha/.wdm/drivers/chromedriver/linux64/96.0.4664.45/chromedriver] found in cache\n"
     ]
    },
    {
     "name": "stdout",
     "output_type": "stream",
     "text": [
      "Tanacross done (28 features)\n"
     ]
    },
    {
     "name": "stderr",
     "output_type": "stream",
     "text": [
      "\n",
      "\n",
      "====== WebDriver manager ======\n",
      "Current google-chrome version is 96.0.4664\n",
      "Get LATEST chromedriver version for 96.0.4664 google-chrome\n",
      "Driver [/home/szogabaha/.wdm/drivers/chromedriver/linux64/96.0.4664.45/chromedriver] found in cache\n"
     ]
    },
    {
     "name": "stdout",
     "output_type": "stream",
     "text": [
      "Tanaina done (2 features)\n"
     ]
    },
    {
     "name": "stderr",
     "output_type": "stream",
     "text": [
      "\n",
      "\n",
      "====== WebDriver manager ======\n",
      "Current google-chrome version is 96.0.4664\n",
      "Get LATEST chromedriver version for 96.0.4664 google-chrome\n",
      "Driver [/home/szogabaha/.wdm/drivers/chromedriver/linux64/96.0.4664.45/chromedriver] found in cache\n"
     ]
    },
    {
     "name": "stdout",
     "output_type": "stream",
     "text": [
      "Tanana (Lower) done (2 features)\n"
     ]
    },
    {
     "name": "stderr",
     "output_type": "stream",
     "text": [
      "\n",
      "\n",
      "====== WebDriver manager ======\n",
      "Current google-chrome version is 96.0.4664\n",
      "Get LATEST chromedriver version for 96.0.4664 google-chrome\n",
      "Driver [/home/szogabaha/.wdm/drivers/chromedriver/linux64/96.0.4664.45/chromedriver] found in cache\n"
     ]
    },
    {
     "name": "stdout",
     "output_type": "stream",
     "text": [
      "Tangale done (17 features)\n"
     ]
    },
    {
     "name": "stderr",
     "output_type": "stream",
     "text": [
      "\n",
      "\n",
      "====== WebDriver manager ======\n",
      "Current google-chrome version is 96.0.4664\n",
      "Get LATEST chromedriver version for 96.0.4664 google-chrome\n",
      "Driver [/home/szogabaha/.wdm/drivers/chromedriver/linux64/96.0.4664.45/chromedriver] found in cache\n"
     ]
    },
    {
     "name": "stdout",
     "output_type": "stream",
     "text": [
      "Tangbe done (9 features)\n"
     ]
    },
    {
     "name": "stderr",
     "output_type": "stream",
     "text": [
      "\n",
      "\n",
      "====== WebDriver manager ======\n",
      "Current google-chrome version is 96.0.4664\n",
      "Get LATEST chromedriver version for 96.0.4664 google-chrome\n",
      "Driver [/home/szogabaha/.wdm/drivers/chromedriver/linux64/96.0.4664.45/chromedriver] found in cache\n"
     ]
    },
    {
     "name": "stdout",
     "output_type": "stream",
     "text": [
      "Tangga done (6 features)\n"
     ]
    },
    {
     "name": "stderr",
     "output_type": "stream",
     "text": [
      "\n",
      "\n",
      "====== WebDriver manager ======\n",
      "Current google-chrome version is 96.0.4664\n",
      "Get LATEST chromedriver version for 96.0.4664 google-chrome\n",
      "Driver [/home/szogabaha/.wdm/drivers/chromedriver/linux64/96.0.4664.45/chromedriver] found in cache\n"
     ]
    },
    {
     "name": "stdout",
     "output_type": "stream",
     "text": [
      "Tanglapui done (7 features)\n"
     ]
    },
    {
     "name": "stderr",
     "output_type": "stream",
     "text": [
      "\n",
      "\n",
      "====== WebDriver manager ======\n",
      "Current google-chrome version is 96.0.4664\n",
      "Get LATEST chromedriver version for 96.0.4664 google-chrome\n",
      "Driver [/home/szogabaha/.wdm/drivers/chromedriver/linux64/96.0.4664.45/chromedriver] found in cache\n"
     ]
    },
    {
     "name": "stdout",
     "output_type": "stream",
     "text": [
      "Tanna (Southwest) done (4 features)\n"
     ]
    },
    {
     "name": "stderr",
     "output_type": "stream",
     "text": [
      "\n",
      "\n",
      "====== WebDriver manager ======\n",
      "Current google-chrome version is 96.0.4664\n",
      "Get LATEST chromedriver version for 96.0.4664 google-chrome\n",
      "Driver [/home/szogabaha/.wdm/drivers/chromedriver/linux64/96.0.4664.45/chromedriver] found in cache\n"
     ]
    },
    {
     "name": "stdout",
     "output_type": "stream",
     "text": [
      "Tanzania Sign Language done (2 features)\n"
     ]
    },
    {
     "name": "stderr",
     "output_type": "stream",
     "text": [
      "\n",
      "\n",
      "====== WebDriver manager ======\n",
      "Current google-chrome version is 96.0.4664\n",
      "Get LATEST chromedriver version for 96.0.4664 google-chrome\n",
      "Driver [/home/szogabaha/.wdm/drivers/chromedriver/linux64/96.0.4664.45/chromedriver] found in cache\n"
     ]
    },
    {
     "name": "stdout",
     "output_type": "stream",
     "text": [
      "Tapieté done (31 features)\n"
     ]
    },
    {
     "name": "stderr",
     "output_type": "stream",
     "text": [
      "\n",
      "\n",
      "====== WebDriver manager ======\n",
      "Current google-chrome version is 96.0.4664\n",
      "Get LATEST chromedriver version for 96.0.4664 google-chrome\n",
      "Driver [/home/szogabaha/.wdm/drivers/chromedriver/linux64/96.0.4664.45/chromedriver] found in cache\n"
     ]
    },
    {
     "name": "stdout",
     "output_type": "stream",
     "text": [
      "Tarahumara (Central) done (34 features)\n"
     ]
    },
    {
     "name": "stderr",
     "output_type": "stream",
     "text": [
      "\n",
      "\n",
      "====== WebDriver manager ======\n",
      "Current google-chrome version is 96.0.4664\n",
      "Get LATEST chromedriver version for 96.0.4664 google-chrome\n",
      "Driver [/home/szogabaha/.wdm/drivers/chromedriver/linux64/96.0.4664.45/chromedriver] found in cache\n"
     ]
    },
    {
     "name": "stdout",
     "output_type": "stream",
     "text": [
      "Tarahumara (Western) done (40 features)\n"
     ]
    },
    {
     "name": "stderr",
     "output_type": "stream",
     "text": [
      "\n",
      "\n",
      "====== WebDriver manager ======\n",
      "Current google-chrome version is 96.0.4664\n",
      "Get LATEST chromedriver version for 96.0.4664 google-chrome\n",
      "Driver [/home/szogabaha/.wdm/drivers/chromedriver/linux64/96.0.4664.45/chromedriver] found in cache\n"
     ]
    },
    {
     "name": "stdout",
     "output_type": "stream",
     "text": [
      "Tarangan (West) done (4 features)\n",
      "Tarao done (27 features)\n"
     ]
    },
    {
     "name": "stderr",
     "output_type": "stream",
     "text": [
      "\n",
      "\n",
      "====== WebDriver manager ======\n",
      "Current google-chrome version is 96.0.4664\n",
      "Get LATEST chromedriver version for 96.0.4664 google-chrome\n",
      "Driver [/home/szogabaha/.wdm/drivers/chromedriver/linux64/96.0.4664.45/chromedriver] found in cache\n",
      "\n",
      "\n",
      "====== WebDriver manager ======\n",
      "Current google-chrome version is 96.0.4664\n",
      "Get LATEST chromedriver version for 96.0.4664 google-chrome\n",
      "Driver [/home/szogabaha/.wdm/drivers/chromedriver/linux64/96.0.4664.45/chromedriver] found in cache\n"
     ]
    },
    {
     "name": "stdout",
     "output_type": "stream",
     "text": [
      "Tariana done (45 features)\n"
     ]
    },
    {
     "name": "stderr",
     "output_type": "stream",
     "text": [
      "\n",
      "\n",
      "====== WebDriver manager ======\n",
      "Current google-chrome version is 96.0.4664\n",
      "Get LATEST chromedriver version for 96.0.4664 google-chrome\n",
      "Driver [/home/szogabaha/.wdm/drivers/chromedriver/linux64/96.0.4664.45/chromedriver] found in cache\n"
     ]
    },
    {
     "name": "stdout",
     "output_type": "stream",
     "text": [
      "Tarok done (13 features)\n"
     ]
    },
    {
     "name": "stderr",
     "output_type": "stream",
     "text": [
      "\n",
      "\n",
      "====== WebDriver manager ======\n",
      "Current google-chrome version is 96.0.4664\n",
      "Get LATEST chromedriver version for 96.0.4664 google-chrome\n",
      "Driver [/home/szogabaha/.wdm/drivers/chromedriver/linux64/96.0.4664.45/chromedriver] found in cache\n"
     ]
    },
    {
     "name": "stdout",
     "output_type": "stream",
     "text": [
      "Tashlhiyt done (48 features)\n"
     ]
    },
    {
     "name": "stderr",
     "output_type": "stream",
     "text": [
      "\n",
      "\n",
      "====== WebDriver manager ======\n",
      "Current google-chrome version is 96.0.4664\n",
      "Get LATEST chromedriver version for 96.0.4664 google-chrome\n",
      "Driver [/home/szogabaha/.wdm/drivers/chromedriver/linux64/96.0.4664.45/chromedriver] found in cache\n"
     ]
    },
    {
     "name": "stdout",
     "output_type": "stream",
     "text": [
      "Tasmanian done (6 features)\n"
     ]
    },
    {
     "name": "stderr",
     "output_type": "stream",
     "text": [
      "\n",
      "\n",
      "====== WebDriver manager ======\n",
      "Current google-chrome version is 96.0.4664\n",
      "Get LATEST chromedriver version for 96.0.4664 google-chrome\n",
      "Driver [/home/szogabaha/.wdm/drivers/chromedriver/linux64/96.0.4664.45/chromedriver] found in cache\n"
     ]
    },
    {
     "name": "stdout",
     "output_type": "stream",
     "text": [
      "Tasmanian (Oyster Bay to Pitwater) done (2 features)\n"
     ]
    },
    {
     "name": "stderr",
     "output_type": "stream",
     "text": [
      "\n",
      "\n",
      "====== WebDriver manager ======\n",
      "Current google-chrome version is 96.0.4664\n",
      "Get LATEST chromedriver version for 96.0.4664 google-chrome\n",
      "Driver [/home/szogabaha/.wdm/drivers/chromedriver/linux64/96.0.4664.45/chromedriver] found in cache\n"
     ]
    },
    {
     "name": "stdout",
     "output_type": "stream",
     "text": [
      "Tatana' done (12 features)\n"
     ]
    },
    {
     "name": "stderr",
     "output_type": "stream",
     "text": [
      "\n",
      "\n",
      "====== WebDriver manager ======\n",
      "Current google-chrome version is 96.0.4664\n",
      "Get LATEST chromedriver version for 96.0.4664 google-chrome\n",
      "Driver [/home/szogabaha/.wdm/drivers/chromedriver/linux64/96.0.4664.45/chromedriver] found in cache\n"
     ]
    },
    {
     "name": "stdout",
     "output_type": "stream",
     "text": [
      "Tatar done (44 features)\n"
     ]
    },
    {
     "name": "stderr",
     "output_type": "stream",
     "text": [
      "\n",
      "\n",
      "====== WebDriver manager ======\n",
      "Current google-chrome version is 96.0.4664\n",
      "Get LATEST chromedriver version for 96.0.4664 google-chrome\n",
      "Driver [/home/szogabaha/.wdm/drivers/chromedriver/linux64/96.0.4664.45/chromedriver] found in cache\n"
     ]
    },
    {
     "name": "stdout",
     "output_type": "stream",
     "text": [
      "Tatar (Baraba) done (1 features)\n"
     ]
    },
    {
     "name": "stderr",
     "output_type": "stream",
     "text": [
      "\n",
      "\n",
      "====== WebDriver manager ======\n",
      "Current google-chrome version is 96.0.4664\n",
      "Get LATEST chromedriver version for 96.0.4664 google-chrome\n",
      "Driver [/home/szogabaha/.wdm/drivers/chromedriver/linux64/96.0.4664.45/chromedriver] found in cache\n"
     ]
    },
    {
     "name": "stdout",
     "output_type": "stream",
     "text": [
      "Tatar (Mishar) done (1 features)\n"
     ]
    },
    {
     "name": "stderr",
     "output_type": "stream",
     "text": [
      "\n",
      "\n",
      "====== WebDriver manager ======\n",
      "Current google-chrome version is 96.0.4664\n",
      "Get LATEST chromedriver version for 96.0.4664 google-chrome\n",
      "Driver [/home/szogabaha/.wdm/drivers/chromedriver/linux64/96.0.4664.45/chromedriver] found in cache\n"
     ]
    },
    {
     "name": "stdout",
     "output_type": "stream",
     "text": [
      "Tatar-Noghay (Alabugat) done (1 features)\n"
     ]
    },
    {
     "name": "stderr",
     "output_type": "stream",
     "text": [
      "\n",
      "\n",
      "====== WebDriver manager ======\n",
      "Current google-chrome version is 96.0.4664\n",
      "Get LATEST chromedriver version for 96.0.4664 google-chrome\n",
      "Driver [/home/szogabaha/.wdm/drivers/chromedriver/linux64/96.0.4664.45/chromedriver] found in cache\n"
     ]
    },
    {
     "name": "stdout",
     "output_type": "stream",
     "text": [
      "Tati (Southern) done (15 features)\n"
     ]
    },
    {
     "name": "stderr",
     "output_type": "stream",
     "text": [
      "\n",
      "\n",
      "====== WebDriver manager ======\n",
      "Current google-chrome version is 96.0.4664\n",
      "Get LATEST chromedriver version for 96.0.4664 google-chrome\n",
      "Driver [/home/szogabaha/.wdm/drivers/chromedriver/linux64/96.0.4664.45/chromedriver] found in cache\n"
     ]
    },
    {
     "name": "stdout",
     "output_type": "stream",
     "text": [
      "Tat (Muslim) done (2 features)\n"
     ]
    },
    {
     "name": "stderr",
     "output_type": "stream",
     "text": [
      "\n",
      "\n",
      "====== WebDriver manager ======\n",
      "Current google-chrome version is 96.0.4664\n",
      "Get LATEST chromedriver version for 96.0.4664 google-chrome\n",
      "Driver [/home/szogabaha/.wdm/drivers/chromedriver/linux64/96.0.4664.45/chromedriver] found in cache\n"
     ]
    },
    {
     "name": "stdout",
     "output_type": "stream",
     "text": [
      "Tatuyo done (2 features)\n"
     ]
    },
    {
     "name": "stderr",
     "output_type": "stream",
     "text": [
      "\n",
      "\n",
      "====== WebDriver manager ======\n",
      "Current google-chrome version is 96.0.4664\n",
      "Get LATEST chromedriver version for 96.0.4664 google-chrome\n",
      "Driver [/home/szogabaha/.wdm/drivers/chromedriver/linux64/96.0.4664.45/chromedriver] found in cache\n"
     ]
    },
    {
     "name": "stdout",
     "output_type": "stream",
     "text": [
      "Taulil done (1 features)\n"
     ]
    },
    {
     "name": "stderr",
     "output_type": "stream",
     "text": [
      "\n",
      "\n",
      "====== WebDriver manager ======\n",
      "Current google-chrome version is 96.0.4664\n",
      "Get LATEST chromedriver version for 96.0.4664 google-chrome\n",
      "Driver [/home/szogabaha/.wdm/drivers/chromedriver/linux64/96.0.4664.45/chromedriver] found in cache\n"
     ]
    },
    {
     "name": "stdout",
     "output_type": "stream",
     "text": [
      "Taushiro done (5 features)\n"
     ]
    },
    {
     "name": "stderr",
     "output_type": "stream",
     "text": [
      "\n",
      "\n",
      "====== WebDriver manager ======\n",
      "Current google-chrome version is 96.0.4664\n",
      "Get LATEST chromedriver version for 96.0.4664 google-chrome\n",
      "Driver [/home/szogabaha/.wdm/drivers/chromedriver/linux64/96.0.4664.45/chromedriver] found in cache\n"
     ]
    },
    {
     "name": "stdout",
     "output_type": "stream",
     "text": [
      "Tausug done (36 features)\n"
     ]
    },
    {
     "name": "stderr",
     "output_type": "stream",
     "text": [
      "\n",
      "\n",
      "====== WebDriver manager ======\n",
      "Current google-chrome version is 96.0.4664\n",
      "Get LATEST chromedriver version for 96.0.4664 google-chrome\n",
      "Driver [/home/szogabaha/.wdm/drivers/chromedriver/linux64/96.0.4664.45/chromedriver] found in cache\n"
     ]
    },
    {
     "name": "stdout",
     "output_type": "stream",
     "text": [
      "Tauya done (73 features)\n"
     ]
    },
    {
     "name": "stderr",
     "output_type": "stream",
     "text": [
      "\n",
      "\n",
      "====== WebDriver manager ======\n",
      "Current google-chrome version is 96.0.4664\n",
      "Get LATEST chromedriver version for 96.0.4664 google-chrome\n",
      "Driver [/home/szogabaha/.wdm/drivers/chromedriver/linux64/96.0.4664.45/chromedriver] found in cache\n"
     ]
    },
    {
     "name": "stdout",
     "output_type": "stream",
     "text": [
      "Tawala done (48 features)\n"
     ]
    },
    {
     "name": "stderr",
     "output_type": "stream",
     "text": [
      "\n",
      "\n",
      "====== WebDriver manager ======\n",
      "Current google-chrome version is 96.0.4664\n",
      "Get LATEST chromedriver version for 96.0.4664 google-chrome\n",
      "Driver [/home/szogabaha/.wdm/drivers/chromedriver/linux64/96.0.4664.45/chromedriver] found in cache\n"
     ]
    },
    {
     "name": "stdout",
     "output_type": "stream",
     "text": [
      "Tayo done (1 features)\n"
     ]
    },
    {
     "name": "stderr",
     "output_type": "stream",
     "text": [
      "\n",
      "\n",
      "====== WebDriver manager ======\n",
      "Current google-chrome version is 96.0.4664\n",
      "Get LATEST chromedriver version for 96.0.4664 google-chrome\n",
      "Driver [/home/szogabaha/.wdm/drivers/chromedriver/linux64/96.0.4664.45/chromedriver] found in cache\n"
     ]
    },
    {
     "name": "stdout",
     "output_type": "stream",
     "text": [
      "Tboli done (38 features)\n"
     ]
    },
    {
     "name": "stderr",
     "output_type": "stream",
     "text": [
      "\n",
      "\n",
      "====== WebDriver manager ======\n",
      "Current google-chrome version is 96.0.4664\n",
      "Get LATEST chromedriver version for 96.0.4664 google-chrome\n",
      "Driver [/home/szogabaha/.wdm/drivers/chromedriver/linux64/96.0.4664.45/chromedriver] found in cache\n"
     ]
    },
    {
     "name": "stdout",
     "output_type": "stream",
     "text": [
      "Tectiteco done (1 features)\n"
     ]
    },
    {
     "name": "stderr",
     "output_type": "stream",
     "text": [
      "\n",
      "\n",
      "====== WebDriver manager ======\n",
      "Current google-chrome version is 96.0.4664\n",
      "Get LATEST chromedriver version for 96.0.4664 google-chrome\n",
      "Driver [/home/szogabaha/.wdm/drivers/chromedriver/linux64/96.0.4664.45/chromedriver] found in cache\n"
     ]
    },
    {
     "name": "stdout",
     "output_type": "stream",
     "text": [
      "Tehit done (4 features)\n"
     ]
    },
    {
     "name": "stderr",
     "output_type": "stream",
     "text": [
      "\n",
      "\n",
      "====== WebDriver manager ======\n",
      "Current google-chrome version is 96.0.4664\n",
      "Get LATEST chromedriver version for 96.0.4664 google-chrome\n",
      "Driver [/home/szogabaha/.wdm/drivers/chromedriver/linux64/96.0.4664.45/chromedriver] found in cache\n"
     ]
    },
    {
     "name": "stdout",
     "output_type": "stream",
     "text": [
      "Tehuelche done (19 features)\n"
     ]
    },
    {
     "name": "stderr",
     "output_type": "stream",
     "text": [
      "\n",
      "\n",
      "====== WebDriver manager ======\n",
      "Current google-chrome version is 96.0.4664\n",
      "Get LATEST chromedriver version for 96.0.4664 google-chrome\n",
      "Driver [/home/szogabaha/.wdm/drivers/chromedriver/linux64/96.0.4664.45/chromedriver] found in cache\n"
     ]
    },
    {
     "name": "stdout",
     "output_type": "stream",
     "text": [
      "Teke (Southern) done (12 features)\n"
     ]
    },
    {
     "name": "stderr",
     "output_type": "stream",
     "text": [
      "\n",
      "\n",
      "====== WebDriver manager ======\n",
      "Current google-chrome version is 96.0.4664\n",
      "Get LATEST chromedriver version for 96.0.4664 google-chrome\n",
      "Driver [/home/szogabaha/.wdm/drivers/chromedriver/linux64/96.0.4664.45/chromedriver] found in cache\n"
     ]
    },
    {
     "name": "stdout",
     "output_type": "stream",
     "text": [
      "Telefol done (28 features)\n"
     ]
    },
    {
     "name": "stderr",
     "output_type": "stream",
     "text": [
      "\n",
      "\n",
      "====== WebDriver manager ======\n",
      "Current google-chrome version is 96.0.4664\n",
      "Get LATEST chromedriver version for 96.0.4664 google-chrome\n",
      "Driver [/home/szogabaha/.wdm/drivers/chromedriver/linux64/96.0.4664.45/chromedriver] found in cache\n"
     ]
    },
    {
     "name": "stdout",
     "output_type": "stream",
     "text": [
      "Telugu done (64 features)\n"
     ]
    },
    {
     "name": "stderr",
     "output_type": "stream",
     "text": [
      "\n",
      "\n",
      "====== WebDriver manager ======\n",
      "Current google-chrome version is 96.0.4664\n",
      "Get LATEST chromedriver version for 96.0.4664 google-chrome\n",
      "Driver [/home/szogabaha/.wdm/drivers/chromedriver/linux64/96.0.4664.45/chromedriver] found in cache\n"
     ]
    },
    {
     "name": "stdout",
     "output_type": "stream",
     "text": [
      "Tem done (7 features)\n"
     ]
    },
    {
     "name": "stderr",
     "output_type": "stream",
     "text": [
      "\n",
      "\n",
      "====== WebDriver manager ======\n",
      "Current google-chrome version is 96.0.4664\n",
      "Get LATEST chromedriver version for 96.0.4664 google-chrome\n",
      "Driver [/home/szogabaha/.wdm/drivers/chromedriver/linux64/96.0.4664.45/chromedriver] found in cache\n"
     ]
    },
    {
     "name": "stdout",
     "output_type": "stream",
     "text": [
      "Temein done (39 features)\n"
     ]
    },
    {
     "name": "stderr",
     "output_type": "stream",
     "text": [
      "\n",
      "\n",
      "====== WebDriver manager ======\n",
      "Current google-chrome version is 96.0.4664\n",
      "Get LATEST chromedriver version for 96.0.4664 google-chrome\n"
     ]
    },
    {
     "name": "stdout",
     "output_type": "stream",
     "text": [
      "Temiar done (45 features)\n"
     ]
    },
    {
     "name": "stderr",
     "output_type": "stream",
     "text": [
      "Driver [/home/szogabaha/.wdm/drivers/chromedriver/linux64/96.0.4664.45/chromedriver] found in cache\n",
      "\n",
      "\n",
      "====== WebDriver manager ======\n",
      "Current google-chrome version is 96.0.4664\n",
      "Get LATEST chromedriver version for 96.0.4664 google-chrome\n",
      "Driver [/home/szogabaha/.wdm/drivers/chromedriver/linux64/96.0.4664.45/chromedriver] found in cache\n"
     ]
    },
    {
     "name": "stdout",
     "output_type": "stream",
     "text": [
      "Temne done (58 features)\n"
     ]
    },
    {
     "name": "stderr",
     "output_type": "stream",
     "text": [
      "\n",
      "\n",
      "====== WebDriver manager ======\n",
      "Current google-chrome version is 96.0.4664\n",
      "Get LATEST chromedriver version for 96.0.4664 google-chrome\n",
      "Driver [/home/szogabaha/.wdm/drivers/chromedriver/linux64/96.0.4664.45/chromedriver] found in cache\n"
     ]
    },
    {
     "name": "stdout",
     "output_type": "stream",
     "text": [
      "Tennet done (40 features)\n"
     ]
    },
    {
     "name": "stderr",
     "output_type": "stream",
     "text": [
      "\n",
      "\n",
      "====== WebDriver manager ======\n",
      "Current google-chrome version is 96.0.4664\n",
      "Get LATEST chromedriver version for 96.0.4664 google-chrome\n",
      "Driver [/home/szogabaha/.wdm/drivers/chromedriver/linux64/96.0.4664.45/chromedriver] found in cache\n"
     ]
    },
    {
     "name": "stdout",
     "output_type": "stream",
     "text": [
      "Tenyer done (26 features)\n"
     ]
    },
    {
     "name": "stderr",
     "output_type": "stream",
     "text": [
      "\n",
      "\n",
      "====== WebDriver manager ======\n",
      "Current google-chrome version is 96.0.4664\n",
      "Get LATEST chromedriver version for 96.0.4664 google-chrome\n",
      "Driver [/home/szogabaha/.wdm/drivers/chromedriver/linux64/96.0.4664.45/chromedriver] found in cache\n"
     ]
    },
    {
     "name": "stdout",
     "output_type": "stream",
     "text": [
      "Teop done (38 features)\n"
     ]
    },
    {
     "name": "stderr",
     "output_type": "stream",
     "text": [
      "\n",
      "\n",
      "====== WebDriver manager ======\n",
      "Current google-chrome version is 96.0.4664\n",
      "Get LATEST chromedriver version for 96.0.4664 google-chrome\n",
      "Driver [/home/szogabaha/.wdm/drivers/chromedriver/linux64/96.0.4664.45/chromedriver] found in cache\n"
     ]
    },
    {
     "name": "stdout",
     "output_type": "stream",
     "text": [
      "Tepecano done (1 features)\n"
     ]
    },
    {
     "name": "stderr",
     "output_type": "stream",
     "text": [
      "\n",
      "\n",
      "====== WebDriver manager ======\n",
      "Current google-chrome version is 96.0.4664\n",
      "Get LATEST chromedriver version for 96.0.4664 google-chrome\n",
      "Driver [/home/szogabaha/.wdm/drivers/chromedriver/linux64/96.0.4664.45/chromedriver] found in cache\n"
     ]
    },
    {
     "name": "stdout",
     "output_type": "stream",
     "text": [
      "Tepehua (Huehuetla) done (43 features)\n"
     ]
    },
    {
     "name": "stderr",
     "output_type": "stream",
     "text": [
      "\n",
      "\n",
      "====== WebDriver manager ======\n",
      "Current google-chrome version is 96.0.4664\n",
      "Get LATEST chromedriver version for 96.0.4664 google-chrome\n",
      "Driver [/home/szogabaha/.wdm/drivers/chromedriver/linux64/96.0.4664.45/chromedriver] found in cache\n"
     ]
    },
    {
     "name": "stdout",
     "output_type": "stream",
     "text": [
      "Tepehuan (Northern) done (55 features)\n"
     ]
    },
    {
     "name": "stderr",
     "output_type": "stream",
     "text": [
      "\n",
      "\n",
      "====== WebDriver manager ======\n",
      "Current google-chrome version is 96.0.4664\n",
      "Get LATEST chromedriver version for 96.0.4664 google-chrome\n",
      "Driver [/home/szogabaha/.wdm/drivers/chromedriver/linux64/96.0.4664.45/chromedriver] found in cache\n"
     ]
    },
    {
     "name": "stdout",
     "output_type": "stream",
     "text": [
      "Tepehuan (Southeastern) done (28 features)\n"
     ]
    },
    {
     "name": "stderr",
     "output_type": "stream",
     "text": [
      "\n",
      "\n",
      "====== WebDriver manager ======\n",
      "Current google-chrome version is 96.0.4664\n",
      "Get LATEST chromedriver version for 96.0.4664 google-chrome\n",
      "Driver [/home/szogabaha/.wdm/drivers/chromedriver/linux64/96.0.4664.45/chromedriver] found in cache\n"
     ]
    },
    {
     "name": "stdout",
     "output_type": "stream",
     "text": [
      "Tepehua (Tlachichilco) done (37 features)\n"
     ]
    },
    {
     "name": "stderr",
     "output_type": "stream",
     "text": [
      "\n",
      "\n",
      "====== WebDriver manager ======\n",
      "Current google-chrome version is 96.0.4664\n",
      "Get LATEST chromedriver version for 96.0.4664 google-chrome\n",
      "Driver [/home/szogabaha/.wdm/drivers/chromedriver/linux64/96.0.4664.45/chromedriver] found in cache\n"
     ]
    },
    {
     "name": "stdout",
     "output_type": "stream",
     "text": [
      "Tera done (64 features)\n"
     ]
    },
    {
     "name": "stderr",
     "output_type": "stream",
     "text": [
      "\n",
      "\n",
      "====== WebDriver manager ======\n",
      "Current google-chrome version is 96.0.4664\n",
      "Get LATEST chromedriver version for 96.0.4664 google-chrome\n",
      "Driver [/home/szogabaha/.wdm/drivers/chromedriver/linux64/96.0.4664.45/chromedriver] found in cache\n"
     ]
    },
    {
     "name": "stdout",
     "output_type": "stream",
     "text": [
      "Terêna done (3 features)\n"
     ]
    },
    {
     "name": "stderr",
     "output_type": "stream",
     "text": [
      "\n",
      "\n",
      "====== WebDriver manager ======\n",
      "Current google-chrome version is 96.0.4664\n",
      "Get LATEST chromedriver version for 96.0.4664 google-chrome\n",
      "Driver [/home/szogabaha/.wdm/drivers/chromedriver/linux64/96.0.4664.45/chromedriver] found in cache\n"
     ]
    },
    {
     "name": "stdout",
     "output_type": "stream",
     "text": [
      "Teribe done (56 features)\n"
     ]
    },
    {
     "name": "stderr",
     "output_type": "stream",
     "text": [
      "\n",
      "\n",
      "====== WebDriver manager ======\n",
      "Current google-chrome version is 96.0.4664\n",
      "Get LATEST chromedriver version for 96.0.4664 google-chrome\n",
      "Driver [/home/szogabaha/.wdm/drivers/chromedriver/linux64/96.0.4664.45/chromedriver] found in cache\n"
     ]
    },
    {
     "name": "stdout",
     "output_type": "stream",
     "text": [
      "Ternate done (4 features)\n"
     ]
    },
    {
     "name": "stderr",
     "output_type": "stream",
     "text": [
      "\n",
      "\n",
      "====== WebDriver manager ======\n",
      "Current google-chrome version is 96.0.4664\n",
      "Get LATEST chromedriver version for 96.0.4664 google-chrome\n",
      "Driver [/home/szogabaha/.wdm/drivers/chromedriver/linux64/96.0.4664.45/chromedriver] found in cache\n"
     ]
    },
    {
     "name": "stdout",
     "output_type": "stream",
     "text": [
      "Teso done (40 features)\n"
     ]
    },
    {
     "name": "stderr",
     "output_type": "stream",
     "text": [
      "\n",
      "\n",
      "====== WebDriver manager ======\n",
      "Current google-chrome version is 96.0.4664\n",
      "Get LATEST chromedriver version for 96.0.4664 google-chrome\n",
      "Driver [/home/szogabaha/.wdm/drivers/chromedriver/linux64/96.0.4664.45/chromedriver] found in cache\n"
     ]
    },
    {
     "name": "stdout",
     "output_type": "stream",
     "text": [
      "Tetela done (28 features)\n"
     ]
    },
    {
     "name": "stderr",
     "output_type": "stream",
     "text": [
      "\n",
      "\n",
      "====== WebDriver manager ======\n",
      "Current google-chrome version is 96.0.4664\n",
      "Get LATEST chromedriver version for 96.0.4664 google-chrome\n",
      "Driver [/home/szogabaha/.wdm/drivers/chromedriver/linux64/96.0.4664.45/chromedriver] found in cache\n"
     ]
    },
    {
     "name": "stdout",
     "output_type": "stream",
     "text": [
      "Tetun done (61 features)\n"
     ]
    },
    {
     "name": "stderr",
     "output_type": "stream",
     "text": [
      "\n",
      "\n",
      "====== WebDriver manager ======\n",
      "Current google-chrome version is 96.0.4664\n",
      "Get LATEST chromedriver version for 96.0.4664 google-chrome\n",
      "Driver [/home/szogabaha/.wdm/drivers/chromedriver/linux64/96.0.4664.45/chromedriver] found in cache\n"
     ]
    },
    {
     "name": "stdout",
     "output_type": "stream",
     "text": [
      "Tetun Dili done (16 features)\n"
     ]
    },
    {
     "name": "stderr",
     "output_type": "stream",
     "text": [
      "\n",
      "\n",
      "====== WebDriver manager ======\n",
      "Current google-chrome version is 96.0.4664\n",
      "Get LATEST chromedriver version for 96.0.4664 google-chrome\n",
      "Driver [/home/szogabaha/.wdm/drivers/chromedriver/linux64/96.0.4664.45/chromedriver] found in cache\n"
     ]
    },
    {
     "name": "stdout",
     "output_type": "stream",
     "text": [
      "Tewa (Arizona) done (3 features)\n"
     ]
    },
    {
     "name": "stderr",
     "output_type": "stream",
     "text": [
      "\n",
      "\n",
      "====== WebDriver manager ======\n",
      "Current google-chrome version is 96.0.4664\n",
      "Get LATEST chromedriver version for 96.0.4664 google-chrome\n",
      "Driver [/home/szogabaha/.wdm/drivers/chromedriver/linux64/96.0.4664.45/chromedriver] found in cache\n"
     ]
    },
    {
     "name": "stdout",
     "output_type": "stream",
     "text": [
      "Tewa (Rio Grande) done (2 features)\n"
     ]
    },
    {
     "name": "stderr",
     "output_type": "stream",
     "text": [
      "\n",
      "\n",
      "====== WebDriver manager ======\n",
      "Current google-chrome version is 96.0.4664\n",
      "Get LATEST chromedriver version for 96.0.4664 google-chrome\n",
      "Driver [/home/szogabaha/.wdm/drivers/chromedriver/linux64/96.0.4664.45/chromedriver] found in cache\n"
     ]
    },
    {
     "name": "stdout",
     "output_type": "stream",
     "text": [
      "Tewa (San Juan Pueblo) done (2 features)\n"
     ]
    },
    {
     "name": "stderr",
     "output_type": "stream",
     "text": [
      "\n",
      "\n",
      "====== WebDriver manager ======\n",
      "Current google-chrome version is 96.0.4664\n",
      "Get LATEST chromedriver version for 96.0.4664 google-chrome\n",
      "Driver [/home/szogabaha/.wdm/drivers/chromedriver/linux64/96.0.4664.45/chromedriver] found in cache\n"
     ]
    },
    {
     "name": "stdout",
     "output_type": "stream",
     "text": [
      "Thadou done (6 features)\n"
     ]
    },
    {
     "name": "stderr",
     "output_type": "stream",
     "text": [
      "\n",
      "\n",
      "====== WebDriver manager ======\n",
      "Current google-chrome version is 96.0.4664\n",
      "Get LATEST chromedriver version for 96.0.4664 google-chrome\n",
      "Driver [/home/szogabaha/.wdm/drivers/chromedriver/linux64/96.0.4664.45/chromedriver] found in cache\n"
     ]
    },
    {
     "name": "stdout",
     "output_type": "stream",
     "text": [
      "Thai done (139 features)\n"
     ]
    },
    {
     "name": "stderr",
     "output_type": "stream",
     "text": [
      "\n",
      "\n",
      "====== WebDriver manager ======\n",
      "Current google-chrome version is 96.0.4664\n",
      "Get LATEST chromedriver version for 96.0.4664 google-chrome\n",
      "Driver [/home/szogabaha/.wdm/drivers/chromedriver/linux64/96.0.4664.45/chromedriver] found in cache\n"
     ]
    },
    {
     "name": "stdout",
     "output_type": "stream",
     "text": [
      "Thai Sign Language done (2 features)\n"
     ]
    },
    {
     "name": "stderr",
     "output_type": "stream",
     "text": [
      "\n",
      "\n",
      "====== WebDriver manager ======\n",
      "Current google-chrome version is 96.0.4664\n",
      "Get LATEST chromedriver version for 96.0.4664 google-chrome\n",
      "Driver [/home/szogabaha/.wdm/drivers/chromedriver/linux64/96.0.4664.45/chromedriver] found in cache\n"
     ]
    },
    {
     "name": "stdout",
     "output_type": "stream",
     "text": [
      "Thakali done (20 features)\n"
     ]
    },
    {
     "name": "stderr",
     "output_type": "stream",
     "text": [
      "\n",
      "\n",
      "====== WebDriver manager ======\n",
      "Current google-chrome version is 96.0.4664\n",
      "Get LATEST chromedriver version for 96.0.4664 google-chrome\n",
      "Driver [/home/szogabaha/.wdm/drivers/chromedriver/linux64/96.0.4664.45/chromedriver] found in cache\n"
     ]
    },
    {
     "name": "stdout",
     "output_type": "stream",
     "text": [
      "Thangmi done (25 features)\n"
     ]
    },
    {
     "name": "stderr",
     "output_type": "stream",
     "text": [
      "\n",
      "\n",
      "====== WebDriver manager ======\n",
      "Current google-chrome version is 96.0.4664\n",
      "Get LATEST chromedriver version for 96.0.4664 google-chrome\n",
      "Driver [/home/szogabaha/.wdm/drivers/chromedriver/linux64/96.0.4664.45/chromedriver] found in cache\n"
     ]
    },
    {
     "name": "stdout",
     "output_type": "stream",
     "text": [
      "Thao done (1 features)\n"
     ]
    },
    {
     "name": "stderr",
     "output_type": "stream",
     "text": [
      "\n",
      "\n",
      "====== WebDriver manager ======\n",
      "Current google-chrome version is 96.0.4664\n",
      "Get LATEST chromedriver version for 96.0.4664 google-chrome\n",
      "Driver [/home/szogabaha/.wdm/drivers/chromedriver/linux64/96.0.4664.45/chromedriver] found in cache\n"
     ]
    },
    {
     "name": "stdout",
     "output_type": "stream",
     "text": [
      "Thaypan done (3 features)\n"
     ]
    },
    {
     "name": "stderr",
     "output_type": "stream",
     "text": [
      "\n",
      "\n",
      "====== WebDriver manager ======\n",
      "Current google-chrome version is 96.0.4664\n",
      "Get LATEST chromedriver version for 96.0.4664 google-chrome\n",
      "Driver [/home/szogabaha/.wdm/drivers/chromedriver/linux64/96.0.4664.45/chromedriver] found in cache\n"
     ]
    },
    {
     "name": "stdout",
     "output_type": "stream",
     "text": [
      "Thompson done (39 features)\n"
     ]
    },
    {
     "name": "stderr",
     "output_type": "stream",
     "text": [
      "\n",
      "\n",
      "====== WebDriver manager ======\n",
      "Current google-chrome version is 96.0.4664\n",
      "Get LATEST chromedriver version for 96.0.4664 google-chrome\n",
      "Driver [/home/szogabaha/.wdm/drivers/chromedriver/linux64/96.0.4664.45/chromedriver] found in cache\n"
     ]
    },
    {
     "name": "stdout",
     "output_type": "stream",
     "text": [
      "Thulung done (30 features)\n"
     ]
    },
    {
     "name": "stderr",
     "output_type": "stream",
     "text": [
      "\n",
      "\n",
      "====== WebDriver manager ======\n",
      "Current google-chrome version is 96.0.4664\n",
      "Get LATEST chromedriver version for 96.0.4664 google-chrome\n",
      "Driver [/home/szogabaha/.wdm/drivers/chromedriver/linux64/96.0.4664.45/chromedriver] found in cache\n"
     ]
    },
    {
     "name": "stdout",
     "output_type": "stream",
     "text": [
      "Tibetan (Dingri) done (8 features)\n"
     ]
    },
    {
     "name": "stderr",
     "output_type": "stream",
     "text": [
      "\n",
      "\n",
      "====== WebDriver manager ======\n",
      "Current google-chrome version is 96.0.4664\n",
      "Get LATEST chromedriver version for 96.0.4664 google-chrome\n",
      "Driver [/home/szogabaha/.wdm/drivers/chromedriver/linux64/96.0.4664.45/chromedriver] found in cache\n"
     ]
    },
    {
     "name": "stdout",
     "output_type": "stream",
     "text": [
      "Tibetan (Drokpa) done (22 features)\n"
     ]
    },
    {
     "name": "stderr",
     "output_type": "stream",
     "text": [
      "\n",
      "\n",
      "====== WebDriver manager ======\n",
      "Current google-chrome version is 96.0.4664\n",
      "Get LATEST chromedriver version for 96.0.4664 google-chrome\n",
      "Driver [/home/szogabaha/.wdm/drivers/chromedriver/linux64/96.0.4664.45/chromedriver] found in cache\n"
     ]
    },
    {
     "name": "stdout",
     "output_type": "stream",
     "text": [
      "Tibetan (Modern Literary) done (32 features)\n"
     ]
    },
    {
     "name": "stderr",
     "output_type": "stream",
     "text": [
      "\n",
      "\n",
      "====== WebDriver manager ======\n",
      "Current google-chrome version is 96.0.4664\n",
      "Get LATEST chromedriver version for 96.0.4664 google-chrome\n",
      "Driver [/home/szogabaha/.wdm/drivers/chromedriver/linux64/96.0.4664.45/chromedriver] found in cache\n"
     ]
    },
    {
     "name": "stdout",
     "output_type": "stream",
     "text": [
      "Tibetan (Shigatse) done (21 features)\n"
     ]
    },
    {
     "name": "stderr",
     "output_type": "stream",
     "text": [
      "\n",
      "\n",
      "====== WebDriver manager ======\n",
      "Current google-chrome version is 96.0.4664\n",
      "Get LATEST chromedriver version for 96.0.4664 google-chrome\n",
      "Driver [/home/szogabaha/.wdm/drivers/chromedriver/linux64/96.0.4664.45/chromedriver] found in cache\n"
     ]
    },
    {
     "name": "stdout",
     "output_type": "stream",
     "text": [
      "Tibetan (Standard Spoken) done (74 features)\n"
     ]
    },
    {
     "name": "stderr",
     "output_type": "stream",
     "text": [
      "\n",
      "\n",
      "====== WebDriver manager ======\n",
      "Current google-chrome version is 96.0.4664\n",
      "Get LATEST chromedriver version for 96.0.4664 google-chrome\n",
      "Driver [/home/szogabaha/.wdm/drivers/chromedriver/linux64/96.0.4664.45/chromedriver] found in cache\n"
     ]
    },
    {
     "name": "stdout",
     "output_type": "stream",
     "text": [
      "Ticuna done (33 features)\n"
     ]
    },
    {
     "name": "stderr",
     "output_type": "stream",
     "text": [
      "\n",
      "\n",
      "====== WebDriver manager ======\n",
      "Current google-chrome version is 96.0.4664\n",
      "Get LATEST chromedriver version for 96.0.4664 google-chrome\n",
      "Driver [/home/szogabaha/.wdm/drivers/chromedriver/linux64/96.0.4664.45/chromedriver] found in cache\n"
     ]
    },
    {
     "name": "stdout",
     "output_type": "stream",
     "text": [
      "Tidore done (63 features)\n"
     ]
    },
    {
     "name": "stderr",
     "output_type": "stream",
     "text": [
      "\n",
      "\n",
      "====== WebDriver manager ======\n",
      "Current google-chrome version is 96.0.4664\n",
      "Get LATEST chromedriver version for 96.0.4664 google-chrome\n",
      "Driver [/home/szogabaha/.wdm/drivers/chromedriver/linux64/96.0.4664.45/chromedriver] found in cache\n"
     ]
    },
    {
     "name": "stdout",
     "output_type": "stream",
     "text": [
      "Tifal done (4 features)\n"
     ]
    },
    {
     "name": "stderr",
     "output_type": "stream",
     "text": [
      "\n",
      "\n",
      "====== WebDriver manager ======\n",
      "Current google-chrome version is 96.0.4664\n",
      "Get LATEST chromedriver version for 96.0.4664 google-chrome\n",
      "Driver [/home/szogabaha/.wdm/drivers/chromedriver/linux64/96.0.4664.45/chromedriver] found in cache\n"
     ]
    },
    {
     "name": "stdout",
     "output_type": "stream",
     "text": [
      "Tigak done (71 features)\n"
     ]
    },
    {
     "name": "stderr",
     "output_type": "stream",
     "text": [
      "\n",
      "\n",
      "====== WebDriver manager ======\n",
      "Current google-chrome version is 96.0.4664\n",
      "Get LATEST chromedriver version for 96.0.4664 google-chrome\n",
      "Driver [/home/szogabaha/.wdm/drivers/chromedriver/linux64/96.0.4664.45/chromedriver] found in cache\n"
     ]
    },
    {
     "name": "stdout",
     "output_type": "stream",
     "text": [
      "Tigré done (65 features)\n"
     ]
    },
    {
     "name": "stderr",
     "output_type": "stream",
     "text": [
      "\n",
      "\n",
      "====== WebDriver manager ======\n",
      "Current google-chrome version is 96.0.4664\n",
      "Get LATEST chromedriver version for 96.0.4664 google-chrome\n",
      "Driver [/home/szogabaha/.wdm/drivers/chromedriver/linux64/96.0.4664.45/chromedriver] found in cache\n"
     ]
    },
    {
     "name": "stdout",
     "output_type": "stream",
     "text": [
      "Tigré (Beni Amer) done (2 features)\n"
     ]
    },
    {
     "name": "stderr",
     "output_type": "stream",
     "text": [
      "\n",
      "\n",
      "====== WebDriver manager ======\n",
      "Current google-chrome version is 96.0.4664\n",
      "Get LATEST chromedriver version for 96.0.4664 google-chrome\n",
      "Driver [/home/szogabaha/.wdm/drivers/chromedriver/linux64/96.0.4664.45/chromedriver] found in cache\n"
     ]
    },
    {
     "name": "stdout",
     "output_type": "stream",
     "text": [
      "Tigrinya done (36 features)\n"
     ]
    },
    {
     "name": "stderr",
     "output_type": "stream",
     "text": [
      "\n",
      "\n",
      "====== WebDriver manager ======\n",
      "Current google-chrome version is 96.0.4664\n",
      "Get LATEST chromedriver version for 96.0.4664 google-chrome\n",
      "Driver [/home/szogabaha/.wdm/drivers/chromedriver/linux64/96.0.4664.45/chromedriver] found in cache\n"
     ]
    },
    {
     "name": "stdout",
     "output_type": "stream",
     "text": [
      "Tiipay (Jamul) done (60 features)\n"
     ]
    },
    {
     "name": "stderr",
     "output_type": "stream",
     "text": [
      "\n",
      "\n",
      "====== WebDriver manager ======\n",
      "Current google-chrome version is 96.0.4664\n",
      "Get LATEST chromedriver version for 96.0.4664 google-chrome\n",
      "Driver [/home/szogabaha/.wdm/drivers/chromedriver/linux64/96.0.4664.45/chromedriver] found in cache\n"
     ]
    },
    {
     "name": "stdout",
     "output_type": "stream",
     "text": [
      "Tikar done (18 features)\n"
     ]
    },
    {
     "name": "stderr",
     "output_type": "stream",
     "text": [
      "\n",
      "\n",
      "====== WebDriver manager ======\n",
      "Current google-chrome version is 96.0.4664\n",
      "Get LATEST chromedriver version for 96.0.4664 google-chrome\n",
      "Driver [/home/szogabaha/.wdm/drivers/chromedriver/linux64/96.0.4664.45/chromedriver] found in cache\n"
     ]
    },
    {
     "name": "stdout",
     "output_type": "stream",
     "text": [
      "Tillamook done (4 features)\n"
     ]
    },
    {
     "name": "stderr",
     "output_type": "stream",
     "text": [
      "\n",
      "\n",
      "====== WebDriver manager ======\n",
      "Current google-chrome version is 96.0.4664\n",
      "Get LATEST chromedriver version for 96.0.4664 google-chrome\n",
      "Driver [/home/szogabaha/.wdm/drivers/chromedriver/linux64/96.0.4664.45/chromedriver] found in cache\n"
     ]
    },
    {
     "name": "stdout",
     "output_type": "stream",
     "text": [
      "Tima done (9 features)\n"
     ]
    },
    {
     "name": "stderr",
     "output_type": "stream",
     "text": [
      "\n",
      "\n",
      "====== WebDriver manager ======\n",
      "Current google-chrome version is 96.0.4664\n",
      "Get LATEST chromedriver version for 96.0.4664 google-chrome\n",
      "Driver [/home/szogabaha/.wdm/drivers/chromedriver/linux64/96.0.4664.45/chromedriver] found in cache\n"
     ]
    },
    {
     "name": "stdout",
     "output_type": "stream",
     "text": [
      "Timorese done (3 features)\n"
     ]
    },
    {
     "name": "stderr",
     "output_type": "stream",
     "text": [
      "\n",
      "\n",
      "====== WebDriver manager ======\n",
      "Current google-chrome version is 96.0.4664\n",
      "Get LATEST chromedriver version for 96.0.4664 google-chrome\n",
      "Driver [/home/szogabaha/.wdm/drivers/chromedriver/linux64/96.0.4664.45/chromedriver] found in cache\n"
     ]
    },
    {
     "name": "stdout",
     "output_type": "stream",
     "text": [
      "Timucua done (21 features)\n"
     ]
    },
    {
     "name": "stderr",
     "output_type": "stream",
     "text": [
      "\n",
      "\n",
      "====== WebDriver manager ======\n",
      "Current google-chrome version is 96.0.4664\n",
      "Get LATEST chromedriver version for 96.0.4664 google-chrome\n",
      "Driver [/home/szogabaha/.wdm/drivers/chromedriver/linux64/96.0.4664.45/chromedriver] found in cache\n"
     ]
    },
    {
     "name": "stdout",
     "output_type": "stream",
     "text": [
      "Timugon done (36 features)\n"
     ]
    },
    {
     "name": "stderr",
     "output_type": "stream",
     "text": [
      "\n",
      "\n",
      "====== WebDriver manager ======\n",
      "Current google-chrome version is 96.0.4664\n",
      "Get LATEST chromedriver version for 96.0.4664 google-chrome\n",
      "Driver [/home/szogabaha/.wdm/drivers/chromedriver/linux64/96.0.4664.45/chromedriver] found in cache\n"
     ]
    },
    {
     "name": "stdout",
     "output_type": "stream",
     "text": [
      "Tinani done (11 features)\n"
     ]
    },
    {
     "name": "stderr",
     "output_type": "stream",
     "text": [
      "\n",
      "\n",
      "====== WebDriver manager ======\n",
      "Current google-chrome version is 96.0.4664\n",
      "Get LATEST chromedriver version for 96.0.4664 google-chrome\n",
      "Driver [/home/szogabaha/.wdm/drivers/chromedriver/linux64/96.0.4664.45/chromedriver] found in cache\n"
     ]
    },
    {
     "name": "stdout",
     "output_type": "stream",
     "text": [
      "Tindi done (1 features)\n"
     ]
    },
    {
     "name": "stderr",
     "output_type": "stream",
     "text": [
      "\n",
      "\n",
      "====== WebDriver manager ======\n",
      "Current google-chrome version is 96.0.4664\n",
      "Get LATEST chromedriver version for 96.0.4664 google-chrome\n",
      "Driver [/home/szogabaha/.wdm/drivers/chromedriver/linux64/96.0.4664.45/chromedriver] found in cache\n"
     ]
    },
    {
     "name": "stdout",
     "output_type": "stream",
     "text": [
      "Tinrin done (70 features)\n"
     ]
    },
    {
     "name": "stderr",
     "output_type": "stream",
     "text": [
      "\n",
      "\n",
      "====== WebDriver manager ======\n",
      "Current google-chrome version is 96.0.4664\n",
      "Get LATEST chromedriver version for 96.0.4664 google-chrome\n"
     ]
    },
    {
     "name": "stdout",
     "output_type": "stream",
     "text": [
      "Tiriyo done (32 features)\n"
     ]
    },
    {
     "name": "stderr",
     "output_type": "stream",
     "text": [
      "Driver [/home/szogabaha/.wdm/drivers/chromedriver/linux64/96.0.4664.45/chromedriver] found in cache\n",
      "\n",
      "\n",
      "====== WebDriver manager ======\n",
      "Current google-chrome version is 96.0.4664\n",
      "Get LATEST chromedriver version for 96.0.4664 google-chrome\n",
      "Driver [/home/szogabaha/.wdm/drivers/chromedriver/linux64/96.0.4664.45/chromedriver] found in cache\n"
     ]
    },
    {
     "name": "stdout",
     "output_type": "stream",
     "text": [
      "Tirmaga done (30 features)\n"
     ]
    },
    {
     "name": "stderr",
     "output_type": "stream",
     "text": [
      "\n",
      "\n",
      "====== WebDriver manager ======\n",
      "Current google-chrome version is 96.0.4664\n",
      "Get LATEST chromedriver version for 96.0.4664 google-chrome\n",
      "Driver [/home/szogabaha/.wdm/drivers/chromedriver/linux64/96.0.4664.45/chromedriver] found in cache\n"
     ]
    },
    {
     "name": "stdout",
     "output_type": "stream",
     "text": [
      "Tiruray done (17 features)\n"
     ]
    },
    {
     "name": "stderr",
     "output_type": "stream",
     "text": [
      "\n",
      "\n",
      "====== WebDriver manager ======\n",
      "Current google-chrome version is 96.0.4664\n",
      "Get LATEST chromedriver version for 96.0.4664 google-chrome\n",
      "Driver [/home/szogabaha/.wdm/drivers/chromedriver/linux64/96.0.4664.45/chromedriver] found in cache\n"
     ]
    },
    {
     "name": "stdout",
     "output_type": "stream",
     "text": [
      "Tiv done (24 features)\n"
     ]
    },
    {
     "name": "stderr",
     "output_type": "stream",
     "text": [
      "\n",
      "\n",
      "====== WebDriver manager ======\n",
      "Current google-chrome version is 96.0.4664\n",
      "Get LATEST chromedriver version for 96.0.4664 google-chrome\n",
      "Driver [/home/szogabaha/.wdm/drivers/chromedriver/linux64/96.0.4664.45/chromedriver] found in cache\n"
     ]
    },
    {
     "name": "stdout",
     "output_type": "stream",
     "text": [
      "Tiwa (Northern) done (49 features)\n"
     ]
    },
    {
     "name": "stderr",
     "output_type": "stream",
     "text": [
      "\n",
      "\n",
      "====== WebDriver manager ======\n",
      "Current google-chrome version is 96.0.4664\n",
      "Get LATEST chromedriver version for 96.0.4664 google-chrome\n",
      "Driver [/home/szogabaha/.wdm/drivers/chromedriver/linux64/96.0.4664.45/chromedriver] found in cache\n"
     ]
    },
    {
     "name": "stdout",
     "output_type": "stream",
     "text": [
      "Tiwa (Southern) done (2 features)\n"
     ]
    },
    {
     "name": "stderr",
     "output_type": "stream",
     "text": [
      "\n",
      "\n",
      "====== WebDriver manager ======\n",
      "Current google-chrome version is 96.0.4664\n",
      "Get LATEST chromedriver version for 96.0.4664 google-chrome\n",
      "Driver [/home/szogabaha/.wdm/drivers/chromedriver/linux64/96.0.4664.45/chromedriver] found in cache\n"
     ]
    },
    {
     "name": "stdout",
     "output_type": "stream",
     "text": [
      "Tiwi done (138 features)\n"
     ]
    },
    {
     "name": "stderr",
     "output_type": "stream",
     "text": [
      "\n",
      "\n",
      "====== WebDriver manager ======\n",
      "Current google-chrome version is 96.0.4664\n",
      "Get LATEST chromedriver version for 96.0.4664 google-chrome\n",
      "Driver [/home/szogabaha/.wdm/drivers/chromedriver/linux64/96.0.4664.45/chromedriver] found in cache\n"
     ]
    },
    {
     "name": "stdout",
     "output_type": "stream",
     "text": [
      "Tlapanec done (53 features)\n"
     ]
    },
    {
     "name": "stderr",
     "output_type": "stream",
     "text": [
      "\n",
      "\n",
      "====== WebDriver manager ======\n",
      "Current google-chrome version is 96.0.4664\n",
      "Get LATEST chromedriver version for 96.0.4664 google-chrome\n",
      "Driver [/home/szogabaha/.wdm/drivers/chromedriver/linux64/96.0.4664.45/chromedriver] found in cache\n"
     ]
    },
    {
     "name": "stdout",
     "output_type": "stream",
     "text": [
      "Tlingit done (94 features)\n"
     ]
    },
    {
     "name": "stderr",
     "output_type": "stream",
     "text": [
      "\n",
      "\n",
      "====== WebDriver manager ======\n",
      "Current google-chrome version is 96.0.4664\n",
      "Get LATEST chromedriver version for 96.0.4664 google-chrome\n",
      "Driver [/home/szogabaha/.wdm/drivers/chromedriver/linux64/96.0.4664.45/chromedriver] found in cache\n"
     ]
    },
    {
     "name": "stdout",
     "output_type": "stream",
     "text": [
      "Toaripi done (15 features)\n"
     ]
    },
    {
     "name": "stderr",
     "output_type": "stream",
     "text": [
      "\n",
      "\n",
      "====== WebDriver manager ======\n",
      "Current google-chrome version is 96.0.4664\n",
      "Get LATEST chromedriver version for 96.0.4664 google-chrome\n",
      "Driver [/home/szogabaha/.wdm/drivers/chromedriver/linux64/96.0.4664.45/chromedriver] found in cache\n"
     ]
    },
    {
     "name": "stdout",
     "output_type": "stream",
     "text": [
      "Toba done (39 features)\n"
     ]
    },
    {
     "name": "stderr",
     "output_type": "stream",
     "text": [
      "\n",
      "\n",
      "====== WebDriver manager ======\n",
      "Current google-chrome version is 96.0.4664\n",
      "Get LATEST chromedriver version for 96.0.4664 google-chrome\n",
      "Driver [/home/szogabaha/.wdm/drivers/chromedriver/linux64/96.0.4664.45/chromedriver] found in cache\n"
     ]
    },
    {
     "name": "stdout",
     "output_type": "stream",
     "text": [
      "Tobati done (28 features)\n"
     ]
    },
    {
     "name": "stderr",
     "output_type": "stream",
     "text": [
      "\n",
      "\n",
      "====== WebDriver manager ======\n",
      "Current google-chrome version is 96.0.4664\n",
      "Get LATEST chromedriver version for 96.0.4664 google-chrome\n",
      "Driver [/home/szogabaha/.wdm/drivers/chromedriver/linux64/96.0.4664.45/chromedriver] found in cache\n"
     ]
    },
    {
     "name": "stdout",
     "output_type": "stream",
     "text": [
      "Tobelo done (32 features)\n"
     ]
    },
    {
     "name": "stderr",
     "output_type": "stream",
     "text": [
      "\n",
      "\n",
      "====== WebDriver manager ======\n",
      "Current google-chrome version is 96.0.4664\n",
      "Get LATEST chromedriver version for 96.0.4664 google-chrome\n",
      "Driver [/home/szogabaha/.wdm/drivers/chromedriver/linux64/96.0.4664.45/chromedriver] found in cache\n"
     ]
    },
    {
     "name": "stdout",
     "output_type": "stream",
     "text": [
      "Tod done (16 features)\n"
     ]
    },
    {
     "name": "stderr",
     "output_type": "stream",
     "text": [
      "\n",
      "\n",
      "====== WebDriver manager ======\n",
      "Current google-chrome version is 96.0.4664\n",
      "Get LATEST chromedriver version for 96.0.4664 google-chrome\n",
      "Driver [/home/szogabaha/.wdm/drivers/chromedriver/linux64/96.0.4664.45/chromedriver] found in cache\n"
     ]
    },
    {
     "name": "stdout",
     "output_type": "stream",
     "text": [
      "Toda done (2 features)\n"
     ]
    },
    {
     "name": "stderr",
     "output_type": "stream",
     "text": [
      "\n",
      "\n",
      "====== WebDriver manager ======\n",
      "Current google-chrome version is 96.0.4664\n",
      "Get LATEST chromedriver version for 96.0.4664 google-chrome\n",
      "Driver [/home/szogabaha/.wdm/drivers/chromedriver/linux64/96.0.4664.45/chromedriver] found in cache\n"
     ]
    },
    {
     "name": "stdout",
     "output_type": "stream",
     "text": [
      "Tofa done (2 features)\n"
     ]
    },
    {
     "name": "stderr",
     "output_type": "stream",
     "text": [
      "\n",
      "\n",
      "====== WebDriver manager ======\n",
      "Current google-chrome version is 96.0.4664\n",
      "Get LATEST chromedriver version for 96.0.4664 google-chrome\n",
      "Driver [/home/szogabaha/.wdm/drivers/chromedriver/linux64/96.0.4664.45/chromedriver] found in cache\n"
     ]
    },
    {
     "name": "stdout",
     "output_type": "stream",
     "text": [
      "Tojolabal done (8 features)\n"
     ]
    },
    {
     "name": "stderr",
     "output_type": "stream",
     "text": [
      "\n",
      "\n",
      "====== WebDriver manager ======\n",
      "Current google-chrome version is 96.0.4664\n",
      "Get LATEST chromedriver version for 96.0.4664 google-chrome\n",
      "Driver [/home/szogabaha/.wdm/drivers/chromedriver/linux64/96.0.4664.45/chromedriver] found in cache\n"
     ]
    },
    {
     "name": "stdout",
     "output_type": "stream",
     "text": [
      "Tokelauan done (26 features)\n"
     ]
    },
    {
     "name": "stderr",
     "output_type": "stream",
     "text": [
      "\n",
      "\n",
      "====== WebDriver manager ======\n",
      "Current google-chrome version is 96.0.4664\n",
      "Get LATEST chromedriver version for 96.0.4664 google-chrome\n",
      "Driver [/home/szogabaha/.wdm/drivers/chromedriver/linux64/96.0.4664.45/chromedriver] found in cache\n"
     ]
    },
    {
     "name": "stdout",
     "output_type": "stream",
     "text": [
      "Tok Pisin done (16 features)\n"
     ]
    },
    {
     "name": "stderr",
     "output_type": "stream",
     "text": [
      "\n",
      "\n",
      "====== WebDriver manager ======\n",
      "Current google-chrome version is 96.0.4664\n",
      "Get LATEST chromedriver version for 96.0.4664 google-chrome\n",
      "Driver [/home/szogabaha/.wdm/drivers/chromedriver/linux64/96.0.4664.45/chromedriver] found in cache\n"
     ]
    },
    {
     "name": "stdout",
     "output_type": "stream",
     "text": [
      "Tol done (40 features)\n"
     ]
    },
    {
     "name": "stderr",
     "output_type": "stream",
     "text": [
      "\n",
      "\n",
      "====== WebDriver manager ======\n",
      "Current google-chrome version is 96.0.4664\n",
      "Get LATEST chromedriver version for 96.0.4664 google-chrome\n",
      "Driver [/home/szogabaha/.wdm/drivers/chromedriver/linux64/96.0.4664.45/chromedriver] found in cache\n"
     ]
    },
    {
     "name": "stdout",
     "output_type": "stream",
     "text": [
      "Tolai done (53 features)\n"
     ]
    },
    {
     "name": "stderr",
     "output_type": "stream",
     "text": [
      "\n",
      "\n",
      "====== WebDriver manager ======\n",
      "Current google-chrome version is 96.0.4664\n",
      "Get LATEST chromedriver version for 96.0.4664 google-chrome\n",
      "Driver [/home/szogabaha/.wdm/drivers/chromedriver/linux64/96.0.4664.45/chromedriver] found in cache\n"
     ]
    },
    {
     "name": "stdout",
     "output_type": "stream",
     "text": [
      "Tommo So done (22 features)\n"
     ]
    },
    {
     "name": "stderr",
     "output_type": "stream",
     "text": [
      "\n",
      "\n",
      "====== WebDriver manager ======\n",
      "Current google-chrome version is 96.0.4664\n",
      "Get LATEST chromedriver version for 96.0.4664 google-chrome\n",
      "Driver [/home/szogabaha/.wdm/drivers/chromedriver/linux64/96.0.4664.45/chromedriver] found in cache\n"
     ]
    },
    {
     "name": "stdout",
     "output_type": "stream",
     "text": [
      "Tondano done (36 features)\n"
     ]
    },
    {
     "name": "stderr",
     "output_type": "stream",
     "text": [
      "\n",
      "\n",
      "====== WebDriver manager ======\n",
      "Current google-chrome version is 96.0.4664\n",
      "Get LATEST chromedriver version for 96.0.4664 google-chrome\n",
      "Driver [/home/szogabaha/.wdm/drivers/chromedriver/linux64/96.0.4664.45/chromedriver] found in cache\n"
     ]
    },
    {
     "name": "stdout",
     "output_type": "stream",
     "text": [
      "Tonga (in Zambia) done (30 features)\n"
     ]
    },
    {
     "name": "stderr",
     "output_type": "stream",
     "text": [
      "\n",
      "\n",
      "====== WebDriver manager ======\n",
      "Current google-chrome version is 96.0.4664\n",
      "Get LATEST chromedriver version for 96.0.4664 google-chrome\n",
      "Driver [/home/szogabaha/.wdm/drivers/chromedriver/linux64/96.0.4664.45/chromedriver] found in cache\n"
     ]
    },
    {
     "name": "stdout",
     "output_type": "stream",
     "text": [
      "Tongan done (49 features)\n"
     ]
    },
    {
     "name": "stderr",
     "output_type": "stream",
     "text": [
      "\n",
      "\n",
      "====== WebDriver manager ======\n",
      "Current google-chrome version is 96.0.4664\n",
      "Get LATEST chromedriver version for 96.0.4664 google-chrome\n",
      "Driver [/home/szogabaha/.wdm/drivers/chromedriver/linux64/96.0.4664.45/chromedriver] found in cache\n"
     ]
    },
    {
     "name": "stdout",
     "output_type": "stream",
     "text": [
      "Tonkawa done (81 features)\n"
     ]
    },
    {
     "name": "stderr",
     "output_type": "stream",
     "text": [
      "\n",
      "\n",
      "====== WebDriver manager ======\n",
      "Current google-chrome version is 96.0.4664\n",
      "Get LATEST chromedriver version for 96.0.4664 google-chrome\n",
      "Driver [/home/szogabaha/.wdm/drivers/chromedriver/linux64/96.0.4664.45/chromedriver] found in cache\n"
     ]
    },
    {
     "name": "stdout",
     "output_type": "stream",
     "text": [
      "Tontemboan done (3 features)\n"
     ]
    },
    {
     "name": "stderr",
     "output_type": "stream",
     "text": [
      "\n",
      "\n",
      "====== WebDriver manager ======\n",
      "Current google-chrome version is 96.0.4664\n",
      "Get LATEST chromedriver version for 96.0.4664 google-chrome\n",
      "Driver [/home/szogabaha/.wdm/drivers/chromedriver/linux64/96.0.4664.45/chromedriver] found in cache\n"
     ]
    },
    {
     "name": "stdout",
     "output_type": "stream",
     "text": [
      "Toqabaqita done (7 features)\n"
     ]
    },
    {
     "name": "stderr",
     "output_type": "stream",
     "text": [
      "\n",
      "\n",
      "====== WebDriver manager ======\n",
      "Current google-chrome version is 96.0.4664\n",
      "Get LATEST chromedriver version for 96.0.4664 google-chrome\n",
      "Driver [/home/szogabaha/.wdm/drivers/chromedriver/linux64/96.0.4664.45/chromedriver] found in cache\n"
     ]
    },
    {
     "name": "stdout",
     "output_type": "stream",
     "text": [
      "Toraja done (3 features)\n"
     ]
    },
    {
     "name": "stderr",
     "output_type": "stream",
     "text": [
      "\n",
      "\n",
      "====== WebDriver manager ======\n",
      "Current google-chrome version is 96.0.4664\n",
      "Get LATEST chromedriver version for 96.0.4664 google-chrome\n",
      "Driver [/home/szogabaha/.wdm/drivers/chromedriver/linux64/96.0.4664.45/chromedriver] found in cache\n"
     ]
    },
    {
     "name": "stdout",
     "output_type": "stream",
     "text": [
      "Toratán done (9 features)\n"
     ]
    },
    {
     "name": "stderr",
     "output_type": "stream",
     "text": [
      "\n",
      "\n",
      "====== WebDriver manager ======\n",
      "Current google-chrome version is 96.0.4664\n",
      "Get LATEST chromedriver version for 96.0.4664 google-chrome\n",
      "Driver [/home/szogabaha/.wdm/drivers/chromedriver/linux64/96.0.4664.45/chromedriver] found in cache\n"
     ]
    },
    {
     "name": "stdout",
     "output_type": "stream",
     "text": [
      "Toro So done (15 features)\n"
     ]
    },
    {
     "name": "stderr",
     "output_type": "stream",
     "text": [
      "\n",
      "\n",
      "====== WebDriver manager ======\n",
      "Current google-chrome version is 96.0.4664\n",
      "Get LATEST chromedriver version for 96.0.4664 google-chrome\n",
      "Driver [/home/szogabaha/.wdm/drivers/chromedriver/linux64/96.0.4664.45/chromedriver] found in cache\n"
     ]
    },
    {
     "name": "stdout",
     "output_type": "stream",
     "text": [
      "Torwali done (15 features)\n"
     ]
    },
    {
     "name": "stderr",
     "output_type": "stream",
     "text": [
      "\n",
      "\n",
      "====== WebDriver manager ======\n",
      "Current google-chrome version is 96.0.4664\n",
      "Get LATEST chromedriver version for 96.0.4664 google-chrome\n",
      "Driver [/home/szogabaha/.wdm/drivers/chromedriver/linux64/96.0.4664.45/chromedriver] found in cache\n"
     ]
    },
    {
     "name": "stdout",
     "output_type": "stream",
     "text": [
      "Totonac (Misantla) done (33 features)\n"
     ]
    },
    {
     "name": "stderr",
     "output_type": "stream",
     "text": [
      "\n",
      "\n",
      "====== WebDriver manager ======\n",
      "Current google-chrome version is 96.0.4664\n",
      "Get LATEST chromedriver version for 96.0.4664 google-chrome\n",
      "Driver [/home/szogabaha/.wdm/drivers/chromedriver/linux64/96.0.4664.45/chromedriver] found in cache\n"
     ]
    },
    {
     "name": "stdout",
     "output_type": "stream",
     "text": [
      "Totonac (Papantla) done (24 features)\n"
     ]
    },
    {
     "name": "stderr",
     "output_type": "stream",
     "text": [
      "\n",
      "\n",
      "====== WebDriver manager ======\n",
      "Current google-chrome version is 96.0.4664\n",
      "Get LATEST chromedriver version for 96.0.4664 google-chrome\n",
      "Driver [/home/szogabaha/.wdm/drivers/chromedriver/linux64/96.0.4664.45/chromedriver] found in cache\n"
     ]
    },
    {
     "name": "stdout",
     "output_type": "stream",
     "text": [
      "Totonac (Sierra) done (2 features)\n"
     ]
    },
    {
     "name": "stderr",
     "output_type": "stream",
     "text": [
      "\n",
      "\n",
      "====== WebDriver manager ======\n",
      "Current google-chrome version is 96.0.4664\n",
      "Get LATEST chromedriver version for 96.0.4664 google-chrome\n"
     ]
    },
    {
     "name": "stdout",
     "output_type": "stream",
     "text": [
      "Totonac (Xicotepec de Juárez) done (34 features)\n"
     ]
    },
    {
     "name": "stderr",
     "output_type": "stream",
     "text": [
      "Driver [/home/szogabaha/.wdm/drivers/chromedriver/linux64/96.0.4664.45/chromedriver] found in cache\n",
      "\n",
      "\n",
      "====== WebDriver manager ======\n",
      "Current google-chrome version is 96.0.4664\n",
      "Get LATEST chromedriver version for 96.0.4664 google-chrome\n",
      "Driver [/home/szogabaha/.wdm/drivers/chromedriver/linux64/96.0.4664.45/chromedriver] found in cache\n"
     ]
    },
    {
     "name": "stdout",
     "output_type": "stream",
     "text": [
      "Trique (Chicahuaxtla) done (2 features)\n"
     ]
    },
    {
     "name": "stderr",
     "output_type": "stream",
     "text": [
      "\n",
      "\n",
      "====== WebDriver manager ======\n",
      "Current google-chrome version is 96.0.4664\n",
      "Get LATEST chromedriver version for 96.0.4664 google-chrome\n",
      "Driver [/home/szogabaha/.wdm/drivers/chromedriver/linux64/96.0.4664.45/chromedriver] found in cache\n"
     ]
    },
    {
     "name": "stdout",
     "output_type": "stream",
     "text": [
      "Trique (Copala) done (44 features)\n"
     ]
    },
    {
     "name": "stderr",
     "output_type": "stream",
     "text": [
      "\n",
      "\n",
      "====== WebDriver manager ======\n",
      "Current google-chrome version is 96.0.4664\n",
      "Get LATEST chromedriver version for 96.0.4664 google-chrome\n",
      "Driver [/home/szogabaha/.wdm/drivers/chromedriver/linux64/96.0.4664.45/chromedriver] found in cache\n"
     ]
    },
    {
     "name": "stdout",
     "output_type": "stream",
     "text": [
      "Trumai done (121 features)\n"
     ]
    },
    {
     "name": "stderr",
     "output_type": "stream",
     "text": [
      "\n",
      "\n",
      "====== WebDriver manager ======\n",
      "Current google-chrome version is 96.0.4664\n",
      "Get LATEST chromedriver version for 96.0.4664 google-chrome\n",
      "Driver [/home/szogabaha/.wdm/drivers/chromedriver/linux64/96.0.4664.45/chromedriver] found in cache\n"
     ]
    },
    {
     "name": "stdout",
     "output_type": "stream",
     "text": [
      "Tsafiki done (37 features)\n"
     ]
    },
    {
     "name": "stderr",
     "output_type": "stream",
     "text": [
      "\n",
      "\n",
      "====== WebDriver manager ======\n",
      "Current google-chrome version is 96.0.4664\n",
      "Get LATEST chromedriver version for 96.0.4664 google-chrome\n",
      "Driver [/home/szogabaha/.wdm/drivers/chromedriver/linux64/96.0.4664.45/chromedriver] found in cache\n"
     ]
    },
    {
     "name": "stdout",
     "output_type": "stream",
     "text": [
      "Tsakhur done (12 features)\n"
     ]
    },
    {
     "name": "stderr",
     "output_type": "stream",
     "text": [
      "\n",
      "\n",
      "====== WebDriver manager ======\n",
      "Current google-chrome version is 96.0.4664\n",
      "Get LATEST chromedriver version for 96.0.4664 google-chrome\n",
      "Driver [/home/szogabaha/.wdm/drivers/chromedriver/linux64/96.0.4664.45/chromedriver] found in cache\n"
     ]
    },
    {
     "name": "stdout",
     "output_type": "stream",
     "text": [
      "Tsat done (3 features)\n"
     ]
    },
    {
     "name": "stderr",
     "output_type": "stream",
     "text": [
      "\n",
      "\n",
      "====== WebDriver manager ======\n",
      "Current google-chrome version is 96.0.4664\n",
      "Get LATEST chromedriver version for 96.0.4664 google-chrome\n",
      "Driver [/home/szogabaha/.wdm/drivers/chromedriver/linux64/96.0.4664.45/chromedriver] found in cache\n"
     ]
    },
    {
     "name": "stdout",
     "output_type": "stream",
     "text": [
      "Tsez done (42 features)\n"
     ]
    },
    {
     "name": "stderr",
     "output_type": "stream",
     "text": [
      "\n",
      "\n",
      "====== WebDriver manager ======\n",
      "Current google-chrome version is 96.0.4664\n",
      "Get LATEST chromedriver version for 96.0.4664 google-chrome\n",
      "Driver [/home/szogabaha/.wdm/drivers/chromedriver/linux64/96.0.4664.45/chromedriver] found in cache\n"
     ]
    },
    {
     "name": "stdout",
     "output_type": "stream",
     "text": [
      "Tshangla done (38 features)\n"
     ]
    },
    {
     "name": "stderr",
     "output_type": "stream",
     "text": [
      "\n",
      "\n",
      "====== WebDriver manager ======\n",
      "Current google-chrome version is 96.0.4664\n",
      "Get LATEST chromedriver version for 96.0.4664 google-chrome\n",
      "Driver [/home/szogabaha/.wdm/drivers/chromedriver/linux64/96.0.4664.45/chromedriver] found in cache\n"
     ]
    },
    {
     "name": "stdout",
     "output_type": "stream",
     "text": [
      "Tsimshian (Coast) done (92 features)\n"
     ]
    },
    {
     "name": "stderr",
     "output_type": "stream",
     "text": [
      "\n",
      "\n",
      "====== WebDriver manager ======\n",
      "Current google-chrome version is 96.0.4664\n",
      "Get LATEST chromedriver version for 96.0.4664 google-chrome\n",
      "Driver [/home/szogabaha/.wdm/drivers/chromedriver/linux64/96.0.4664.45/chromedriver] found in cache\n"
     ]
    },
    {
     "name": "stdout",
     "output_type": "stream",
     "text": [
      "Tsogo done (10 features)\n"
     ]
    },
    {
     "name": "stderr",
     "output_type": "stream",
     "text": [
      "\n",
      "\n",
      "====== WebDriver manager ======\n",
      "Current google-chrome version is 96.0.4664\n",
      "Get LATEST chromedriver version for 96.0.4664 google-chrome\n",
      "Driver [/home/szogabaha/.wdm/drivers/chromedriver/linux64/96.0.4664.45/chromedriver] found in cache\n"
     ]
    },
    {
     "name": "stdout",
     "output_type": "stream",
     "text": [
      "Tsonga done (9 features)\n"
     ]
    },
    {
     "name": "stderr",
     "output_type": "stream",
     "text": [
      "\n",
      "\n",
      "====== WebDriver manager ======\n",
      "Current google-chrome version is 96.0.4664\n",
      "Get LATEST chromedriver version for 96.0.4664 google-chrome\n",
      "Driver [/home/szogabaha/.wdm/drivers/chromedriver/linux64/96.0.4664.45/chromedriver] found in cache\n"
     ]
    },
    {
     "name": "stdout",
     "output_type": "stream",
     "text": [
      "Tsou done (23 features)\n"
     ]
    },
    {
     "name": "stderr",
     "output_type": "stream",
     "text": [
      "\n",
      "\n",
      "====== WebDriver manager ======\n",
      "Current google-chrome version is 96.0.4664\n",
      "Get LATEST chromedriver version for 96.0.4664 google-chrome\n",
      "Driver [/home/szogabaha/.wdm/drivers/chromedriver/linux64/96.0.4664.45/chromedriver] found in cache\n"
     ]
    },
    {
     "name": "stdout",
     "output_type": "stream",
     "text": [
      "Tsova-Tush done (54 features)\n"
     ]
    },
    {
     "name": "stderr",
     "output_type": "stream",
     "text": [
      "\n",
      "\n",
      "====== WebDriver manager ======\n",
      "Current google-chrome version is 96.0.4664\n",
      "Get LATEST chromedriver version for 96.0.4664 google-chrome\n",
      "Driver [/home/szogabaha/.wdm/drivers/chromedriver/linux64/96.0.4664.45/chromedriver] found in cache\n"
     ]
    },
    {
     "name": "stdout",
     "output_type": "stream",
     "text": [
      "Tswana done (5 features)\n"
     ]
    },
    {
     "name": "stderr",
     "output_type": "stream",
     "text": [
      "\n",
      "\n",
      "====== WebDriver manager ======\n",
      "Current google-chrome version is 96.0.4664\n",
      "Get LATEST chromedriver version for 96.0.4664 google-chrome\n",
      "Driver [/home/szogabaha/.wdm/drivers/chromedriver/linux64/96.0.4664.45/chromedriver] found in cache\n"
     ]
    },
    {
     "name": "stdout",
     "output_type": "stream",
     "text": [
      "Tuamotuan done (7 features)\n"
     ]
    },
    {
     "name": "stderr",
     "output_type": "stream",
     "text": [
      "\n",
      "\n",
      "====== WebDriver manager ======\n",
      "Current google-chrome version is 96.0.4664\n",
      "Get LATEST chromedriver version for 96.0.4664 google-chrome\n",
      "Driver [/home/szogabaha/.wdm/drivers/chromedriver/linux64/96.0.4664.45/chromedriver] found in cache\n"
     ]
    },
    {
     "name": "stdout",
     "output_type": "stream",
     "text": [
      "Tuareg (Ahaggar) done (24 features)\n"
     ]
    },
    {
     "name": "stderr",
     "output_type": "stream",
     "text": [
      "\n",
      "\n",
      "====== WebDriver manager ======\n",
      "Current google-chrome version is 96.0.4664\n",
      "Get LATEST chromedriver version for 96.0.4664 google-chrome\n",
      "Driver [/home/szogabaha/.wdm/drivers/chromedriver/linux64/96.0.4664.45/chromedriver] found in cache\n"
     ]
    },
    {
     "name": "stdout",
     "output_type": "stream",
     "text": [
      "Tuareg (Air) done (12 features)\n"
     ]
    },
    {
     "name": "stderr",
     "output_type": "stream",
     "text": [
      "\n",
      "\n",
      "====== WebDriver manager ======\n",
      "Current google-chrome version is 96.0.4664\n",
      "Get LATEST chromedriver version for 96.0.4664 google-chrome\n",
      "Driver [/home/szogabaha/.wdm/drivers/chromedriver/linux64/96.0.4664.45/chromedriver] found in cache\n"
     ]
    },
    {
     "name": "stdout",
     "output_type": "stream",
     "text": [
      "Tuareg (Ghat) done (20 features)\n"
     ]
    },
    {
     "name": "stderr",
     "output_type": "stream",
     "text": [
      "\n",
      "\n",
      "====== WebDriver manager ======\n",
      "Current google-chrome version is 96.0.4664\n",
      "Get LATEST chromedriver version for 96.0.4664 google-chrome\n",
      "Driver [/home/szogabaha/.wdm/drivers/chromedriver/linux64/96.0.4664.45/chromedriver] found in cache\n"
     ]
    },
    {
     "name": "stdout",
     "output_type": "stream",
     "text": [
      "Tubar done (2 features)\n",
      "Tübatulabal done (7 features)\n"
     ]
    },
    {
     "name": "stderr",
     "output_type": "stream",
     "text": [
      "\n",
      "\n",
      "====== WebDriver manager ======\n",
      "Current google-chrome version is 96.0.4664\n",
      "Get LATEST chromedriver version for 96.0.4664 google-chrome\n",
      "Driver [/home/szogabaha/.wdm/drivers/chromedriver/linux64/96.0.4664.45/chromedriver] found in cache\n",
      "\n",
      "\n",
      "====== WebDriver manager ======\n",
      "Current google-chrome version is 96.0.4664\n",
      "Get LATEST chromedriver version for 96.0.4664 google-chrome\n",
      "Driver [/home/szogabaha/.wdm/drivers/chromedriver/linux64/96.0.4664.45/chromedriver] found in cache\n"
     ]
    },
    {
     "name": "stdout",
     "output_type": "stream",
     "text": [
      "Tubu done (47 features)\n"
     ]
    },
    {
     "name": "stderr",
     "output_type": "stream",
     "text": [
      "\n",
      "\n",
      "====== WebDriver manager ======\n",
      "Current google-chrome version is 96.0.4664\n",
      "Get LATEST chromedriver version for 96.0.4664 google-chrome\n",
      "Driver [/home/szogabaha/.wdm/drivers/chromedriver/linux64/96.0.4664.45/chromedriver] found in cache\n"
     ]
    },
    {
     "name": "stdout",
     "output_type": "stream",
     "text": [
      "Tucano done (43 features)\n"
     ]
    },
    {
     "name": "stderr",
     "output_type": "stream",
     "text": [
      "\n",
      "\n",
      "====== WebDriver manager ======\n",
      "Current google-chrome version is 96.0.4664\n",
      "Get LATEST chromedriver version for 96.0.4664 google-chrome\n",
      "Driver [/home/szogabaha/.wdm/drivers/chromedriver/linux64/96.0.4664.45/chromedriver] found in cache\n"
     ]
    },
    {
     "name": "stdout",
     "output_type": "stream",
     "text": [
      "Tugun done (18 features)\n"
     ]
    },
    {
     "name": "stderr",
     "output_type": "stream",
     "text": [
      "\n",
      "\n",
      "====== WebDriver manager ======\n",
      "Current google-chrome version is 96.0.4664\n",
      "Get LATEST chromedriver version for 96.0.4664 google-chrome\n",
      "Driver [/home/szogabaha/.wdm/drivers/chromedriver/linux64/96.0.4664.45/chromedriver] found in cache\n"
     ]
    },
    {
     "name": "stdout",
     "output_type": "stream",
     "text": [
      "Tukang Besi done (142 features)\n"
     ]
    },
    {
     "name": "stderr",
     "output_type": "stream",
     "text": [
      "\n",
      "\n",
      "====== WebDriver manager ======\n",
      "Current google-chrome version is 96.0.4664\n",
      "Get LATEST chromedriver version for 96.0.4664 google-chrome\n",
      "Driver [/home/szogabaha/.wdm/drivers/chromedriver/linux64/96.0.4664.45/chromedriver] found in cache\n"
     ]
    },
    {
     "name": "stdout",
     "output_type": "stream",
     "text": [
      "Tuki done (17 features)\n"
     ]
    },
    {
     "name": "stderr",
     "output_type": "stream",
     "text": [
      "\n",
      "\n",
      "====== WebDriver manager ======\n",
      "Current google-chrome version is 96.0.4664\n",
      "Get LATEST chromedriver version for 96.0.4664 google-chrome\n",
      "Driver [/home/szogabaha/.wdm/drivers/chromedriver/linux64/96.0.4664.45/chromedriver] found in cache\n"
     ]
    },
    {
     "name": "stdout",
     "output_type": "stream",
     "text": [
      "Tulu done (39 features)\n"
     ]
    },
    {
     "name": "stderr",
     "output_type": "stream",
     "text": [
      "\n",
      "\n",
      "====== WebDriver manager ======\n",
      "Current google-chrome version is 96.0.4664\n",
      "Get LATEST chromedriver version for 96.0.4664 google-chrome\n",
      "Driver [/home/szogabaha/.wdm/drivers/chromedriver/linux64/96.0.4664.45/chromedriver] found in cache\n"
     ]
    },
    {
     "name": "stdout",
     "output_type": "stream",
     "text": [
      "Tumak done (1 features)\n"
     ]
    },
    {
     "name": "stderr",
     "output_type": "stream",
     "text": [
      "\n",
      "\n",
      "====== WebDriver manager ======\n",
      "Current google-chrome version is 96.0.4664\n",
      "Get LATEST chromedriver version for 96.0.4664 google-chrome\n",
      "Driver [/home/szogabaha/.wdm/drivers/chromedriver/linux64/96.0.4664.45/chromedriver] found in cache\n"
     ]
    },
    {
     "name": "stdout",
     "output_type": "stream",
     "text": [
      "Tumleo done (7 features)\n"
     ]
    },
    {
     "name": "stderr",
     "output_type": "stream",
     "text": [
      "\n",
      "\n",
      "====== WebDriver manager ======\n",
      "Current google-chrome version is 96.0.4664\n",
      "Get LATEST chromedriver version for 96.0.4664 google-chrome\n",
      "Driver [/home/szogabaha/.wdm/drivers/chromedriver/linux64/96.0.4664.45/chromedriver] found in cache\n"
     ]
    },
    {
     "name": "stdout",
     "output_type": "stream",
     "text": [
      "Tümpisa Shoshone done (74 features)\n"
     ]
    },
    {
     "name": "stderr",
     "output_type": "stream",
     "text": [
      "\n",
      "\n",
      "====== WebDriver manager ======\n",
      "Current google-chrome version is 96.0.4664\n",
      "Get LATEST chromedriver version for 96.0.4664 google-chrome\n",
      "Driver [/home/szogabaha/.wdm/drivers/chromedriver/linux64/96.0.4664.45/chromedriver] found in cache\n"
     ]
    },
    {
     "name": "stdout",
     "output_type": "stream",
     "text": [
      "Tunebo done (7 features)\n"
     ]
    },
    {
     "name": "stderr",
     "output_type": "stream",
     "text": [
      "\n",
      "\n",
      "====== WebDriver manager ======\n",
      "Current google-chrome version is 96.0.4664\n",
      "Get LATEST chromedriver version for 96.0.4664 google-chrome\n",
      "Driver [/home/szogabaha/.wdm/drivers/chromedriver/linux64/96.0.4664.45/chromedriver] found in cache\n"
     ]
    },
    {
     "name": "stdout",
     "output_type": "stream",
     "text": [
      "Tunen done (38 features)\n"
     ]
    },
    {
     "name": "stderr",
     "output_type": "stream",
     "text": [
      "\n",
      "\n",
      "====== WebDriver manager ======\n",
      "Current google-chrome version is 96.0.4664\n",
      "Get LATEST chromedriver version for 96.0.4664 google-chrome\n",
      "Driver [/home/szogabaha/.wdm/drivers/chromedriver/linux64/96.0.4664.45/chromedriver] found in cache\n"
     ]
    },
    {
     "name": "stdout",
     "output_type": "stream",
     "text": [
      "Tungak done (17 features)\n"
     ]
    },
    {
     "name": "stderr",
     "output_type": "stream",
     "text": [
      "\n",
      "\n",
      "====== WebDriver manager ======\n",
      "Current google-chrome version is 96.0.4664\n",
      "Get LATEST chromedriver version for 96.0.4664 google-chrome\n",
      "Driver [/home/szogabaha/.wdm/drivers/chromedriver/linux64/96.0.4664.45/chromedriver] found in cache\n"
     ]
    },
    {
     "name": "stdout",
     "output_type": "stream",
     "text": [
      "Tunica done (96 features)\n"
     ]
    },
    {
     "name": "stderr",
     "output_type": "stream",
     "text": [
      "\n",
      "\n",
      "====== WebDriver manager ======\n",
      "Current google-chrome version is 96.0.4664\n",
      "Get LATEST chromedriver version for 96.0.4664 google-chrome\n",
      "Driver [/home/szogabaha/.wdm/drivers/chromedriver/linux64/96.0.4664.45/chromedriver] found in cache\n"
     ]
    },
    {
     "name": "stdout",
     "output_type": "stream",
     "text": [
      "Tupi done (9 features)\n"
     ]
    },
    {
     "name": "stderr",
     "output_type": "stream",
     "text": [
      "\n",
      "\n",
      "====== WebDriver manager ======\n",
      "Current google-chrome version is 96.0.4664\n",
      "Get LATEST chromedriver version for 96.0.4664 google-chrome\n",
      "Driver [/home/szogabaha/.wdm/drivers/chromedriver/linux64/96.0.4664.45/chromedriver] found in cache\n"
     ]
    },
    {
     "name": "stdout",
     "output_type": "stream",
     "text": [
      "Tupuri done (20 features)\n"
     ]
    },
    {
     "name": "stderr",
     "output_type": "stream",
     "text": [
      "\n",
      "\n",
      "====== WebDriver manager ======\n",
      "Current google-chrome version is 96.0.4664\n",
      "Get LATEST chromedriver version for 96.0.4664 google-chrome\n",
      "Driver [/home/szogabaha/.wdm/drivers/chromedriver/linux64/96.0.4664.45/chromedriver] found in cache\n"
     ]
    },
    {
     "name": "stdout",
     "output_type": "stream",
     "text": [
      "Turkana done (63 features)\n"
     ]
    },
    {
     "name": "stderr",
     "output_type": "stream",
     "text": [
      "\n",
      "\n",
      "====== WebDriver manager ======\n",
      "Current google-chrome version is 96.0.4664\n",
      "Get LATEST chromedriver version for 96.0.4664 google-chrome\n",
      "Driver [/home/szogabaha/.wdm/drivers/chromedriver/linux64/96.0.4664.45/chromedriver] found in cache\n"
     ]
    },
    {
     "name": "stdout",
     "output_type": "stream",
     "text": [
      "Turkic (East-Central Xorasan) done (1 features)\n"
     ]
    },
    {
     "name": "stderr",
     "output_type": "stream",
     "text": [
      "\n",
      "\n",
      "====== WebDriver manager ======\n",
      "Current google-chrome version is 96.0.4664\n",
      "Get LATEST chromedriver version for 96.0.4664 google-chrome\n",
      "Driver [/home/szogabaha/.wdm/drivers/chromedriver/linux64/96.0.4664.45/chromedriver] found in cache\n"
     ]
    },
    {
     "name": "stdout",
     "output_type": "stream",
     "text": [
      "Turkic (West Xorasan) done (1 features)\n"
     ]
    },
    {
     "name": "stderr",
     "output_type": "stream",
     "text": [
      "\n",
      "\n",
      "====== WebDriver manager ======\n",
      "Current google-chrome version is 96.0.4664\n",
      "Get LATEST chromedriver version for 96.0.4664 google-chrome\n",
      "Driver [/home/szogabaha/.wdm/drivers/chromedriver/linux64/96.0.4664.45/chromedriver] found in cache\n"
     ]
    },
    {
     "name": "stdout",
     "output_type": "stream",
     "text": [
      "Türk Isaret Dili done (2 features)\n"
     ]
    },
    {
     "name": "stderr",
     "output_type": "stream",
     "text": [
      "\n",
      "\n",
      "====== WebDriver manager ======\n",
      "Current google-chrome version is 96.0.4664\n",
      "Get LATEST chromedriver version for 96.0.4664 google-chrome\n",
      "Driver [/home/szogabaha/.wdm/drivers/chromedriver/linux64/96.0.4664.45/chromedriver] found in cache\n"
     ]
    },
    {
     "name": "stdout",
     "output_type": "stream",
     "text": [
      "Turkish done (154 features)\n"
     ]
    },
    {
     "name": "stderr",
     "output_type": "stream",
     "text": [
      "\n",
      "\n",
      "====== WebDriver manager ======\n",
      "Current google-chrome version is 96.0.4664\n",
      "Get LATEST chromedriver version for 96.0.4664 google-chrome\n",
      "Driver [/home/szogabaha/.wdm/drivers/chromedriver/linux64/96.0.4664.45/chromedriver] found in cache\n"
     ]
    },
    {
     "name": "stdout",
     "output_type": "stream",
     "text": [
      "Turkmen done (21 features)\n"
     ]
    },
    {
     "name": "stderr",
     "output_type": "stream",
     "text": [
      "\n",
      "\n",
      "====== WebDriver manager ======\n",
      "Current google-chrome version is 96.0.4664\n",
      "Get LATEST chromedriver version for 96.0.4664 google-chrome\n",
      "Driver [/home/szogabaha/.wdm/drivers/chromedriver/linux64/96.0.4664.45/chromedriver] found in cache\n"
     ]
    },
    {
     "name": "stdout",
     "output_type": "stream",
     "text": [
      "Tuscarora done (34 features)\n"
     ]
    },
    {
     "name": "stderr",
     "output_type": "stream",
     "text": [
      "\n",
      "\n",
      "====== WebDriver manager ======\n",
      "Current google-chrome version is 96.0.4664\n",
      "Get LATEST chromedriver version for 96.0.4664 google-chrome\n",
      "Driver [/home/szogabaha/.wdm/drivers/chromedriver/linux64/96.0.4664.45/chromedriver] found in cache\n"
     ]
    },
    {
     "name": "stdout",
     "output_type": "stream",
     "text": [
      "Tutchone (Northern) done (2 features)\n"
     ]
    },
    {
     "name": "stderr",
     "output_type": "stream",
     "text": [
      "\n",
      "\n",
      "====== WebDriver manager ======\n",
      "Current google-chrome version is 96.0.4664\n",
      "Get LATEST chromedriver version for 96.0.4664 google-chrome\n",
      "Driver [/home/szogabaha/.wdm/drivers/chromedriver/linux64/96.0.4664.45/chromedriver] found in cache\n"
     ]
    },
    {
     "name": "stdout",
     "output_type": "stream",
     "text": [
      "Tutelo done (31 features)\n"
     ]
    },
    {
     "name": "stderr",
     "output_type": "stream",
     "text": [
      "\n",
      "\n",
      "====== WebDriver manager ======\n",
      "Current google-chrome version is 96.0.4664\n",
      "Get LATEST chromedriver version for 96.0.4664 google-chrome\n",
      "Driver [/home/szogabaha/.wdm/drivers/chromedriver/linux64/96.0.4664.45/chromedriver] found in cache\n"
     ]
    },
    {
     "name": "stdout",
     "output_type": "stream",
     "text": [
      "Tutsa done (16 features)\n"
     ]
    },
    {
     "name": "stderr",
     "output_type": "stream",
     "text": [
      "\n",
      "\n",
      "====== WebDriver manager ======\n",
      "Current google-chrome version is 96.0.4664\n",
      "Get LATEST chromedriver version for 96.0.4664 google-chrome\n",
      "Driver [/home/szogabaha/.wdm/drivers/chromedriver/linux64/96.0.4664.45/chromedriver] found in cache\n"
     ]
    },
    {
     "name": "stdout",
     "output_type": "stream",
     "text": [
      "Tuvaluan done (60 features)\n"
     ]
    },
    {
     "name": "stderr",
     "output_type": "stream",
     "text": [
      "\n",
      "\n",
      "====== WebDriver manager ======\n",
      "Current google-chrome version is 96.0.4664\n",
      "Get LATEST chromedriver version for 96.0.4664 google-chrome\n",
      "Driver [/home/szogabaha/.wdm/drivers/chromedriver/linux64/96.0.4664.45/chromedriver] found in cache\n"
     ]
    },
    {
     "name": "stdout",
     "output_type": "stream",
     "text": [
      "Tuvan done (67 features)\n"
     ]
    },
    {
     "name": "stderr",
     "output_type": "stream",
     "text": [
      "\n",
      "\n",
      "====== WebDriver manager ======\n",
      "Current google-chrome version is 96.0.4664\n",
      "Get LATEST chromedriver version for 96.0.4664 google-chrome\n",
      "Driver [/home/szogabaha/.wdm/drivers/chromedriver/linux64/96.0.4664.45/chromedriver] found in cache\n"
     ]
    },
    {
     "name": "stdout",
     "output_type": "stream",
     "text": [
      "Tuyuca done (29 features)\n"
     ]
    },
    {
     "name": "stderr",
     "output_type": "stream",
     "text": [
      "\n",
      "\n",
      "====== WebDriver manager ======\n",
      "Current google-chrome version is 96.0.4664\n",
      "Get LATEST chromedriver version for 96.0.4664 google-chrome\n",
      "Driver [/home/szogabaha/.wdm/drivers/chromedriver/linux64/96.0.4664.45/chromedriver] found in cache\n"
     ]
    },
    {
     "name": "stdout",
     "output_type": "stream",
     "text": [
      "Twana done (1 features)\n"
     ]
    },
    {
     "name": "stderr",
     "output_type": "stream",
     "text": [
      "\n",
      "\n",
      "====== WebDriver manager ======\n",
      "Current google-chrome version is 96.0.4664\n",
      "Get LATEST chromedriver version for 96.0.4664 google-chrome\n",
      "Driver [/home/szogabaha/.wdm/drivers/chromedriver/linux64/96.0.4664.45/chromedriver] found in cache\n"
     ]
    },
    {
     "name": "stdout",
     "output_type": "stream",
     "text": [
      "Tyeraity done (17 features)\n"
     ]
    },
    {
     "name": "stderr",
     "output_type": "stream",
     "text": [
      "\n",
      "\n",
      "====== WebDriver manager ======\n",
      "Current google-chrome version is 96.0.4664\n",
      "Get LATEST chromedriver version for 96.0.4664 google-chrome\n",
      "Driver [/home/szogabaha/.wdm/drivers/chromedriver/linux64/96.0.4664.45/chromedriver] found in cache\n"
     ]
    },
    {
     "name": "stdout",
     "output_type": "stream",
     "text": [
      "Tzeltal done (4 features)\n"
     ]
    },
    {
     "name": "stderr",
     "output_type": "stream",
     "text": [
      "\n",
      "\n",
      "====== WebDriver manager ======\n",
      "Current google-chrome version is 96.0.4664\n",
      "Get LATEST chromedriver version for 96.0.4664 google-chrome\n",
      "Driver [/home/szogabaha/.wdm/drivers/chromedriver/linux64/96.0.4664.45/chromedriver] found in cache\n"
     ]
    },
    {
     "name": "stdout",
     "output_type": "stream",
     "text": [
      "Tzeltal (Aguacatenango) done (13 features)\n"
     ]
    },
    {
     "name": "stderr",
     "output_type": "stream",
     "text": [
      "\n",
      "\n",
      "====== WebDriver manager ======\n",
      "Current google-chrome version is 96.0.4664\n",
      "Get LATEST chromedriver version for 96.0.4664 google-chrome\n",
      "Driver [/home/szogabaha/.wdm/drivers/chromedriver/linux64/96.0.4664.45/chromedriver] found in cache\n"
     ]
    },
    {
     "name": "stdout",
     "output_type": "stream",
     "text": [
      "Tzeltal (Tenejapa) done (2 features)\n"
     ]
    },
    {
     "name": "stderr",
     "output_type": "stream",
     "text": [
      "\n",
      "\n",
      "====== WebDriver manager ======\n",
      "Current google-chrome version is 96.0.4664\n",
      "Get LATEST chromedriver version for 96.0.4664 google-chrome\n",
      "Driver [/home/szogabaha/.wdm/drivers/chromedriver/linux64/96.0.4664.45/chromedriver] found in cache\n"
     ]
    },
    {
     "name": "stdout",
     "output_type": "stream",
     "text": [
      "Tzotzil done (41 features)\n"
     ]
    },
    {
     "name": "stderr",
     "output_type": "stream",
     "text": [
      "\n",
      "\n",
      "====== WebDriver manager ======\n",
      "Current google-chrome version is 96.0.4664\n",
      "Get LATEST chromedriver version for 96.0.4664 google-chrome\n",
      "Driver [/home/szogabaha/.wdm/drivers/chromedriver/linux64/96.0.4664.45/chromedriver] found in cache\n"
     ]
    },
    {
     "name": "stdout",
     "output_type": "stream",
     "text": [
      "Tzutujil done (81 features)\n"
     ]
    },
    {
     "name": "stderr",
     "output_type": "stream",
     "text": [
      "\n",
      "\n",
      "====== WebDriver manager ======\n",
      "Current google-chrome version is 96.0.4664\n",
      "Get LATEST chromedriver version for 96.0.4664 google-chrome\n",
      "Driver [/home/szogabaha/.wdm/drivers/chromedriver/linux64/96.0.4664.45/chromedriver] found in cache\n"
     ]
    },
    {
     "name": "stdout",
     "output_type": "stream",
     "text": [
      "Ubykh done (42 features)\n"
     ]
    },
    {
     "name": "stderr",
     "output_type": "stream",
     "text": [
      "\n",
      "\n",
      "====== WebDriver manager ======\n",
      "Current google-chrome version is 96.0.4664\n",
      "Get LATEST chromedriver version for 96.0.4664 google-chrome\n",
      "Driver [/home/szogabaha/.wdm/drivers/chromedriver/linux64/96.0.4664.45/chromedriver] found in cache\n"
     ]
    },
    {
     "name": "stdout",
     "output_type": "stream",
     "text": [
      "Udi done (29 features)\n"
     ]
    },
    {
     "name": "stderr",
     "output_type": "stream",
     "text": [
      "\n",
      "\n",
      "====== WebDriver manager ======\n",
      "Current google-chrome version is 96.0.4664\n",
      "Get LATEST chromedriver version for 96.0.4664 google-chrome\n",
      "Driver [/home/szogabaha/.wdm/drivers/chromedriver/linux64/96.0.4664.45/chromedriver] found in cache\n"
     ]
    },
    {
     "name": "stdout",
     "output_type": "stream",
     "text": [
      "Udihe done (60 features)\n"
     ]
    },
    {
     "name": "stderr",
     "output_type": "stream",
     "text": [
      "\n",
      "\n",
      "====== WebDriver manager ======\n",
      "Current google-chrome version is 96.0.4664\n",
      "Get LATEST chromedriver version for 96.0.4664 google-chrome\n",
      "Driver [/home/szogabaha/.wdm/drivers/chromedriver/linux64/96.0.4664.45/chromedriver] found in cache\n"
     ]
    },
    {
     "name": "stdout",
     "output_type": "stream",
     "text": [
      "Udmurt done (46 features)\n"
     ]
    },
    {
     "name": "stderr",
     "output_type": "stream",
     "text": [
      "\n",
      "\n",
      "====== WebDriver manager ======\n",
      "Current google-chrome version is 96.0.4664\n",
      "Get LATEST chromedriver version for 96.0.4664 google-chrome\n",
      "Driver [/home/szogabaha/.wdm/drivers/chromedriver/linux64/96.0.4664.45/chromedriver] found in cache\n"
     ]
    },
    {
     "name": "stdout",
     "output_type": "stream",
     "text": [
      "Ugandan Sign Language done (2 features)\n"
     ]
    },
    {
     "name": "stderr",
     "output_type": "stream",
     "text": [
      "\n",
      "\n",
      "====== WebDriver manager ======\n",
      "Current google-chrome version is 96.0.4664\n",
      "Get LATEST chromedriver version for 96.0.4664 google-chrome\n",
      "Driver [/home/szogabaha/.wdm/drivers/chromedriver/linux64/96.0.4664.45/chromedriver] found in cache\n"
     ]
    },
    {
     "name": "stdout",
     "output_type": "stream",
     "text": [
      "Ukrainian done (56 features)\n"
     ]
    },
    {
     "name": "stderr",
     "output_type": "stream",
     "text": [
      "\n",
      "\n",
      "====== WebDriver manager ======\n",
      "Current google-chrome version is 96.0.4664\n",
      "Get LATEST chromedriver version for 96.0.4664 google-chrome\n",
      "Driver [/home/szogabaha/.wdm/drivers/chromedriver/linux64/96.0.4664.45/chromedriver] found in cache\n"
     ]
    },
    {
     "name": "stdout",
     "output_type": "stream",
     "text": [
      "Ulcha done (1 features)\n"
     ]
    },
    {
     "name": "stderr",
     "output_type": "stream",
     "text": [
      "\n",
      "\n",
      "====== WebDriver manager ======\n",
      "Current google-chrome version is 96.0.4664\n",
      "Get LATEST chromedriver version for 96.0.4664 google-chrome\n",
      "Driver [/home/szogabaha/.wdm/drivers/chromedriver/linux64/96.0.4664.45/chromedriver] found in cache\n"
     ]
    },
    {
     "name": "stdout",
     "output_type": "stream",
     "text": [
      "Uldeme done (36 features)\n"
     ]
    },
    {
     "name": "stderr",
     "output_type": "stream",
     "text": [
      "\n",
      "\n",
      "====== WebDriver manager ======\n",
      "Current google-chrome version is 96.0.4664\n",
      "Get LATEST chromedriver version for 96.0.4664 google-chrome\n",
      "Driver [/home/szogabaha/.wdm/drivers/chromedriver/linux64/96.0.4664.45/chromedriver] found in cache\n"
     ]
    },
    {
     "name": "stdout",
     "output_type": "stream",
     "text": [
      "Ulithian done (41 features)\n"
     ]
    },
    {
     "name": "stderr",
     "output_type": "stream",
     "text": [
      "\n",
      "\n",
      "====== WebDriver manager ======\n",
      "Current google-chrome version is 96.0.4664\n",
      "Get LATEST chromedriver version for 96.0.4664 google-chrome\n",
      "Driver [/home/szogabaha/.wdm/drivers/chromedriver/linux64/96.0.4664.45/chromedriver] found in cache\n"
     ]
    },
    {
     "name": "stdout",
     "output_type": "stream",
     "text": [
      "Uma done (13 features)\n"
     ]
    },
    {
     "name": "stderr",
     "output_type": "stream",
     "text": [
      "\n",
      "\n",
      "====== WebDriver manager ======\n",
      "Current google-chrome version is 96.0.4664\n",
      "Get LATEST chromedriver version for 96.0.4664 google-chrome\n",
      "Driver [/home/szogabaha/.wdm/drivers/chromedriver/linux64/96.0.4664.45/chromedriver] found in cache\n"
     ]
    },
    {
     "name": "stdout",
     "output_type": "stream",
     "text": [
      "Umaua done (1 features)\n"
     ]
    },
    {
     "name": "stderr",
     "output_type": "stream",
     "text": [
      "\n",
      "\n",
      "====== WebDriver manager ======\n",
      "Current google-chrome version is 96.0.4664\n",
      "Get LATEST chromedriver version for 96.0.4664 google-chrome\n",
      "Driver [/home/szogabaha/.wdm/drivers/chromedriver/linux64/96.0.4664.45/chromedriver] found in cache\n"
     ]
    },
    {
     "name": "stdout",
     "output_type": "stream",
     "text": [
      "UMbundu done (13 features)\n"
     ]
    },
    {
     "name": "stderr",
     "output_type": "stream",
     "text": [
      "\n",
      "\n",
      "====== WebDriver manager ======\n",
      "Current google-chrome version is 96.0.4664\n",
      "Get LATEST chromedriver version for 96.0.4664 google-chrome\n",
      "Driver [/home/szogabaha/.wdm/drivers/chromedriver/linux64/96.0.4664.45/chromedriver] found in cache\n"
     ]
    },
    {
     "name": "stdout",
     "output_type": "stream",
     "text": [
      "Umbu Ungu done (1 features)\n"
     ]
    },
    {
     "name": "stderr",
     "output_type": "stream",
     "text": [
      "\n",
      "\n",
      "====== WebDriver manager ======\n",
      "Current google-chrome version is 96.0.4664\n",
      "Get LATEST chromedriver version for 96.0.4664 google-chrome\n",
      "Driver [/home/szogabaha/.wdm/drivers/chromedriver/linux64/96.0.4664.45/chromedriver] found in cache\n"
     ]
    },
    {
     "name": "stdout",
     "output_type": "stream",
     "text": [
      "Umpila done (1 features)\n"
     ]
    },
    {
     "name": "stderr",
     "output_type": "stream",
     "text": [
      "\n",
      "\n",
      "====== WebDriver manager ======\n",
      "Current google-chrome version is 96.0.4664\n",
      "Get LATEST chromedriver version for 96.0.4664 google-chrome\n",
      "Driver [/home/szogabaha/.wdm/drivers/chromedriver/linux64/96.0.4664.45/chromedriver] found in cache\n"
     ]
    },
    {
     "name": "stdout",
     "output_type": "stream",
     "text": [
      "Una done (85 features)\n"
     ]
    },
    {
     "name": "stderr",
     "output_type": "stream",
     "text": [
      "\n",
      "\n",
      "====== WebDriver manager ======\n",
      "Current google-chrome version is 96.0.4664\n",
      "Get LATEST chromedriver version for 96.0.4664 google-chrome\n",
      "Driver [/home/szogabaha/.wdm/drivers/chromedriver/linux64/96.0.4664.45/chromedriver] found in cache\n"
     ]
    },
    {
     "name": "stdout",
     "output_type": "stream",
     "text": [
      "Unami done (4 features)\n"
     ]
    },
    {
     "name": "stderr",
     "output_type": "stream",
     "text": [
      "\n",
      "\n",
      "====== WebDriver manager ======\n",
      "Current google-chrome version is 96.0.4664\n",
      "Get LATEST chromedriver version for 96.0.4664 google-chrome\n",
      "Driver [/home/szogabaha/.wdm/drivers/chromedriver/linux64/96.0.4664.45/chromedriver] found in cache\n"
     ]
    },
    {
     "name": "stdout",
     "output_type": "stream",
     "text": [
      "Ungarinjin done (100 features)\n"
     ]
    },
    {
     "name": "stderr",
     "output_type": "stream",
     "text": [
      "\n",
      "\n",
      "====== WebDriver manager ======\n",
      "Current google-chrome version is 96.0.4664\n",
      "Get LATEST chromedriver version for 96.0.4664 google-chrome\n",
      "Driver [/home/szogabaha/.wdm/drivers/chromedriver/linux64/96.0.4664.45/chromedriver] found in cache\n"
     ]
    },
    {
     "name": "stdout",
     "output_type": "stream",
     "text": [
      "Upper Kuskokwim done (5 features)\n"
     ]
    },
    {
     "name": "stderr",
     "output_type": "stream",
     "text": [
      "\n",
      "\n",
      "====== WebDriver manager ======\n",
      "Current google-chrome version is 96.0.4664\n",
      "Get LATEST chromedriver version for 96.0.4664 google-chrome\n",
      "Driver [/home/szogabaha/.wdm/drivers/chromedriver/linux64/96.0.4664.45/chromedriver] found in cache\n"
     ]
    },
    {
     "name": "stdout",
     "output_type": "stream",
     "text": [
      "Ura done (21 features)\n"
     ]
    },
    {
     "name": "stderr",
     "output_type": "stream",
     "text": [
      "\n",
      "\n",
      "====== WebDriver manager ======\n",
      "Current google-chrome version is 96.0.4664\n",
      "Get LATEST chromedriver version for 96.0.4664 google-chrome\n",
      "Driver [/home/szogabaha/.wdm/drivers/chromedriver/linux64/96.0.4664.45/chromedriver] found in cache\n"
     ]
    },
    {
     "name": "stdout",
     "output_type": "stream",
     "text": [
      "Uradhi done (50 features)\n"
     ]
    },
    {
     "name": "stderr",
     "output_type": "stream",
     "text": [
      "\n",
      "\n",
      "====== WebDriver manager ======\n",
      "Current google-chrome version is 96.0.4664\n",
      "Get LATEST chromedriver version for 96.0.4664 google-chrome\n",
      "Driver [/home/szogabaha/.wdm/drivers/chromedriver/linux64/96.0.4664.45/chromedriver] found in cache\n"
     ]
    },
    {
     "name": "stdout",
     "output_type": "stream",
     "text": [
      "Urak Lawoi' done (40 features)\n"
     ]
    },
    {
     "name": "stderr",
     "output_type": "stream",
     "text": [
      "\n",
      "\n",
      "====== WebDriver manager ======\n",
      "Current google-chrome version is 96.0.4664\n",
      "Get LATEST chromedriver version for 96.0.4664 google-chrome\n",
      "Driver [/home/szogabaha/.wdm/drivers/chromedriver/linux64/96.0.4664.45/chromedriver] found in cache\n"
     ]
    },
    {
     "name": "stdout",
     "output_type": "stream",
     "text": [
      "Urarina done (27 features)\n"
     ]
    },
    {
     "name": "stderr",
     "output_type": "stream",
     "text": [
      "\n",
      "\n",
      "====== WebDriver manager ======\n",
      "Current google-chrome version is 96.0.4664\n",
      "Get LATEST chromedriver version for 96.0.4664 google-chrome\n",
      "Driver [/home/szogabaha/.wdm/drivers/chromedriver/linux64/96.0.4664.45/chromedriver] found in cache\n"
     ]
    },
    {
     "name": "stdout",
     "output_type": "stream",
     "text": [
      "Urat done (33 features)\n"
     ]
    },
    {
     "name": "stderr",
     "output_type": "stream",
     "text": [
      "\n",
      "\n",
      "====== WebDriver manager ======\n",
      "Current google-chrome version is 96.0.4664\n",
      "Get LATEST chromedriver version for 96.0.4664 google-chrome\n",
      "Driver [/home/szogabaha/.wdm/drivers/chromedriver/linux64/96.0.4664.45/chromedriver] found in cache\n"
     ]
    },
    {
     "name": "stdout",
     "output_type": "stream",
     "text": [
      "Urdu done (42 features)\n"
     ]
    },
    {
     "name": "stderr",
     "output_type": "stream",
     "text": [
      "\n",
      "\n",
      "====== WebDriver manager ======\n",
      "Current google-chrome version is 96.0.4664\n",
      "Get LATEST chromedriver version for 96.0.4664 google-chrome\n",
      "Driver [/home/szogabaha/.wdm/drivers/chromedriver/linux64/96.0.4664.45/chromedriver] found in cache\n"
     ]
    },
    {
     "name": "stdout",
     "output_type": "stream",
     "text": [
      "Urhobo done (1 features)\n"
     ]
    },
    {
     "name": "stderr",
     "output_type": "stream",
     "text": [
      "\n",
      "\n",
      "====== WebDriver manager ======\n",
      "Current google-chrome version is 96.0.4664\n",
      "Get LATEST chromedriver version for 96.0.4664 google-chrome\n",
      "Driver [/home/szogabaha/.wdm/drivers/chromedriver/linux64/96.0.4664.45/chromedriver] found in cache\n"
     ]
    },
    {
     "name": "stdout",
     "output_type": "stream",
     "text": [
      "Urim done (2 features)\n"
     ]
    },
    {
     "name": "stderr",
     "output_type": "stream",
     "text": [
      "\n",
      "\n",
      "====== WebDriver manager ======\n",
      "Current google-chrome version is 96.0.4664\n",
      "Get LATEST chromedriver version for 96.0.4664 google-chrome\n",
      "Driver [/home/szogabaha/.wdm/drivers/chromedriver/linux64/96.0.4664.45/chromedriver] found in cache\n"
     ]
    },
    {
     "name": "stdout",
     "output_type": "stream",
     "text": [
      "Uru done (14 features)\n"
     ]
    },
    {
     "name": "stderr",
     "output_type": "stream",
     "text": [
      "\n",
      "\n",
      "====== WebDriver manager ======\n",
      "Current google-chrome version is 96.0.4664\n",
      "Get LATEST chromedriver version for 96.0.4664 google-chrome\n",
      "Driver [/home/szogabaha/.wdm/drivers/chromedriver/linux64/96.0.4664.45/chromedriver] found in cache\n"
     ]
    },
    {
     "name": "stdout",
     "output_type": "stream",
     "text": [
      "Urubú-Kaapor done (108 features)\n"
     ]
    },
    {
     "name": "stderr",
     "output_type": "stream",
     "text": [
      "\n",
      "\n",
      "====== WebDriver manager ======\n",
      "Current google-chrome version is 96.0.4664\n",
      "Get LATEST chromedriver version for 96.0.4664 google-chrome\n",
      "Driver [/home/szogabaha/.wdm/drivers/chromedriver/linux64/96.0.4664.45/chromedriver] found in cache\n"
     ]
    },
    {
     "name": "stdout",
     "output_type": "stream",
     "text": [
      "Urubú Sign Language done (1 features)\n"
     ]
    },
    {
     "name": "stderr",
     "output_type": "stream",
     "text": [
      "\n",
      "\n",
      "====== WebDriver manager ======\n",
      "Current google-chrome version is 96.0.4664\n",
      "Get LATEST chromedriver version for 96.0.4664 google-chrome\n",
      "Driver [/home/szogabaha/.wdm/drivers/chromedriver/linux64/96.0.4664.45/chromedriver] found in cache\n"
     ]
    },
    {
     "name": "stdout",
     "output_type": "stream",
     "text": [
      "Urum done (1 features)\n"
     ]
    },
    {
     "name": "stderr",
     "output_type": "stream",
     "text": [
      "\n",
      "\n",
      "====== WebDriver manager ======\n",
      "Current google-chrome version is 96.0.4664\n",
      "Get LATEST chromedriver version for 96.0.4664 google-chrome\n",
      "Driver [/home/szogabaha/.wdm/drivers/chromedriver/linux64/96.0.4664.45/chromedriver] found in cache\n"
     ]
    },
    {
     "name": "stdout",
     "output_type": "stream",
     "text": [
      "Usan done (104 features)\n"
     ]
    },
    {
     "name": "stderr",
     "output_type": "stream",
     "text": [
      "\n",
      "\n",
      "====== WebDriver manager ======\n",
      "Current google-chrome version is 96.0.4664\n",
      "Get LATEST chromedriver version for 96.0.4664 google-chrome\n",
      "Driver [/home/szogabaha/.wdm/drivers/chromedriver/linux64/96.0.4664.45/chromedriver] found in cache\n"
     ]
    },
    {
     "name": "stdout",
     "output_type": "stream",
     "text": [
      "Usarufa done (29 features)\n"
     ]
    },
    {
     "name": "stderr",
     "output_type": "stream",
     "text": [
      "\n",
      "\n",
      "====== WebDriver manager ======\n",
      "Current google-chrome version is 96.0.4664\n",
      "Get LATEST chromedriver version for 96.0.4664 google-chrome\n",
      "Driver [/home/szogabaha/.wdm/drivers/chromedriver/linux64/96.0.4664.45/chromedriver] found in cache\n"
     ]
    },
    {
     "name": "stdout",
     "output_type": "stream",
     "text": [
      "Ute done (42 features)\n"
     ]
    },
    {
     "name": "stderr",
     "output_type": "stream",
     "text": [
      "\n",
      "\n",
      "====== WebDriver manager ======\n",
      "Current google-chrome version is 96.0.4664\n",
      "Get LATEST chromedriver version for 96.0.4664 google-chrome\n",
      "Driver [/home/szogabaha/.wdm/drivers/chromedriver/linux64/96.0.4664.45/chromedriver] found in cache\n"
     ]
    },
    {
     "name": "stdout",
     "output_type": "stream",
     "text": [
      "Uyghur done (35 features)\n"
     ]
    },
    {
     "name": "stderr",
     "output_type": "stream",
     "text": [
      "\n",
      "\n",
      "====== WebDriver manager ======\n",
      "Current google-chrome version is 96.0.4664\n",
      "Get LATEST chromedriver version for 96.0.4664 google-chrome\n",
      "Driver [/home/szogabaha/.wdm/drivers/chromedriver/linux64/96.0.4664.45/chromedriver] found in cache\n"
     ]
    },
    {
     "name": "stdout",
     "output_type": "stream",
     "text": [
      "Uzbek done (65 features)\n"
     ]
    },
    {
     "name": "stderr",
     "output_type": "stream",
     "text": [
      "\n",
      "\n",
      "====== WebDriver manager ======\n",
      "Current google-chrome version is 96.0.4664\n",
      "Get LATEST chromedriver version for 96.0.4664 google-chrome\n",
      "Driver [/home/szogabaha/.wdm/drivers/chromedriver/linux64/96.0.4664.45/chromedriver] found in cache\n"
     ]
    },
    {
     "name": "stdout",
     "output_type": "stream",
     "text": [
      "Uzbek (Northern) done (17 features)\n"
     ]
    },
    {
     "name": "stderr",
     "output_type": "stream",
     "text": [
      "\n",
      "\n",
      "====== WebDriver manager ======\n",
      "Current google-chrome version is 96.0.4664\n",
      "Get LATEST chromedriver version for 96.0.4664 google-chrome\n",
      "Driver [/home/szogabaha/.wdm/drivers/chromedriver/linux64/96.0.4664.45/chromedriver] found in cache\n"
     ]
    },
    {
     "name": "stdout",
     "output_type": "stream",
     "text": [
      "Vafsi done (17 features)\n"
     ]
    },
    {
     "name": "stderr",
     "output_type": "stream",
     "text": [
      "\n",
      "\n",
      "====== WebDriver manager ======\n",
      "Current google-chrome version is 96.0.4664\n",
      "Get LATEST chromedriver version for 96.0.4664 google-chrome\n",
      "Driver [/home/szogabaha/.wdm/drivers/chromedriver/linux64/96.0.4664.45/chromedriver] found in cache\n"
     ]
    },
    {
     "name": "stdout",
     "output_type": "stream",
     "text": [
      "Vagla done (7 features)\n"
     ]
    },
    {
     "name": "stderr",
     "output_type": "stream",
     "text": [
      "\n",
      "\n",
      "====== WebDriver manager ======\n",
      "Current google-chrome version is 96.0.4664\n",
      "Get LATEST chromedriver version for 96.0.4664 google-chrome\n",
      "Driver [/home/szogabaha/.wdm/drivers/chromedriver/linux64/96.0.4664.45/chromedriver] found in cache\n"
     ]
    },
    {
     "name": "stdout",
     "output_type": "stream",
     "text": [
      "Vai done (50 features)\n"
     ]
    },
    {
     "name": "stderr",
     "output_type": "stream",
     "text": [
      "\n",
      "\n",
      "====== WebDriver manager ======\n",
      "Current google-chrome version is 96.0.4664\n",
      "Get LATEST chromedriver version for 96.0.4664 google-chrome\n",
      "Driver [/home/szogabaha/.wdm/drivers/chromedriver/linux64/96.0.4664.45/chromedriver] found in cache\n"
     ]
    },
    {
     "name": "stdout",
     "output_type": "stream",
     "text": [
      "Vasavi done (4 features)\n"
     ]
    },
    {
     "name": "stderr",
     "output_type": "stream",
     "text": [
      "\n",
      "\n",
      "====== WebDriver manager ======\n",
      "Current google-chrome version is 96.0.4664\n",
      "Get LATEST chromedriver version for 96.0.4664 google-chrome\n",
      "Driver [/home/szogabaha/.wdm/drivers/chromedriver/linux64/96.0.4664.45/chromedriver] found in cache\n"
     ]
    },
    {
     "name": "stdout",
     "output_type": "stream",
     "text": [
      "Vata done (1 features)\n"
     ]
    },
    {
     "name": "stderr",
     "output_type": "stream",
     "text": [
      "\n",
      "\n",
      "====== WebDriver manager ======\n",
      "Current google-chrome version is 96.0.4664\n",
      "Get LATEST chromedriver version for 96.0.4664 google-chrome\n",
      "Driver [/home/szogabaha/.wdm/drivers/chromedriver/linux64/96.0.4664.45/chromedriver] found in cache\n"
     ]
    },
    {
     "name": "stdout",
     "output_type": "stream",
     "text": [
      "Vedda done (2 features)\n"
     ]
    },
    {
     "name": "stderr",
     "output_type": "stream",
     "text": [
      "\n",
      "\n",
      "====== WebDriver manager ======\n",
      "Current google-chrome version is 96.0.4664\n",
      "Get LATEST chromedriver version for 96.0.4664 google-chrome\n",
      "Driver [/home/szogabaha/.wdm/drivers/chromedriver/linux64/96.0.4664.45/chromedriver] found in cache\n"
     ]
    },
    {
     "name": "stdout",
     "output_type": "stream",
     "text": [
      "Venda done (23 features)\n"
     ]
    },
    {
     "name": "stderr",
     "output_type": "stream",
     "text": [
      "\n",
      "\n",
      "====== WebDriver manager ======\n",
      "Current google-chrome version is 96.0.4664\n",
      "Get LATEST chromedriver version for 96.0.4664 google-chrome\n",
      "Driver [/home/szogabaha/.wdm/drivers/chromedriver/linux64/96.0.4664.45/chromedriver] found in cache\n"
     ]
    },
    {
     "name": "stdout",
     "output_type": "stream",
     "text": [
      "Veps done (1 features)\n"
     ]
    },
    {
     "name": "stderr",
     "output_type": "stream",
     "text": [
      "\n",
      "\n",
      "====== WebDriver manager ======\n",
      "Current google-chrome version is 96.0.4664\n",
      "Get LATEST chromedriver version for 96.0.4664 google-chrome\n",
      "Driver [/home/szogabaha/.wdm/drivers/chromedriver/linux64/96.0.4664.45/chromedriver] found in cache\n"
     ]
    },
    {
     "name": "stdout",
     "output_type": "stream",
     "text": [
      "Vietnamese done (143 features)\n"
     ]
    },
    {
     "name": "stderr",
     "output_type": "stream",
     "text": [
      "\n",
      "\n",
      "====== WebDriver manager ======\n",
      "Current google-chrome version is 96.0.4664\n",
      "Get LATEST chromedriver version for 96.0.4664 google-chrome\n",
      "Driver [/home/szogabaha/.wdm/drivers/chromedriver/linux64/96.0.4664.45/chromedriver] found in cache\n"
     ]
    },
    {
     "name": "stdout",
     "output_type": "stream",
     "text": [
      "Vili done (5 features)\n"
     ]
    },
    {
     "name": "stderr",
     "output_type": "stream",
     "text": [
      "\n",
      "\n",
      "====== WebDriver manager ======\n",
      "Current google-chrome version is 96.0.4664\n",
      "Get LATEST chromedriver version for 96.0.4664 google-chrome\n",
      "Driver [/home/szogabaha/.wdm/drivers/chromedriver/linux64/96.0.4664.45/chromedriver] found in cache\n"
     ]
    },
    {
     "name": "stdout",
     "output_type": "stream",
     "text": [
      "Vinmavis done (32 features)\n"
     ]
    },
    {
     "name": "stderr",
     "output_type": "stream",
     "text": [
      "\n",
      "\n",
      "====== WebDriver manager ======\n",
      "Current google-chrome version is 96.0.4664\n",
      "Get LATEST chromedriver version for 96.0.4664 google-chrome\n",
      "Driver [/home/szogabaha/.wdm/drivers/chromedriver/linux64/96.0.4664.45/chromedriver] found in cache\n"
     ]
    },
    {
     "name": "stdout",
     "output_type": "stream",
     "text": [
      "Vlaamse Gebarentaal done (2 features)\n"
     ]
    },
    {
     "name": "stderr",
     "output_type": "stream",
     "text": [
      "\n",
      "\n",
      "====== WebDriver manager ======\n",
      "Current google-chrome version is 96.0.4664\n",
      "Get LATEST chromedriver version for 96.0.4664 google-chrome\n",
      "Driver [/home/szogabaha/.wdm/drivers/chromedriver/linux64/96.0.4664.45/chromedriver] found in cache\n"
     ]
    },
    {
     "name": "stdout",
     "output_type": "stream",
     "text": [
      "Votic done (17 features)\n"
     ]
    },
    {
     "name": "stderr",
     "output_type": "stream",
     "text": [
      "\n",
      "\n",
      "====== WebDriver manager ======\n",
      "Current google-chrome version is 96.0.4664\n",
      "Get LATEST chromedriver version for 96.0.4664 google-chrome\n",
      "Driver [/home/szogabaha/.wdm/drivers/chromedriver/linux64/96.0.4664.45/chromedriver] found in cache\n"
     ]
    },
    {
     "name": "stdout",
     "output_type": "stream",
     "text": [
      "Waama done (9 features)\n"
     ]
    },
    {
     "name": "stderr",
     "output_type": "stream",
     "text": [
      "\n",
      "\n",
      "====== WebDriver manager ======\n",
      "Current google-chrome version is 96.0.4664\n",
      "Get LATEST chromedriver version for 96.0.4664 google-chrome\n",
      "Driver [/home/szogabaha/.wdm/drivers/chromedriver/linux64/96.0.4664.45/chromedriver] found in cache\n"
     ]
    },
    {
     "name": "stdout",
     "output_type": "stream",
     "text": [
      "Wagawaga done (1 features)\n"
     ]
    },
    {
     "name": "stderr",
     "output_type": "stream",
     "text": [
      "\n",
      "\n",
      "====== WebDriver manager ======\n",
      "Current google-chrome version is 96.0.4664\n",
      "Get LATEST chromedriver version for 96.0.4664 google-chrome\n",
      "Driver [/home/szogabaha/.wdm/drivers/chromedriver/linux64/96.0.4664.45/chromedriver] found in cache\n"
     ]
    },
    {
     "name": "stdout",
     "output_type": "stream",
     "text": [
      "Wagiman done (21 features)\n"
     ]
    },
    {
     "name": "stderr",
     "output_type": "stream",
     "text": [
      "\n",
      "\n",
      "====== WebDriver manager ======\n",
      "Current google-chrome version is 96.0.4664\n",
      "Get LATEST chromedriver version for 96.0.4664 google-chrome\n",
      "Driver [/home/szogabaha/.wdm/drivers/chromedriver/linux64/96.0.4664.45/chromedriver] found in cache\n"
     ]
    },
    {
     "name": "stdout",
     "output_type": "stream",
     "text": [
      "Wahgi done (48 features)\n"
     ]
    },
    {
     "name": "stderr",
     "output_type": "stream",
     "text": [
      "\n",
      "\n",
      "====== WebDriver manager ======\n",
      "Current google-chrome version is 96.0.4664\n",
      "Get LATEST chromedriver version for 96.0.4664 google-chrome\n",
      "Driver [/home/szogabaha/.wdm/drivers/chromedriver/linux64/96.0.4664.45/chromedriver] found in cache\n"
     ]
    },
    {
     "name": "stdout",
     "output_type": "stream",
     "text": [
      "Waigali done (5 features)\n"
     ]
    },
    {
     "name": "stderr",
     "output_type": "stream",
     "text": [
      "\n",
      "\n",
      "====== WebDriver manager ======\n",
      "Current google-chrome version is 96.0.4664\n",
      "Get LATEST chromedriver version for 96.0.4664 google-chrome\n",
      "Driver [/home/szogabaha/.wdm/drivers/chromedriver/linux64/96.0.4664.45/chromedriver] found in cache\n"
     ]
    },
    {
     "name": "stdout",
     "output_type": "stream",
     "text": [
      "Waimaha done (15 features)\n"
     ]
    },
    {
     "name": "stderr",
     "output_type": "stream",
     "text": [
      "\n",
      "\n",
      "====== WebDriver manager ======\n",
      "Current google-chrome version is 96.0.4664\n",
      "Get LATEST chromedriver version for 96.0.4664 google-chrome\n",
      "Driver [/home/szogabaha/.wdm/drivers/chromedriver/linux64/96.0.4664.45/chromedriver] found in cache\n"
     ]
    },
    {
     "name": "stdout",
     "output_type": "stream",
     "text": [
      "Wai Wai done (18 features)\n"
     ]
    },
    {
     "name": "stderr",
     "output_type": "stream",
     "text": [
      "\n",
      "\n",
      "====== WebDriver manager ======\n",
      "Current google-chrome version is 96.0.4664\n",
      "Get LATEST chromedriver version for 96.0.4664 google-chrome\n",
      "Driver [/home/szogabaha/.wdm/drivers/chromedriver/linux64/96.0.4664.45/chromedriver] found in cache\n"
     ]
    },
    {
     "name": "stdout",
     "output_type": "stream",
     "text": [
      "Wakhi done (36 features)\n"
     ]
    },
    {
     "name": "stderr",
     "output_type": "stream",
     "text": [
      "\n",
      "\n",
      "====== WebDriver manager ======\n",
      "Current google-chrome version is 96.0.4664\n",
      "Get LATEST chromedriver version for 96.0.4664 google-chrome\n",
      "Driver [/home/szogabaha/.wdm/drivers/chromedriver/linux64/96.0.4664.45/chromedriver] found in cache\n"
     ]
    },
    {
     "name": "stdout",
     "output_type": "stream",
     "text": [
      "Wallisian done (3 features)\n"
     ]
    },
    {
     "name": "stderr",
     "output_type": "stream",
     "text": [
      "\n",
      "\n",
      "====== WebDriver manager ======\n",
      "Current google-chrome version is 96.0.4664\n",
      "Get LATEST chromedriver version for 96.0.4664 google-chrome\n",
      "Driver [/home/szogabaha/.wdm/drivers/chromedriver/linux64/96.0.4664.45/chromedriver] found in cache\n"
     ]
    },
    {
     "name": "stdout",
     "output_type": "stream",
     "text": [
      "Walman done (41 features)\n"
     ]
    },
    {
     "name": "stderr",
     "output_type": "stream",
     "text": [
      "\n",
      "\n",
      "====== WebDriver manager ======\n",
      "Current google-chrome version is 96.0.4664\n",
      "Get LATEST chromedriver version for 96.0.4664 google-chrome\n",
      "Driver [/home/szogabaha/.wdm/drivers/chromedriver/linux64/96.0.4664.45/chromedriver] found in cache\n"
     ]
    },
    {
     "name": "stdout",
     "output_type": "stream",
     "text": [
      "Walmatjari done (12 features)\n"
     ]
    },
    {
     "name": "stderr",
     "output_type": "stream",
     "text": [
      "\n",
      "\n",
      "====== WebDriver manager ======\n",
      "Current google-chrome version is 96.0.4664\n",
      "Get LATEST chromedriver version for 96.0.4664 google-chrome\n",
      "Driver [/home/szogabaha/.wdm/drivers/chromedriver/linux64/96.0.4664.45/chromedriver] found in cache\n"
     ]
    },
    {
     "name": "stdout",
     "output_type": "stream",
     "text": [
      "Wambaya done (86 features)\n"
     ]
    },
    {
     "name": "stderr",
     "output_type": "stream",
     "text": [
      "\n",
      "\n",
      "====== WebDriver manager ======\n",
      "Current google-chrome version is 96.0.4664\n",
      "Get LATEST chromedriver version for 96.0.4664 google-chrome\n",
      "Driver [/home/szogabaha/.wdm/drivers/chromedriver/linux64/96.0.4664.45/chromedriver] found in cache\n"
     ]
    },
    {
     "name": "stdout",
     "output_type": "stream",
     "text": [
      "Wambon done (46 features)\n"
     ]
    },
    {
     "name": "stderr",
     "output_type": "stream",
     "text": [
      "\n",
      "\n",
      "====== WebDriver manager ======\n",
      "Current google-chrome version is 96.0.4664\n",
      "Get LATEST chromedriver version for 96.0.4664 google-chrome\n",
      "Driver [/home/szogabaha/.wdm/drivers/chromedriver/linux64/96.0.4664.45/chromedriver] found in cache\n"
     ]
    },
    {
     "name": "stdout",
     "output_type": "stream",
     "text": [
      "Wambule done (27 features)\n"
     ]
    },
    {
     "name": "stderr",
     "output_type": "stream",
     "text": [
      "\n",
      "\n",
      "====== WebDriver manager ======\n",
      "Current google-chrome version is 96.0.4664\n",
      "Get LATEST chromedriver version for 96.0.4664 google-chrome\n",
      "Driver [/home/szogabaha/.wdm/drivers/chromedriver/linux64/96.0.4664.45/chromedriver] found in cache\n"
     ]
    },
    {
     "name": "stdout",
     "output_type": "stream",
     "text": [
      "Wan done (21 features)\n"
     ]
    },
    {
     "name": "stderr",
     "output_type": "stream",
     "text": [
      "\n",
      "\n",
      "====== WebDriver manager ======\n",
      "Current google-chrome version is 96.0.4664\n",
      "Get LATEST chromedriver version for 96.0.4664 google-chrome\n",
      "Driver [/home/szogabaha/.wdm/drivers/chromedriver/linux64/96.0.4664.45/chromedriver] found in cache\n"
     ]
    },
    {
     "name": "stdout",
     "output_type": "stream",
     "text": [
      "Wangkangurru done (1 features)\n"
     ]
    },
    {
     "name": "stderr",
     "output_type": "stream",
     "text": [
      "\n",
      "\n",
      "====== WebDriver manager ======\n",
      "Current google-chrome version is 96.0.4664\n",
      "Get LATEST chromedriver version for 96.0.4664 google-chrome\n",
      "Driver [/home/szogabaha/.wdm/drivers/chromedriver/linux64/96.0.4664.45/chromedriver] found in cache\n"
     ]
    },
    {
     "name": "stdout",
     "output_type": "stream",
     "text": [
      "Wangkumara done (16 features)\n"
     ]
    },
    {
     "name": "stderr",
     "output_type": "stream",
     "text": [
      "\n",
      "\n",
      "====== WebDriver manager ======\n",
      "Current google-chrome version is 96.0.4664\n",
      "Get LATEST chromedriver version for 96.0.4664 google-chrome\n",
      "Driver [/home/szogabaha/.wdm/drivers/chromedriver/linux64/96.0.4664.45/chromedriver] found in cache\n"
     ]
    },
    {
     "name": "stdout",
     "output_type": "stream",
     "text": [
      "Wanman done (1 features)\n"
     ]
    },
    {
     "name": "stderr",
     "output_type": "stream",
     "text": [
      "\n",
      "\n",
      "====== WebDriver manager ======\n",
      "Current google-chrome version is 96.0.4664\n",
      "Get LATEST chromedriver version for 96.0.4664 google-chrome\n",
      "Driver [/home/szogabaha/.wdm/drivers/chromedriver/linux64/96.0.4664.45/chromedriver] found in cache\n"
     ]
    },
    {
     "name": "stdout",
     "output_type": "stream",
     "text": [
      "Wantoat done (13 features)\n"
     ]
    },
    {
     "name": "stderr",
     "output_type": "stream",
     "text": [
      "\n",
      "\n",
      "====== WebDriver manager ======\n",
      "Current google-chrome version is 96.0.4664\n",
      "Get LATEST chromedriver version for 96.0.4664 google-chrome\n",
      "Driver [/home/szogabaha/.wdm/drivers/chromedriver/linux64/96.0.4664.45/chromedriver] found in cache\n"
     ]
    },
    {
     "name": "stdout",
     "output_type": "stream",
     "text": [
      "Waorani done (71 features)\n"
     ]
    },
    {
     "name": "stderr",
     "output_type": "stream",
     "text": [
      "\n",
      "\n",
      "====== WebDriver manager ======\n",
      "Current google-chrome version is 96.0.4664\n",
      "Get LATEST chromedriver version for 96.0.4664 google-chrome\n",
      "Driver [/home/szogabaha/.wdm/drivers/chromedriver/linux64/96.0.4664.45/chromedriver] found in cache\n"
     ]
    },
    {
     "name": "stdout",
     "output_type": "stream",
     "text": [
      "Wapishana done (13 features)\n"
     ]
    },
    {
     "name": "stderr",
     "output_type": "stream",
     "text": [
      "\n",
      "\n",
      "====== WebDriver manager ======\n",
      "Current google-chrome version is 96.0.4664\n",
      "Get LATEST chromedriver version for 96.0.4664 google-chrome\n",
      "Driver [/home/szogabaha/.wdm/drivers/chromedriver/linux64/96.0.4664.45/chromedriver] found in cache\n"
     ]
    },
    {
     "name": "stdout",
     "output_type": "stream",
     "text": [
      "Wappo done (70 features)\n"
     ]
    },
    {
     "name": "stderr",
     "output_type": "stream",
     "text": [
      "\n",
      "\n",
      "====== WebDriver manager ======\n",
      "Current google-chrome version is 96.0.4664\n",
      "Get LATEST chromedriver version for 96.0.4664 google-chrome\n",
      "Driver [/home/szogabaha/.wdm/drivers/chromedriver/linux64/96.0.4664.45/chromedriver] found in cache\n"
     ]
    },
    {
     "name": "stdout",
     "output_type": "stream",
     "text": [
      "Warao done (123 features)\n"
     ]
    },
    {
     "name": "stderr",
     "output_type": "stream",
     "text": [
      "\n",
      "\n",
      "====== WebDriver manager ======\n",
      "Current google-chrome version is 96.0.4664\n",
      "Get LATEST chromedriver version for 96.0.4664 google-chrome\n",
      "Driver [/home/szogabaha/.wdm/drivers/chromedriver/linux64/96.0.4664.45/chromedriver] found in cache\n"
     ]
    },
    {
     "name": "stdout",
     "output_type": "stream",
     "text": [
      "Waray (in Australia) done (32 features)\n"
     ]
    },
    {
     "name": "stderr",
     "output_type": "stream",
     "text": [
      "\n",
      "\n",
      "====== WebDriver manager ======\n",
      "Current google-chrome version is 96.0.4664\n",
      "Get LATEST chromedriver version for 96.0.4664 google-chrome\n",
      "Driver [/home/szogabaha/.wdm/drivers/chromedriver/linux64/96.0.4664.45/chromedriver] found in cache\n"
     ]
    },
    {
     "name": "stdout",
     "output_type": "stream",
     "text": [
      "Waray-Waray done (1 features)\n"
     ]
    },
    {
     "name": "stderr",
     "output_type": "stream",
     "text": [
      "\n",
      "\n",
      "====== WebDriver manager ======\n",
      "Current google-chrome version is 96.0.4664\n",
      "Get LATEST chromedriver version for 96.0.4664 google-chrome\n",
      "Driver [/home/szogabaha/.wdm/drivers/chromedriver/linux64/96.0.4664.45/chromedriver] found in cache\n"
     ]
    },
    {
     "name": "stdout",
     "output_type": "stream",
     "text": [
      "Wardaman done (99 features)\n"
     ]
    },
    {
     "name": "stderr",
     "output_type": "stream",
     "text": [
      "\n",
      "\n",
      "====== WebDriver manager ======\n",
      "Current google-chrome version is 96.0.4664\n",
      "Get LATEST chromedriver version for 96.0.4664 google-chrome\n",
      "Driver [/home/szogabaha/.wdm/drivers/chromedriver/linux64/96.0.4664.45/chromedriver] found in cache\n"
     ]
    },
    {
     "name": "stdout",
     "output_type": "stream",
     "text": [
      "Warekena done (53 features)\n"
     ]
    },
    {
     "name": "stderr",
     "output_type": "stream",
     "text": [
      "\n",
      "\n",
      "====== WebDriver manager ======\n",
      "Current google-chrome version is 96.0.4664\n",
      "Get LATEST chromedriver version for 96.0.4664 google-chrome\n",
      "Driver [/home/szogabaha/.wdm/drivers/chromedriver/linux64/96.0.4664.45/chromedriver] found in cache\n"
     ]
    },
    {
     "name": "stdout",
     "output_type": "stream",
     "text": [
      "Warembori done (31 features)\n"
     ]
    },
    {
     "name": "stderr",
     "output_type": "stream",
     "text": [
      "\n",
      "\n",
      "====== WebDriver manager ======\n",
      "Current google-chrome version is 96.0.4664\n",
      "Get LATEST chromedriver version for 96.0.4664 google-chrome\n",
      "Driver [/home/szogabaha/.wdm/drivers/chromedriver/linux64/96.0.4664.45/chromedriver] found in cache\n"
     ]
    },
    {
     "name": "stdout",
     "output_type": "stream",
     "text": [
      "Wari' done (134 features)\n",
      "Waris done (15 features)\n"
     ]
    },
    {
     "name": "stderr",
     "output_type": "stream",
     "text": [
      "\n",
      "\n",
      "====== WebDriver manager ======\n",
      "Current google-chrome version is 96.0.4664\n",
      "Get LATEST chromedriver version for 96.0.4664 google-chrome\n",
      "Driver [/home/szogabaha/.wdm/drivers/chromedriver/linux64/96.0.4664.45/chromedriver] found in cache\n",
      "\n",
      "\n",
      "====== WebDriver manager ======\n",
      "Current google-chrome version is 96.0.4664\n",
      "Get LATEST chromedriver version for 96.0.4664 google-chrome\n",
      "Driver [/home/szogabaha/.wdm/drivers/chromedriver/linux64/96.0.4664.45/chromedriver] found in cache\n"
     ]
    },
    {
     "name": "stdout",
     "output_type": "stream",
     "text": [
      "Warlpiri done (46 features)\n",
      "Warluwara done (15 features)\n"
     ]
    },
    {
     "name": "stderr",
     "output_type": "stream",
     "text": [
      "\n",
      "\n",
      "====== WebDriver manager ======\n",
      "Current google-chrome version is 96.0.4664\n",
      "Get LATEST chromedriver version for 96.0.4664 google-chrome\n",
      "Driver [/home/szogabaha/.wdm/drivers/chromedriver/linux64/96.0.4664.45/chromedriver] found in cache\n",
      "\n",
      "\n",
      "====== WebDriver manager ======\n",
      "Current google-chrome version is 96.0.4664\n",
      "Get LATEST chromedriver version for 96.0.4664 google-chrome\n",
      "Driver [/home/szogabaha/.wdm/drivers/chromedriver/linux64/96.0.4664.45/chromedriver] found in cache\n"
     ]
    },
    {
     "name": "stdout",
     "output_type": "stream",
     "text": [
      "Warndarang done (40 features)\n"
     ]
    },
    {
     "name": "stderr",
     "output_type": "stream",
     "text": [
      "\n",
      "\n",
      "====== WebDriver manager ======\n"
     ]
    },
    {
     "name": "stdout",
     "output_type": "stream",
     "text": [
      "Waropen done (4 features)\n"
     ]
    },
    {
     "name": "stderr",
     "output_type": "stream",
     "text": [
      "Current google-chrome version is 96.0.4664\n",
      "Get LATEST chromedriver version for 96.0.4664 google-chrome\n",
      "Driver [/home/szogabaha/.wdm/drivers/chromedriver/linux64/96.0.4664.45/chromedriver] found in cache\n",
      "\n",
      "\n",
      "====== WebDriver manager ======\n",
      "Current google-chrome version is 96.0.4664\n",
      "Get LATEST chromedriver version for 96.0.4664 google-chrome\n",
      "Driver [/home/szogabaha/.wdm/drivers/chromedriver/linux64/96.0.4664.45/chromedriver] found in cache\n"
     ]
    },
    {
     "name": "stdout",
     "output_type": "stream",
     "text": [
      "Warrgamay done (37 features)\n"
     ]
    },
    {
     "name": "stderr",
     "output_type": "stream",
     "text": [
      "\n",
      "\n",
      "====== WebDriver manager ======\n"
     ]
    },
    {
     "name": "stdout",
     "output_type": "stream",
     "text": [
      "Warrnambool done (19 features)\n"
     ]
    },
    {
     "name": "stderr",
     "output_type": "stream",
     "text": [
      "Current google-chrome version is 96.0.4664\n",
      "Get LATEST chromedriver version for 96.0.4664 google-chrome\n",
      "Driver [/home/szogabaha/.wdm/drivers/chromedriver/linux64/96.0.4664.45/chromedriver] found in cache\n",
      "\n",
      "\n",
      "====== WebDriver manager ======\n",
      "Current google-chrome version is 96.0.4664\n",
      "Get LATEST chromedriver version for 96.0.4664 google-chrome\n",
      "Driver [/home/szogabaha/.wdm/drivers/chromedriver/linux64/96.0.4664.45/chromedriver] found in cache\n"
     ]
    },
    {
     "name": "stdout",
     "output_type": "stream",
     "text": [
      "Warrongo done (4 features)\n"
     ]
    },
    {
     "name": "stderr",
     "output_type": "stream",
     "text": [
      "\n",
      "\n",
      "====== WebDriver manager ======\n",
      "Current google-chrome version is 96.0.4664\n",
      "Get LATEST chromedriver version for 96.0.4664 google-chrome\n",
      "Driver [/home/szogabaha/.wdm/drivers/chromedriver/linux64/96.0.4664.45/chromedriver] found in cache\n"
     ]
    },
    {
     "name": "stdout",
     "output_type": "stream",
     "text": [
      "Warrwa done (20 features)\n"
     ]
    },
    {
     "name": "stderr",
     "output_type": "stream",
     "text": [
      "\n",
      "\n",
      "====== WebDriver manager ======\n",
      "Current google-chrome version is 96.0.4664\n",
      "Get LATEST chromedriver version for 96.0.4664 google-chrome\n",
      "Driver [/home/szogabaha/.wdm/drivers/chromedriver/linux64/96.0.4664.45/chromedriver] found in cache\n"
     ]
    },
    {
     "name": "stdout",
     "output_type": "stream",
     "text": [
      "Warumungu done (1 features)\n"
     ]
    },
    {
     "name": "stderr",
     "output_type": "stream",
     "text": [
      "\n",
      "\n",
      "====== WebDriver manager ======\n",
      "Current google-chrome version is 96.0.4664\n",
      "Get LATEST chromedriver version for 96.0.4664 google-chrome\n"
     ]
    },
    {
     "name": "stdout",
     "output_type": "stream",
     "text": [
      "Washo done (55 features)\n"
     ]
    },
    {
     "name": "stderr",
     "output_type": "stream",
     "text": [
      "Driver [/home/szogabaha/.wdm/drivers/chromedriver/linux64/96.0.4664.45/chromedriver] found in cache\n",
      "\n",
      "\n",
      "====== WebDriver manager ======\n"
     ]
    },
    {
     "name": "stdout",
     "output_type": "stream",
     "text": [
      "Waskia done (57 features)\n"
     ]
    },
    {
     "name": "stderr",
     "output_type": "stream",
     "text": [
      "Current google-chrome version is 96.0.4664\n",
      "Get LATEST chromedriver version for 96.0.4664 google-chrome\n",
      "Driver [/home/szogabaha/.wdm/drivers/chromedriver/linux64/96.0.4664.45/chromedriver] found in cache\n",
      "\n",
      "\n",
      "====== WebDriver manager ======\n",
      "Current google-chrome version is 96.0.4664\n",
      "Get LATEST chromedriver version for 96.0.4664 google-chrome\n"
     ]
    },
    {
     "name": "stdout",
     "output_type": "stream",
     "text": [
      "Watam done (14 features)\n"
     ]
    },
    {
     "name": "stderr",
     "output_type": "stream",
     "text": [
      "Driver [/home/szogabaha/.wdm/drivers/chromedriver/linux64/96.0.4664.45/chromedriver] found in cache\n",
      "\n",
      "\n",
      "====== WebDriver manager ======\n",
      "Current google-chrome version is 96.0.4664\n",
      "Get LATEST chromedriver version for 96.0.4664 google-chrome\n"
     ]
    },
    {
     "name": "stdout",
     "output_type": "stream",
     "text": [
      "Wathawurrung done (14 features)\n"
     ]
    },
    {
     "name": "stderr",
     "output_type": "stream",
     "text": [
      "Driver [/home/szogabaha/.wdm/drivers/chromedriver/linux64/96.0.4664.45/chromedriver] found in cache\n",
      "\n",
      "\n",
      "====== WebDriver manager ======\n"
     ]
    },
    {
     "name": "stdout",
     "output_type": "stream",
     "text": [
      "Watjarri done (31 features)\n"
     ]
    },
    {
     "name": "stderr",
     "output_type": "stream",
     "text": [
      "Current google-chrome version is 96.0.4664\n",
      "Get LATEST chromedriver version for 96.0.4664 google-chrome\n",
      "Driver [/home/szogabaha/.wdm/drivers/chromedriver/linux64/96.0.4664.45/chromedriver] found in cache\n",
      "\n",
      "\n",
      "====== WebDriver manager ======\n",
      "Current google-chrome version is 96.0.4664\n",
      "Get LATEST chromedriver version for 96.0.4664 google-chrome\n",
      "Driver [/home/szogabaha/.wdm/drivers/chromedriver/linux64/96.0.4664.45/chromedriver] found in cache\n"
     ]
    },
    {
     "name": "stdout",
     "output_type": "stream",
     "text": [
      "Waunana done (20 features)\n"
     ]
    },
    {
     "name": "stderr",
     "output_type": "stream",
     "text": [
      "\n",
      "\n",
      "====== WebDriver manager ======\n",
      "Current google-chrome version is 96.0.4664\n",
      "Get LATEST chromedriver version for 96.0.4664 google-chrome\n"
     ]
    },
    {
     "name": "stdout",
     "output_type": "stream",
     "text": [
      "Waurá done (4 features)\n"
     ]
    },
    {
     "name": "stderr",
     "output_type": "stream",
     "text": [
      "Driver [/home/szogabaha/.wdm/drivers/chromedriver/linux64/96.0.4664.45/chromedriver] found in cache\n",
      "\n",
      "\n",
      "====== WebDriver manager ======\n"
     ]
    },
    {
     "name": "stdout",
     "output_type": "stream",
     "text": [
      "Wayampi done (39 features)\n"
     ]
    },
    {
     "name": "stderr",
     "output_type": "stream",
     "text": [
      "Current google-chrome version is 96.0.4664\n",
      "Get LATEST chromedriver version for 96.0.4664 google-chrome\n",
      "Driver [/home/szogabaha/.wdm/drivers/chromedriver/linux64/96.0.4664.45/chromedriver] found in cache\n"
     ]
    },
    {
     "name": "stdout",
     "output_type": "stream",
     "text": [
      "Wayana done (3 features)\n"
     ]
    },
    {
     "name": "stderr",
     "output_type": "stream",
     "text": [
      "\n",
      "\n",
      "====== WebDriver manager ======\n",
      "Current google-chrome version is 96.0.4664\n",
      "Get LATEST chromedriver version for 96.0.4664 google-chrome\n",
      "Driver [/home/szogabaha/.wdm/drivers/chromedriver/linux64/96.0.4664.45/chromedriver] found in cache\n",
      "\n",
      "\n",
      "====== WebDriver manager ======\n"
     ]
    },
    {
     "name": "stdout",
     "output_type": "stream",
     "text": [
      "Wedau done (22 features)\n"
     ]
    },
    {
     "name": "stderr",
     "output_type": "stream",
     "text": [
      "Current google-chrome version is 96.0.4664\n",
      "Get LATEST chromedriver version for 96.0.4664 google-chrome\n",
      "Driver [/home/szogabaha/.wdm/drivers/chromedriver/linux64/96.0.4664.45/chromedriver] found in cache\n",
      "\n",
      "\n",
      "====== WebDriver manager ======\n",
      "Current google-chrome version is 96.0.4664\n",
      "Get LATEST chromedriver version for 96.0.4664 google-chrome\n",
      "Driver [/home/szogabaha/.wdm/drivers/chromedriver/linux64/96.0.4664.45/chromedriver] found in cache\n"
     ]
    },
    {
     "name": "stdout",
     "output_type": "stream",
     "text": [
      "Welsh done (69 features)\n"
     ]
    },
    {
     "name": "stderr",
     "output_type": "stream",
     "text": [
      "\n",
      "\n",
      "====== WebDriver manager ======\n",
      "Current google-chrome version is 96.0.4664\n",
      "Get LATEST chromedriver version for 96.0.4664 google-chrome\n",
      "Driver [/home/szogabaha/.wdm/drivers/chromedriver/linux64/96.0.4664.45/chromedriver] found in cache\n"
     ]
    },
    {
     "name": "stdout",
     "output_type": "stream",
     "text": [
      "Welsh (Colloquial) done (14 features)\n"
     ]
    },
    {
     "name": "stderr",
     "output_type": "stream",
     "text": [
      "\n",
      "\n",
      "====== WebDriver manager ======\n",
      "Current google-chrome version is 96.0.4664\n",
      "Get LATEST chromedriver version for 96.0.4664 google-chrome\n",
      "Driver [/home/szogabaha/.wdm/drivers/chromedriver/linux64/96.0.4664.45/chromedriver] found in cache\n"
     ]
    },
    {
     "name": "stdout",
     "output_type": "stream",
     "text": [
      "Wembawemba done (47 features)\n"
     ]
    },
    {
     "name": "stderr",
     "output_type": "stream",
     "text": [
      "\n",
      "\n",
      "====== WebDriver manager ======\n",
      "Current google-chrome version is 96.0.4664\n",
      "Get LATEST chromedriver version for 96.0.4664 google-chrome\n",
      "Driver [/home/szogabaha/.wdm/drivers/chromedriver/linux64/96.0.4664.45/chromedriver] found in cache\n"
     ]
    },
    {
     "name": "stdout",
     "output_type": "stream",
     "text": [
      "Wéménugbé done (2 features)\n"
     ]
    },
    {
     "name": "stderr",
     "output_type": "stream",
     "text": [
      "\n",
      "\n",
      "====== WebDriver manager ======\n",
      "Current google-chrome version is 96.0.4664\n",
      "Get LATEST chromedriver version for 96.0.4664 google-chrome\n",
      "Driver [/home/szogabaha/.wdm/drivers/chromedriver/linux64/96.0.4664.45/chromedriver] found in cache\n"
     ]
    },
    {
     "name": "stdout",
     "output_type": "stream",
     "text": [
      "Weri done (4 features)\n"
     ]
    },
    {
     "name": "stderr",
     "output_type": "stream",
     "text": [
      "\n",
      "\n",
      "====== WebDriver manager ======\n",
      "Current google-chrome version is 96.0.4664\n",
      "Get LATEST chromedriver version for 96.0.4664 google-chrome\n",
      "Driver [/home/szogabaha/.wdm/drivers/chromedriver/linux64/96.0.4664.45/chromedriver] found in cache\n"
     ]
    },
    {
     "name": "stdout",
     "output_type": "stream",
     "text": [
      "Western Desert (Ooldea) done (13 features)\n"
     ]
    },
    {
     "name": "stderr",
     "output_type": "stream",
     "text": [
      "\n",
      "\n",
      "====== WebDriver manager ======\n",
      "Current google-chrome version is 96.0.4664\n",
      "Get LATEST chromedriver version for 96.0.4664 google-chrome\n",
      "Driver [/home/szogabaha/.wdm/drivers/chromedriver/linux64/96.0.4664.45/chromedriver] found in cache\n"
     ]
    },
    {
     "name": "stdout",
     "output_type": "stream",
     "text": [
      "West Makian done (60 features)\n"
     ]
    },
    {
     "name": "stderr",
     "output_type": "stream",
     "text": [
      "\n",
      "\n",
      "====== WebDriver manager ======\n",
      "Current google-chrome version is 96.0.4664\n",
      "Get LATEST chromedriver version for 96.0.4664 google-chrome\n",
      "Driver [/home/szogabaha/.wdm/drivers/chromedriver/linux64/96.0.4664.45/chromedriver] found in cache\n"
     ]
    },
    {
     "name": "stdout",
     "output_type": "stream",
     "text": [
      "Wetan done (4 features)\n"
     ]
    },
    {
     "name": "stderr",
     "output_type": "stream",
     "text": [
      "\n",
      "\n",
      "====== WebDriver manager ======\n",
      "Current google-chrome version is 96.0.4664\n",
      "Get LATEST chromedriver version for 96.0.4664 google-chrome\n",
      "Driver [/home/szogabaha/.wdm/drivers/chromedriver/linux64/96.0.4664.45/chromedriver] found in cache\n"
     ]
    },
    {
     "name": "stdout",
     "output_type": "stream",
     "text": [
      "Wichí done (129 features)\n"
     ]
    },
    {
     "name": "stderr",
     "output_type": "stream",
     "text": [
      "\n",
      "\n",
      "====== WebDriver manager ======\n",
      "Current google-chrome version is 96.0.4664\n",
      "Get LATEST chromedriver version for 96.0.4664 google-chrome\n",
      "Driver [/home/szogabaha/.wdm/drivers/chromedriver/linux64/96.0.4664.45/chromedriver] found in cache\n"
     ]
    },
    {
     "name": "stdout",
     "output_type": "stream",
     "text": [
      "Wichita done (125 features)\n"
     ]
    },
    {
     "name": "stderr",
     "output_type": "stream",
     "text": [
      "\n",
      "\n",
      "====== WebDriver manager ======\n",
      "Current google-chrome version is 96.0.4664\n",
      "Get LATEST chromedriver version for 96.0.4664 google-chrome\n",
      "Driver [/home/szogabaha/.wdm/drivers/chromedriver/linux64/96.0.4664.45/chromedriver] found in cache\n"
     ]
    },
    {
     "name": "stdout",
     "output_type": "stream",
     "text": [
      "Wikchamni done (35 features)\n"
     ]
    },
    {
     "name": "stderr",
     "output_type": "stream",
     "text": [
      "\n",
      "\n",
      "====== WebDriver manager ======\n",
      "Current google-chrome version is 96.0.4664\n",
      "Get LATEST chromedriver version for 96.0.4664 google-chrome\n",
      "Driver [/home/szogabaha/.wdm/drivers/chromedriver/linux64/96.0.4664.45/chromedriver] found in cache\n"
     ]
    },
    {
     "name": "stdout",
     "output_type": "stream",
     "text": [
      "Wik Munkan done (38 features)\n"
     ]
    },
    {
     "name": "stderr",
     "output_type": "stream",
     "text": [
      "\n",
      "\n",
      "====== WebDriver manager ======\n",
      "Current google-chrome version is 96.0.4664\n",
      "Get LATEST chromedriver version for 96.0.4664 google-chrome\n",
      "Driver [/home/szogabaha/.wdm/drivers/chromedriver/linux64/96.0.4664.45/chromedriver] found in cache\n"
     ]
    },
    {
     "name": "stdout",
     "output_type": "stream",
     "text": [
      "Wik Ngathana done (9 features)\n"
     ]
    },
    {
     "name": "stderr",
     "output_type": "stream",
     "text": [
      "\n",
      "\n",
      "====== WebDriver manager ======\n",
      "Current google-chrome version is 96.0.4664\n",
      "Get LATEST chromedriver version for 96.0.4664 google-chrome\n",
      "Driver [/home/szogabaha/.wdm/drivers/chromedriver/linux64/96.0.4664.45/chromedriver] found in cache\n"
     ]
    },
    {
     "name": "stdout",
     "output_type": "stream",
     "text": [
      "Winnebago done (8 features)\n"
     ]
    },
    {
     "name": "stderr",
     "output_type": "stream",
     "text": [
      "\n",
      "\n",
      "====== WebDriver manager ======\n",
      "Current google-chrome version is 96.0.4664\n",
      "Get LATEST chromedriver version for 96.0.4664 google-chrome\n",
      "Driver [/home/szogabaha/.wdm/drivers/chromedriver/linux64/96.0.4664.45/chromedriver] found in cache\n"
     ]
    },
    {
     "name": "stdout",
     "output_type": "stream",
     "text": [
      "Wintu done (66 features)\n"
     ]
    },
    {
     "name": "stderr",
     "output_type": "stream",
     "text": [
      "\n",
      "\n",
      "====== WebDriver manager ======\n",
      "Current google-chrome version is 96.0.4664\n",
      "Get LATEST chromedriver version for 96.0.4664 google-chrome\n",
      "Driver [/home/szogabaha/.wdm/drivers/chromedriver/linux64/96.0.4664.45/chromedriver] found in cache\n"
     ]
    },
    {
     "name": "stdout",
     "output_type": "stream",
     "text": [
      "Wirangu done (12 features)\n"
     ]
    },
    {
     "name": "stderr",
     "output_type": "stream",
     "text": [
      "\n",
      "\n",
      "====== WebDriver manager ======\n",
      "Current google-chrome version is 96.0.4664\n",
      "Get LATEST chromedriver version for 96.0.4664 google-chrome\n",
      "Driver [/home/szogabaha/.wdm/drivers/chromedriver/linux64/96.0.4664.45/chromedriver] found in cache\n"
     ]
    },
    {
     "name": "stdout",
     "output_type": "stream",
     "text": [
      "Wiyot done (55 features)\n"
     ]
    },
    {
     "name": "stderr",
     "output_type": "stream",
     "text": [
      "\n",
      "\n",
      "====== WebDriver manager ======\n",
      "Current google-chrome version is 96.0.4664\n",
      "Get LATEST chromedriver version for 96.0.4664 google-chrome\n",
      "Driver [/home/szogabaha/.wdm/drivers/chromedriver/linux64/96.0.4664.45/chromedriver] found in cache\n"
     ]
    },
    {
     "name": "stdout",
     "output_type": "stream",
     "text": [
      "Wobe done (4 features)\n"
     ]
    },
    {
     "name": "stderr",
     "output_type": "stream",
     "text": [
      "\n",
      "\n",
      "====== WebDriver manager ======\n",
      "Current google-chrome version is 96.0.4664\n",
      "Get LATEST chromedriver version for 96.0.4664 google-chrome\n",
      "Driver [/home/szogabaha/.wdm/drivers/chromedriver/linux64/96.0.4664.45/chromedriver] found in cache\n"
     ]
    },
    {
     "name": "stdout",
     "output_type": "stream",
     "text": [
      "Wogamusin done (4 features)\n"
     ]
    },
    {
     "name": "stderr",
     "output_type": "stream",
     "text": [
      "\n",
      "\n",
      "====== WebDriver manager ======\n",
      "Current google-chrome version is 96.0.4664\n",
      "Get LATEST chromedriver version for 96.0.4664 google-chrome\n",
      "Driver [/home/szogabaha/.wdm/drivers/chromedriver/linux64/96.0.4664.45/chromedriver] found in cache\n"
     ]
    },
    {
     "name": "stdout",
     "output_type": "stream",
     "text": [
      "Woisika done (35 features)\n"
     ]
    },
    {
     "name": "stderr",
     "output_type": "stream",
     "text": [
      "\n",
      "\n",
      "====== WebDriver manager ======\n",
      "Current google-chrome version is 96.0.4664\n",
      "Get LATEST chromedriver version for 96.0.4664 google-chrome\n",
      "Driver [/home/szogabaha/.wdm/drivers/chromedriver/linux64/96.0.4664.45/chromedriver] found in cache\n"
     ]
    },
    {
     "name": "stdout",
     "output_type": "stream",
     "text": [
      "Woiwurrung done (5 features)\n"
     ]
    },
    {
     "name": "stderr",
     "output_type": "stream",
     "text": [
      "\n",
      "\n",
      "====== WebDriver manager ======\n",
      "Current google-chrome version is 96.0.4664\n",
      "Get LATEST chromedriver version for 96.0.4664 google-chrome\n",
      "Driver [/home/szogabaha/.wdm/drivers/chromedriver/linux64/96.0.4664.45/chromedriver] found in cache\n"
     ]
    },
    {
     "name": "stdout",
     "output_type": "stream",
     "text": [
      "Wolaytta done (37 features)\n"
     ]
    },
    {
     "name": "stderr",
     "output_type": "stream",
     "text": [
      "\n",
      "\n",
      "====== WebDriver manager ======\n",
      "Current google-chrome version is 96.0.4664\n",
      "Get LATEST chromedriver version for 96.0.4664 google-chrome\n",
      "Driver [/home/szogabaha/.wdm/drivers/chromedriver/linux64/96.0.4664.45/chromedriver] found in cache\n"
     ]
    },
    {
     "name": "stdout",
     "output_type": "stream",
     "text": [
      "Woleaian done (46 features)\n"
     ]
    },
    {
     "name": "stderr",
     "output_type": "stream",
     "text": [
      "\n",
      "\n",
      "====== WebDriver manager ======\n",
      "Current google-chrome version is 96.0.4664\n",
      "Get LATEST chromedriver version for 96.0.4664 google-chrome\n",
      "Driver [/home/szogabaha/.wdm/drivers/chromedriver/linux64/96.0.4664.45/chromedriver] found in cache\n"
     ]
    },
    {
     "name": "stdout",
     "output_type": "stream",
     "text": [
      "Wolio done (29 features)\n"
     ]
    },
    {
     "name": "stderr",
     "output_type": "stream",
     "text": [
      "\n",
      "\n",
      "====== WebDriver manager ======\n",
      "Current google-chrome version is 96.0.4664\n",
      "Get LATEST chromedriver version for 96.0.4664 google-chrome\n",
      "Driver [/home/szogabaha/.wdm/drivers/chromedriver/linux64/96.0.4664.45/chromedriver] found in cache\n"
     ]
    },
    {
     "name": "stdout",
     "output_type": "stream",
     "text": [
      "Wolof done (80 features)\n"
     ]
    },
    {
     "name": "stderr",
     "output_type": "stream",
     "text": [
      "\n",
      "\n",
      "====== WebDriver manager ======\n",
      "Current google-chrome version is 96.0.4664\n",
      "Get LATEST chromedriver version for 96.0.4664 google-chrome\n",
      "Driver [/home/szogabaha/.wdm/drivers/chromedriver/linux64/96.0.4664.45/chromedriver] found in cache\n"
     ]
    },
    {
     "name": "stdout",
     "output_type": "stream",
     "text": [
      "Womo done (23 features)\n"
     ]
    },
    {
     "name": "stderr",
     "output_type": "stream",
     "text": [
      "\n",
      "\n",
      "====== WebDriver manager ======\n",
      "Current google-chrome version is 96.0.4664\n",
      "Get LATEST chromedriver version for 96.0.4664 google-chrome\n",
      "Driver [/home/szogabaha/.wdm/drivers/chromedriver/linux64/96.0.4664.45/chromedriver] found in cache\n"
     ]
    },
    {
     "name": "stdout",
     "output_type": "stream",
     "text": [
      "Worora done (15 features)\n"
     ]
    },
    {
     "name": "stderr",
     "output_type": "stream",
     "text": [
      "\n",
      "\n",
      "====== WebDriver manager ======\n",
      "Current google-chrome version is 96.0.4664\n",
      "Get LATEST chromedriver version for 96.0.4664 google-chrome\n",
      "Driver [/home/szogabaha/.wdm/drivers/chromedriver/linux64/96.0.4664.45/chromedriver] found in cache\n"
     ]
    },
    {
     "name": "stdout",
     "output_type": "stream",
     "text": [
      "Wu done (12 features)\n"
     ]
    },
    {
     "name": "stderr",
     "output_type": "stream",
     "text": [
      "\n",
      "\n",
      "====== WebDriver manager ======\n",
      "Current google-chrome version is 96.0.4664\n",
      "Get LATEST chromedriver version for 96.0.4664 google-chrome\n",
      "Driver [/home/szogabaha/.wdm/drivers/chromedriver/linux64/96.0.4664.45/chromedriver] found in cache\n"
     ]
    },
    {
     "name": "stdout",
     "output_type": "stream",
     "text": [
      "Wyandot done (18 features)\n"
     ]
    },
    {
     "name": "stderr",
     "output_type": "stream",
     "text": [
      "\n",
      "\n",
      "====== WebDriver manager ======\n",
      "Current google-chrome version is 96.0.4664\n",
      "Get LATEST chromedriver version for 96.0.4664 google-chrome\n",
      "Driver [/home/szogabaha/.wdm/drivers/chromedriver/linux64/96.0.4664.45/chromedriver] found in cache\n"
     ]
    },
    {
     "name": "stdout",
     "output_type": "stream",
     "text": [
      "/Xam done (22 features)\n"
     ]
    },
    {
     "name": "stderr",
     "output_type": "stream",
     "text": [
      "\n",
      "\n",
      "====== WebDriver manager ======\n",
      "Current google-chrome version is 96.0.4664\n",
      "Get LATEST chromedriver version for 96.0.4664 google-chrome\n",
      "Driver [/home/szogabaha/.wdm/drivers/chromedriver/linux64/96.0.4664.45/chromedriver] found in cache\n"
     ]
    },
    {
     "name": "stdout",
     "output_type": "stream",
     "text": [
      "Xârâcùù done (32 features)\n"
     ]
    },
    {
     "name": "stderr",
     "output_type": "stream",
     "text": [
      "\n",
      "\n",
      "====== WebDriver manager ======\n",
      "Current google-chrome version is 96.0.4664\n",
      "Get LATEST chromedriver version for 96.0.4664 google-chrome\n",
      "Driver [/home/szogabaha/.wdm/drivers/chromedriver/linux64/96.0.4664.45/chromedriver] found in cache\n"
     ]
    },
    {
     "name": "stdout",
     "output_type": "stream",
     "text": [
      "Xasonga done (24 features)\n"
     ]
    },
    {
     "name": "stderr",
     "output_type": "stream",
     "text": [
      "\n",
      "\n",
      "====== WebDriver manager ======\n",
      "Current google-chrome version is 96.0.4664\n",
      "Get LATEST chromedriver version for 96.0.4664 google-chrome\n",
      "Driver [/home/szogabaha/.wdm/drivers/chromedriver/linux64/96.0.4664.45/chromedriver] found in cache\n"
     ]
    },
    {
     "name": "stdout",
     "output_type": "stream",
     "text": [
      "Xavánte done (18 features)\n"
     ]
    },
    {
     "name": "stderr",
     "output_type": "stream",
     "text": [
      "\n",
      "\n",
      "====== WebDriver manager ======\n",
      "Current google-chrome version is 96.0.4664\n",
      "Get LATEST chromedriver version for 96.0.4664 google-chrome\n",
      "Driver [/home/szogabaha/.wdm/drivers/chromedriver/linux64/96.0.4664.45/chromedriver] found in cache\n"
     ]
    },
    {
     "name": "stdout",
     "output_type": "stream",
     "text": [
      "Xerénte done (11 features)\n"
     ]
    },
    {
     "name": "stderr",
     "output_type": "stream",
     "text": [
      "\n",
      "\n",
      "====== WebDriver manager ======\n",
      "Current google-chrome version is 96.0.4664\n",
      "Get LATEST chromedriver version for 96.0.4664 google-chrome\n",
      "Driver [/home/szogabaha/.wdm/drivers/chromedriver/linux64/96.0.4664.45/chromedriver] found in cache\n"
     ]
    },
    {
     "name": "stdout",
     "output_type": "stream",
     "text": [
      "Xhosa done (36 features)\n"
     ]
    },
    {
     "name": "stderr",
     "output_type": "stream",
     "text": [
      "\n",
      "\n",
      "====== WebDriver manager ======\n",
      "Current google-chrome version is 96.0.4664\n",
      "Get LATEST chromedriver version for 96.0.4664 google-chrome\n",
      "Driver [/home/szogabaha/.wdm/drivers/chromedriver/linux64/96.0.4664.45/chromedriver] found in cache\n"
     ]
    },
    {
     "name": "stdout",
     "output_type": "stream",
     "text": [
      "Xiriana done (1 features)\n"
     ]
    },
    {
     "name": "stderr",
     "output_type": "stream",
     "text": [
      "\n",
      "\n",
      "====== WebDriver manager ======\n",
      "Current google-chrome version is 96.0.4664\n",
      "Get LATEST chromedriver version for 96.0.4664 google-chrome\n",
      "Driver [/home/szogabaha/.wdm/drivers/chromedriver/linux64/96.0.4664.45/chromedriver] found in cache\n"
     ]
    },
    {
     "name": "stdout",
     "output_type": "stream",
     "text": [
      "Xokleng done (18 features)\n"
     ]
    },
    {
     "name": "stderr",
     "output_type": "stream",
     "text": [
      "\n",
      "\n",
      "====== WebDriver manager ======\n",
      "Current google-chrome version is 96.0.4664\n",
      "Get LATEST chromedriver version for 96.0.4664 google-chrome\n",
      "Driver [/home/szogabaha/.wdm/drivers/chromedriver/linux64/96.0.4664.45/chromedriver] found in cache\n"
     ]
    },
    {
     "name": "stdout",
     "output_type": "stream",
     "text": [
      "!Xóõ done (34 features)\n"
     ]
    },
    {
     "name": "stderr",
     "output_type": "stream",
     "text": [
      "\n",
      "\n",
      "====== WebDriver manager ======\n",
      "Current google-chrome version is 96.0.4664\n",
      "Get LATEST chromedriver version for 96.0.4664 google-chrome\n",
      "Driver [/home/szogabaha/.wdm/drivers/chromedriver/linux64/96.0.4664.45/chromedriver] found in cache\n"
     ]
    },
    {
     "name": "stdout",
     "output_type": "stream",
     "text": [
      "!Xun (Ekoka) done (4 features)\n"
     ]
    },
    {
     "name": "stderr",
     "output_type": "stream",
     "text": [
      "\n",
      "\n",
      "====== WebDriver manager ======\n",
      "Current google-chrome version is 96.0.4664\n",
      "Get LATEST chromedriver version for 96.0.4664 google-chrome\n",
      "Driver [/home/szogabaha/.wdm/drivers/chromedriver/linux64/96.0.4664.45/chromedriver] found in cache\n"
     ]
    },
    {
     "name": "stdout",
     "output_type": "stream",
     "text": [
      "Yagaria done (63 features)\n"
     ]
    },
    {
     "name": "stderr",
     "output_type": "stream",
     "text": [
      "\n",
      "\n",
      "====== WebDriver manager ======\n",
      "Current google-chrome version is 96.0.4664\n",
      "Get LATEST chromedriver version for 96.0.4664 google-chrome\n",
      "Driver [/home/szogabaha/.wdm/drivers/chromedriver/linux64/96.0.4664.45/chromedriver] found in cache\n"
     ]
    },
    {
     "name": "stdout",
     "output_type": "stream",
     "text": [
      "Yaghnobi done (1 features)\n"
     ]
    },
    {
     "name": "stderr",
     "output_type": "stream",
     "text": [
      "\n",
      "\n",
      "====== WebDriver manager ======\n",
      "Current google-chrome version is 96.0.4664\n",
      "Get LATEST chromedriver version for 96.0.4664 google-chrome\n",
      "Driver [/home/szogabaha/.wdm/drivers/chromedriver/linux64/96.0.4664.45/chromedriver] found in cache\n"
     ]
    },
    {
     "name": "stdout",
     "output_type": "stream",
     "text": [
      "Yagua done (127 features)\n"
     ]
    },
    {
     "name": "stderr",
     "output_type": "stream",
     "text": [
      "\n",
      "\n",
      "====== WebDriver manager ======\n",
      "Current google-chrome version is 96.0.4664\n",
      "Get LATEST chromedriver version for 96.0.4664 google-chrome\n",
      "Driver [/home/szogabaha/.wdm/drivers/chromedriver/linux64/96.0.4664.45/chromedriver] found in cache\n"
     ]
    },
    {
     "name": "stdout",
     "output_type": "stream",
     "text": [
      "Yahgan done (16 features)\n"
     ]
    },
    {
     "name": "stderr",
     "output_type": "stream",
     "text": [
      "\n",
      "\n",
      "====== WebDriver manager ======\n",
      "Current google-chrome version is 96.0.4664\n",
      "Get LATEST chromedriver version for 96.0.4664 google-chrome\n",
      "Driver [/home/szogabaha/.wdm/drivers/chromedriver/linux64/96.0.4664.45/chromedriver] found in cache\n"
     ]
    },
    {
     "name": "stdout",
     "output_type": "stream",
     "text": [
      "Yaka done (2 features)\n"
     ]
    },
    {
     "name": "stderr",
     "output_type": "stream",
     "text": [
      "\n",
      "\n",
      "====== WebDriver manager ======\n",
      "Current google-chrome version is 96.0.4664\n",
      "Get LATEST chromedriver version for 96.0.4664 google-chrome\n",
      "Driver [/home/szogabaha/.wdm/drivers/chromedriver/linux64/96.0.4664.45/chromedriver] found in cache\n"
     ]
    },
    {
     "name": "stdout",
     "output_type": "stream",
     "text": [
      "Yakan done (4 features)\n"
     ]
    },
    {
     "name": "stderr",
     "output_type": "stream",
     "text": [
      "\n",
      "\n",
      "====== WebDriver manager ======\n",
      "Current google-chrome version is 96.0.4664\n",
      "Get LATEST chromedriver version for 96.0.4664 google-chrome\n",
      "Driver [/home/szogabaha/.wdm/drivers/chromedriver/linux64/96.0.4664.45/chromedriver] found in cache\n"
     ]
    },
    {
     "name": "stdout",
     "output_type": "stream",
     "text": [
      "Yakoma done (3 features)\n"
     ]
    },
    {
     "name": "stderr",
     "output_type": "stream",
     "text": [
      "\n",
      "\n",
      "====== WebDriver manager ======\n",
      "Current google-chrome version is 96.0.4664\n",
      "Get LATEST chromedriver version for 96.0.4664 google-chrome\n",
      "Driver [/home/szogabaha/.wdm/drivers/chromedriver/linux64/96.0.4664.45/chromedriver] found in cache\n"
     ]
    },
    {
     "name": "stdout",
     "output_type": "stream",
     "text": [
      "Yakut done (64 features)\n"
     ]
    },
    {
     "name": "stderr",
     "output_type": "stream",
     "text": [
      "\n",
      "\n",
      "====== WebDriver manager ======\n",
      "Current google-chrome version is 96.0.4664\n",
      "Get LATEST chromedriver version for 96.0.4664 google-chrome\n",
      "Driver [/home/szogabaha/.wdm/drivers/chromedriver/linux64/96.0.4664.45/chromedriver] found in cache\n"
     ]
    },
    {
     "name": "stdout",
     "output_type": "stream",
     "text": [
      "Yalarnnga done (1 features)\n"
     ]
    },
    {
     "name": "stderr",
     "output_type": "stream",
     "text": [
      "\n",
      "\n",
      "====== WebDriver manager ======\n",
      "Current google-chrome version is 96.0.4664\n",
      "Get LATEST chromedriver version for 96.0.4664 google-chrome\n",
      "Driver [/home/szogabaha/.wdm/drivers/chromedriver/linux64/96.0.4664.45/chromedriver] found in cache\n"
     ]
    },
    {
     "name": "stdout",
     "output_type": "stream",
     "text": [
      "Yale (Kosarek) done (20 features)\n"
     ]
    },
    {
     "name": "stderr",
     "output_type": "stream",
     "text": [
      "\n",
      "\n",
      "====== WebDriver manager ======\n",
      "Current google-chrome version is 96.0.4664\n",
      "Get LATEST chromedriver version for 96.0.4664 google-chrome\n",
      "Driver [/home/szogabaha/.wdm/drivers/chromedriver/linux64/96.0.4664.45/chromedriver] found in cache\n"
     ]
    },
    {
     "name": "stdout",
     "output_type": "stream",
     "text": [
      "Yali done (7 features)\n"
     ]
    },
    {
     "name": "stderr",
     "output_type": "stream",
     "text": [
      "\n",
      "\n",
      "====== WebDriver manager ======\n",
      "Current google-chrome version is 96.0.4664\n",
      "Get LATEST chromedriver version for 96.0.4664 google-chrome\n",
      "Driver [/home/szogabaha/.wdm/drivers/chromedriver/linux64/96.0.4664.45/chromedriver] found in cache\n"
     ]
    },
    {
     "name": "stdout",
     "output_type": "stream",
     "text": [
      "Yamba done (1 features)\n"
     ]
    },
    {
     "name": "stderr",
     "output_type": "stream",
     "text": [
      "\n",
      "\n",
      "====== WebDriver manager ======\n",
      "Current google-chrome version is 96.0.4664\n",
      "Get LATEST chromedriver version for 96.0.4664 google-chrome\n",
      "Driver [/home/szogabaha/.wdm/drivers/chromedriver/linux64/96.0.4664.45/chromedriver] found in cache\n"
     ]
    },
    {
     "name": "stdout",
     "output_type": "stream",
     "text": [
      "Yamdena done (5 features)\n"
     ]
    },
    {
     "name": "stderr",
     "output_type": "stream",
     "text": [
      "\n",
      "\n",
      "====== WebDriver manager ======\n",
      "Current google-chrome version is 96.0.4664\n",
      "Get LATEST chromedriver version for 96.0.4664 google-chrome\n",
      "Driver [/home/szogabaha/.wdm/drivers/chromedriver/linux64/96.0.4664.45/chromedriver] found in cache\n"
     ]
    },
    {
     "name": "stdout",
     "output_type": "stream",
     "text": [
      "Yami done (2 features)\n"
     ]
    },
    {
     "name": "stderr",
     "output_type": "stream",
     "text": [
      "\n",
      "\n",
      "====== WebDriver manager ======\n",
      "Current google-chrome version is 96.0.4664\n",
      "Get LATEST chromedriver version for 96.0.4664 google-chrome\n",
      "Driver [/home/szogabaha/.wdm/drivers/chromedriver/linux64/96.0.4664.45/chromedriver] found in cache\n"
     ]
    },
    {
     "name": "stdout",
     "output_type": "stream",
     "text": [
      "Yaminahua done (24 features)\n"
     ]
    },
    {
     "name": "stderr",
     "output_type": "stream",
     "text": [
      "\n",
      "\n",
      "====== WebDriver manager ======\n",
      "Current google-chrome version is 96.0.4664\n",
      "Get LATEST chromedriver version for 96.0.4664 google-chrome\n",
      "Driver [/home/szogabaha/.wdm/drivers/chromedriver/linux64/96.0.4664.45/chromedriver] found in cache\n"
     ]
    },
    {
     "name": "stdout",
     "output_type": "stream",
     "text": [
      "Yamphu done (13 features)\n"
     ]
    },
    {
     "name": "stderr",
     "output_type": "stream",
     "text": [
      "\n",
      "\n",
      "====== WebDriver manager ======\n",
      "Current google-chrome version is 96.0.4664\n",
      "Get LATEST chromedriver version for 96.0.4664 google-chrome\n",
      "Driver [/home/szogabaha/.wdm/drivers/chromedriver/linux64/96.0.4664.45/chromedriver] found in cache\n"
     ]
    },
    {
     "name": "stdout",
     "output_type": "stream",
     "text": [
      "Yana done (20 features)\n"
     ]
    },
    {
     "name": "stderr",
     "output_type": "stream",
     "text": [
      "\n",
      "\n",
      "====== WebDriver manager ======\n",
      "Current google-chrome version is 96.0.4664\n",
      "Get LATEST chromedriver version for 96.0.4664 google-chrome\n",
      "Driver [/home/szogabaha/.wdm/drivers/chromedriver/linux64/96.0.4664.45/chromedriver] found in cache\n"
     ]
    },
    {
     "name": "stdout",
     "output_type": "stream",
     "text": [
      "Yankuntjatjara done (8 features)\n"
     ]
    },
    {
     "name": "stderr",
     "output_type": "stream",
     "text": [
      "\n",
      "\n",
      "====== WebDriver manager ======\n",
      "Current google-chrome version is 96.0.4664\n",
      "Get LATEST chromedriver version for 96.0.4664 google-chrome\n",
      "Driver [/home/szogabaha/.wdm/drivers/chromedriver/linux64/96.0.4664.45/chromedriver] found in cache\n"
     ]
    },
    {
     "name": "stdout",
     "output_type": "stream",
     "text": [
      "Yanomámi done (1 features)\n"
     ]
    },
    {
     "name": "stderr",
     "output_type": "stream",
     "text": [
      "\n",
      "\n",
      "====== WebDriver manager ======\n",
      "Current google-chrome version is 96.0.4664\n",
      "Get LATEST chromedriver version for 96.0.4664 google-chrome\n"
     ]
    },
    {
     "name": "stdout",
     "output_type": "stream",
     "text": [
      "Yansi done (5 features)\n"
     ]
    },
    {
     "name": "stderr",
     "output_type": "stream",
     "text": [
      "Driver [/home/szogabaha/.wdm/drivers/chromedriver/linux64/96.0.4664.45/chromedriver] found in cache\n",
      "\n",
      "\n",
      "====== WebDriver manager ======\n",
      "Current google-chrome version is 96.0.4664\n",
      "Get LATEST chromedriver version for 96.0.4664 google-chrome\n",
      "Driver [/home/szogabaha/.wdm/drivers/chromedriver/linux64/96.0.4664.45/chromedriver] found in cache\n"
     ]
    },
    {
     "name": "stdout",
     "output_type": "stream",
     "text": [
      "Yanyuwa done (27 features)\n"
     ]
    },
    {
     "name": "stderr",
     "output_type": "stream",
     "text": [
      "\n",
      "\n",
      "====== WebDriver manager ======\n",
      "Current google-chrome version is 96.0.4664\n",
      "Get LATEST chromedriver version for 96.0.4664 google-chrome\n",
      "Driver [/home/szogabaha/.wdm/drivers/chromedriver/linux64/96.0.4664.45/chromedriver] found in cache\n"
     ]
    },
    {
     "name": "stdout",
     "output_type": "stream",
     "text": [
      "Yao (in Malawi) done (19 features)\n"
     ]
    },
    {
     "name": "stderr",
     "output_type": "stream",
     "text": [
      "\n",
      "\n",
      "====== WebDriver manager ======\n",
      "Current google-chrome version is 96.0.4664\n",
      "Get LATEST chromedriver version for 96.0.4664 google-chrome\n",
      "Driver [/home/szogabaha/.wdm/drivers/chromedriver/linux64/96.0.4664.45/chromedriver] found in cache\n"
     ]
    },
    {
     "name": "stdout",
     "output_type": "stream",
     "text": [
      "Yapese done (69 features)\n"
     ]
    },
    {
     "name": "stderr",
     "output_type": "stream",
     "text": [
      "\n",
      "\n",
      "====== WebDriver manager ======\n",
      "Current google-chrome version is 96.0.4664\n",
      "Get LATEST chromedriver version for 96.0.4664 google-chrome\n",
      "Driver [/home/szogabaha/.wdm/drivers/chromedriver/linux64/96.0.4664.45/chromedriver] found in cache\n"
     ]
    },
    {
     "name": "stdout",
     "output_type": "stream",
     "text": [
      "Yaqay done (23 features)\n"
     ]
    },
    {
     "name": "stderr",
     "output_type": "stream",
     "text": [
      "\n",
      "\n",
      "====== WebDriver manager ======\n",
      "Current google-chrome version is 96.0.4664\n",
      "Get LATEST chromedriver version for 96.0.4664 google-chrome\n",
      "Driver [/home/szogabaha/.wdm/drivers/chromedriver/linux64/96.0.4664.45/chromedriver] found in cache\n"
     ]
    },
    {
     "name": "stdout",
     "output_type": "stream",
     "text": [
      "Yaqui done (141 features)\n"
     ]
    },
    {
     "name": "stderr",
     "output_type": "stream",
     "text": [
      "\n",
      "\n",
      "====== WebDriver manager ======\n",
      "Current google-chrome version is 96.0.4664\n",
      "Get LATEST chromedriver version for 96.0.4664 google-chrome\n",
      "Driver [/home/szogabaha/.wdm/drivers/chromedriver/linux64/96.0.4664.45/chromedriver] found in cache\n"
     ]
    },
    {
     "name": "stdout",
     "output_type": "stream",
     "text": [
      "Yareba done (50 features)\n"
     ]
    },
    {
     "name": "stderr",
     "output_type": "stream",
     "text": [
      "\n",
      "\n",
      "====== WebDriver manager ======\n",
      "Current google-chrome version is 96.0.4664\n",
      "Get LATEST chromedriver version for 96.0.4664 google-chrome\n",
      "Driver [/home/szogabaha/.wdm/drivers/chromedriver/linux64/96.0.4664.45/chromedriver] found in cache\n"
     ]
    },
    {
     "name": "stdout",
     "output_type": "stream",
     "text": [
      "Yaruro done (7 features)\n"
     ]
    },
    {
     "name": "stderr",
     "output_type": "stream",
     "text": [
      "\n",
      "\n",
      "====== WebDriver manager ======\n",
      "Current google-chrome version is 96.0.4664\n",
      "Get LATEST chromedriver version for 96.0.4664 google-chrome\n",
      "Driver [/home/szogabaha/.wdm/drivers/chromedriver/linux64/96.0.4664.45/chromedriver] found in cache\n"
     ]
    },
    {
     "name": "stdout",
     "output_type": "stream",
     "text": [
      "Yavapai done (8 features)\n"
     ]
    },
    {
     "name": "stderr",
     "output_type": "stream",
     "text": [
      "\n",
      "\n",
      "====== WebDriver manager ======\n",
      "Current google-chrome version is 96.0.4664\n",
      "Get LATEST chromedriver version for 96.0.4664 google-chrome\n",
      "Driver [/home/szogabaha/.wdm/drivers/chromedriver/linux64/96.0.4664.45/chromedriver] found in cache\n"
     ]
    },
    {
     "name": "stdout",
     "output_type": "stream",
     "text": [
      "Yawa done (19 features)\n"
     ]
    },
    {
     "name": "stderr",
     "output_type": "stream",
     "text": [
      "\n",
      "\n",
      "====== WebDriver manager ======\n",
      "Current google-chrome version is 96.0.4664\n",
      "Get LATEST chromedriver version for 96.0.4664 google-chrome\n",
      "Driver [/home/szogabaha/.wdm/drivers/chromedriver/linux64/96.0.4664.45/chromedriver] found in cache\n"
     ]
    },
    {
     "name": "stdout",
     "output_type": "stream",
     "text": [
      "Yawelmani done (34 features)\n"
     ]
    },
    {
     "name": "stderr",
     "output_type": "stream",
     "text": [
      "\n",
      "\n",
      "====== WebDriver manager ======\n",
      "Current google-chrome version is 96.0.4664\n",
      "Get LATEST chromedriver version for 96.0.4664 google-chrome\n",
      "Driver [/home/szogabaha/.wdm/drivers/chromedriver/linux64/96.0.4664.45/chromedriver] found in cache\n"
     ]
    },
    {
     "name": "stdout",
     "output_type": "stream",
     "text": [
      "Yawuru done (19 features)\n"
     ]
    },
    {
     "name": "stderr",
     "output_type": "stream",
     "text": [
      "\n",
      "\n",
      "====== WebDriver manager ======\n",
      "Current google-chrome version is 96.0.4664\n",
      "Get LATEST chromedriver version for 96.0.4664 google-chrome\n",
      "Driver [/home/szogabaha/.wdm/drivers/chromedriver/linux64/96.0.4664.45/chromedriver] found in cache\n"
     ]
    },
    {
     "name": "stdout",
     "output_type": "stream",
     "text": [
      "Yay done (25 features)\n"
     ]
    },
    {
     "name": "stderr",
     "output_type": "stream",
     "text": [
      "\n",
      "\n",
      "====== WebDriver manager ======\n",
      "Current google-chrome version is 96.0.4664\n",
      "Get LATEST chromedriver version for 96.0.4664 google-chrome\n",
      "Driver [/home/szogabaha/.wdm/drivers/chromedriver/linux64/96.0.4664.45/chromedriver] found in cache\n"
     ]
    },
    {
     "name": "stdout",
     "output_type": "stream",
     "text": [
      "Yaygir done (7 features)\n"
     ]
    },
    {
     "name": "stderr",
     "output_type": "stream",
     "text": [
      "\n",
      "\n",
      "====== WebDriver manager ======\n",
      "Current google-chrome version is 96.0.4664\n",
      "Get LATEST chromedriver version for 96.0.4664 google-chrome\n",
      "Driver [/home/szogabaha/.wdm/drivers/chromedriver/linux64/96.0.4664.45/chromedriver] found in cache\n"
     ]
    },
    {
     "name": "stdout",
     "output_type": "stream",
     "text": [
      "Yazgulyam done (7 features)\n"
     ]
    },
    {
     "name": "stderr",
     "output_type": "stream",
     "text": [
      "\n",
      "\n",
      "====== WebDriver manager ======\n",
      "Current google-chrome version is 96.0.4664\n",
      "Get LATEST chromedriver version for 96.0.4664 google-chrome\n",
      "Driver [/home/szogabaha/.wdm/drivers/chromedriver/linux64/96.0.4664.45/chromedriver] found in cache\n"
     ]
    },
    {
     "name": "stdout",
     "output_type": "stream",
     "text": [
      "Yazva done (4 features)\n"
     ]
    },
    {
     "name": "stderr",
     "output_type": "stream",
     "text": [
      "\n",
      "\n",
      "====== WebDriver manager ======\n",
      "Current google-chrome version is 96.0.4664\n",
      "Get LATEST chromedriver version for 96.0.4664 google-chrome\n",
      "Driver [/home/szogabaha/.wdm/drivers/chromedriver/linux64/96.0.4664.45/chromedriver] found in cache\n"
     ]
    },
    {
     "name": "stdout",
     "output_type": "stream",
     "text": [
      "Yei done (16 features)\n"
     ]
    },
    {
     "name": "stderr",
     "output_type": "stream",
     "text": [
      "\n",
      "\n",
      "====== WebDriver manager ======\n",
      "Current google-chrome version is 96.0.4664\n",
      "Get LATEST chromedriver version for 96.0.4664 google-chrome\n",
      "Driver [/home/szogabaha/.wdm/drivers/chromedriver/linux64/96.0.4664.45/chromedriver] found in cache\n"
     ]
    },
    {
     "name": "stdout",
     "output_type": "stream",
     "text": [
      "Yelî Dnye done (44 features)\n"
     ]
    },
    {
     "name": "stderr",
     "output_type": "stream",
     "text": [
      "\n",
      "\n",
      "====== WebDriver manager ======\n",
      "Current google-chrome version is 96.0.4664\n",
      "Get LATEST chromedriver version for 96.0.4664 google-chrome\n",
      "Driver [/home/szogabaha/.wdm/drivers/chromedriver/linux64/96.0.4664.45/chromedriver] found in cache\n"
     ]
    },
    {
     "name": "stdout",
     "output_type": "stream",
     "text": [
      "Yelmek done (16 features)\n"
     ]
    },
    {
     "name": "stderr",
     "output_type": "stream",
     "text": [
      "\n",
      "\n",
      "====== WebDriver manager ======\n",
      "Current google-chrome version is 96.0.4664\n",
      "Get LATEST chromedriver version for 96.0.4664 google-chrome\n",
      "Driver [/home/szogabaha/.wdm/drivers/chromedriver/linux64/96.0.4664.45/chromedriver] found in cache\n"
     ]
    },
    {
     "name": "stdout",
     "output_type": "stream",
     "text": [
      "Yemba done (2 features)\n"
     ]
    },
    {
     "name": "stderr",
     "output_type": "stream",
     "text": [
      "\n",
      "\n",
      "====== WebDriver manager ======\n",
      "Current google-chrome version is 96.0.4664\n",
      "Get LATEST chromedriver version for 96.0.4664 google-chrome\n",
      "Driver [/home/szogabaha/.wdm/drivers/chromedriver/linux64/96.0.4664.45/chromedriver] found in cache\n"
     ]
    },
    {
     "name": "stdout",
     "output_type": "stream",
     "text": [
      "Yemsa done (2 features)\n"
     ]
    },
    {
     "name": "stderr",
     "output_type": "stream",
     "text": [
      "\n",
      "\n",
      "====== WebDriver manager ======\n",
      "Current google-chrome version is 96.0.4664\n",
      "Get LATEST chromedriver version for 96.0.4664 google-chrome\n",
      "Driver [/home/szogabaha/.wdm/drivers/chromedriver/linux64/96.0.4664.45/chromedriver] found in cache\n"
     ]
    },
    {
     "name": "stdout",
     "output_type": "stream",
     "text": [
      "Yessan-Mayo done (34 features)\n"
     ]
    },
    {
     "name": "stderr",
     "output_type": "stream",
     "text": [
      "\n",
      "\n",
      "====== WebDriver manager ======\n",
      "Current google-chrome version is 96.0.4664\n",
      "Get LATEST chromedriver version for 96.0.4664 google-chrome\n",
      "Driver [/home/szogabaha/.wdm/drivers/chromedriver/linux64/96.0.4664.45/chromedriver] found in cache\n"
     ]
    },
    {
     "name": "stdout",
     "output_type": "stream",
     "text": [
      "Yeyi done (15 features)\n"
     ]
    },
    {
     "name": "stderr",
     "output_type": "stream",
     "text": [
      "\n",
      "\n",
      "====== WebDriver manager ======\n",
      "Current google-chrome version is 96.0.4664\n",
      "Get LATEST chromedriver version for 96.0.4664 google-chrome\n",
      "Driver [/home/szogabaha/.wdm/drivers/chromedriver/linux64/96.0.4664.45/chromedriver] found in cache\n"
     ]
    },
    {
     "name": "stdout",
     "output_type": "stream",
     "text": [
      "Yiddish done (2 features)\n"
     ]
    },
    {
     "name": "stderr",
     "output_type": "stream",
     "text": [
      "\n",
      "\n",
      "====== WebDriver manager ======\n",
      "Current google-chrome version is 96.0.4664\n",
      "Get LATEST chromedriver version for 96.0.4664 google-chrome\n",
      "Driver [/home/szogabaha/.wdm/drivers/chromedriver/linux64/96.0.4664.45/chromedriver] found in cache\n"
     ]
    },
    {
     "name": "stdout",
     "output_type": "stream",
     "text": [
      "Yiddish (Bessarabian) done (1 features)\n"
     ]
    },
    {
     "name": "stderr",
     "output_type": "stream",
     "text": [
      "\n",
      "\n",
      "====== WebDriver manager ======\n",
      "Current google-chrome version is 96.0.4664\n",
      "Get LATEST chromedriver version for 96.0.4664 google-chrome\n",
      "Driver [/home/szogabaha/.wdm/drivers/chromedriver/linux64/96.0.4664.45/chromedriver] found in cache\n"
     ]
    },
    {
     "name": "stdout",
     "output_type": "stream",
     "text": [
      "Yiddish (Lithuanian) done (1 features)\n"
     ]
    },
    {
     "name": "stderr",
     "output_type": "stream",
     "text": [
      "\n",
      "\n",
      "====== WebDriver manager ======\n",
      "Current google-chrome version is 96.0.4664\n",
      "Get LATEST chromedriver version for 96.0.4664 google-chrome\n",
      "Driver [/home/szogabaha/.wdm/drivers/chromedriver/linux64/96.0.4664.45/chromedriver] found in cache\n"
     ]
    },
    {
     "name": "stdout",
     "output_type": "stream",
     "text": [
      "Yiddish (Lodz) done (1 features)\n"
     ]
    },
    {
     "name": "stderr",
     "output_type": "stream",
     "text": [
      "\n",
      "\n",
      "====== WebDriver manager ======\n",
      "Current google-chrome version is 96.0.4664\n",
      "Get LATEST chromedriver version for 96.0.4664 google-chrome\n",
      "Driver [/home/szogabaha/.wdm/drivers/chromedriver/linux64/96.0.4664.45/chromedriver] found in cache\n"
     ]
    },
    {
     "name": "stdout",
     "output_type": "stream",
     "text": [
      "Yidiny done (115 features)\n"
     ]
    },
    {
     "name": "stderr",
     "output_type": "stream",
     "text": [
      "\n",
      "\n",
      "====== WebDriver manager ======\n",
      "Current google-chrome version is 96.0.4664\n",
      "Get LATEST chromedriver version for 96.0.4664 google-chrome\n",
      "Driver [/home/szogabaha/.wdm/drivers/chromedriver/linux64/96.0.4664.45/chromedriver] found in cache\n"
     ]
    },
    {
     "name": "stdout",
     "output_type": "stream",
     "text": [
      "Yil done (3 features)\n"
     ]
    },
    {
     "name": "stderr",
     "output_type": "stream",
     "text": [
      "\n",
      "\n",
      "====== WebDriver manager ======\n",
      "Current google-chrome version is 96.0.4664\n",
      "Get LATEST chromedriver version for 96.0.4664 google-chrome\n",
      "Driver [/home/szogabaha/.wdm/drivers/chromedriver/linux64/96.0.4664.45/chromedriver] found in cache\n"
     ]
    },
    {
     "name": "stdout",
     "output_type": "stream",
     "text": [
      "Yimas done (118 features)\n"
     ]
    },
    {
     "name": "stderr",
     "output_type": "stream",
     "text": [
      "\n",
      "\n",
      "====== WebDriver manager ======\n",
      "Current google-chrome version is 96.0.4664\n",
      "Get LATEST chromedriver version for 96.0.4664 google-chrome\n",
      "Driver [/home/szogabaha/.wdm/drivers/chromedriver/linux64/96.0.4664.45/chromedriver] found in cache\n"
     ]
    },
    {
     "name": "stdout",
     "output_type": "stream",
     "text": [
      "Yindjibarndi done (42 features)\n"
     ]
    },
    {
     "name": "stderr",
     "output_type": "stream",
     "text": [
      "\n",
      "\n",
      "====== WebDriver manager ======\n",
      "Current google-chrome version is 96.0.4664\n",
      "Get LATEST chromedriver version for 96.0.4664 google-chrome\n",
      "Driver [/home/szogabaha/.wdm/drivers/chromedriver/linux64/96.0.4664.45/chromedriver] found in cache\n"
     ]
    },
    {
     "name": "stdout",
     "output_type": "stream",
     "text": [
      "Yingkarta done (36 features)\n"
     ]
    },
    {
     "name": "stderr",
     "output_type": "stream",
     "text": [
      "\n",
      "\n",
      "====== WebDriver manager ======\n",
      "Current google-chrome version is 96.0.4664\n",
      "Get LATEST chromedriver version for 96.0.4664 google-chrome\n",
      "Driver [/home/szogabaha/.wdm/drivers/chromedriver/linux64/96.0.4664.45/chromedriver] found in cache\n"
     ]
    },
    {
     "name": "stdout",
     "output_type": "stream",
     "text": [
      "Yir Yoront done (12 features)\n"
     ]
    },
    {
     "name": "stderr",
     "output_type": "stream",
     "text": [
      "\n",
      "\n",
      "====== WebDriver manager ======\n",
      "Current google-chrome version is 96.0.4664\n",
      "Get LATEST chromedriver version for 96.0.4664 google-chrome\n",
      "Driver [/home/szogabaha/.wdm/drivers/chromedriver/linux64/96.0.4664.45/chromedriver] found in cache\n"
     ]
    },
    {
     "name": "stdout",
     "output_type": "stream",
     "text": [
      "Yi (Wuding-Luquan) done (14 features)\n"
     ]
    },
    {
     "name": "stderr",
     "output_type": "stream",
     "text": [
      "\n",
      "\n",
      "====== WebDriver manager ======\n",
      "Current google-chrome version is 96.0.4664\n",
      "Get LATEST chromedriver version for 96.0.4664 google-chrome\n",
      "Driver [/home/szogabaha/.wdm/drivers/chromedriver/linux64/96.0.4664.45/chromedriver] found in cache\n"
     ]
    },
    {
     "name": "stdout",
     "output_type": "stream",
     "text": [
      "Yokuts (Yaudanchi) done (31 features)\n"
     ]
    },
    {
     "name": "stderr",
     "output_type": "stream",
     "text": [
      "\n",
      "\n",
      "====== WebDriver manager ======\n",
      "Current google-chrome version is 96.0.4664\n",
      "Get LATEST chromedriver version for 96.0.4664 google-chrome\n",
      "Driver [/home/szogabaha/.wdm/drivers/chromedriver/linux64/96.0.4664.45/chromedriver] found in cache\n"
     ]
    },
    {
     "name": "stdout",
     "output_type": "stream",
     "text": [
      "Yorta Yorta done (2 features)\n"
     ]
    },
    {
     "name": "stderr",
     "output_type": "stream",
     "text": [
      "\n",
      "\n",
      "====== WebDriver manager ======\n",
      "Current google-chrome version is 96.0.4664\n",
      "Get LATEST chromedriver version for 96.0.4664 google-chrome\n",
      "Driver [/home/szogabaha/.wdm/drivers/chromedriver/linux64/96.0.4664.45/chromedriver] found in cache\n"
     ]
    },
    {
     "name": "stdout",
     "output_type": "stream",
     "text": [
      "Yoruba done (140 features)\n"
     ]
    },
    {
     "name": "stderr",
     "output_type": "stream",
     "text": [
      "\n",
      "\n",
      "====== WebDriver manager ======\n",
      "Current google-chrome version is 96.0.4664\n",
      "Get LATEST chromedriver version for 96.0.4664 google-chrome\n",
      "Driver [/home/szogabaha/.wdm/drivers/chromedriver/linux64/96.0.4664.45/chromedriver] found in cache\n"
     ]
    },
    {
     "name": "stdout",
     "output_type": "stream",
     "text": [
      "Yucatec done (23 features)\n"
     ]
    },
    {
     "name": "stderr",
     "output_type": "stream",
     "text": [
      "\n",
      "\n",
      "====== WebDriver manager ======\n",
      "Current google-chrome version is 96.0.4664\n",
      "Get LATEST chromedriver version for 96.0.4664 google-chrome\n",
      "Driver [/home/szogabaha/.wdm/drivers/chromedriver/linux64/96.0.4664.45/chromedriver] found in cache\n"
     ]
    },
    {
     "name": "stdout",
     "output_type": "stream",
     "text": [
      "Yuchi done (87 features)\n"
     ]
    },
    {
     "name": "stderr",
     "output_type": "stream",
     "text": [
      "\n",
      "\n",
      "====== WebDriver manager ======\n",
      "Current google-chrome version is 96.0.4664\n",
      "Get LATEST chromedriver version for 96.0.4664 google-chrome\n",
      "Driver [/home/szogabaha/.wdm/drivers/chromedriver/linux64/96.0.4664.45/chromedriver] found in cache\n"
     ]
    },
    {
     "name": "stdout",
     "output_type": "stream",
     "text": [
      "Yucuna done (31 features)\n"
     ]
    },
    {
     "name": "stderr",
     "output_type": "stream",
     "text": [
      "\n",
      "\n",
      "====== WebDriver manager ======\n",
      "Current google-chrome version is 96.0.4664\n",
      "Get LATEST chromedriver version for 96.0.4664 google-chrome\n",
      "Driver [/home/szogabaha/.wdm/drivers/chromedriver/linux64/96.0.4664.45/chromedriver] found in cache\n"
     ]
    },
    {
     "name": "stdout",
     "output_type": "stream",
     "text": [
      "Yugh done (1 features)\n"
     ]
    },
    {
     "name": "stderr",
     "output_type": "stream",
     "text": [
      "\n",
      "\n",
      "====== WebDriver manager ======\n",
      "Current google-chrome version is 96.0.4664\n",
      "Get LATEST chromedriver version for 96.0.4664 google-chrome\n",
      "Driver [/home/szogabaha/.wdm/drivers/chromedriver/linux64/96.0.4664.45/chromedriver] found in cache\n"
     ]
    },
    {
     "name": "stdout",
     "output_type": "stream",
     "text": [
      "Yukaghir (Kolyma) done (136 features)\n"
     ]
    },
    {
     "name": "stderr",
     "output_type": "stream",
     "text": [
      "\n",
      "\n",
      "====== WebDriver manager ======\n",
      "Current google-chrome version is 96.0.4664\n",
      "Get LATEST chromedriver version for 96.0.4664 google-chrome\n",
      "Driver [/home/szogabaha/.wdm/drivers/chromedriver/linux64/96.0.4664.45/chromedriver] found in cache\n"
     ]
    },
    {
     "name": "stdout",
     "output_type": "stream",
     "text": [
      "Yukaghir (Tundra) done (44 features)\n"
     ]
    },
    {
     "name": "stderr",
     "output_type": "stream",
     "text": [
      "\n",
      "\n",
      "====== WebDriver manager ======\n",
      "Current google-chrome version is 96.0.4664\n",
      "Get LATEST chromedriver version for 96.0.4664 google-chrome\n",
      "Driver [/home/szogabaha/.wdm/drivers/chromedriver/linux64/96.0.4664.45/chromedriver] found in cache\n"
     ]
    },
    {
     "name": "stdout",
     "output_type": "stream",
     "text": [
      "Yuki done (3 features)\n"
     ]
    },
    {
     "name": "stderr",
     "output_type": "stream",
     "text": [
      "\n",
      "\n",
      "====== WebDriver manager ======\n",
      "Current google-chrome version is 96.0.4664\n",
      "Get LATEST chromedriver version for 96.0.4664 google-chrome\n",
      "Driver [/home/szogabaha/.wdm/drivers/chromedriver/linux64/96.0.4664.45/chromedriver] found in cache\n"
     ]
    },
    {
     "name": "stdout",
     "output_type": "stream",
     "text": [
      "Yukpa done (5 features)\n"
     ]
    },
    {
     "name": "stderr",
     "output_type": "stream",
     "text": [
      "\n",
      "\n",
      "====== WebDriver manager ======\n",
      "Current google-chrome version is 96.0.4664\n",
      "Get LATEST chromedriver version for 96.0.4664 google-chrome\n",
      "Driver [/home/szogabaha/.wdm/drivers/chromedriver/linux64/96.0.4664.45/chromedriver] found in cache\n"
     ]
    },
    {
     "name": "stdout",
     "output_type": "stream",
     "text": [
      "Yukulta done (58 features)\n"
     ]
    },
    {
     "name": "stderr",
     "output_type": "stream",
     "text": [
      "\n",
      "\n",
      "====== WebDriver manager ======\n",
      "Current google-chrome version is 96.0.4664\n",
      "Get LATEST chromedriver version for 96.0.4664 google-chrome\n",
      "Driver [/home/szogabaha/.wdm/drivers/chromedriver/linux64/96.0.4664.45/chromedriver] found in cache\n"
     ]
    },
    {
     "name": "stdout",
     "output_type": "stream",
     "text": [
      "Yulparija done (5 features)\n"
     ]
    },
    {
     "name": "stderr",
     "output_type": "stream",
     "text": [
      "\n",
      "\n",
      "====== WebDriver manager ======\n",
      "Current google-chrome version is 96.0.4664\n",
      "Get LATEST chromedriver version for 96.0.4664 google-chrome\n",
      "Driver [/home/szogabaha/.wdm/drivers/chromedriver/linux64/96.0.4664.45/chromedriver] found in cache\n"
     ]
    },
    {
     "name": "stdout",
     "output_type": "stream",
     "text": [
      "Yulu done (45 features)\n"
     ]
    },
    {
     "name": "stderr",
     "output_type": "stream",
     "text": [
      "\n",
      "\n",
      "====== WebDriver manager ======\n",
      "Current google-chrome version is 96.0.4664\n",
      "Get LATEST chromedriver version for 96.0.4664 google-chrome\n",
      "Driver [/home/szogabaha/.wdm/drivers/chromedriver/linux64/96.0.4664.45/chromedriver] found in cache\n"
     ]
    },
    {
     "name": "stdout",
     "output_type": "stream",
     "text": [
      "Yup'ik (Central) done (83 features)\n"
     ]
    },
    {
     "name": "stderr",
     "output_type": "stream",
     "text": [
      "\n",
      "\n",
      "====== WebDriver manager ======\n",
      "Current google-chrome version is 96.0.4664\n",
      "Get LATEST chromedriver version for 96.0.4664 google-chrome\n",
      "Driver [/home/szogabaha/.wdm/drivers/chromedriver/linux64/96.0.4664.45/chromedriver] found in cache\n"
     ]
    },
    {
     "name": "stdout",
     "output_type": "stream",
     "text": [
      "Yup'ik (Chevak) done (4 features)\n"
     ]
    },
    {
     "name": "stderr",
     "output_type": "stream",
     "text": [
      "\n",
      "\n",
      "====== WebDriver manager ======\n",
      "Current google-chrome version is 96.0.4664\n",
      "Get LATEST chromedriver version for 96.0.4664 google-chrome\n",
      "Driver [/home/szogabaha/.wdm/drivers/chromedriver/linux64/96.0.4664.45/chromedriver] found in cache\n"
     ]
    },
    {
     "name": "stdout",
     "output_type": "stream",
     "text": [
      "Yupik (Naukan) done (5 features)\n"
     ]
    },
    {
     "name": "stderr",
     "output_type": "stream",
     "text": [
      "\n",
      "\n",
      "====== WebDriver manager ======\n",
      "Current google-chrome version is 96.0.4664\n",
      "Get LATEST chromedriver version for 96.0.4664 google-chrome\n",
      "Driver [/home/szogabaha/.wdm/drivers/chromedriver/linux64/96.0.4664.45/chromedriver] found in cache\n"
     ]
    },
    {
     "name": "stdout",
     "output_type": "stream",
     "text": [
      "Yup'ik (Norton Sound) done (4 features)\n"
     ]
    },
    {
     "name": "stderr",
     "output_type": "stream",
     "text": [
      "\n",
      "\n",
      "====== WebDriver manager ======\n",
      "Current google-chrome version is 96.0.4664\n",
      "Get LATEST chromedriver version for 96.0.4664 google-chrome\n",
      "Driver [/home/szogabaha/.wdm/drivers/chromedriver/linux64/96.0.4664.45/chromedriver] found in cache\n"
     ]
    },
    {
     "name": "stdout",
     "output_type": "stream",
     "text": [
      "Yupik (Siberian) done (32 features)\n"
     ]
    },
    {
     "name": "stderr",
     "output_type": "stream",
     "text": [
      "\n",
      "\n",
      "====== WebDriver manager ======\n",
      "Current google-chrome version is 96.0.4664\n",
      "Get LATEST chromedriver version for 96.0.4664 google-chrome\n",
      "Driver [/home/szogabaha/.wdm/drivers/chromedriver/linux64/96.0.4664.45/chromedriver] found in cache\n"
     ]
    },
    {
     "name": "stdout",
     "output_type": "stream",
     "text": [
      "Yupik (Sirenik) done (3 features)\n"
     ]
    },
    {
     "name": "stderr",
     "output_type": "stream",
     "text": [
      "\n",
      "\n",
      "====== WebDriver manager ======\n",
      "Current google-chrome version is 96.0.4664\n",
      "Get LATEST chromedriver version for 96.0.4664 google-chrome\n",
      "Driver [/home/szogabaha/.wdm/drivers/chromedriver/linux64/96.0.4664.45/chromedriver] found in cache\n"
     ]
    },
    {
     "name": "stdout",
     "output_type": "stream",
     "text": [
      "Yupik (St. Lawrence Island) done (4 features)\n"
     ]
    },
    {
     "name": "stderr",
     "output_type": "stream",
     "text": [
      "\n",
      "\n",
      "====== WebDriver manager ======\n",
      "Current google-chrome version is 96.0.4664\n",
      "Get LATEST chromedriver version for 96.0.4664 google-chrome\n",
      "Driver [/home/szogabaha/.wdm/drivers/chromedriver/linux64/96.0.4664.45/chromedriver] found in cache\n"
     ]
    },
    {
     "name": "stdout",
     "output_type": "stream",
     "text": [
      "Yuracare done (1 features)\n"
     ]
    },
    {
     "name": "stderr",
     "output_type": "stream",
     "text": [
      "\n",
      "\n",
      "====== WebDriver manager ======\n",
      "Current google-chrome version is 96.0.4664\n",
      "Get LATEST chromedriver version for 96.0.4664 google-chrome\n",
      "Driver [/home/szogabaha/.wdm/drivers/chromedriver/linux64/96.0.4664.45/chromedriver] found in cache\n"
     ]
    },
    {
     "name": "stdout",
     "output_type": "stream",
     "text": [
      "Yurimangí done (9 features)\n"
     ]
    },
    {
     "name": "stderr",
     "output_type": "stream",
     "text": [
      "\n",
      "\n",
      "====== WebDriver manager ======\n",
      "Current google-chrome version is 96.0.4664\n",
      "Get LATEST chromedriver version for 96.0.4664 google-chrome\n",
      "Driver [/home/szogabaha/.wdm/drivers/chromedriver/linux64/96.0.4664.45/chromedriver] found in cache\n"
     ]
    },
    {
     "name": "stdout",
     "output_type": "stream",
     "text": [
      "Yurok done (105 features)\n"
     ]
    },
    {
     "name": "stderr",
     "output_type": "stream",
     "text": [
      "\n",
      "\n",
      "====== WebDriver manager ======\n",
      "Current google-chrome version is 96.0.4664\n",
      "Get LATEST chromedriver version for 96.0.4664 google-chrome\n",
      "Driver [/home/szogabaha/.wdm/drivers/chromedriver/linux64/96.0.4664.45/chromedriver] found in cache\n"
     ]
    },
    {
     "name": "stdout",
     "output_type": "stream",
     "text": [
      "Yurt Tatar done (1 features)\n"
     ]
    },
    {
     "name": "stderr",
     "output_type": "stream",
     "text": [
      "\n",
      "\n",
      "====== WebDriver manager ======\n",
      "Current google-chrome version is 96.0.4664\n",
      "Get LATEST chromedriver version for 96.0.4664 google-chrome\n",
      "Driver [/home/szogabaha/.wdm/drivers/chromedriver/linux64/96.0.4664.45/chromedriver] found in cache\n"
     ]
    },
    {
     "name": "stdout",
     "output_type": "stream",
     "text": [
      "Yuruti done (2 features)\n"
     ]
    },
    {
     "name": "stderr",
     "output_type": "stream",
     "text": [
      "\n",
      "\n",
      "====== WebDriver manager ======\n",
      "Current google-chrome version is 96.0.4664\n",
      "Get LATEST chromedriver version for 96.0.4664 google-chrome\n",
      "Driver [/home/szogabaha/.wdm/drivers/chromedriver/linux64/96.0.4664.45/chromedriver] found in cache\n"
     ]
    },
    {
     "name": "stdout",
     "output_type": "stream",
     "text": [
      "Yuwaalaraay done (45 features)\n"
     ]
    },
    {
     "name": "stderr",
     "output_type": "stream",
     "text": [
      "\n",
      "\n",
      "====== WebDriver manager ======\n",
      "Current google-chrome version is 96.0.4664\n",
      "Get LATEST chromedriver version for 96.0.4664 google-chrome\n",
      "Driver [/home/szogabaha/.wdm/drivers/chromedriver/linux64/96.0.4664.45/chromedriver] found in cache\n"
     ]
    },
    {
     "name": "stdout",
     "output_type": "stream",
     "text": [
      "Zande done (55 features)\n"
     ]
    },
    {
     "name": "stderr",
     "output_type": "stream",
     "text": [
      "\n",
      "\n",
      "====== WebDriver manager ======\n",
      "Current google-chrome version is 96.0.4664\n",
      "Get LATEST chromedriver version for 96.0.4664 google-chrome\n",
      "Driver [/home/szogabaha/.wdm/drivers/chromedriver/linux64/96.0.4664.45/chromedriver] found in cache\n"
     ]
    },
    {
     "name": "stdout",
     "output_type": "stream",
     "text": [
      "Zaparo done (23 features)\n"
     ]
    },
    {
     "name": "stderr",
     "output_type": "stream",
     "text": [
      "\n",
      "\n",
      "====== WebDriver manager ======\n",
      "Current google-chrome version is 96.0.4664\n",
      "Get LATEST chromedriver version for 96.0.4664 google-chrome\n",
      "Driver [/home/szogabaha/.wdm/drivers/chromedriver/linux64/96.0.4664.45/chromedriver] found in cache\n"
     ]
    },
    {
     "name": "stdout",
     "output_type": "stream",
     "text": [
      "Zapotec (Isthmus) done (43 features)\n"
     ]
    },
    {
     "name": "stderr",
     "output_type": "stream",
     "text": [
      "\n",
      "\n",
      "====== WebDriver manager ======\n",
      "Current google-chrome version is 96.0.4664\n",
      "Get LATEST chromedriver version for 96.0.4664 google-chrome\n",
      "Driver [/home/szogabaha/.wdm/drivers/chromedriver/linux64/96.0.4664.45/chromedriver] found in cache\n"
     ]
    },
    {
     "name": "stdout",
     "output_type": "stream",
     "text": [
      "Zapotec (Ixtlan) done (1 features)\n"
     ]
    },
    {
     "name": "stderr",
     "output_type": "stream",
     "text": [
      "\n",
      "\n",
      "====== WebDriver manager ======\n",
      "Current google-chrome version is 96.0.4664\n",
      "Get LATEST chromedriver version for 96.0.4664 google-chrome\n",
      "Driver [/home/szogabaha/.wdm/drivers/chromedriver/linux64/96.0.4664.45/chromedriver] found in cache\n"
     ]
    },
    {
     "name": "stdout",
     "output_type": "stream",
     "text": [
      "Zapotec (Juárez) done (2 features)\n"
     ]
    },
    {
     "name": "stderr",
     "output_type": "stream",
     "text": [
      "\n",
      "\n",
      "====== WebDriver manager ======\n",
      "Current google-chrome version is 96.0.4664\n",
      "Get LATEST chromedriver version for 96.0.4664 google-chrome\n",
      "Driver [/home/szogabaha/.wdm/drivers/chromedriver/linux64/96.0.4664.45/chromedriver] found in cache\n"
     ]
    },
    {
     "name": "stdout",
     "output_type": "stream",
     "text": [
      "Zapotec (Mitla) done (35 features)\n"
     ]
    },
    {
     "name": "stderr",
     "output_type": "stream",
     "text": [
      "\n",
      "\n",
      "====== WebDriver manager ======\n",
      "Current google-chrome version is 96.0.4664\n",
      "Get LATEST chromedriver version for 96.0.4664 google-chrome\n",
      "Driver [/home/szogabaha/.wdm/drivers/chromedriver/linux64/96.0.4664.45/chromedriver] found in cache\n"
     ]
    },
    {
     "name": "stdout",
     "output_type": "stream",
     "text": [
      "Zapotec (Mixtepec) done (2 features)\n"
     ]
    },
    {
     "name": "stderr",
     "output_type": "stream",
     "text": [
      "\n",
      "\n",
      "====== WebDriver manager ======\n",
      "Current google-chrome version is 96.0.4664\n",
      "Get LATEST chromedriver version for 96.0.4664 google-chrome\n",
      "Driver [/home/szogabaha/.wdm/drivers/chromedriver/linux64/96.0.4664.45/chromedriver] found in cache\n"
     ]
    },
    {
     "name": "stdout",
     "output_type": "stream",
     "text": [
      "Zapotec (Quiegolani) done (5 features)\n"
     ]
    },
    {
     "name": "stderr",
     "output_type": "stream",
     "text": [
      "\n",
      "\n",
      "====== WebDriver manager ======\n",
      "Current google-chrome version is 96.0.4664\n",
      "Get LATEST chromedriver version for 96.0.4664 google-chrome\n",
      "Driver [/home/szogabaha/.wdm/drivers/chromedriver/linux64/96.0.4664.45/chromedriver] found in cache\n"
     ]
    },
    {
     "name": "stdout",
     "output_type": "stream",
     "text": [
      "Zapotec (San Lucas Quiaviní) done (7 features)\n"
     ]
    },
    {
     "name": "stderr",
     "output_type": "stream",
     "text": [
      "\n",
      "\n",
      "====== WebDriver manager ======\n",
      "Current google-chrome version is 96.0.4664\n",
      "Get LATEST chromedriver version for 96.0.4664 google-chrome\n",
      "Driver [/home/szogabaha/.wdm/drivers/chromedriver/linux64/96.0.4664.45/chromedriver] found in cache\n"
     ]
    },
    {
     "name": "stdout",
     "output_type": "stream",
     "text": [
      "Zapotec (Texmelucan) done (4 features)\n"
     ]
    },
    {
     "name": "stderr",
     "output_type": "stream",
     "text": [
      "\n",
      "\n",
      "====== WebDriver manager ======\n",
      "Current google-chrome version is 96.0.4664\n",
      "Get LATEST chromedriver version for 96.0.4664 google-chrome\n",
      "Driver [/home/szogabaha/.wdm/drivers/chromedriver/linux64/96.0.4664.45/chromedriver] found in cache\n"
     ]
    },
    {
     "name": "stdout",
     "output_type": "stream",
     "text": [
      "Zapotec (Yatzachi) done (20 features)\n"
     ]
    },
    {
     "name": "stderr",
     "output_type": "stream",
     "text": [
      "\n",
      "\n",
      "====== WebDriver manager ======\n",
      "Current google-chrome version is 96.0.4664\n",
      "Get LATEST chromedriver version for 96.0.4664 google-chrome\n",
      "Driver [/home/szogabaha/.wdm/drivers/chromedriver/linux64/96.0.4664.45/chromedriver] found in cache\n"
     ]
    },
    {
     "name": "stdout",
     "output_type": "stream",
     "text": [
      "Zapotec (Zoogocho) done (31 features)\n",
      "Zarma done (24 features)\n"
     ]
    },
    {
     "name": "stderr",
     "output_type": "stream",
     "text": [
      "\n",
      "\n",
      "====== WebDriver manager ======\n",
      "Current google-chrome version is 96.0.4664\n",
      "Get LATEST chromedriver version for 96.0.4664 google-chrome\n",
      "Driver [/home/szogabaha/.wdm/drivers/chromedriver/linux64/96.0.4664.45/chromedriver] found in cache\n",
      "\n",
      "\n",
      "====== WebDriver manager ======\n",
      "Current google-chrome version is 96.0.4664\n",
      "Get LATEST chromedriver version for 96.0.4664 google-chrome\n",
      "Driver [/home/szogabaha/.wdm/drivers/chromedriver/linux64/96.0.4664.45/chromedriver] found in cache\n"
     ]
    },
    {
     "name": "stdout",
     "output_type": "stream",
     "text": [
      "Zayse done (34 features)\n"
     ]
    },
    {
     "name": "stderr",
     "output_type": "stream",
     "text": [
      "\n",
      "\n",
      "====== WebDriver manager ======\n",
      "Current google-chrome version is 96.0.4664\n",
      "Get LATEST chromedriver version for 96.0.4664 google-chrome\n",
      "Driver [/home/szogabaha/.wdm/drivers/chromedriver/linux64/96.0.4664.45/chromedriver] found in cache\n"
     ]
    },
    {
     "name": "stdout",
     "output_type": "stream",
     "text": [
      "Zazaki done (36 features)\n"
     ]
    },
    {
     "name": "stderr",
     "output_type": "stream",
     "text": [
      "\n",
      "\n",
      "====== WebDriver manager ======\n",
      "Current google-chrome version is 96.0.4664\n",
      "Get LATEST chromedriver version for 96.0.4664 google-chrome\n",
      "Driver [/home/szogabaha/.wdm/drivers/chromedriver/linux64/96.0.4664.45/chromedriver] found in cache\n"
     ]
    },
    {
     "name": "stdout",
     "output_type": "stream",
     "text": [
      "Zenaga done (6 features)\n"
     ]
    },
    {
     "name": "stderr",
     "output_type": "stream",
     "text": [
      "\n",
      "\n",
      "====== WebDriver manager ======\n",
      "Current google-chrome version is 96.0.4664\n",
      "Get LATEST chromedriver version for 96.0.4664 google-chrome\n",
      "Driver [/home/szogabaha/.wdm/drivers/chromedriver/linux64/96.0.4664.45/chromedriver] found in cache\n"
     ]
    },
    {
     "name": "stdout",
     "output_type": "stream",
     "text": [
      "Zhuang (Northern) done (20 features)\n"
     ]
    },
    {
     "name": "stderr",
     "output_type": "stream",
     "text": [
      "\n",
      "\n",
      "====== WebDriver manager ======\n",
      "Current google-chrome version is 96.0.4664\n",
      "Get LATEST chromedriver version for 96.0.4664 google-chrome\n",
      "Driver [/home/szogabaha/.wdm/drivers/chromedriver/linux64/96.0.4664.45/chromedriver] found in cache\n"
     ]
    },
    {
     "name": "stdout",
     "output_type": "stream",
     "text": [
      "Zimakani done (4 features)\n"
     ]
    },
    {
     "name": "stderr",
     "output_type": "stream",
     "text": [
      "\n",
      "\n",
      "====== WebDriver manager ======\n",
      "Current google-chrome version is 96.0.4664\n",
      "Get LATEST chromedriver version for 96.0.4664 google-chrome\n",
      "Driver [/home/szogabaha/.wdm/drivers/chromedriver/linux64/96.0.4664.45/chromedriver] found in cache\n"
     ]
    },
    {
     "name": "stdout",
     "output_type": "stream",
     "text": [
      "Zoque (Chimalapa) done (35 features)\n"
     ]
    },
    {
     "name": "stderr",
     "output_type": "stream",
     "text": [
      "\n",
      "\n",
      "====== WebDriver manager ======\n",
      "Current google-chrome version is 96.0.4664\n",
      "Get LATEST chromedriver version for 96.0.4664 google-chrome\n",
      "Driver [/home/szogabaha/.wdm/drivers/chromedriver/linux64/96.0.4664.45/chromedriver] found in cache\n"
     ]
    },
    {
     "name": "stdout",
     "output_type": "stream",
     "text": [
      "Zoque (Copainalá) done (110 features)\n"
     ]
    },
    {
     "name": "stderr",
     "output_type": "stream",
     "text": [
      "\n",
      "\n",
      "====== WebDriver manager ======\n",
      "Current google-chrome version is 96.0.4664\n",
      "Get LATEST chromedriver version for 96.0.4664 google-chrome\n",
      "Driver [/home/szogabaha/.wdm/drivers/chromedriver/linux64/96.0.4664.45/chromedriver] found in cache\n"
     ]
    },
    {
     "name": "stdout",
     "output_type": "stream",
     "text": [
      "Zoque (Francisco León) done (2 features)\n"
     ]
    },
    {
     "name": "stderr",
     "output_type": "stream",
     "text": [
      "\n",
      "\n",
      "====== WebDriver manager ======\n",
      "Current google-chrome version is 96.0.4664\n",
      "Get LATEST chromedriver version for 96.0.4664 google-chrome\n",
      "Driver [/home/szogabaha/.wdm/drivers/chromedriver/linux64/96.0.4664.45/chromedriver] found in cache\n"
     ]
    },
    {
     "name": "stdout",
     "output_type": "stream",
     "text": [
      "Zoque (Ostuacan) done (19 features)\n"
     ]
    },
    {
     "name": "stderr",
     "output_type": "stream",
     "text": [
      "\n",
      "\n",
      "====== WebDriver manager ======\n",
      "Current google-chrome version is 96.0.4664\n",
      "Get LATEST chromedriver version for 96.0.4664 google-chrome\n",
      "Driver [/home/szogabaha/.wdm/drivers/chromedriver/linux64/96.0.4664.45/chromedriver] found in cache\n"
     ]
    },
    {
     "name": "stdout",
     "output_type": "stream",
     "text": [
      "Zoque (Rayon) done (1 features)\n"
     ]
    },
    {
     "name": "stderr",
     "output_type": "stream",
     "text": [
      "\n",
      "\n",
      "====== WebDriver manager ======\n",
      "Current google-chrome version is 96.0.4664\n",
      "Get LATEST chromedriver version for 96.0.4664 google-chrome\n",
      "Driver [/home/szogabaha/.wdm/drivers/chromedriver/linux64/96.0.4664.45/chromedriver] found in cache\n"
     ]
    },
    {
     "name": "stdout",
     "output_type": "stream",
     "text": [
      "Zulu done (142 features)\n"
     ]
    },
    {
     "name": "stderr",
     "output_type": "stream",
     "text": [
      "\n",
      "\n",
      "====== WebDriver manager ======\n",
      "Current google-chrome version is 96.0.4664\n",
      "Get LATEST chromedriver version for 96.0.4664 google-chrome\n",
      "Driver [/home/szogabaha/.wdm/drivers/chromedriver/linux64/96.0.4664.45/chromedriver] found in cache\n"
     ]
    },
    {
     "name": "stdout",
     "output_type": "stream",
     "text": [
      "Zulu (Northern) done (1 features)\n"
     ]
    },
    {
     "name": "stderr",
     "output_type": "stream",
     "text": [
      "\n",
      "\n",
      "====== WebDriver manager ======\n",
      "Current google-chrome version is 96.0.4664\n",
      "Get LATEST chromedriver version for 96.0.4664 google-chrome\n",
      "Driver [/home/szogabaha/.wdm/drivers/chromedriver/linux64/96.0.4664.45/chromedriver] found in cache\n"
     ]
    },
    {
     "name": "stdout",
     "output_type": "stream",
     "text": [
      "Zulu (Southern) done (1 features)\n",
      "Zuni done (89 features)\n"
     ]
    }
   ],
   "source": [
    "def get_value_from(i, cols):\n",
    "    col = cols[i]\n",
    "    if col is not None:\n",
    "        link = col.find('a')\n",
    "        if link is not None:\n",
    "            return link.text\n",
    "\n",
    "def scrape_language_features(url, language):\n",
    "    driver = webdriver.Chrome(ChromeDriverManager().install())\n",
    "    driver.get(url)\n",
    "    time.sleep(2)\n",
    "    source = driver.page_source\n",
    "    soup=BeautifulSoup(source)\n",
    "    table=soup.find('table', {'id':'Datapoints'})\n",
    "    rows=table.find_all('tr')\n",
    "\n",
    "\n",
    "    ids = []\n",
    "    features = []\n",
    "    values = []\n",
    "    areas = []\n",
    "    references = []\n",
    "\n",
    "    for row in rows:\n",
    "        if row is not None:\n",
    "            cols = row.find_all('td')\n",
    "            if cols is not None and len(cols) != 0:\n",
    "                ids.append(get_value_from(0, cols))\n",
    "                features.append(get_value_from(2, cols))\n",
    "                values.append(get_value_from(1, cols))\n",
    "                areas.append(cols[4].text)\n",
    "                references.append(get_value_from(3,cols))\n",
    "\n",
    "    data=pd.DataFrame({'ID': ids, 'Name': values, 'Parameter': features, 'Language':language, 'Frequency' : None, 'Confidence': None, 'References': references})\n",
    "    data = data.drop_duplicates()\n",
    "    data.to_csv(f'wals2/{language}.csv')\n",
    "    print(f\"{language} done ({len(features)} features)\")\n",
    "\n",
    "\n",
    "for link, language in zip(scrapable_pages['link'],scrapable_pages['language']):\n",
    "    scrape_language_features(link,language)"
   ]
  },
  {
   "cell_type": "code",
   "execution_count": 11,
   "metadata": {},
   "outputs": [
    {
     "data": {
      "text/html": [
       "<div>\n",
       "<style scoped>\n",
       "    .dataframe tbody tr th:only-of-type {\n",
       "        vertical-align: middle;\n",
       "    }\n",
       "\n",
       "    .dataframe tbody tr th {\n",
       "        vertical-align: top;\n",
       "    }\n",
       "\n",
       "    .dataframe thead th {\n",
       "        text-align: right;\n",
       "    }\n",
       "</style>\n",
       "<table border=\"1\" class=\"dataframe\">\n",
       "  <thead>\n",
       "    <tr style=\"text-align: right;\">\n",
       "      <th></th>\n",
       "      <th>language</th>\n",
       "      <th>link</th>\n",
       "    </tr>\n",
       "  </thead>\n",
       "  <tbody>\n",
       "    <tr>\n",
       "      <th>2063</th>\n",
       "      <td>Sangu</td>\n",
       "      <td>https://wals.info/languoid/lect/wals_code_sgu</td>\n",
       "    </tr>\n",
       "    <tr>\n",
       "      <th>2064</th>\n",
       "      <td>Santa</td>\n",
       "      <td>https://wals.info/languoid/lect/wals_code_sta</td>\n",
       "    </tr>\n",
       "    <tr>\n",
       "      <th>2065</th>\n",
       "      <td>Santali</td>\n",
       "      <td>https://wals.info/languoid/lect/wals_code_stl</td>\n",
       "    </tr>\n",
       "    <tr>\n",
       "      <th>2066</th>\n",
       "      <td>Sanuma</td>\n",
       "      <td>https://wals.info/languoid/lect/wals_code_snm</td>\n",
       "    </tr>\n",
       "    <tr>\n",
       "      <th>2067</th>\n",
       "      <td>Sapuan</td>\n",
       "      <td>https://wals.info/languoid/lect/wals_code_sap</td>\n",
       "    </tr>\n",
       "    <tr>\n",
       "      <th>...</th>\n",
       "      <td>...</td>\n",
       "      <td>...</td>\n",
       "    </tr>\n",
       "    <tr>\n",
       "      <th>2757</th>\n",
       "      <td>Zoque (Rayon)</td>\n",
       "      <td>https://wals.info/languoid/lect/wals_code_zqr</td>\n",
       "    </tr>\n",
       "    <tr>\n",
       "      <th>2758</th>\n",
       "      <td>Zulu</td>\n",
       "      <td>https://wals.info/languoid/lect/wals_code_zul</td>\n",
       "    </tr>\n",
       "    <tr>\n",
       "      <th>2759</th>\n",
       "      <td>Zulu (Northern)</td>\n",
       "      <td>https://wals.info/languoid/lect/wals_code_zno</td>\n",
       "    </tr>\n",
       "    <tr>\n",
       "      <th>2760</th>\n",
       "      <td>Zulu (Southern)</td>\n",
       "      <td>https://wals.info/languoid/lect/wals_code_zso</td>\n",
       "    </tr>\n",
       "    <tr>\n",
       "      <th>2761</th>\n",
       "      <td>Zuni</td>\n",
       "      <td>https://wals.info/languoid/lect/wals_code_zun</td>\n",
       "    </tr>\n",
       "  </tbody>\n",
       "</table>\n",
       "<p>599 rows × 2 columns</p>\n",
       "</div>"
      ],
      "text/plain": [
       "             language                                           link\n",
       "2063            Sangu  https://wals.info/languoid/lect/wals_code_sgu\n",
       "2064            Santa  https://wals.info/languoid/lect/wals_code_sta\n",
       "2065          Santali  https://wals.info/languoid/lect/wals_code_stl\n",
       "2066           Sanuma  https://wals.info/languoid/lect/wals_code_snm\n",
       "2067           Sapuan  https://wals.info/languoid/lect/wals_code_sap\n",
       "...               ...                                            ...\n",
       "2757    Zoque (Rayon)  https://wals.info/languoid/lect/wals_code_zqr\n",
       "2758             Zulu  https://wals.info/languoid/lect/wals_code_zul\n",
       "2759  Zulu (Northern)  https://wals.info/languoid/lect/wals_code_zno\n",
       "2760  Zulu (Southern)  https://wals.info/languoid/lect/wals_code_zso\n",
       "2761             Zuni  https://wals.info/languoid/lect/wals_code_zun\n",
       "\n",
       "[599 rows x 2 columns]"
      ]
     },
     "execution_count": 11,
     "metadata": {},
     "output_type": "execute_result"
    }
   ],
   "source": [
    "scrapable_pages.loc[scrapable_pages['language'] == 'Sango']\n",
    "scrapable_pages"
   ]
  },
  {
   "cell_type": "code",
   "execution_count": null,
   "metadata": {},
   "outputs": [],
   "source": [
    "scrape_language_features"
   ]
  },
  {
   "cell_type": "code",
   "execution_count": 35,
   "metadata": {},
   "outputs": [
    {
     "data": {
      "text/html": [
       "<div>\n",
       "<style scoped>\n",
       "    .dataframe tbody tr th:only-of-type {\n",
       "        vertical-align: middle;\n",
       "    }\n",
       "\n",
       "    .dataframe tbody tr th {\n",
       "        vertical-align: top;\n",
       "    }\n",
       "\n",
       "    .dataframe thead th {\n",
       "        text-align: right;\n",
       "    }\n",
       "</style>\n",
       "<table border=\"1\" class=\"dataframe\">\n",
       "  <thead>\n",
       "    <tr style=\"text-align: right;\">\n",
       "      <th></th>\n",
       "      <th>Unnamed: 0</th>\n",
       "      <th>ID</th>\n",
       "      <th>Name</th>\n",
       "      <th>Parameter</th>\n",
       "      <th>Language</th>\n",
       "      <th>Frequency</th>\n",
       "      <th>Confidence</th>\n",
       "      <th>References</th>\n",
       "    </tr>\n",
       "  </thead>\n",
       "  <tbody>\n",
       "    <tr>\n",
       "      <th>0</th>\n",
       "      <td>0</td>\n",
       "      <td>9A</td>\n",
       "      <td>No velar nasal</td>\n",
       "      <td>The Velar Nasal</td>\n",
       "      <td>Abaza</td>\n",
       "      <td>NaN</td>\n",
       "      <td>NaN</td>\n",
       "      <td>Lomtatidze and Klychev 1989</td>\n",
       "    </tr>\n",
       "    <tr>\n",
       "      <th>1</th>\n",
       "      <td>1</td>\n",
       "      <td>73A</td>\n",
       "      <td>Inflectional optative present</td>\n",
       "      <td>The Optative</td>\n",
       "      <td>Abaza</td>\n",
       "      <td>NaN</td>\n",
       "      <td>NaN</td>\n",
       "      <td>Genko 1995</td>\n",
       "    </tr>\n",
       "    <tr>\n",
       "      <th>2</th>\n",
       "      <td>2</td>\n",
       "      <td>109A</td>\n",
       "      <td>Benefactive and other; both bases</td>\n",
       "      <td>Applicative Constructions</td>\n",
       "      <td>Abaza</td>\n",
       "      <td>NaN</td>\n",
       "      <td>NaN</td>\n",
       "      <td>O'Herin 2001</td>\n",
       "    </tr>\n",
       "    <tr>\n",
       "      <th>3</th>\n",
       "      <td>3</td>\n",
       "      <td>109B</td>\n",
       "      <td>Instrument and locative</td>\n",
       "      <td>Other Roles of Applied Objects</td>\n",
       "      <td>Abaza</td>\n",
       "      <td>NaN</td>\n",
       "      <td>NaN</td>\n",
       "      <td>NaN</td>\n",
       "    </tr>\n",
       "    <tr>\n",
       "      <th>4</th>\n",
       "      <td>4</td>\n",
       "      <td>118A</td>\n",
       "      <td>Verbal encoding</td>\n",
       "      <td>Predicative Adjectives</td>\n",
       "      <td>Abaza</td>\n",
       "      <td>NaN</td>\n",
       "      <td>NaN</td>\n",
       "      <td>Lomtatidze and Klychev 1989</td>\n",
       "    </tr>\n",
       "    <tr>\n",
       "      <th>5</th>\n",
       "      <td>5</td>\n",
       "      <td>119A</td>\n",
       "      <td>Different</td>\n",
       "      <td>Nominal and Locational Predication</td>\n",
       "      <td>Abaza</td>\n",
       "      <td>NaN</td>\n",
       "      <td>NaN</td>\n",
       "      <td>Lomtatidze and Klychev 1989</td>\n",
       "    </tr>\n",
       "    <tr>\n",
       "      <th>6</th>\n",
       "      <td>6</td>\n",
       "      <td>120A</td>\n",
       "      <td>Impossible</td>\n",
       "      <td>Zero Copula for Predicate Nominals</td>\n",
       "      <td>Abaza</td>\n",
       "      <td>NaN</td>\n",
       "      <td>NaN</td>\n",
       "      <td>Lomtatidze and Klychev 1989</td>\n",
       "    </tr>\n",
       "    <tr>\n",
       "      <th>7</th>\n",
       "      <td>7</td>\n",
       "      <td>138A</td>\n",
       "      <td>Words derived from Sinitic cha</td>\n",
       "      <td>Tea</td>\n",
       "      <td>Abaza</td>\n",
       "      <td>NaN</td>\n",
       "      <td>NaN</td>\n",
       "      <td>Anonymous 1956</td>\n",
       "    </tr>\n",
       "  </tbody>\n",
       "</table>\n",
       "</div>"
      ],
      "text/plain": [
       "   Unnamed: 0    ID                               Name  \\\n",
       "0           0    9A                     No velar nasal   \n",
       "1           1   73A      Inflectional optative present   \n",
       "2           2  109A  Benefactive and other; both bases   \n",
       "3           3  109B            Instrument and locative   \n",
       "4           4  118A                    Verbal encoding   \n",
       "5           5  119A                          Different   \n",
       "6           6  120A                         Impossible   \n",
       "7           7  138A     Words derived from Sinitic cha   \n",
       "\n",
       "                            Parameter Language  Frequency  Confidence  \\\n",
       "0                     The Velar Nasal    Abaza        NaN         NaN   \n",
       "1                        The Optative    Abaza        NaN         NaN   \n",
       "2           Applicative Constructions    Abaza        NaN         NaN   \n",
       "3      Other Roles of Applied Objects    Abaza        NaN         NaN   \n",
       "4              Predicative Adjectives    Abaza        NaN         NaN   \n",
       "5  Nominal and Locational Predication    Abaza        NaN         NaN   \n",
       "6  Zero Copula for Predicate Nominals    Abaza        NaN         NaN   \n",
       "7                                 Tea    Abaza        NaN         NaN   \n",
       "\n",
       "                    References  \n",
       "0  Lomtatidze and Klychev 1989  \n",
       "1                   Genko 1995  \n",
       "2                 O'Herin 2001  \n",
       "3                          NaN  \n",
       "4  Lomtatidze and Klychev 1989  \n",
       "5  Lomtatidze and Klychev 1989  \n",
       "6  Lomtatidze and Klychev 1989  \n",
       "7               Anonymous 1956  "
      ]
     },
     "execution_count": 35,
     "metadata": {},
     "output_type": "execute_result"
    }
   ],
   "source": []
  },
  {
   "cell_type": "code",
   "execution_count": 22,
   "metadata": {},
   "outputs": [
    {
     "data": {
      "text/html": [
       "<div>\n",
       "<style scoped>\n",
       "    .dataframe tbody tr th:only-of-type {\n",
       "        vertical-align: middle;\n",
       "    }\n",
       "\n",
       "    .dataframe tbody tr th {\n",
       "        vertical-align: top;\n",
       "    }\n",
       "\n",
       "    .dataframe thead th {\n",
       "        text-align: right;\n",
       "    }\n",
       "</style>\n",
       "<table border=\"1\" class=\"dataframe\">\n",
       "  <thead>\n",
       "    <tr style=\"text-align: right;\">\n",
       "      <th>Parameter</th>\n",
       "      <th>'Want' Complement Subjects</th>\n",
       "      <th>'When' Clauses</th>\n",
       "      <th>Absence of Common Consonants</th>\n",
       "      <th>Action Nominal Constructions</th>\n",
       "      <th>Adjectives without Nouns</th>\n",
       "      <th>Adjoined relative clauses</th>\n",
       "      <th>Alignment of Case Marking of Full Noun Phrases</th>\n",
       "      <th>Alignment of Case Marking of Pronouns</th>\n",
       "      <th>Alignment of Verbal Person Marking</th>\n",
       "      <th>Antipassive Constructions</th>\n",
       "      <th>...</th>\n",
       "      <th>Verbal Person Marking</th>\n",
       "      <th>Voicing and Gaps in Plosive Systems</th>\n",
       "      <th>Voicing in Plosives and Fricatives</th>\n",
       "      <th>Vowel Nasalization</th>\n",
       "      <th>Vowel Quality Inventories</th>\n",
       "      <th>Weight Factors in Weight-Sensitive Stress Systems</th>\n",
       "      <th>Weight-Sensitive Stress</th>\n",
       "      <th>Writing Systems</th>\n",
       "      <th>Zero Copula for Predicate Nominals</th>\n",
       "      <th>Zero Marking of A and P Arguments</th>\n",
       "    </tr>\n",
       "  </thead>\n",
       "  <tbody>\n",
       "    <tr>\n",
       "      <th>Oto</th>\n",
       "      <td>NaN</td>\n",
       "      <td>NaN</td>\n",
       "      <td>NaN</td>\n",
       "      <td>NaN</td>\n",
       "      <td>NaN</td>\n",
       "      <td>NaN</td>\n",
       "      <td>NaN</td>\n",
       "      <td>NaN</td>\n",
       "      <td>NaN</td>\n",
       "      <td>NaN</td>\n",
       "      <td>...</td>\n",
       "      <td>NaN</td>\n",
       "      <td>NaN</td>\n",
       "      <td>NaN</td>\n",
       "      <td>NaN</td>\n",
       "      <td>NaN</td>\n",
       "      <td>NaN</td>\n",
       "      <td>NaN</td>\n",
       "      <td>NaN</td>\n",
       "      <td>Impossible</td>\n",
       "      <td>NaN</td>\n",
       "    </tr>\n",
       "    <tr>\n",
       "      <th>Chontal Maya</th>\n",
       "      <td>NaN</td>\n",
       "      <td>NaN</td>\n",
       "      <td>NaN</td>\n",
       "      <td>NaN</td>\n",
       "      <td>NaN</td>\n",
       "      <td>NaN</td>\n",
       "      <td>NaN</td>\n",
       "      <td>NaN</td>\n",
       "      <td>NaN</td>\n",
       "      <td>NaN</td>\n",
       "      <td>...</td>\n",
       "      <td>NaN</td>\n",
       "      <td>NaN</td>\n",
       "      <td>NaN</td>\n",
       "      <td>NaN</td>\n",
       "      <td>NaN</td>\n",
       "      <td>NaN</td>\n",
       "      <td>NaN</td>\n",
       "      <td>NaN</td>\n",
       "      <td>Impossible</td>\n",
       "      <td>NaN</td>\n",
       "    </tr>\n",
       "    <tr>\n",
       "      <th>Aka</th>\n",
       "      <td>NaN</td>\n",
       "      <td>NaN</td>\n",
       "      <td>NaN</td>\n",
       "      <td>NaN</td>\n",
       "      <td>NaN</td>\n",
       "      <td>NaN</td>\n",
       "      <td>NaN</td>\n",
       "      <td>NaN</td>\n",
       "      <td>NaN</td>\n",
       "      <td>NaN</td>\n",
       "      <td>...</td>\n",
       "      <td>NaN</td>\n",
       "      <td>NaN</td>\n",
       "      <td>NaN</td>\n",
       "      <td>NaN</td>\n",
       "      <td>NaN</td>\n",
       "      <td>NaN</td>\n",
       "      <td>NaN</td>\n",
       "      <td>NaN</td>\n",
       "      <td>Impossible</td>\n",
       "      <td>NaN</td>\n",
       "    </tr>\n",
       "    <tr>\n",
       "      <th>Cherokee</th>\n",
       "      <td>NaN</td>\n",
       "      <td>NaN</td>\n",
       "      <td>NaN</td>\n",
       "      <td>NaN</td>\n",
       "      <td>NaN</td>\n",
       "      <td>NaN</td>\n",
       "      <td>NaN</td>\n",
       "      <td>NaN</td>\n",
       "      <td>NaN</td>\n",
       "      <td>NaN</td>\n",
       "      <td>...</td>\n",
       "      <td>NaN</td>\n",
       "      <td>NaN</td>\n",
       "      <td>NaN</td>\n",
       "      <td>NaN</td>\n",
       "      <td>NaN</td>\n",
       "      <td>NaN</td>\n",
       "      <td>NaN</td>\n",
       "      <td>NaN</td>\n",
       "      <td>Impossible</td>\n",
       "      <td>NaN</td>\n",
       "    </tr>\n",
       "    <tr>\n",
       "      <th>Ika</th>\n",
       "      <td>NaN</td>\n",
       "      <td>NaN</td>\n",
       "      <td>NaN</td>\n",
       "      <td>NaN</td>\n",
       "      <td>NaN</td>\n",
       "      <td>NaN</td>\n",
       "      <td>NaN</td>\n",
       "      <td>NaN</td>\n",
       "      <td>NaN</td>\n",
       "      <td>NaN</td>\n",
       "      <td>...</td>\n",
       "      <td>NaN</td>\n",
       "      <td>NaN</td>\n",
       "      <td>NaN</td>\n",
       "      <td>NaN</td>\n",
       "      <td>NaN</td>\n",
       "      <td>NaN</td>\n",
       "      <td>NaN</td>\n",
       "      <td>NaN</td>\n",
       "      <td>Impossible</td>\n",
       "      <td>NaN</td>\n",
       "    </tr>\n",
       "    <tr>\n",
       "      <th>...</th>\n",
       "      <td>...</td>\n",
       "      <td>...</td>\n",
       "      <td>...</td>\n",
       "      <td>...</td>\n",
       "      <td>...</td>\n",
       "      <td>...</td>\n",
       "      <td>...</td>\n",
       "      <td>...</td>\n",
       "      <td>...</td>\n",
       "      <td>...</td>\n",
       "      <td>...</td>\n",
       "      <td>...</td>\n",
       "      <td>...</td>\n",
       "      <td>...</td>\n",
       "      <td>...</td>\n",
       "      <td>...</td>\n",
       "      <td>...</td>\n",
       "      <td>...</td>\n",
       "      <td>...</td>\n",
       "      <td>...</td>\n",
       "      <td>...</td>\n",
       "    </tr>\n",
       "    <tr>\n",
       "      <th>Fula (Mauritanian)</th>\n",
       "      <td>NaN</td>\n",
       "      <td>NaN</td>\n",
       "      <td>NaN</td>\n",
       "      <td>NaN</td>\n",
       "      <td>NaN</td>\n",
       "      <td>NaN</td>\n",
       "      <td>NaN</td>\n",
       "      <td>NaN</td>\n",
       "      <td>NaN</td>\n",
       "      <td>NaN</td>\n",
       "      <td>...</td>\n",
       "      <td>NaN</td>\n",
       "      <td>NaN</td>\n",
       "      <td>NaN</td>\n",
       "      <td>NaN</td>\n",
       "      <td>NaN</td>\n",
       "      <td>NaN</td>\n",
       "      <td>NaN</td>\n",
       "      <td>NaN</td>\n",
       "      <td>Impossible</td>\n",
       "      <td>NaN</td>\n",
       "    </tr>\n",
       "    <tr>\n",
       "      <th>Chin (Mara)</th>\n",
       "      <td>NaN</td>\n",
       "      <td>NaN</td>\n",
       "      <td>NaN</td>\n",
       "      <td>NaN</td>\n",
       "      <td>NaN</td>\n",
       "      <td>NaN</td>\n",
       "      <td>NaN</td>\n",
       "      <td>NaN</td>\n",
       "      <td>NaN</td>\n",
       "      <td>NaN</td>\n",
       "      <td>...</td>\n",
       "      <td>NaN</td>\n",
       "      <td>NaN</td>\n",
       "      <td>NaN</td>\n",
       "      <td>NaN</td>\n",
       "      <td>NaN</td>\n",
       "      <td>NaN</td>\n",
       "      <td>NaN</td>\n",
       "      <td>NaN</td>\n",
       "      <td>Impossible</td>\n",
       "      <td>NaN</td>\n",
       "    </tr>\n",
       "    <tr>\n",
       "      <th>Ordos</th>\n",
       "      <td>NaN</td>\n",
       "      <td>NaN</td>\n",
       "      <td>NaN</td>\n",
       "      <td>NaN</td>\n",
       "      <td>NaN</td>\n",
       "      <td>NaN</td>\n",
       "      <td>NaN</td>\n",
       "      <td>NaN</td>\n",
       "      <td>NaN</td>\n",
       "      <td>NaN</td>\n",
       "      <td>...</td>\n",
       "      <td>NaN</td>\n",
       "      <td>NaN</td>\n",
       "      <td>NaN</td>\n",
       "      <td>NaN</td>\n",
       "      <td>NaN</td>\n",
       "      <td>NaN</td>\n",
       "      <td>NaN</td>\n",
       "      <td>NaN</td>\n",
       "      <td>Impossible</td>\n",
       "      <td>NaN</td>\n",
       "    </tr>\n",
       "    <tr>\n",
       "      <th>Tubar</th>\n",
       "      <td>NaN</td>\n",
       "      <td>NaN</td>\n",
       "      <td>NaN</td>\n",
       "      <td>NaN</td>\n",
       "      <td>NaN</td>\n",
       "      <td>NaN</td>\n",
       "      <td>NaN</td>\n",
       "      <td>NaN</td>\n",
       "      <td>NaN</td>\n",
       "      <td>NaN</td>\n",
       "      <td>...</td>\n",
       "      <td>NaN</td>\n",
       "      <td>NaN</td>\n",
       "      <td>NaN</td>\n",
       "      <td>NaN</td>\n",
       "      <td>NaN</td>\n",
       "      <td>NaN</td>\n",
       "      <td>NaN</td>\n",
       "      <td>NaN</td>\n",
       "      <td>NaN</td>\n",
       "      <td>NaN</td>\n",
       "    </tr>\n",
       "    <tr>\n",
       "      <th>Shor</th>\n",
       "      <td>NaN</td>\n",
       "      <td>NaN</td>\n",
       "      <td>NaN</td>\n",
       "      <td>NaN</td>\n",
       "      <td>NaN</td>\n",
       "      <td>NaN</td>\n",
       "      <td>NaN</td>\n",
       "      <td>NaN</td>\n",
       "      <td>NaN</td>\n",
       "      <td>NaN</td>\n",
       "      <td>...</td>\n",
       "      <td>NaN</td>\n",
       "      <td>NaN</td>\n",
       "      <td>NaN</td>\n",
       "      <td>NaN</td>\n",
       "      <td>NaN</td>\n",
       "      <td>NaN</td>\n",
       "      <td>NaN</td>\n",
       "      <td>NaN</td>\n",
       "      <td>NaN</td>\n",
       "      <td>NaN</td>\n",
       "    </tr>\n",
       "  </tbody>\n",
       "</table>\n",
       "<p>2662 rows × 192 columns</p>\n",
       "</div>"
      ],
      "text/plain": [
       "Parameter          'Want' Complement Subjects 'When' Clauses  \\\n",
       "Oto                                       NaN            NaN   \n",
       "Chontal Maya                              NaN            NaN   \n",
       "Aka                                       NaN            NaN   \n",
       "Cherokee                                  NaN            NaN   \n",
       "Ika                                       NaN            NaN   \n",
       "...                                       ...            ...   \n",
       "Fula (Mauritanian)                        NaN            NaN   \n",
       "Chin (Mara)                               NaN            NaN   \n",
       "Ordos                                     NaN            NaN   \n",
       "Tubar                                     NaN            NaN   \n",
       "Shor                                      NaN            NaN   \n",
       "\n",
       "Parameter          Absence of Common Consonants Action Nominal Constructions  \\\n",
       "Oto                                         NaN                          NaN   \n",
       "Chontal Maya                                NaN                          NaN   \n",
       "Aka                                         NaN                          NaN   \n",
       "Cherokee                                    NaN                          NaN   \n",
       "Ika                                         NaN                          NaN   \n",
       "...                                         ...                          ...   \n",
       "Fula (Mauritanian)                          NaN                          NaN   \n",
       "Chin (Mara)                                 NaN                          NaN   \n",
       "Ordos                                       NaN                          NaN   \n",
       "Tubar                                       NaN                          NaN   \n",
       "Shor                                        NaN                          NaN   \n",
       "\n",
       "Parameter          Adjectives without Nouns Adjoined relative clauses  \\\n",
       "Oto                                     NaN                       NaN   \n",
       "Chontal Maya                            NaN                       NaN   \n",
       "Aka                                     NaN                       NaN   \n",
       "Cherokee                                NaN                       NaN   \n",
       "Ika                                     NaN                       NaN   \n",
       "...                                     ...                       ...   \n",
       "Fula (Mauritanian)                      NaN                       NaN   \n",
       "Chin (Mara)                             NaN                       NaN   \n",
       "Ordos                                   NaN                       NaN   \n",
       "Tubar                                   NaN                       NaN   \n",
       "Shor                                    NaN                       NaN   \n",
       "\n",
       "Parameter          Alignment of Case Marking of Full Noun Phrases  \\\n",
       "Oto                                                           NaN   \n",
       "Chontal Maya                                                  NaN   \n",
       "Aka                                                           NaN   \n",
       "Cherokee                                                      NaN   \n",
       "Ika                                                           NaN   \n",
       "...                                                           ...   \n",
       "Fula (Mauritanian)                                            NaN   \n",
       "Chin (Mara)                                                   NaN   \n",
       "Ordos                                                         NaN   \n",
       "Tubar                                                         NaN   \n",
       "Shor                                                          NaN   \n",
       "\n",
       "Parameter          Alignment of Case Marking of Pronouns  \\\n",
       "Oto                                                  NaN   \n",
       "Chontal Maya                                         NaN   \n",
       "Aka                                                  NaN   \n",
       "Cherokee                                             NaN   \n",
       "Ika                                                  NaN   \n",
       "...                                                  ...   \n",
       "Fula (Mauritanian)                                   NaN   \n",
       "Chin (Mara)                                          NaN   \n",
       "Ordos                                                NaN   \n",
       "Tubar                                                NaN   \n",
       "Shor                                                 NaN   \n",
       "\n",
       "Parameter          Alignment of Verbal Person Marking  \\\n",
       "Oto                                               NaN   \n",
       "Chontal Maya                                      NaN   \n",
       "Aka                                               NaN   \n",
       "Cherokee                                          NaN   \n",
       "Ika                                               NaN   \n",
       "...                                               ...   \n",
       "Fula (Mauritanian)                                NaN   \n",
       "Chin (Mara)                                       NaN   \n",
       "Ordos                                             NaN   \n",
       "Tubar                                             NaN   \n",
       "Shor                                              NaN   \n",
       "\n",
       "Parameter          Antipassive Constructions  ... Verbal Person Marking  \\\n",
       "Oto                                      NaN  ...                   NaN   \n",
       "Chontal Maya                             NaN  ...                   NaN   \n",
       "Aka                                      NaN  ...                   NaN   \n",
       "Cherokee                                 NaN  ...                   NaN   \n",
       "Ika                                      NaN  ...                   NaN   \n",
       "...                                      ...  ...                   ...   \n",
       "Fula (Mauritanian)                       NaN  ...                   NaN   \n",
       "Chin (Mara)                              NaN  ...                   NaN   \n",
       "Ordos                                    NaN  ...                   NaN   \n",
       "Tubar                                    NaN  ...                   NaN   \n",
       "Shor                                     NaN  ...                   NaN   \n",
       "\n",
       "Parameter          Voicing and Gaps in Plosive Systems  \\\n",
       "Oto                                                NaN   \n",
       "Chontal Maya                                       NaN   \n",
       "Aka                                                NaN   \n",
       "Cherokee                                           NaN   \n",
       "Ika                                                NaN   \n",
       "...                                                ...   \n",
       "Fula (Mauritanian)                                 NaN   \n",
       "Chin (Mara)                                        NaN   \n",
       "Ordos                                              NaN   \n",
       "Tubar                                              NaN   \n",
       "Shor                                               NaN   \n",
       "\n",
       "Parameter          Voicing in Plosives and Fricatives Vowel Nasalization  \\\n",
       "Oto                                               NaN                NaN   \n",
       "Chontal Maya                                      NaN                NaN   \n",
       "Aka                                               NaN                NaN   \n",
       "Cherokee                                          NaN                NaN   \n",
       "Ika                                               NaN                NaN   \n",
       "...                                               ...                ...   \n",
       "Fula (Mauritanian)                                NaN                NaN   \n",
       "Chin (Mara)                                       NaN                NaN   \n",
       "Ordos                                             NaN                NaN   \n",
       "Tubar                                             NaN                NaN   \n",
       "Shor                                              NaN                NaN   \n",
       "\n",
       "Parameter          Vowel Quality Inventories  \\\n",
       "Oto                                      NaN   \n",
       "Chontal Maya                             NaN   \n",
       "Aka                                      NaN   \n",
       "Cherokee                                 NaN   \n",
       "Ika                                      NaN   \n",
       "...                                      ...   \n",
       "Fula (Mauritanian)                       NaN   \n",
       "Chin (Mara)                              NaN   \n",
       "Ordos                                    NaN   \n",
       "Tubar                                    NaN   \n",
       "Shor                                     NaN   \n",
       "\n",
       "Parameter          Weight Factors in Weight-Sensitive Stress Systems  \\\n",
       "Oto                                                              NaN   \n",
       "Chontal Maya                                                     NaN   \n",
       "Aka                                                              NaN   \n",
       "Cherokee                                                         NaN   \n",
       "Ika                                                              NaN   \n",
       "...                                                              ...   \n",
       "Fula (Mauritanian)                                               NaN   \n",
       "Chin (Mara)                                                      NaN   \n",
       "Ordos                                                            NaN   \n",
       "Tubar                                                            NaN   \n",
       "Shor                                                             NaN   \n",
       "\n",
       "Parameter          Weight-Sensitive Stress Writing Systems  \\\n",
       "Oto                                    NaN             NaN   \n",
       "Chontal Maya                           NaN             NaN   \n",
       "Aka                                    NaN             NaN   \n",
       "Cherokee                               NaN             NaN   \n",
       "Ika                                    NaN             NaN   \n",
       "...                                    ...             ...   \n",
       "Fula (Mauritanian)                     NaN             NaN   \n",
       "Chin (Mara)                            NaN             NaN   \n",
       "Ordos                                  NaN             NaN   \n",
       "Tubar                                  NaN             NaN   \n",
       "Shor                                   NaN             NaN   \n",
       "\n",
       "Parameter          Zero Copula for Predicate Nominals  \\\n",
       "Oto                                        Impossible   \n",
       "Chontal Maya                               Impossible   \n",
       "Aka                                        Impossible   \n",
       "Cherokee                                   Impossible   \n",
       "Ika                                        Impossible   \n",
       "...                                               ...   \n",
       "Fula (Mauritanian)                         Impossible   \n",
       "Chin (Mara)                                Impossible   \n",
       "Ordos                                      Impossible   \n",
       "Tubar                                             NaN   \n",
       "Shor                                              NaN   \n",
       "\n",
       "Parameter          Zero Marking of A and P Arguments  \n",
       "Oto                                              NaN  \n",
       "Chontal Maya                                     NaN  \n",
       "Aka                                              NaN  \n",
       "Cherokee                                         NaN  \n",
       "Ika                                              NaN  \n",
       "...                                              ...  \n",
       "Fula (Mauritanian)                               NaN  \n",
       "Chin (Mara)                                      NaN  \n",
       "Ordos                                            NaN  \n",
       "Tubar                                            NaN  \n",
       "Shor                                             NaN  \n",
       "\n",
       "[2662 rows x 192 columns]"
      ]
     },
     "execution_count": 22,
     "metadata": {},
     "output_type": "execute_result"
    }
   ],
   "source": [
    "wals_languages = []\n",
    "wals = []\n",
    "param2area = {}\n",
    "for fn in os.listdir('wals2'):\n",
    "    if not fn.endswith('csv'):\n",
    "        continue\n",
    "    lang = fn.split(\".\")[0]\n",
    "    wals_languages.append(lang)\n",
    "    df = pd.read_csv(f\"wals2/{lang}.csv\", encoding='latin1')\n",
    "    df = df.sort_values('Parameter').pivot(index='Language', columns='Parameter', values='Name')\n",
    "    wals.append(df)\n",
    "    \n",
    "wals = pd.concat(wals, sort=True)\n",
    "wals.index = wals_languages"
   ]
  },
  {
   "cell_type": "code",
   "execution_count": 24,
   "metadata": {},
   "outputs": [],
   "source": [
    "wals.to_csv(\"wals2.csv\")"
   ]
  },
  {
   "cell_type": "code",
   "execution_count": null,
   "metadata": {},
   "outputs": [],
   "source": []
  }
 ],
 "metadata": {
  "kernelspec": {
   "display_name": "Python 3",
   "language": "python",
   "name": "python3"
  },
  "language_info": {
   "codemirror_mode": {
    "name": "ipython",
    "version": 3
   },
   "file_extension": ".py",
   "mimetype": "text/x-python",
   "name": "python",
   "nbconvert_exporter": "python",
   "pygments_lexer": "ipython3",
   "version": "3.8.10"
  }
 },
 "nbformat": 4,
 "nbformat_minor": 4
}
